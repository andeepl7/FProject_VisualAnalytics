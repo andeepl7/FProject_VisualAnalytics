{
 "cells": [
  {
   "cell_type": "code",
   "execution_count": 11,
   "id": "ba58b5ad",
   "metadata": {},
   "outputs": [
    {
     "name": "stdout",
     "output_type": "stream",
     "text": [
      "   YearStart  YearEnd LocationAbbr LocationDesc DataSource  \\\n",
      "0       2010     2010           AK       Alaska       NVSS   \n",
      "1       2017     2017           AK       Alaska       NVSS   \n",
      "2       2018     2018           AK       Alaska       NVSS   \n",
      "3       2011     2011           AK       Alaska       NVSS   \n",
      "4       2012     2012           AK       Alaska       NVSS   \n",
      "\n",
      "                    Topic                                Question Response  \\\n",
      "0                 Alcohol         Chronic liver disease mortality     None   \n",
      "1                 Alcohol         Chronic liver disease mortality     None   \n",
      "2                 Alcohol         Chronic liver disease mortality     None   \n",
      "3  Chronic Kidney Disease  Mortality with end-stage renal disease     None   \n",
      "4  Chronic Kidney Disease  Mortality with end-stage renal disease     None   \n",
      "\n",
      "  DataValueUnit DataValueType  ... LocationID  TopicID QuestionID  \\\n",
      "0                      Number  ...          2      ALC     ALC6_0   \n",
      "1                      Number  ...          2      ALC     ALC6_0   \n",
      "2                      Number  ...          2      ALC     ALC6_0   \n",
      "3                      Number  ...          2      CKD     CKD1_0   \n",
      "4                      Number  ...          2      CKD     CKD1_0   \n",
      "\n",
      "  DataValueTypeID  StratificationCategoryID1  StratificationID1  \\\n",
      "0            NMBR                    OVERALL                OVR   \n",
      "1            NMBR                    OVERALL                OVR   \n",
      "2            NMBR                    OVERALL                OVR   \n",
      "3            NMBR                       RACE                WHT   \n",
      "4            NMBR                       RACE                WHT   \n",
      "\n",
      "  StratificationCategoryID2 StratificationID2 StratificationCategoryID3  \\\n",
      "0                      None              None                      None   \n",
      "1                      None              None                      None   \n",
      "2                      None              None                      None   \n",
      "3                      None              None                      None   \n",
      "4                      None              None                      None   \n",
      "\n",
      "  StratificationID3  \n",
      "0              None  \n",
      "1              None  \n",
      "2              None  \n",
      "3              None  \n",
      "4              None  \n",
      "\n",
      "[5 rows x 34 columns]\n"
     ]
    }
   ],
   "source": [
    "import pandas as pd\n",
    "\n",
    "df = pd.read_parquet('cdi.parquet')\n",
    "\n",
    "print(df.head())"
   ]
  },
  {
   "cell_type": "code",
   "execution_count": 12,
   "id": "81675ef9",
   "metadata": {},
   "outputs": [
    {
     "name": "stdout",
     "output_type": "stream",
     "text": [
      "<bound method DataFrame.info of          YearStart  YearEnd LocationAbbr   LocationDesc DataSource  \\\n",
      "0             2010     2010           AK         Alaska       NVSS   \n",
      "1             2017     2017           AK         Alaska       NVSS   \n",
      "2             2018     2018           AK         Alaska       NVSS   \n",
      "3             2011     2011           AK         Alaska       NVSS   \n",
      "4             2012     2012           AK         Alaska       NVSS   \n",
      "...            ...      ...          ...            ...        ...   \n",
      "1082323       2020     2020           WA     Washington      BRFSS   \n",
      "1082324       2020     2020           WV  West Virginia      BRFSS   \n",
      "1082325       2020     2020           WY        Wyoming      BRFSS   \n",
      "1082326       2020     2020           VT        Vermont      BRFSS   \n",
      "1082327       2020     2020           WI      Wisconsin      BRFSS   \n",
      "\n",
      "                                                   Topic  \\\n",
      "0                                                Alcohol   \n",
      "1                                                Alcohol   \n",
      "2                                                Alcohol   \n",
      "3                                 Chronic Kidney Disease   \n",
      "4                                 Chronic Kidney Disease   \n",
      "...                                                  ...   \n",
      "1082323  Nutrition, Physical Activity, and Weight Status   \n",
      "1082324            Chronic Obstructive Pulmonary Disease   \n",
      "1082325            Chronic Obstructive Pulmonary Disease   \n",
      "1082326                           Overarching Conditions   \n",
      "1082327                                         Diabetes   \n",
      "\n",
      "                                                  Question Response  \\\n",
      "0                          Chronic liver disease mortality     None   \n",
      "1                          Chronic liver disease mortality     None   \n",
      "2                          Chronic liver disease mortality     None   \n",
      "3                   Mortality with end-stage renal disease     None   \n",
      "4                   Mortality with end-stage renal disease     None   \n",
      "...                                                    ...      ...   \n",
      "1082323              Obesity among adults aged >= 18 years     None   \n",
      "1082324  Prevalence of current smoking among adults >= ...     None   \n",
      "1082325  Influenza vaccination among noninstitutionaliz...     None   \n",
      "1082326  Self-rated health status among women aged 18-4...     None   \n",
      "1082327  Prevalence of diagnosed diabetes among adults ...     None   \n",
      "\n",
      "        DataValueUnit            DataValueType  ... LocationID  TopicID  \\\n",
      "0                                       Number  ...          2      ALC   \n",
      "1                                       Number  ...          2      ALC   \n",
      "2                                       Number  ...          2      ALC   \n",
      "3                                       Number  ...          2      CKD   \n",
      "4                                       Number  ...          2      CKD   \n",
      "...               ...                      ...  ...        ...      ...   \n",
      "1082323             %         Crude Prevalence  ...         53     NPAW   \n",
      "1082324             %  Age-adjusted Prevalence  ...         54     COPD   \n",
      "1082325             %         Crude Prevalence  ...         56     COPD   \n",
      "1082326             %         Crude Prevalence  ...         50      OVC   \n",
      "1082327             %  Age-adjusted Prevalence  ...         55      DIA   \n",
      "\n",
      "        QuestionID DataValueTypeID  StratificationCategoryID1  \\\n",
      "0           ALC6_0            NMBR                    OVERALL   \n",
      "1           ALC6_0            NMBR                    OVERALL   \n",
      "2           ALC6_0            NMBR                    OVERALL   \n",
      "3           CKD1_0            NMBR                       RACE   \n",
      "4           CKD1_0            NMBR                       RACE   \n",
      "...            ...             ...                        ...   \n",
      "1082323    NPAW1_1         CRDPREV                       RACE   \n",
      "1082324  COPD3_0_1      AGEADJPREV                       RACE   \n",
      "1082325    COPD7_0         CRDPREV                       RACE   \n",
      "1082326     OVC6_2         CRDPREV                       RACE   \n",
      "1082327     DIA2_1      AGEADJPREV                       RACE   \n",
      "\n",
      "         StratificationID1 StratificationCategoryID2 StratificationID2  \\\n",
      "0                      OVR                      None              None   \n",
      "1                      OVR                      None              None   \n",
      "2                      OVR                      None              None   \n",
      "3                      WHT                      None              None   \n",
      "4                      WHT                      None              None   \n",
      "...                    ...                       ...               ...   \n",
      "1082323                BLK                      None              None   \n",
      "1082324                WHT                      None              None   \n",
      "1082325                WHT                      None              None   \n",
      "1082326                OTH                      None              None   \n",
      "1082327                MRC                      None              None   \n",
      "\n",
      "        StratificationCategoryID3 StratificationID3  \n",
      "0                            None              None  \n",
      "1                            None              None  \n",
      "2                            None              None  \n",
      "3                            None              None  \n",
      "4                            None              None  \n",
      "...                           ...               ...  \n",
      "1082323                      None              None  \n",
      "1082324                      None              None  \n",
      "1082325                      None              None  \n",
      "1082326                      None              None  \n",
      "1082327                      None              None  \n",
      "\n",
      "[1082328 rows x 34 columns]>\n"
     ]
    }
   ],
   "source": [
    "print(df.info)"
   ]
  },
  {
   "cell_type": "code",
   "execution_count": 16,
   "id": "eb1d9980",
   "metadata": {},
   "outputs": [
    {
     "name": "stdout",
     "output_type": "stream",
     "text": [
      "YearStart                          0\n",
      "YearEnd                            0\n",
      "LocationAbbr                       0\n",
      "LocationDesc                       0\n",
      "DataSource                         0\n",
      "Topic                              0\n",
      "Question                           0\n",
      "Response                     1082328\n",
      "DataValueUnit                      0\n",
      "DataValueType                      0\n",
      "DataValue                          0\n",
      "DataValueAlt                  355136\n",
      "DataValueFootnoteSymbol            0\n",
      "DatavalueFootnote                  0\n",
      "LowConfidenceLimit            465077\n",
      "HighConfidenceLimit           465077\n",
      "StratificationCategory1            0\n",
      "Stratification1                    0\n",
      "StratificationCategory2      1082328\n",
      "Stratification2              1082328\n",
      "StratificationCategory3      1082328\n",
      "Stratification3              1082328\n",
      "GeoLocation                        0\n",
      "ResponseID                   1082328\n",
      "LocationID                         0\n",
      "TopicID                            0\n",
      "QuestionID                         0\n",
      "DataValueTypeID                    0\n",
      "StratificationCategoryID1          0\n",
      "StratificationID1                  0\n",
      "StratificationCategoryID2    1082328\n",
      "StratificationID2            1082328\n",
      "StratificationCategoryID3    1082328\n",
      "StratificationID3            1082328\n",
      "dtype: int64\n"
     ]
    }
   ],
   "source": [
    "print(df.isna().sum())"
   ]
  },
  {
   "cell_type": "code",
   "execution_count": 13,
   "id": "b1a4e7dc",
   "metadata": {},
   "outputs": [
    {
     "name": "stdout",
     "output_type": "stream",
     "text": [
      "(1082328, 34)\n"
     ]
    }
   ],
   "source": [
    "print(df.shape)"
   ]
  },
  {
   "cell_type": "code",
   "execution_count": 14,
   "id": "60d29116",
   "metadata": {
    "scrolled": true
   },
   "outputs": [
    {
     "name": "stdout",
     "output_type": "stream",
     "text": [
      "Index(['YearStart', 'YearEnd', 'LocationAbbr', 'LocationDesc', 'DataSource',\n",
      "       'Topic', 'Question', 'Response', 'DataValueUnit', 'DataValueType',\n",
      "       'DataValue', 'DataValueAlt', 'DataValueFootnoteSymbol',\n",
      "       'DatavalueFootnote', 'LowConfidenceLimit', 'HighConfidenceLimit',\n",
      "       'StratificationCategory1', 'Stratification1', 'StratificationCategory2',\n",
      "       'Stratification2', 'StratificationCategory3', 'Stratification3',\n",
      "       'GeoLocation', 'ResponseID', 'LocationID', 'TopicID', 'QuestionID',\n",
      "       'DataValueTypeID', 'StratificationCategoryID1', 'StratificationID1',\n",
      "       'StratificationCategoryID2', 'StratificationID2',\n",
      "       'StratificationCategoryID3', 'StratificationID3'],\n",
      "      dtype='object')\n"
     ]
    }
   ],
   "source": [
    "print(df.columns)"
   ]
  },
  {
   "cell_type": "code",
   "execution_count": 19,
   "id": "66c19aa6",
   "metadata": {},
   "outputs": [
    {
     "name": "stdout",
     "output_type": "stream",
     "text": [
      "             YearEnd DataValue\n",
      "count   1.082328e+06   1082328\n",
      "unique           NaN     42288\n",
      "top              NaN          \n",
      "freq             NaN    353093\n",
      "mean    2.015196e+03       NaN\n",
      "std     2.738999e+00       NaN\n",
      "min     2.001000e+03       NaN\n",
      "25%     2.013000e+03       NaN\n",
      "50%     2.015000e+03       NaN\n",
      "75%     2.017000e+03       NaN\n",
      "max     2.021000e+03       NaN\n"
     ]
    }
   ],
   "source": [
    "print(df[['YearEnd','DataValue']].describe(include=\"all\"))"
   ]
  },
  {
   "cell_type": "code",
   "execution_count": 15,
   "id": "2e1149cc",
   "metadata": {},
   "outputs": [
    {
     "name": "stdout",
     "output_type": "stream",
     "text": [
      "           YearStart       YearEnd LocationAbbr LocationDesc DataSource  \\\n",
      "count   1.082328e+06  1.082328e+06      1082328      1082328    1082328   \n",
      "unique           NaN           NaN           55           55         31   \n",
      "top              NaN           NaN           NY     New York      BRFSS   \n",
      "freq             NaN           NaN        20608        20608     597950   \n",
      "mean    2.014678e+03  2.015196e+03          NaN          NaN        NaN   \n",
      "std     3.082694e+00  2.738999e+00          NaN          NaN        NaN   \n",
      "min     2.001000e+03  2.001000e+03          NaN          NaN        NaN   \n",
      "25%     2.012000e+03  2.013000e+03          NaN          NaN        NaN   \n",
      "50%     2.015000e+03  2.015000e+03          NaN          NaN        NaN   \n",
      "75%     2.017000e+03  2.017000e+03          NaN          NaN        NaN   \n",
      "max     2.021000e+03  2.021000e+03          NaN          NaN        NaN   \n",
      "\n",
      "          Topic                                           Question Response  \\\n",
      "count   1082328                                            1082328        0   \n",
      "unique       17                                                203        0   \n",
      "top      Cancer  Hospitalization for hip fracture among Medicar...      NaN   \n",
      "freq     156371                                              12480      NaN   \n",
      "mean        NaN                                                NaN      NaN   \n",
      "std         NaN                                                NaN      NaN   \n",
      "min         NaN                                                NaN      NaN   \n",
      "25%         NaN                                                NaN      NaN   \n",
      "50%         NaN                                                NaN      NaN   \n",
      "75%         NaN                                                NaN      NaN   \n",
      "max         NaN                                                NaN      NaN   \n",
      "\n",
      "       DataValueUnit     DataValueType  ...    LocationID  TopicID QuestionID  \\\n",
      "count        1082328           1082328  ...  1.082328e+06  1082328    1082328   \n",
      "unique            13                19  ...           NaN       17        203   \n",
      "top                %  Crude Prevalence  ...           NaN      CAN     OLD1_0   \n",
      "freq          599411            339878  ...           NaN   156371      12480   \n",
      "mean             NaN               NaN  ...  3.080346e+01      NaN        NaN   \n",
      "std              NaN               NaN  ...  1.752053e+01      NaN        NaN   \n",
      "min              NaN               NaN  ...  1.000000e+00      NaN        NaN   \n",
      "25%              NaN               NaN  ...  1.700000e+01      NaN        NaN   \n",
      "50%              NaN               NaN  ...  3.000000e+01      NaN        NaN   \n",
      "75%              NaN               NaN  ...  4.500000e+01      NaN        NaN   \n",
      "max              NaN               NaN  ...  7.800000e+01      NaN        NaN   \n",
      "\n",
      "       DataValueTypeID  StratificationCategoryID1  StratificationID1  \\\n",
      "count          1082328                    1082328            1082328   \n",
      "unique              19                          3                 13   \n",
      "top            CRDPREV                       RACE                OVR   \n",
      "freq            339878                     673808             152290   \n",
      "mean               NaN                        NaN                NaN   \n",
      "std                NaN                        NaN                NaN   \n",
      "min                NaN                        NaN                NaN   \n",
      "25%                NaN                        NaN                NaN   \n",
      "50%                NaN                        NaN                NaN   \n",
      "75%                NaN                        NaN                NaN   \n",
      "max                NaN                        NaN                NaN   \n",
      "\n",
      "       StratificationCategoryID2 StratificationID2 StratificationCategoryID3  \\\n",
      "count                          0                 0                         0   \n",
      "unique                         0                 0                         0   \n",
      "top                          NaN               NaN                       NaN   \n",
      "freq                         NaN               NaN                       NaN   \n",
      "mean                         NaN               NaN                       NaN   \n",
      "std                          NaN               NaN                       NaN   \n",
      "min                          NaN               NaN                       NaN   \n",
      "25%                          NaN               NaN                       NaN   \n",
      "50%                          NaN               NaN                       NaN   \n",
      "75%                          NaN               NaN                       NaN   \n",
      "max                          NaN               NaN                       NaN   \n",
      "\n",
      "       StratificationID3  \n",
      "count                  0  \n",
      "unique                 0  \n",
      "top                  NaN  \n",
      "freq                 NaN  \n",
      "mean                 NaN  \n",
      "std                  NaN  \n",
      "min                  NaN  \n",
      "25%                  NaN  \n",
      "50%                  NaN  \n",
      "75%                  NaN  \n",
      "max                  NaN  \n",
      "\n",
      "[11 rows x 34 columns]\n"
     ]
    }
   ],
   "source": [
    "print(df.describe(include='all'))"
   ]
  }
 ],
 "metadata": {
  "kernelspec": {
   "display_name": "Python 3 (ipykernel)",
   "language": "python",
   "name": "python3"
  },
  "language_info": {
   "codemirror_mode": {
    "name": "ipython",
    "version": 3
   },
   "file_extension": ".py",
   "mimetype": "text/x-python",
   "name": "python",
   "nbconvert_exporter": "python",
   "pygments_lexer": "ipython3",
   "version": "3.9.5"
  }
 },
 "nbformat": 4,
 "nbformat_minor": 5
}
