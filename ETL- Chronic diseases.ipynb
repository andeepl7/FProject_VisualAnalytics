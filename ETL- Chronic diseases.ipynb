{
 "cells": [
  {
   "cell_type": "markdown",
   "source": [
    "1. Loading the parquet file for analysis."
   ],
   "metadata": {
    "collapsed": false
   }
  },
  {
   "cell_type": "code",
   "execution_count": 134,
   "id": "ba58b5ad",
   "metadata": {},
   "outputs": [
    {
     "name": "stdout",
     "output_type": "stream",
     "text": [
      "   YearStart  YearEnd LocationAbbr LocationDesc DataSource  \\\n",
      "0       2010     2010           AK       Alaska       NVSS   \n",
      "1       2017     2017           AK       Alaska       NVSS   \n",
      "2       2018     2018           AK       Alaska       NVSS   \n",
      "3       2011     2011           AK       Alaska       NVSS   \n",
      "4       2012     2012           AK       Alaska       NVSS   \n",
      "\n",
      "                    Topic                                Question Response  \\\n",
      "0                 Alcohol         Chronic liver disease mortality     None   \n",
      "1                 Alcohol         Chronic liver disease mortality     None   \n",
      "2                 Alcohol         Chronic liver disease mortality     None   \n",
      "3  Chronic Kidney Disease  Mortality with end-stage renal disease     None   \n",
      "4  Chronic Kidney Disease  Mortality with end-stage renal disease     None   \n",
      "\n",
      "  DataValueUnit DataValueType  ... LocationID  TopicID QuestionID  \\\n",
      "0                      Number  ...          2      ALC     ALC6_0   \n",
      "1                      Number  ...          2      ALC     ALC6_0   \n",
      "2                      Number  ...          2      ALC     ALC6_0   \n",
      "3                      Number  ...          2      CKD     CKD1_0   \n",
      "4                      Number  ...          2      CKD     CKD1_0   \n",
      "\n",
      "  DataValueTypeID  StratificationCategoryID1  StratificationID1  \\\n",
      "0            NMBR                    OVERALL                OVR   \n",
      "1            NMBR                    OVERALL                OVR   \n",
      "2            NMBR                    OVERALL                OVR   \n",
      "3            NMBR                       RACE                WHT   \n",
      "4            NMBR                       RACE                WHT   \n",
      "\n",
      "  StratificationCategoryID2 StratificationID2 StratificationCategoryID3  \\\n",
      "0                      None              None                      None   \n",
      "1                      None              None                      None   \n",
      "2                      None              None                      None   \n",
      "3                      None              None                      None   \n",
      "4                      None              None                      None   \n",
      "\n",
      "  StratificationID3  \n",
      "0              None  \n",
      "1              None  \n",
      "2              None  \n",
      "3              None  \n",
      "4              None  \n",
      "\n",
      "[5 rows x 34 columns]\n"
     ]
    }
   ],
   "source": [
    "import pandas as pd\n",
    "import numpy as np\n",
    "\n",
    "df = pd.read_parquet('cdi.parquet')\n",
    "\n",
    "print(df.head())"
   ]
  },
  {
   "cell_type": "code",
   "execution_count": 135,
   "id": "81675ef9",
   "metadata": {},
   "outputs": [
    {
     "name": "stdout",
     "output_type": "stream",
     "text": [
      "<bound method DataFrame.info of          YearStart  YearEnd LocationAbbr   LocationDesc DataSource  \\\n",
      "0             2010     2010           AK         Alaska       NVSS   \n",
      "1             2017     2017           AK         Alaska       NVSS   \n",
      "2             2018     2018           AK         Alaska       NVSS   \n",
      "3             2011     2011           AK         Alaska       NVSS   \n",
      "4             2012     2012           AK         Alaska       NVSS   \n",
      "...            ...      ...          ...            ...        ...   \n",
      "1082323       2020     2020           WA     Washington      BRFSS   \n",
      "1082324       2020     2020           WV  West Virginia      BRFSS   \n",
      "1082325       2020     2020           WY        Wyoming      BRFSS   \n",
      "1082326       2020     2020           VT        Vermont      BRFSS   \n",
      "1082327       2020     2020           WI      Wisconsin      BRFSS   \n",
      "\n",
      "                                                   Topic  \\\n",
      "0                                                Alcohol   \n",
      "1                                                Alcohol   \n",
      "2                                                Alcohol   \n",
      "3                                 Chronic Kidney Disease   \n",
      "4                                 Chronic Kidney Disease   \n",
      "...                                                  ...   \n",
      "1082323  Nutrition, Physical Activity, and Weight Status   \n",
      "1082324            Chronic Obstructive Pulmonary Disease   \n",
      "1082325            Chronic Obstructive Pulmonary Disease   \n",
      "1082326                           Overarching Conditions   \n",
      "1082327                                         Diabetes   \n",
      "\n",
      "                                                  Question Response  \\\n",
      "0                          Chronic liver disease mortality     None   \n",
      "1                          Chronic liver disease mortality     None   \n",
      "2                          Chronic liver disease mortality     None   \n",
      "3                   Mortality with end-stage renal disease     None   \n",
      "4                   Mortality with end-stage renal disease     None   \n",
      "...                                                    ...      ...   \n",
      "1082323              Obesity among adults aged >= 18 years     None   \n",
      "1082324  Prevalence of current smoking among adults >= ...     None   \n",
      "1082325  Influenza vaccination among noninstitutionaliz...     None   \n",
      "1082326  Self-rated health status among women aged 18-4...     None   \n",
      "1082327  Prevalence of diagnosed diabetes among adults ...     None   \n",
      "\n",
      "        DataValueUnit            DataValueType  ... LocationID  TopicID  \\\n",
      "0                                       Number  ...          2      ALC   \n",
      "1                                       Number  ...          2      ALC   \n",
      "2                                       Number  ...          2      ALC   \n",
      "3                                       Number  ...          2      CKD   \n",
      "4                                       Number  ...          2      CKD   \n",
      "...               ...                      ...  ...        ...      ...   \n",
      "1082323             %         Crude Prevalence  ...         53     NPAW   \n",
      "1082324             %  Age-adjusted Prevalence  ...         54     COPD   \n",
      "1082325             %         Crude Prevalence  ...         56     COPD   \n",
      "1082326             %         Crude Prevalence  ...         50      OVC   \n",
      "1082327             %  Age-adjusted Prevalence  ...         55      DIA   \n",
      "\n",
      "        QuestionID DataValueTypeID  StratificationCategoryID1  \\\n",
      "0           ALC6_0            NMBR                    OVERALL   \n",
      "1           ALC6_0            NMBR                    OVERALL   \n",
      "2           ALC6_0            NMBR                    OVERALL   \n",
      "3           CKD1_0            NMBR                       RACE   \n",
      "4           CKD1_0            NMBR                       RACE   \n",
      "...            ...             ...                        ...   \n",
      "1082323    NPAW1_1         CRDPREV                       RACE   \n",
      "1082324  COPD3_0_1      AGEADJPREV                       RACE   \n",
      "1082325    COPD7_0         CRDPREV                       RACE   \n",
      "1082326     OVC6_2         CRDPREV                       RACE   \n",
      "1082327     DIA2_1      AGEADJPREV                       RACE   \n",
      "\n",
      "         StratificationID1 StratificationCategoryID2 StratificationID2  \\\n",
      "0                      OVR                      None              None   \n",
      "1                      OVR                      None              None   \n",
      "2                      OVR                      None              None   \n",
      "3                      WHT                      None              None   \n",
      "4                      WHT                      None              None   \n",
      "...                    ...                       ...               ...   \n",
      "1082323                BLK                      None              None   \n",
      "1082324                WHT                      None              None   \n",
      "1082325                WHT                      None              None   \n",
      "1082326                OTH                      None              None   \n",
      "1082327                MRC                      None              None   \n",
      "\n",
      "        StratificationCategoryID3 StratificationID3  \n",
      "0                            None              None  \n",
      "1                            None              None  \n",
      "2                            None              None  \n",
      "3                            None              None  \n",
      "4                            None              None  \n",
      "...                           ...               ...  \n",
      "1082323                      None              None  \n",
      "1082324                      None              None  \n",
      "1082325                      None              None  \n",
      "1082326                      None              None  \n",
      "1082327                      None              None  \n",
      "\n",
      "[1082328 rows x 34 columns]>\n"
     ]
    }
   ],
   "source": [
    "print(df.info)"
   ]
  },
  {
   "cell_type": "code",
   "execution_count": 136,
   "id": "eb1d9980",
   "metadata": {},
   "outputs": [
    {
     "name": "stdout",
     "output_type": "stream",
     "text": [
      "YearStart                          0\n",
      "YearEnd                            0\n",
      "LocationAbbr                       0\n",
      "LocationDesc                       0\n",
      "DataSource                         0\n",
      "Topic                              0\n",
      "Question                           0\n",
      "Response                     1082328\n",
      "DataValueUnit                      0\n",
      "DataValueType                      0\n",
      "DataValue                          0\n",
      "DataValueAlt                  355136\n",
      "DataValueFootnoteSymbol            0\n",
      "DatavalueFootnote                  0\n",
      "LowConfidenceLimit            465077\n",
      "HighConfidenceLimit           465077\n",
      "StratificationCategory1            0\n",
      "Stratification1                    0\n",
      "StratificationCategory2      1082328\n",
      "Stratification2              1082328\n",
      "StratificationCategory3      1082328\n",
      "Stratification3              1082328\n",
      "GeoLocation                        0\n",
      "ResponseID                   1082328\n",
      "LocationID                         0\n",
      "TopicID                            0\n",
      "QuestionID                         0\n",
      "DataValueTypeID                    0\n",
      "StratificationCategoryID1          0\n",
      "StratificationID1                  0\n",
      "StratificationCategoryID2    1082328\n",
      "StratificationID2            1082328\n",
      "StratificationCategoryID3    1082328\n",
      "StratificationID3            1082328\n",
      "dtype: int64\n"
     ]
    }
   ],
   "source": [
    "print(df.isna().sum())"
   ]
  },
  {
   "cell_type": "code",
   "execution_count": 137,
   "id": "b1a4e7dc",
   "metadata": {},
   "outputs": [
    {
     "name": "stdout",
     "output_type": "stream",
     "text": [
      "(1082328, 34)\n"
     ]
    }
   ],
   "source": [
    "print(df.shape)"
   ]
  },
  {
   "cell_type": "code",
   "execution_count": 138,
   "id": "60d29116",
   "metadata": {
    "scrolled": true
   },
   "outputs": [
    {
     "name": "stdout",
     "output_type": "stream",
     "text": [
      "Index(['YearStart', 'YearEnd', 'LocationAbbr', 'LocationDesc', 'DataSource',\n",
      "       'Topic', 'Question', 'Response', 'DataValueUnit', 'DataValueType',\n",
      "       'DataValue', 'DataValueAlt', 'DataValueFootnoteSymbol',\n",
      "       'DatavalueFootnote', 'LowConfidenceLimit', 'HighConfidenceLimit',\n",
      "       'StratificationCategory1', 'Stratification1', 'StratificationCategory2',\n",
      "       'Stratification2', 'StratificationCategory3', 'Stratification3',\n",
      "       'GeoLocation', 'ResponseID', 'LocationID', 'TopicID', 'QuestionID',\n",
      "       'DataValueTypeID', 'StratificationCategoryID1', 'StratificationID1',\n",
      "       'StratificationCategoryID2', 'StratificationID2',\n",
      "       'StratificationCategoryID3', 'StratificationID3'],\n",
      "      dtype='object')\n"
     ]
    }
   ],
   "source": [
    "print(df.columns)"
   ]
  },
  {
   "cell_type": "code",
   "execution_count": 139,
   "id": "66c19aa6",
   "metadata": {},
   "outputs": [
    {
     "name": "stdout",
     "output_type": "stream",
     "text": [
      "             YearEnd DataValue\n",
      "count   1.082328e+06   1082328\n",
      "unique           NaN     42288\n",
      "top              NaN          \n",
      "freq             NaN    353093\n",
      "mean    2.015196e+03       NaN\n",
      "std     2.738999e+00       NaN\n",
      "min     2.001000e+03       NaN\n",
      "25%     2.013000e+03       NaN\n",
      "50%     2.015000e+03       NaN\n",
      "75%     2.017000e+03       NaN\n",
      "max     2.021000e+03       NaN\n"
     ]
    }
   ],
   "source": [
    "print(df[['YearEnd','DataValue']].describe(include=\"all\"))"
   ]
  },
  {
   "cell_type": "code",
   "execution_count": 140,
   "id": "2e1149cc",
   "metadata": {},
   "outputs": [
    {
     "name": "stdout",
     "output_type": "stream",
     "text": [
      "           YearStart       YearEnd LocationAbbr LocationDesc DataSource  \\\n",
      "count   1.082328e+06  1.082328e+06      1082328      1082328    1082328   \n",
      "unique           NaN           NaN           55           55         31   \n",
      "top              NaN           NaN           NY     New York      BRFSS   \n",
      "freq             NaN           NaN        20608        20608     597950   \n",
      "mean    2.014678e+03  2.015196e+03          NaN          NaN        NaN   \n",
      "std     3.082694e+00  2.738999e+00          NaN          NaN        NaN   \n",
      "min     2.001000e+03  2.001000e+03          NaN          NaN        NaN   \n",
      "25%     2.012000e+03  2.013000e+03          NaN          NaN        NaN   \n",
      "50%     2.015000e+03  2.015000e+03          NaN          NaN        NaN   \n",
      "75%     2.017000e+03  2.017000e+03          NaN          NaN        NaN   \n",
      "max     2.021000e+03  2.021000e+03          NaN          NaN        NaN   \n",
      "\n",
      "          Topic                                           Question Response  \\\n",
      "count   1082328                                            1082328        0   \n",
      "unique       17                                                203        0   \n",
      "top      Cancer  Hospitalization for hip fracture among Medicar...      NaN   \n",
      "freq     156371                                              12480      NaN   \n",
      "mean        NaN                                                NaN      NaN   \n",
      "std         NaN                                                NaN      NaN   \n",
      "min         NaN                                                NaN      NaN   \n",
      "25%         NaN                                                NaN      NaN   \n",
      "50%         NaN                                                NaN      NaN   \n",
      "75%         NaN                                                NaN      NaN   \n",
      "max         NaN                                                NaN      NaN   \n",
      "\n",
      "       DataValueUnit     DataValueType  ...    LocationID  TopicID QuestionID  \\\n",
      "count        1082328           1082328  ...  1.082328e+06  1082328    1082328   \n",
      "unique            13                19  ...           NaN       17        203   \n",
      "top                %  Crude Prevalence  ...           NaN      CAN     OLD1_0   \n",
      "freq          599411            339878  ...           NaN   156371      12480   \n",
      "mean             NaN               NaN  ...  3.080346e+01      NaN        NaN   \n",
      "std              NaN               NaN  ...  1.752053e+01      NaN        NaN   \n",
      "min              NaN               NaN  ...  1.000000e+00      NaN        NaN   \n",
      "25%              NaN               NaN  ...  1.700000e+01      NaN        NaN   \n",
      "50%              NaN               NaN  ...  3.000000e+01      NaN        NaN   \n",
      "75%              NaN               NaN  ...  4.500000e+01      NaN        NaN   \n",
      "max              NaN               NaN  ...  7.800000e+01      NaN        NaN   \n",
      "\n",
      "       DataValueTypeID  StratificationCategoryID1  StratificationID1  \\\n",
      "count          1082328                    1082328            1082328   \n",
      "unique              19                          3                 13   \n",
      "top            CRDPREV                       RACE                OVR   \n",
      "freq            339878                     673808             152290   \n",
      "mean               NaN                        NaN                NaN   \n",
      "std                NaN                        NaN                NaN   \n",
      "min                NaN                        NaN                NaN   \n",
      "25%                NaN                        NaN                NaN   \n",
      "50%                NaN                        NaN                NaN   \n",
      "75%                NaN                        NaN                NaN   \n",
      "max                NaN                        NaN                NaN   \n",
      "\n",
      "       StratificationCategoryID2 StratificationID2 StratificationCategoryID3  \\\n",
      "count                          0                 0                         0   \n",
      "unique                         0                 0                         0   \n",
      "top                          NaN               NaN                       NaN   \n",
      "freq                         NaN               NaN                       NaN   \n",
      "mean                         NaN               NaN                       NaN   \n",
      "std                          NaN               NaN                       NaN   \n",
      "min                          NaN               NaN                       NaN   \n",
      "25%                          NaN               NaN                       NaN   \n",
      "50%                          NaN               NaN                       NaN   \n",
      "75%                          NaN               NaN                       NaN   \n",
      "max                          NaN               NaN                       NaN   \n",
      "\n",
      "       StratificationID3  \n",
      "count                  0  \n",
      "unique                 0  \n",
      "top                  NaN  \n",
      "freq                 NaN  \n",
      "mean                 NaN  \n",
      "std                  NaN  \n",
      "min                  NaN  \n",
      "25%                  NaN  \n",
      "50%                  NaN  \n",
      "75%                  NaN  \n",
      "max                  NaN  \n",
      "\n",
      "[11 rows x 34 columns]\n"
     ]
    }
   ],
   "source": [
    "print(df.describe(include='all'))"
   ]
  },
  {
   "cell_type": "markdown",
   "source": [
    "Drop the null data, first the empty columns."
   ],
   "metadata": {
    "collapsed": false
   }
  },
  {
   "cell_type": "code",
   "execution_count": 141,
   "outputs": [],
   "source": [
    "df = df.drop(columns=['Response', 'StratificationCategory2', 'Stratification2', 'StratificationCategory3', 'Stratification3', 'ResponseID', 'StratificationCategoryID2', 'StratificationID2', 'StratificationCategoryID3','StratificationID3'])"
   ],
   "metadata": {
    "collapsed": false
   }
  },
  {
   "cell_type": "code",
   "execution_count": 142,
   "outputs": [
    {
     "name": "stdout",
     "output_type": "stream",
     "text": [
      "(1082328, 24)\n"
     ]
    }
   ],
   "source": [
    "print(df.shape)"
   ],
   "metadata": {
    "collapsed": false
   }
  },
  {
   "cell_type": "code",
   "execution_count": 143,
   "outputs": [
    {
     "data": {
      "text/plain": "         YearStart  YearEnd LocationAbbr   LocationDesc DataSource  \\\n0             2010     2010           AK         Alaska       NVSS   \n1             2017     2017           AK         Alaska       NVSS   \n2             2018     2018           AK         Alaska       NVSS   \n3             2011     2011           AK         Alaska       NVSS   \n4             2012     2012           AK         Alaska       NVSS   \n...            ...      ...          ...            ...        ...   \n1082323       2020     2020           WA     Washington      BRFSS   \n1082324       2020     2020           WV  West Virginia      BRFSS   \n1082325       2020     2020           WY        Wyoming      BRFSS   \n1082326       2020     2020           VT        Vermont      BRFSS   \n1082327       2020     2020           WI      Wisconsin      BRFSS   \n\n                                                   Topic  \\\n0                                                Alcohol   \n1                                                Alcohol   \n2                                                Alcohol   \n3                                 Chronic Kidney Disease   \n4                                 Chronic Kidney Disease   \n...                                                  ...   \n1082323  Nutrition, Physical Activity, and Weight Status   \n1082324            Chronic Obstructive Pulmonary Disease   \n1082325            Chronic Obstructive Pulmonary Disease   \n1082326                           Overarching Conditions   \n1082327                                         Diabetes   \n\n                                                  Question DataValueUnit  \\\n0                          Chronic liver disease mortality                 \n1                          Chronic liver disease mortality                 \n2                          Chronic liver disease mortality                 \n3                   Mortality with end-stage renal disease                 \n4                   Mortality with end-stage renal disease                 \n...                                                    ...           ...   \n1082323              Obesity among adults aged >= 18 years             %   \n1082324  Prevalence of current smoking among adults >= ...             %   \n1082325  Influenza vaccination among noninstitutionaliz...             %   \n1082326  Self-rated health status among women aged 18-4...             %   \n1082327  Prevalence of diagnosed diabetes among adults ...             %   \n\n                   DataValueType DataValue  ...  HighConfidenceLimit  \\\n0                         Number        70  ...                  NaN   \n1                         Number       121  ...                  NaN   \n2                         Number       121  ...                  NaN   \n3                         Number       221  ...                  NaN   \n4                         Number       234  ...                  NaN   \n...                          ...       ...  ...                  ...   \n1082323         Crude Prevalence      37.2  ...                 44.4   \n1082324  Age-adjusted Prevalence      47.6  ...                 52.2   \n1082325         Crude Prevalence      58.2  ...                 65.6   \n1082326         Crude Prevalence      90.5  ...                 96.0   \n1082327  Age-adjusted Prevalence            ...                  NaN   \n\n        StratificationCategory1            Stratification1  \\\n0                       Overall                    Overall   \n1                       Overall                    Overall   \n2                       Overall                    Overall   \n3                Race/Ethnicity        White, non-Hispanic   \n4                Race/Ethnicity        White, non-Hispanic   \n...                         ...                        ...   \n1082323          Race/Ethnicity        Black, non-Hispanic   \n1082324          Race/Ethnicity        White, non-Hispanic   \n1082325          Race/Ethnicity        White, non-Hispanic   \n1082326          Race/Ethnicity        Other, non-Hispanic   \n1082327          Race/Ethnicity  Multiracial, non-Hispanic   \n\n                                           GeoLocation  LocationID TopicID  \\\n0        POINT (-147.72205903599973 64.84507995700051)           2     ALC   \n1        POINT (-147.72205903599973 64.84507995700051)           2     ALC   \n2        POINT (-147.72205903599973 64.84507995700051)           2     ALC   \n3        POINT (-147.72205903599973 64.84507995700051)           2     CKD   \n4        POINT (-147.72205903599973 64.84507995700051)           2     CKD   \n...                                                ...         ...     ...   \n1082323  POINT (-120.47001078999972 47.52227862900048)          53    NPAW   \n1082324   POINT (-80.71264013499967 38.66551020200046)          54    COPD   \n1082325  POINT (-108.10983035299967 43.23554134300048)          56    COPD   \n1082326   POINT (-72.51764079099962 43.62538123900049)          50     OVC   \n1082327   POINT (-89.81637074199966 44.39319117400049)          55     DIA   \n\n        QuestionID DataValueTypeID  StratificationCategoryID1  \\\n0           ALC6_0            NMBR                    OVERALL   \n1           ALC6_0            NMBR                    OVERALL   \n2           ALC6_0            NMBR                    OVERALL   \n3           CKD1_0            NMBR                       RACE   \n4           CKD1_0            NMBR                       RACE   \n...            ...             ...                        ...   \n1082323    NPAW1_1         CRDPREV                       RACE   \n1082324  COPD3_0_1      AGEADJPREV                       RACE   \n1082325    COPD7_0         CRDPREV                       RACE   \n1082326     OVC6_2         CRDPREV                       RACE   \n1082327     DIA2_1      AGEADJPREV                       RACE   \n\n        StratificationID1  \n0                     OVR  \n1                     OVR  \n2                     OVR  \n3                     WHT  \n4                     WHT  \n...                   ...  \n1082323               BLK  \n1082324               WHT  \n1082325               WHT  \n1082326               OTH  \n1082327               MRC  \n\n[1082328 rows x 24 columns]",
      "text/html": "<div>\n<style scoped>\n    .dataframe tbody tr th:only-of-type {\n        vertical-align: middle;\n    }\n\n    .dataframe tbody tr th {\n        vertical-align: top;\n    }\n\n    .dataframe thead th {\n        text-align: right;\n    }\n</style>\n<table border=\"1\" class=\"dataframe\">\n  <thead>\n    <tr style=\"text-align: right;\">\n      <th></th>\n      <th>YearStart</th>\n      <th>YearEnd</th>\n      <th>LocationAbbr</th>\n      <th>LocationDesc</th>\n      <th>DataSource</th>\n      <th>Topic</th>\n      <th>Question</th>\n      <th>DataValueUnit</th>\n      <th>DataValueType</th>\n      <th>DataValue</th>\n      <th>...</th>\n      <th>HighConfidenceLimit</th>\n      <th>StratificationCategory1</th>\n      <th>Stratification1</th>\n      <th>GeoLocation</th>\n      <th>LocationID</th>\n      <th>TopicID</th>\n      <th>QuestionID</th>\n      <th>DataValueTypeID</th>\n      <th>StratificationCategoryID1</th>\n      <th>StratificationID1</th>\n    </tr>\n  </thead>\n  <tbody>\n    <tr>\n      <th>0</th>\n      <td>2010</td>\n      <td>2010</td>\n      <td>AK</td>\n      <td>Alaska</td>\n      <td>NVSS</td>\n      <td>Alcohol</td>\n      <td>Chronic liver disease mortality</td>\n      <td></td>\n      <td>Number</td>\n      <td>70</td>\n      <td>...</td>\n      <td>NaN</td>\n      <td>Overall</td>\n      <td>Overall</td>\n      <td>POINT (-147.72205903599973 64.84507995700051)</td>\n      <td>2</td>\n      <td>ALC</td>\n      <td>ALC6_0</td>\n      <td>NMBR</td>\n      <td>OVERALL</td>\n      <td>OVR</td>\n    </tr>\n    <tr>\n      <th>1</th>\n      <td>2017</td>\n      <td>2017</td>\n      <td>AK</td>\n      <td>Alaska</td>\n      <td>NVSS</td>\n      <td>Alcohol</td>\n      <td>Chronic liver disease mortality</td>\n      <td></td>\n      <td>Number</td>\n      <td>121</td>\n      <td>...</td>\n      <td>NaN</td>\n      <td>Overall</td>\n      <td>Overall</td>\n      <td>POINT (-147.72205903599973 64.84507995700051)</td>\n      <td>2</td>\n      <td>ALC</td>\n      <td>ALC6_0</td>\n      <td>NMBR</td>\n      <td>OVERALL</td>\n      <td>OVR</td>\n    </tr>\n    <tr>\n      <th>2</th>\n      <td>2018</td>\n      <td>2018</td>\n      <td>AK</td>\n      <td>Alaska</td>\n      <td>NVSS</td>\n      <td>Alcohol</td>\n      <td>Chronic liver disease mortality</td>\n      <td></td>\n      <td>Number</td>\n      <td>121</td>\n      <td>...</td>\n      <td>NaN</td>\n      <td>Overall</td>\n      <td>Overall</td>\n      <td>POINT (-147.72205903599973 64.84507995700051)</td>\n      <td>2</td>\n      <td>ALC</td>\n      <td>ALC6_0</td>\n      <td>NMBR</td>\n      <td>OVERALL</td>\n      <td>OVR</td>\n    </tr>\n    <tr>\n      <th>3</th>\n      <td>2011</td>\n      <td>2011</td>\n      <td>AK</td>\n      <td>Alaska</td>\n      <td>NVSS</td>\n      <td>Chronic Kidney Disease</td>\n      <td>Mortality with end-stage renal disease</td>\n      <td></td>\n      <td>Number</td>\n      <td>221</td>\n      <td>...</td>\n      <td>NaN</td>\n      <td>Race/Ethnicity</td>\n      <td>White, non-Hispanic</td>\n      <td>POINT (-147.72205903599973 64.84507995700051)</td>\n      <td>2</td>\n      <td>CKD</td>\n      <td>CKD1_0</td>\n      <td>NMBR</td>\n      <td>RACE</td>\n      <td>WHT</td>\n    </tr>\n    <tr>\n      <th>4</th>\n      <td>2012</td>\n      <td>2012</td>\n      <td>AK</td>\n      <td>Alaska</td>\n      <td>NVSS</td>\n      <td>Chronic Kidney Disease</td>\n      <td>Mortality with end-stage renal disease</td>\n      <td></td>\n      <td>Number</td>\n      <td>234</td>\n      <td>...</td>\n      <td>NaN</td>\n      <td>Race/Ethnicity</td>\n      <td>White, non-Hispanic</td>\n      <td>POINT (-147.72205903599973 64.84507995700051)</td>\n      <td>2</td>\n      <td>CKD</td>\n      <td>CKD1_0</td>\n      <td>NMBR</td>\n      <td>RACE</td>\n      <td>WHT</td>\n    </tr>\n    <tr>\n      <th>...</th>\n      <td>...</td>\n      <td>...</td>\n      <td>...</td>\n      <td>...</td>\n      <td>...</td>\n      <td>...</td>\n      <td>...</td>\n      <td>...</td>\n      <td>...</td>\n      <td>...</td>\n      <td>...</td>\n      <td>...</td>\n      <td>...</td>\n      <td>...</td>\n      <td>...</td>\n      <td>...</td>\n      <td>...</td>\n      <td>...</td>\n      <td>...</td>\n      <td>...</td>\n      <td>...</td>\n    </tr>\n    <tr>\n      <th>1082323</th>\n      <td>2020</td>\n      <td>2020</td>\n      <td>WA</td>\n      <td>Washington</td>\n      <td>BRFSS</td>\n      <td>Nutrition, Physical Activity, and Weight Status</td>\n      <td>Obesity among adults aged &gt;= 18 years</td>\n      <td>%</td>\n      <td>Crude Prevalence</td>\n      <td>37.2</td>\n      <td>...</td>\n      <td>44.4</td>\n      <td>Race/Ethnicity</td>\n      <td>Black, non-Hispanic</td>\n      <td>POINT (-120.47001078999972 47.52227862900048)</td>\n      <td>53</td>\n      <td>NPAW</td>\n      <td>NPAW1_1</td>\n      <td>CRDPREV</td>\n      <td>RACE</td>\n      <td>BLK</td>\n    </tr>\n    <tr>\n      <th>1082324</th>\n      <td>2020</td>\n      <td>2020</td>\n      <td>WV</td>\n      <td>West Virginia</td>\n      <td>BRFSS</td>\n      <td>Chronic Obstructive Pulmonary Disease</td>\n      <td>Prevalence of current smoking among adults &gt;= ...</td>\n      <td>%</td>\n      <td>Age-adjusted Prevalence</td>\n      <td>47.6</td>\n      <td>...</td>\n      <td>52.2</td>\n      <td>Race/Ethnicity</td>\n      <td>White, non-Hispanic</td>\n      <td>POINT (-80.71264013499967 38.66551020200046)</td>\n      <td>54</td>\n      <td>COPD</td>\n      <td>COPD3_0_1</td>\n      <td>AGEADJPREV</td>\n      <td>RACE</td>\n      <td>WHT</td>\n    </tr>\n    <tr>\n      <th>1082325</th>\n      <td>2020</td>\n      <td>2020</td>\n      <td>WY</td>\n      <td>Wyoming</td>\n      <td>BRFSS</td>\n      <td>Chronic Obstructive Pulmonary Disease</td>\n      <td>Influenza vaccination among noninstitutionaliz...</td>\n      <td>%</td>\n      <td>Crude Prevalence</td>\n      <td>58.2</td>\n      <td>...</td>\n      <td>65.6</td>\n      <td>Race/Ethnicity</td>\n      <td>White, non-Hispanic</td>\n      <td>POINT (-108.10983035299967 43.23554134300048)</td>\n      <td>56</td>\n      <td>COPD</td>\n      <td>COPD7_0</td>\n      <td>CRDPREV</td>\n      <td>RACE</td>\n      <td>WHT</td>\n    </tr>\n    <tr>\n      <th>1082326</th>\n      <td>2020</td>\n      <td>2020</td>\n      <td>VT</td>\n      <td>Vermont</td>\n      <td>BRFSS</td>\n      <td>Overarching Conditions</td>\n      <td>Self-rated health status among women aged 18-4...</td>\n      <td>%</td>\n      <td>Crude Prevalence</td>\n      <td>90.5</td>\n      <td>...</td>\n      <td>96.0</td>\n      <td>Race/Ethnicity</td>\n      <td>Other, non-Hispanic</td>\n      <td>POINT (-72.51764079099962 43.62538123900049)</td>\n      <td>50</td>\n      <td>OVC</td>\n      <td>OVC6_2</td>\n      <td>CRDPREV</td>\n      <td>RACE</td>\n      <td>OTH</td>\n    </tr>\n    <tr>\n      <th>1082327</th>\n      <td>2020</td>\n      <td>2020</td>\n      <td>WI</td>\n      <td>Wisconsin</td>\n      <td>BRFSS</td>\n      <td>Diabetes</td>\n      <td>Prevalence of diagnosed diabetes among adults ...</td>\n      <td>%</td>\n      <td>Age-adjusted Prevalence</td>\n      <td></td>\n      <td>...</td>\n      <td>NaN</td>\n      <td>Race/Ethnicity</td>\n      <td>Multiracial, non-Hispanic</td>\n      <td>POINT (-89.81637074199966 44.39319117400049)</td>\n      <td>55</td>\n      <td>DIA</td>\n      <td>DIA2_1</td>\n      <td>AGEADJPREV</td>\n      <td>RACE</td>\n      <td>MRC</td>\n    </tr>\n  </tbody>\n</table>\n<p>1082328 rows × 24 columns</p>\n</div>"
     },
     "execution_count": 143,
     "metadata": {},
     "output_type": "execute_result"
    }
   ],
   "source": [
    "df"
   ],
   "metadata": {
    "collapsed": false
   }
  },
  {
   "cell_type": "markdown",
   "source": [
    "Exploring if the data is available per year or per period"
   ],
   "metadata": {
    "collapsed": false
   }
  },
  {
   "cell_type": "code",
   "execution_count": 144,
   "outputs": [
    {
     "data": {
      "text/plain": "(140986, 25)"
     },
     "execution_count": 144,
     "metadata": {},
     "output_type": "execute_result"
    }
   ],
   "source": [
    "df['diff_year'] = np.where((df['YearStart'] != df['YearEnd']),'Period','Year')\n",
    "df_per_period = df[df['diff_year'].str.contains('Period')]\n",
    "# Veryfing the shape of the new database\n",
    "df_per_period.shape"
   ],
   "metadata": {
    "collapsed": false
   }
  },
  {
   "cell_type": "code",
   "execution_count": 145,
   "outputs": [
    {
     "data": {
      "text/plain": "YearStart                        0\nYearEnd                          0\nLocationAbbr                     0\nLocationDesc                     0\nDataSource                       0\nTopic                            0\nQuestion                         0\nDataValueUnit                    0\nDataValueType                    0\nDataValue                        0\nDataValueAlt                 37805\nDataValueFootnoteSymbol          0\nDatavalueFootnote                0\nLowConfidenceLimit           71856\nHighConfidenceLimit          71856\nStratificationCategory1          0\nStratification1                  0\nGeoLocation                      0\nLocationID                       0\nTopicID                          0\nQuestionID                       0\nDataValueTypeID                  0\nStratificationCategoryID1        0\nStratificationID1                0\ndiff_year                        0\ndtype: int64"
     },
     "execution_count": 145,
     "metadata": {},
     "output_type": "execute_result"
    }
   ],
   "source": [
    "#Checking the empty values in the new database\n",
    "df_per_period.isna().sum()"
   ],
   "metadata": {
    "collapsed": false
   }
  },
  {
   "cell_type": "code",
   "execution_count": 146,
   "outputs": [
    {
     "data": {
      "text/plain": "0"
     },
     "execution_count": 146,
     "metadata": {},
     "output_type": "execute_result"
    }
   ],
   "source": [
    "#Check for duplicates in the new database\n",
    "df_per_period.duplicated().sum()"
   ],
   "metadata": {
    "collapsed": false
   }
  },
  {
   "cell_type": "code",
   "execution_count": 147,
   "outputs": [],
   "source": [
    "#Exporting to csv for a different analysis\n",
    "df_per_period.to_csv('dataperiod.csv')"
   ],
   "metadata": {
    "collapsed": false
   }
  },
  {
   "cell_type": "markdown",
   "source": [
    "Creating a new data frame per year"
   ],
   "metadata": {
    "collapsed": false
   }
  },
  {
   "cell_type": "code",
   "execution_count": 148,
   "outputs": [
    {
     "data": {
      "text/plain": "   YearStart  YearEnd LocationAbbr LocationDesc DataSource  \\\n0       2010     2010           AK       Alaska       NVSS   \n1       2017     2017           AK       Alaska       NVSS   \n2       2018     2018           AK       Alaska       NVSS   \n3       2011     2011           AK       Alaska       NVSS   \n4       2012     2012           AK       Alaska       NVSS   \n\n                    Topic                                Question  \\\n0                 Alcohol         Chronic liver disease mortality   \n1                 Alcohol         Chronic liver disease mortality   \n2                 Alcohol         Chronic liver disease mortality   \n3  Chronic Kidney Disease  Mortality with end-stage renal disease   \n4  Chronic Kidney Disease  Mortality with end-stage renal disease   \n\n  DataValueUnit DataValueType DataValue  ...  StratificationCategory1  \\\n0                      Number        70  ...                  Overall   \n1                      Number       121  ...                  Overall   \n2                      Number       121  ...                  Overall   \n3                      Number       221  ...           Race/Ethnicity   \n4                      Number       234  ...           Race/Ethnicity   \n\n       Stratification1                                    GeoLocation  \\\n0              Overall  POINT (-147.72205903599973 64.84507995700051)   \n1              Overall  POINT (-147.72205903599973 64.84507995700051)   \n2              Overall  POINT (-147.72205903599973 64.84507995700051)   \n3  White, non-Hispanic  POINT (-147.72205903599973 64.84507995700051)   \n4  White, non-Hispanic  POINT (-147.72205903599973 64.84507995700051)   \n\n   LocationID  TopicID QuestionID DataValueTypeID StratificationCategoryID1  \\\n0           2      ALC     ALC6_0            NMBR                   OVERALL   \n1           2      ALC     ALC6_0            NMBR                   OVERALL   \n2           2      ALC     ALC6_0            NMBR                   OVERALL   \n3           2      CKD     CKD1_0            NMBR                      RACE   \n4           2      CKD     CKD1_0            NMBR                      RACE   \n\n   StratificationID1 diff_year  \n0                OVR      Year  \n1                OVR      Year  \n2                OVR      Year  \n3                WHT      Year  \n4                WHT      Year  \n\n[5 rows x 25 columns]",
      "text/html": "<div>\n<style scoped>\n    .dataframe tbody tr th:only-of-type {\n        vertical-align: middle;\n    }\n\n    .dataframe tbody tr th {\n        vertical-align: top;\n    }\n\n    .dataframe thead th {\n        text-align: right;\n    }\n</style>\n<table border=\"1\" class=\"dataframe\">\n  <thead>\n    <tr style=\"text-align: right;\">\n      <th></th>\n      <th>YearStart</th>\n      <th>YearEnd</th>\n      <th>LocationAbbr</th>\n      <th>LocationDesc</th>\n      <th>DataSource</th>\n      <th>Topic</th>\n      <th>Question</th>\n      <th>DataValueUnit</th>\n      <th>DataValueType</th>\n      <th>DataValue</th>\n      <th>...</th>\n      <th>StratificationCategory1</th>\n      <th>Stratification1</th>\n      <th>GeoLocation</th>\n      <th>LocationID</th>\n      <th>TopicID</th>\n      <th>QuestionID</th>\n      <th>DataValueTypeID</th>\n      <th>StratificationCategoryID1</th>\n      <th>StratificationID1</th>\n      <th>diff_year</th>\n    </tr>\n  </thead>\n  <tbody>\n    <tr>\n      <th>0</th>\n      <td>2010</td>\n      <td>2010</td>\n      <td>AK</td>\n      <td>Alaska</td>\n      <td>NVSS</td>\n      <td>Alcohol</td>\n      <td>Chronic liver disease mortality</td>\n      <td></td>\n      <td>Number</td>\n      <td>70</td>\n      <td>...</td>\n      <td>Overall</td>\n      <td>Overall</td>\n      <td>POINT (-147.72205903599973 64.84507995700051)</td>\n      <td>2</td>\n      <td>ALC</td>\n      <td>ALC6_0</td>\n      <td>NMBR</td>\n      <td>OVERALL</td>\n      <td>OVR</td>\n      <td>Year</td>\n    </tr>\n    <tr>\n      <th>1</th>\n      <td>2017</td>\n      <td>2017</td>\n      <td>AK</td>\n      <td>Alaska</td>\n      <td>NVSS</td>\n      <td>Alcohol</td>\n      <td>Chronic liver disease mortality</td>\n      <td></td>\n      <td>Number</td>\n      <td>121</td>\n      <td>...</td>\n      <td>Overall</td>\n      <td>Overall</td>\n      <td>POINT (-147.72205903599973 64.84507995700051)</td>\n      <td>2</td>\n      <td>ALC</td>\n      <td>ALC6_0</td>\n      <td>NMBR</td>\n      <td>OVERALL</td>\n      <td>OVR</td>\n      <td>Year</td>\n    </tr>\n    <tr>\n      <th>2</th>\n      <td>2018</td>\n      <td>2018</td>\n      <td>AK</td>\n      <td>Alaska</td>\n      <td>NVSS</td>\n      <td>Alcohol</td>\n      <td>Chronic liver disease mortality</td>\n      <td></td>\n      <td>Number</td>\n      <td>121</td>\n      <td>...</td>\n      <td>Overall</td>\n      <td>Overall</td>\n      <td>POINT (-147.72205903599973 64.84507995700051)</td>\n      <td>2</td>\n      <td>ALC</td>\n      <td>ALC6_0</td>\n      <td>NMBR</td>\n      <td>OVERALL</td>\n      <td>OVR</td>\n      <td>Year</td>\n    </tr>\n    <tr>\n      <th>3</th>\n      <td>2011</td>\n      <td>2011</td>\n      <td>AK</td>\n      <td>Alaska</td>\n      <td>NVSS</td>\n      <td>Chronic Kidney Disease</td>\n      <td>Mortality with end-stage renal disease</td>\n      <td></td>\n      <td>Number</td>\n      <td>221</td>\n      <td>...</td>\n      <td>Race/Ethnicity</td>\n      <td>White, non-Hispanic</td>\n      <td>POINT (-147.72205903599973 64.84507995700051)</td>\n      <td>2</td>\n      <td>CKD</td>\n      <td>CKD1_0</td>\n      <td>NMBR</td>\n      <td>RACE</td>\n      <td>WHT</td>\n      <td>Year</td>\n    </tr>\n    <tr>\n      <th>4</th>\n      <td>2012</td>\n      <td>2012</td>\n      <td>AK</td>\n      <td>Alaska</td>\n      <td>NVSS</td>\n      <td>Chronic Kidney Disease</td>\n      <td>Mortality with end-stage renal disease</td>\n      <td></td>\n      <td>Number</td>\n      <td>234</td>\n      <td>...</td>\n      <td>Race/Ethnicity</td>\n      <td>White, non-Hispanic</td>\n      <td>POINT (-147.72205903599973 64.84507995700051)</td>\n      <td>2</td>\n      <td>CKD</td>\n      <td>CKD1_0</td>\n      <td>NMBR</td>\n      <td>RACE</td>\n      <td>WHT</td>\n      <td>Year</td>\n    </tr>\n  </tbody>\n</table>\n<p>5 rows × 25 columns</p>\n</div>"
     },
     "execution_count": 148,
     "metadata": {},
     "output_type": "execute_result"
    }
   ],
   "source": [
    "#Finding the number of data available to National and State level\n",
    "df_per_year = df[df['diff_year'].str.contains('Year')]\n",
    "df_per_year.head()"
   ],
   "metadata": {
    "collapsed": false
   }
  },
  {
   "cell_type": "code",
   "execution_count": 149,
   "outputs": [
    {
     "data": {
      "text/plain": "(941342, 25)"
     },
     "execution_count": 149,
     "metadata": {},
     "output_type": "execute_result"
    }
   ],
   "source": [
    "df_per_year.shape"
   ],
   "metadata": {
    "collapsed": false
   }
  },
  {
   "cell_type": "code",
   "execution_count": 150,
   "outputs": [
    {
     "data": {
      "text/plain": "YearStart                        0\nYearEnd                          0\nLocationAbbr                     0\nLocationDesc                     0\nDataSource                       0\nTopic                            0\nQuestion                         0\nDataValueUnit                    0\nDataValueType                    0\nDataValue                        0\nDataValueAlt                 37805\nDataValueFootnoteSymbol          0\nDatavalueFootnote                0\nLowConfidenceLimit           71856\nHighConfidenceLimit          71856\nStratificationCategory1          0\nStratification1                  0\nGeoLocation                      0\nLocationID                       0\nTopicID                          0\nQuestionID                       0\nDataValueTypeID                  0\nStratificationCategoryID1        0\nStratificationID1                0\ndiff_year                        0\ndtype: int64"
     },
     "execution_count": 150,
     "metadata": {},
     "output_type": "execute_result"
    }
   ],
   "source": [
    "df_per_period.isna().sum()"
   ],
   "metadata": {
    "collapsed": false
   }
  },
  {
   "cell_type": "code",
   "execution_count": 151,
   "outputs": [
    {
     "data": {
      "text/plain": "0"
     },
     "execution_count": 151,
     "metadata": {},
     "output_type": "execute_result"
    }
   ],
   "source": [
    "df_per_year.duplicated().sum()"
   ],
   "metadata": {
    "collapsed": false
   }
  },
  {
   "cell_type": "code",
   "execution_count": 152,
   "outputs": [],
   "source": [
    "#Dropping columns after check if the data is the same\n",
    "df_per_year = df_per_year.drop(columns=['YearEnd', 'diff_year'])"
   ],
   "metadata": {
    "collapsed": false
   }
  },
  {
   "cell_type": "code",
   "execution_count": 153,
   "outputs": [
    {
     "data": {
      "text/plain": "(941342, 23)"
     },
     "execution_count": 153,
     "metadata": {},
     "output_type": "execute_result"
    }
   ],
   "source": [
    "#Check if the changes were applied\n",
    "df_per_year.shape"
   ],
   "metadata": {
    "collapsed": false
   }
  },
  {
   "cell_type": "code",
   "execution_count": 154,
   "outputs": [],
   "source": [
    "# Rename columns to simplify the analysis\n",
    "df_per_year = df_per_year.rename({'YearStart': 'Year', 'LocationDesc': 'State', 'LocationAbbr': 'StateAbbr'}, axis=1)"
   ],
   "metadata": {
    "collapsed": false
   }
  },
  {
   "cell_type": "code",
   "execution_count": 167,
   "outputs": [
    {
     "data": {
      "text/plain": "   Year StateAbbr   State DataSource                   Topic  \\\n0  2010        AK  Alaska       NVSS                 Alcohol   \n1  2017        AK  Alaska       NVSS                 Alcohol   \n2  2018        AK  Alaska       NVSS                 Alcohol   \n3  2011        AK  Alaska       NVSS  Chronic Kidney Disease   \n4  2012        AK  Alaska       NVSS  Chronic Kidney Disease   \n\n                                 Question DataValueUnit DataValueType  \\\n0         Chronic liver disease mortality                      Number   \n1         Chronic liver disease mortality                      Number   \n2         Chronic liver disease mortality                      Number   \n3  Mortality with end-stage renal disease                      Number   \n4  Mortality with end-stage renal disease                      Number   \n\n   DataValue  DataValueAlt  ... StratificationCategory1      Stratification1  \\\n0       70.0          70.0  ...                 Overall              Overall   \n1      121.0         121.0  ...                 Overall              Overall   \n2      121.0         121.0  ...                 Overall              Overall   \n3      221.0         221.0  ...          Race/Ethnicity  White, non-Hispanic   \n4      234.0         234.0  ...          Race/Ethnicity  White, non-Hispanic   \n\n                                     GeoLocation  LocationID TopicID  \\\n0  POINT (-147.72205903599973 64.84507995700051)           2     ALC   \n1  POINT (-147.72205903599973 64.84507995700051)           2     ALC   \n2  POINT (-147.72205903599973 64.84507995700051)           2     ALC   \n3  POINT (-147.72205903599973 64.84507995700051)           2     CKD   \n4  POINT (-147.72205903599973 64.84507995700051)           2     CKD   \n\n  QuestionID DataValueTypeID  StratificationCategoryID1 StratificationID1  \\\n0     ALC6_0            NMBR                    OVERALL               OVR   \n1     ALC6_0            NMBR                    OVERALL               OVR   \n2     ALC6_0            NMBR                    OVERALL               OVR   \n3     CKD1_0            NMBR                       RACE               WHT   \n4     CKD1_0            NMBR                       RACE               WHT   \n\n  data_values  \n0        Same  \n1        Same  \n2        Same  \n3        Same  \n4        Same  \n\n[5 rows x 24 columns]",
      "text/html": "<div>\n<style scoped>\n    .dataframe tbody tr th:only-of-type {\n        vertical-align: middle;\n    }\n\n    .dataframe tbody tr th {\n        vertical-align: top;\n    }\n\n    .dataframe thead th {\n        text-align: right;\n    }\n</style>\n<table border=\"1\" class=\"dataframe\">\n  <thead>\n    <tr style=\"text-align: right;\">\n      <th></th>\n      <th>Year</th>\n      <th>StateAbbr</th>\n      <th>State</th>\n      <th>DataSource</th>\n      <th>Topic</th>\n      <th>Question</th>\n      <th>DataValueUnit</th>\n      <th>DataValueType</th>\n      <th>DataValue</th>\n      <th>DataValueAlt</th>\n      <th>...</th>\n      <th>StratificationCategory1</th>\n      <th>Stratification1</th>\n      <th>GeoLocation</th>\n      <th>LocationID</th>\n      <th>TopicID</th>\n      <th>QuestionID</th>\n      <th>DataValueTypeID</th>\n      <th>StratificationCategoryID1</th>\n      <th>StratificationID1</th>\n      <th>data_values</th>\n    </tr>\n  </thead>\n  <tbody>\n    <tr>\n      <th>0</th>\n      <td>2010</td>\n      <td>AK</td>\n      <td>Alaska</td>\n      <td>NVSS</td>\n      <td>Alcohol</td>\n      <td>Chronic liver disease mortality</td>\n      <td></td>\n      <td>Number</td>\n      <td>70.0</td>\n      <td>70.0</td>\n      <td>...</td>\n      <td>Overall</td>\n      <td>Overall</td>\n      <td>POINT (-147.72205903599973 64.84507995700051)</td>\n      <td>2</td>\n      <td>ALC</td>\n      <td>ALC6_0</td>\n      <td>NMBR</td>\n      <td>OVERALL</td>\n      <td>OVR</td>\n      <td>Same</td>\n    </tr>\n    <tr>\n      <th>1</th>\n      <td>2017</td>\n      <td>AK</td>\n      <td>Alaska</td>\n      <td>NVSS</td>\n      <td>Alcohol</td>\n      <td>Chronic liver disease mortality</td>\n      <td></td>\n      <td>Number</td>\n      <td>121.0</td>\n      <td>121.0</td>\n      <td>...</td>\n      <td>Overall</td>\n      <td>Overall</td>\n      <td>POINT (-147.72205903599973 64.84507995700051)</td>\n      <td>2</td>\n      <td>ALC</td>\n      <td>ALC6_0</td>\n      <td>NMBR</td>\n      <td>OVERALL</td>\n      <td>OVR</td>\n      <td>Same</td>\n    </tr>\n    <tr>\n      <th>2</th>\n      <td>2018</td>\n      <td>AK</td>\n      <td>Alaska</td>\n      <td>NVSS</td>\n      <td>Alcohol</td>\n      <td>Chronic liver disease mortality</td>\n      <td></td>\n      <td>Number</td>\n      <td>121.0</td>\n      <td>121.0</td>\n      <td>...</td>\n      <td>Overall</td>\n      <td>Overall</td>\n      <td>POINT (-147.72205903599973 64.84507995700051)</td>\n      <td>2</td>\n      <td>ALC</td>\n      <td>ALC6_0</td>\n      <td>NMBR</td>\n      <td>OVERALL</td>\n      <td>OVR</td>\n      <td>Same</td>\n    </tr>\n    <tr>\n      <th>3</th>\n      <td>2011</td>\n      <td>AK</td>\n      <td>Alaska</td>\n      <td>NVSS</td>\n      <td>Chronic Kidney Disease</td>\n      <td>Mortality with end-stage renal disease</td>\n      <td></td>\n      <td>Number</td>\n      <td>221.0</td>\n      <td>221.0</td>\n      <td>...</td>\n      <td>Race/Ethnicity</td>\n      <td>White, non-Hispanic</td>\n      <td>POINT (-147.72205903599973 64.84507995700051)</td>\n      <td>2</td>\n      <td>CKD</td>\n      <td>CKD1_0</td>\n      <td>NMBR</td>\n      <td>RACE</td>\n      <td>WHT</td>\n      <td>Same</td>\n    </tr>\n    <tr>\n      <th>4</th>\n      <td>2012</td>\n      <td>AK</td>\n      <td>Alaska</td>\n      <td>NVSS</td>\n      <td>Chronic Kidney Disease</td>\n      <td>Mortality with end-stage renal disease</td>\n      <td></td>\n      <td>Number</td>\n      <td>234.0</td>\n      <td>234.0</td>\n      <td>...</td>\n      <td>Race/Ethnicity</td>\n      <td>White, non-Hispanic</td>\n      <td>POINT (-147.72205903599973 64.84507995700051)</td>\n      <td>2</td>\n      <td>CKD</td>\n      <td>CKD1_0</td>\n      <td>NMBR</td>\n      <td>RACE</td>\n      <td>WHT</td>\n      <td>Same</td>\n    </tr>\n  </tbody>\n</table>\n<p>5 rows × 24 columns</p>\n</div>"
     },
     "execution_count": 167,
     "metadata": {},
     "output_type": "execute_result"
    }
   ],
   "source": [
    "#Veryfy if the columns are renamed\n",
    "df_per_year.head()"
   ],
   "metadata": {
    "collapsed": false
   }
  },
  {
   "cell_type": "markdown",
   "source": [
    "Look over if the column DataValue and DataValueAlt have the same data and drop one"
   ],
   "metadata": {
    "collapsed": false
   }
  },
  {
   "cell_type": "code",
   "execution_count": 156,
   "outputs": [
    {
     "data": {
      "text/plain": "Year                           int64\nStateAbbr                     object\nState                         object\nDataSource                    object\nTopic                         object\nQuestion                      object\nDataValueUnit                 object\nDataValueType                 object\nDataValue                     object\nDataValueAlt                 float64\nDataValueFootnoteSymbol       object\nDatavalueFootnote             object\nLowConfidenceLimit           float64\nHighConfidenceLimit          float64\nStratificationCategory1       object\nStratification1               object\nGeoLocation                   object\nLocationID                     int64\nTopicID                       object\nQuestionID                    object\nDataValueTypeID               object\nStratificationCategoryID1     object\nStratificationID1             object\ndtype: object"
     },
     "execution_count": 156,
     "metadata": {},
     "output_type": "execute_result"
    }
   ],
   "source": [
    "#Before comparison between the data, we checked the data types.\n",
    "df_per_year.dtypes"
   ],
   "metadata": {
    "collapsed": false
   }
  },
  {
   "cell_type": "code",
   "execution_count": 158,
   "outputs": [
    {
     "data": {
      "text/plain": "Year                           int64\nStateAbbr                     object\nState                         object\nDataSource                    object\nTopic                         object\nQuestion                      object\nDataValueUnit                 object\nDataValueType                 object\nDataValue                    float64\nDataValueAlt                 float64\nDataValueFootnoteSymbol       object\nDatavalueFootnote             object\nLowConfidenceLimit           float64\nHighConfidenceLimit          float64\nStratificationCategory1       object\nStratification1               object\nGeoLocation                   object\nLocationID                     int64\nTopicID                       object\nQuestionID                    object\nDataValueTypeID               object\nStratificationCategoryID1     object\nStratificationID1             object\ndtype: object"
     },
     "execution_count": 158,
     "metadata": {},
     "output_type": "execute_result"
    }
   ],
   "source": [
    "#Converting both Columns into numbers to proceed to compare.\n",
    "cols = ['DataValueAlt', 'DataValue']\n",
    "df_per_year[cols] = df_per_year[cols].apply(pd.to_numeric, errors='coerce')\n",
    "df_per_year['DataValueAlt'].convert_dtypes()\n",
    "df_per_year.dtypes"
   ],
   "metadata": {
    "collapsed": false
   }
  },
  {
   "cell_type": "code",
   "execution_count": 168,
   "outputs": [
    {
     "data": {
      "text/plain": "         Year StateAbbr          State DataSource  \\\n13       2011        AK         Alaska      PRAMS   \n14       2017        AK         Alaska  SEDD; SID   \n15       2010        AK         Alaska  SEDD; SID   \n32       2014        AL        Alabama  SEDD; SID   \n33       2017        AL        Alabama  SEDD; SID   \n...       ...       ...            ...        ...   \n1082314  2020        WV  West Virginia      BRFSS   \n1082316  2020        WY        Wyoming      BRFSS   \n1082319  2020        WI      Wisconsin      BRFSS   \n1082321  2020        VT        Vermont      BRFSS   \n1082327  2020        WI      Wisconsin      BRFSS   \n\n                                         Topic  \\\n13                                     Tobacco   \n14                                      Asthma   \n15                                    Diabetes   \n32                                      Asthma   \n33                      Cardiovascular Disease   \n...                                        ...   \n1082314                 Cardiovascular Disease   \n1082316                                 Asthma   \n1082319  Chronic Obstructive Pulmonary Disease   \n1082321                 Overarching Conditions   \n1082327                               Diabetes   \n\n                                                  Question     DataValueUnit  \\\n13                      Cigarette smoking before pregnancy                 %   \n14              Emergency department visit rate for asthma  cases per 10,000   \n15       Amputation of a lower extremity attributable t...                     \n32                             Hospitalizations for asthma  cases per 10,000   \n33                              Hospitalization for stroke                     \n...                                                    ...               ...   \n1082314  Pneumococcal vaccination among noninstitutiona...                 %   \n1082316  Pneumococcal vaccination among noninstitutiona...                 %   \n1082319  Pneumococcal vaccination among noninstitutiona...                 %   \n1082321  Prevalence of sufficient sleep among adults ag...                 %   \n1082327  Prevalence of diagnosed diabetes among adults ...                 %   \n\n                   DataValueType  DataValue  DataValueAlt  ...  \\\n13              Crude Prevalence        NaN           NaN  ...   \n14             Age-adjusted Rate        NaN           NaN  ...   \n15                        Number        NaN           NaN  ...   \n32                    Crude Rate        NaN           NaN  ...   \n33                        Number        NaN           NaN  ...   \n...                          ...        ...           ...  ...   \n1082314  Age-adjusted Prevalence        NaN           NaN  ...   \n1082316         Crude Prevalence        NaN           NaN  ...   \n1082319  Age-adjusted Prevalence        NaN           NaN  ...   \n1082321         Crude Prevalence        NaN           NaN  ...   \n1082327  Age-adjusted Prevalence        NaN           NaN  ...   \n\n        StratificationCategory1            Stratification1  \\\n13                      Overall                    Overall   \n14               Race/Ethnicity                   Hispanic   \n15                      Overall                    Overall   \n32                       Gender                       Male   \n33                       Gender                       Male   \n...                         ...                        ...   \n1082314          Race/Ethnicity        Black, non-Hispanic   \n1082316          Race/Ethnicity  Multiracial, non-Hispanic   \n1082319          Race/Ethnicity                   Hispanic   \n1082321          Race/Ethnicity        Black, non-Hispanic   \n1082327          Race/Ethnicity  Multiracial, non-Hispanic   \n\n                                           GeoLocation  LocationID TopicID  \\\n13       POINT (-147.72205903599973 64.84507995700051)           2     TOB   \n14       POINT (-147.72205903599973 64.84507995700051)           2     AST   \n15       POINT (-147.72205903599973 64.84507995700051)           2     DIA   \n32        POINT (-86.63186076199969 32.84057112200048)           1     AST   \n33        POINT (-86.63186076199969 32.84057112200048)           1     CVD   \n...                                                ...         ...     ...   \n1082314   POINT (-80.71264013499967 38.66551020200046)          54     CVD   \n1082316  POINT (-108.10983035299967 43.23554134300048)          56     AST   \n1082319   POINT (-89.81637074199966 44.39319117400049)          55    COPD   \n1082321   POINT (-72.51764079099962 43.62538123900049)          50     OVC   \n1082327   POINT (-89.81637074199966 44.39319117400049)          55     DIA   \n\n        QuestionID DataValueTypeID  StratificationCategoryID1  \\\n13          TOB1_4         CRDPREV                    OVERALL   \n14          AST2_1      AGEADJRATE                       RACE   \n15          DIA4_0            NMBR                    OVERALL   \n32          AST3_1         CRDRATE                     GENDER   \n33          CVD3_1            NMBR                     GENDER   \n...            ...             ...                        ...   \n1082314    CVD10_2      AGEADJPREV                       RACE   \n1082316     AST6_2         CRDPREV                       RACE   \n1082319    COPD8_0      AGEADJPREV                       RACE   \n1082321     OVC8_0         CRDPREV                       RACE   \n1082327     DIA2_1      AGEADJPREV                       RACE   \n\n        StratificationID1 data_values  \n13                    OVR   Different  \n14                    HIS   Different  \n15                    OVR   Different  \n32                   GENM   Different  \n33                   GENM   Different  \n...                   ...         ...  \n1082314               BLK   Different  \n1082316               MRC   Different  \n1082319               HIS   Different  \n1082321               BLK   Different  \n1082327               MRC   Different  \n\n[317331 rows x 24 columns]",
      "text/html": "<div>\n<style scoped>\n    .dataframe tbody tr th:only-of-type {\n        vertical-align: middle;\n    }\n\n    .dataframe tbody tr th {\n        vertical-align: top;\n    }\n\n    .dataframe thead th {\n        text-align: right;\n    }\n</style>\n<table border=\"1\" class=\"dataframe\">\n  <thead>\n    <tr style=\"text-align: right;\">\n      <th></th>\n      <th>Year</th>\n      <th>StateAbbr</th>\n      <th>State</th>\n      <th>DataSource</th>\n      <th>Topic</th>\n      <th>Question</th>\n      <th>DataValueUnit</th>\n      <th>DataValueType</th>\n      <th>DataValue</th>\n      <th>DataValueAlt</th>\n      <th>...</th>\n      <th>StratificationCategory1</th>\n      <th>Stratification1</th>\n      <th>GeoLocation</th>\n      <th>LocationID</th>\n      <th>TopicID</th>\n      <th>QuestionID</th>\n      <th>DataValueTypeID</th>\n      <th>StratificationCategoryID1</th>\n      <th>StratificationID1</th>\n      <th>data_values</th>\n    </tr>\n  </thead>\n  <tbody>\n    <tr>\n      <th>13</th>\n      <td>2011</td>\n      <td>AK</td>\n      <td>Alaska</td>\n      <td>PRAMS</td>\n      <td>Tobacco</td>\n      <td>Cigarette smoking before pregnancy</td>\n      <td>%</td>\n      <td>Crude Prevalence</td>\n      <td>NaN</td>\n      <td>NaN</td>\n      <td>...</td>\n      <td>Overall</td>\n      <td>Overall</td>\n      <td>POINT (-147.72205903599973 64.84507995700051)</td>\n      <td>2</td>\n      <td>TOB</td>\n      <td>TOB1_4</td>\n      <td>CRDPREV</td>\n      <td>OVERALL</td>\n      <td>OVR</td>\n      <td>Different</td>\n    </tr>\n    <tr>\n      <th>14</th>\n      <td>2017</td>\n      <td>AK</td>\n      <td>Alaska</td>\n      <td>SEDD; SID</td>\n      <td>Asthma</td>\n      <td>Emergency department visit rate for asthma</td>\n      <td>cases per 10,000</td>\n      <td>Age-adjusted Rate</td>\n      <td>NaN</td>\n      <td>NaN</td>\n      <td>...</td>\n      <td>Race/Ethnicity</td>\n      <td>Hispanic</td>\n      <td>POINT (-147.72205903599973 64.84507995700051)</td>\n      <td>2</td>\n      <td>AST</td>\n      <td>AST2_1</td>\n      <td>AGEADJRATE</td>\n      <td>RACE</td>\n      <td>HIS</td>\n      <td>Different</td>\n    </tr>\n    <tr>\n      <th>15</th>\n      <td>2010</td>\n      <td>AK</td>\n      <td>Alaska</td>\n      <td>SEDD; SID</td>\n      <td>Diabetes</td>\n      <td>Amputation of a lower extremity attributable t...</td>\n      <td></td>\n      <td>Number</td>\n      <td>NaN</td>\n      <td>NaN</td>\n      <td>...</td>\n      <td>Overall</td>\n      <td>Overall</td>\n      <td>POINT (-147.72205903599973 64.84507995700051)</td>\n      <td>2</td>\n      <td>DIA</td>\n      <td>DIA4_0</td>\n      <td>NMBR</td>\n      <td>OVERALL</td>\n      <td>OVR</td>\n      <td>Different</td>\n    </tr>\n    <tr>\n      <th>32</th>\n      <td>2014</td>\n      <td>AL</td>\n      <td>Alabama</td>\n      <td>SEDD; SID</td>\n      <td>Asthma</td>\n      <td>Hospitalizations for asthma</td>\n      <td>cases per 10,000</td>\n      <td>Crude Rate</td>\n      <td>NaN</td>\n      <td>NaN</td>\n      <td>...</td>\n      <td>Gender</td>\n      <td>Male</td>\n      <td>POINT (-86.63186076199969 32.84057112200048)</td>\n      <td>1</td>\n      <td>AST</td>\n      <td>AST3_1</td>\n      <td>CRDRATE</td>\n      <td>GENDER</td>\n      <td>GENM</td>\n      <td>Different</td>\n    </tr>\n    <tr>\n      <th>33</th>\n      <td>2017</td>\n      <td>AL</td>\n      <td>Alabama</td>\n      <td>SEDD; SID</td>\n      <td>Cardiovascular Disease</td>\n      <td>Hospitalization for stroke</td>\n      <td></td>\n      <td>Number</td>\n      <td>NaN</td>\n      <td>NaN</td>\n      <td>...</td>\n      <td>Gender</td>\n      <td>Male</td>\n      <td>POINT (-86.63186076199969 32.84057112200048)</td>\n      <td>1</td>\n      <td>CVD</td>\n      <td>CVD3_1</td>\n      <td>NMBR</td>\n      <td>GENDER</td>\n      <td>GENM</td>\n      <td>Different</td>\n    </tr>\n    <tr>\n      <th>...</th>\n      <td>...</td>\n      <td>...</td>\n      <td>...</td>\n      <td>...</td>\n      <td>...</td>\n      <td>...</td>\n      <td>...</td>\n      <td>...</td>\n      <td>...</td>\n      <td>...</td>\n      <td>...</td>\n      <td>...</td>\n      <td>...</td>\n      <td>...</td>\n      <td>...</td>\n      <td>...</td>\n      <td>...</td>\n      <td>...</td>\n      <td>...</td>\n      <td>...</td>\n      <td>...</td>\n    </tr>\n    <tr>\n      <th>1082314</th>\n      <td>2020</td>\n      <td>WV</td>\n      <td>West Virginia</td>\n      <td>BRFSS</td>\n      <td>Cardiovascular Disease</td>\n      <td>Pneumococcal vaccination among noninstitutiona...</td>\n      <td>%</td>\n      <td>Age-adjusted Prevalence</td>\n      <td>NaN</td>\n      <td>NaN</td>\n      <td>...</td>\n      <td>Race/Ethnicity</td>\n      <td>Black, non-Hispanic</td>\n      <td>POINT (-80.71264013499967 38.66551020200046)</td>\n      <td>54</td>\n      <td>CVD</td>\n      <td>CVD10_2</td>\n      <td>AGEADJPREV</td>\n      <td>RACE</td>\n      <td>BLK</td>\n      <td>Different</td>\n    </tr>\n    <tr>\n      <th>1082316</th>\n      <td>2020</td>\n      <td>WY</td>\n      <td>Wyoming</td>\n      <td>BRFSS</td>\n      <td>Asthma</td>\n      <td>Pneumococcal vaccination among noninstitutiona...</td>\n      <td>%</td>\n      <td>Crude Prevalence</td>\n      <td>NaN</td>\n      <td>NaN</td>\n      <td>...</td>\n      <td>Race/Ethnicity</td>\n      <td>Multiracial, non-Hispanic</td>\n      <td>POINT (-108.10983035299967 43.23554134300048)</td>\n      <td>56</td>\n      <td>AST</td>\n      <td>AST6_2</td>\n      <td>CRDPREV</td>\n      <td>RACE</td>\n      <td>MRC</td>\n      <td>Different</td>\n    </tr>\n    <tr>\n      <th>1082319</th>\n      <td>2020</td>\n      <td>WI</td>\n      <td>Wisconsin</td>\n      <td>BRFSS</td>\n      <td>Chronic Obstructive Pulmonary Disease</td>\n      <td>Pneumococcal vaccination among noninstitutiona...</td>\n      <td>%</td>\n      <td>Age-adjusted Prevalence</td>\n      <td>NaN</td>\n      <td>NaN</td>\n      <td>...</td>\n      <td>Race/Ethnicity</td>\n      <td>Hispanic</td>\n      <td>POINT (-89.81637074199966 44.39319117400049)</td>\n      <td>55</td>\n      <td>COPD</td>\n      <td>COPD8_0</td>\n      <td>AGEADJPREV</td>\n      <td>RACE</td>\n      <td>HIS</td>\n      <td>Different</td>\n    </tr>\n    <tr>\n      <th>1082321</th>\n      <td>2020</td>\n      <td>VT</td>\n      <td>Vermont</td>\n      <td>BRFSS</td>\n      <td>Overarching Conditions</td>\n      <td>Prevalence of sufficient sleep among adults ag...</td>\n      <td>%</td>\n      <td>Crude Prevalence</td>\n      <td>NaN</td>\n      <td>NaN</td>\n      <td>...</td>\n      <td>Race/Ethnicity</td>\n      <td>Black, non-Hispanic</td>\n      <td>POINT (-72.51764079099962 43.62538123900049)</td>\n      <td>50</td>\n      <td>OVC</td>\n      <td>OVC8_0</td>\n      <td>CRDPREV</td>\n      <td>RACE</td>\n      <td>BLK</td>\n      <td>Different</td>\n    </tr>\n    <tr>\n      <th>1082327</th>\n      <td>2020</td>\n      <td>WI</td>\n      <td>Wisconsin</td>\n      <td>BRFSS</td>\n      <td>Diabetes</td>\n      <td>Prevalence of diagnosed diabetes among adults ...</td>\n      <td>%</td>\n      <td>Age-adjusted Prevalence</td>\n      <td>NaN</td>\n      <td>NaN</td>\n      <td>...</td>\n      <td>Race/Ethnicity</td>\n      <td>Multiracial, non-Hispanic</td>\n      <td>POINT (-89.81637074199966 44.39319117400049)</td>\n      <td>55</td>\n      <td>DIA</td>\n      <td>DIA2_1</td>\n      <td>AGEADJPREV</td>\n      <td>RACE</td>\n      <td>MRC</td>\n      <td>Different</td>\n    </tr>\n  </tbody>\n</table>\n<p>317331 rows × 24 columns</p>\n</div>"
     },
     "execution_count": 168,
     "metadata": {},
     "output_type": "execute_result"
    }
   ],
   "source": [
    "#Counting the empty values, because Python can't compare it.\n",
    "df_per_year[df_per_year['DataValueAlt'].isna()]"
   ],
   "metadata": {
    "collapsed": false
   }
  },
  {
   "cell_type": "code",
   "execution_count": 161,
   "outputs": [],
   "source": [
    "#Adding a new column name data_values to filter if they are different before dropping it.\n",
    "df_per_year['data_values'] = np.where((df_per_year['DataValue'] != df_per_year['DataValueAlt']),'Different','Same')"
   ],
   "metadata": {
    "collapsed": false
   }
  },
  {
   "cell_type": "code",
   "execution_count": 162,
   "outputs": [
    {
     "data": {
      "text/plain": "         Year StateAbbr          State DataSource  \\\n13       2011        AK         Alaska      PRAMS   \n14       2017        AK         Alaska  SEDD; SID   \n15       2010        AK         Alaska  SEDD; SID   \n32       2014        AL        Alabama  SEDD; SID   \n33       2017        AL        Alabama  SEDD; SID   \n...       ...       ...            ...        ...   \n1082314  2020        WV  West Virginia      BRFSS   \n1082316  2020        WY        Wyoming      BRFSS   \n1082319  2020        WI      Wisconsin      BRFSS   \n1082321  2020        VT        Vermont      BRFSS   \n1082327  2020        WI      Wisconsin      BRFSS   \n\n                                         Topic  \\\n13                                     Tobacco   \n14                                      Asthma   \n15                                    Diabetes   \n32                                      Asthma   \n33                      Cardiovascular Disease   \n...                                        ...   \n1082314                 Cardiovascular Disease   \n1082316                                 Asthma   \n1082319  Chronic Obstructive Pulmonary Disease   \n1082321                 Overarching Conditions   \n1082327                               Diabetes   \n\n                                                  Question     DataValueUnit  \\\n13                      Cigarette smoking before pregnancy                 %   \n14              Emergency department visit rate for asthma  cases per 10,000   \n15       Amputation of a lower extremity attributable t...                     \n32                             Hospitalizations for asthma  cases per 10,000   \n33                              Hospitalization for stroke                     \n...                                                    ...               ...   \n1082314  Pneumococcal vaccination among noninstitutiona...                 %   \n1082316  Pneumococcal vaccination among noninstitutiona...                 %   \n1082319  Pneumococcal vaccination among noninstitutiona...                 %   \n1082321  Prevalence of sufficient sleep among adults ag...                 %   \n1082327  Prevalence of diagnosed diabetes among adults ...                 %   \n\n                   DataValueType  DataValue  DataValueAlt  ...  \\\n13              Crude Prevalence        NaN           NaN  ...   \n14             Age-adjusted Rate        NaN           NaN  ...   \n15                        Number        NaN           NaN  ...   \n32                    Crude Rate        NaN           NaN  ...   \n33                        Number        NaN           NaN  ...   \n...                          ...        ...           ...  ...   \n1082314  Age-adjusted Prevalence        NaN           NaN  ...   \n1082316         Crude Prevalence        NaN           NaN  ...   \n1082319  Age-adjusted Prevalence        NaN           NaN  ...   \n1082321         Crude Prevalence        NaN           NaN  ...   \n1082327  Age-adjusted Prevalence        NaN           NaN  ...   \n\n        StratificationCategory1            Stratification1  \\\n13                      Overall                    Overall   \n14               Race/Ethnicity                   Hispanic   \n15                      Overall                    Overall   \n32                       Gender                       Male   \n33                       Gender                       Male   \n...                         ...                        ...   \n1082314          Race/Ethnicity        Black, non-Hispanic   \n1082316          Race/Ethnicity  Multiracial, non-Hispanic   \n1082319          Race/Ethnicity                   Hispanic   \n1082321          Race/Ethnicity        Black, non-Hispanic   \n1082327          Race/Ethnicity  Multiracial, non-Hispanic   \n\n                                           GeoLocation  LocationID TopicID  \\\n13       POINT (-147.72205903599973 64.84507995700051)           2     TOB   \n14       POINT (-147.72205903599973 64.84507995700051)           2     AST   \n15       POINT (-147.72205903599973 64.84507995700051)           2     DIA   \n32        POINT (-86.63186076199969 32.84057112200048)           1     AST   \n33        POINT (-86.63186076199969 32.84057112200048)           1     CVD   \n...                                                ...         ...     ...   \n1082314   POINT (-80.71264013499967 38.66551020200046)          54     CVD   \n1082316  POINT (-108.10983035299967 43.23554134300048)          56     AST   \n1082319   POINT (-89.81637074199966 44.39319117400049)          55    COPD   \n1082321   POINT (-72.51764079099962 43.62538123900049)          50     OVC   \n1082327   POINT (-89.81637074199966 44.39319117400049)          55     DIA   \n\n        QuestionID DataValueTypeID  StratificationCategoryID1  \\\n13          TOB1_4         CRDPREV                    OVERALL   \n14          AST2_1      AGEADJRATE                       RACE   \n15          DIA4_0            NMBR                    OVERALL   \n32          AST3_1         CRDRATE                     GENDER   \n33          CVD3_1            NMBR                     GENDER   \n...            ...             ...                        ...   \n1082314    CVD10_2      AGEADJPREV                       RACE   \n1082316     AST6_2         CRDPREV                       RACE   \n1082319    COPD8_0      AGEADJPREV                       RACE   \n1082321     OVC8_0         CRDPREV                       RACE   \n1082327     DIA2_1      AGEADJPREV                       RACE   \n\n        StratificationID1 data_values  \n13                    OVR   Different  \n14                    HIS   Different  \n15                    OVR   Different  \n32                   GENM   Different  \n33                   GENM   Different  \n...                   ...         ...  \n1082314               BLK   Different  \n1082316               MRC   Different  \n1082319               HIS   Different  \n1082321               BLK   Different  \n1082327               MRC   Different  \n\n[317333 rows x 24 columns]",
      "text/html": "<div>\n<style scoped>\n    .dataframe tbody tr th:only-of-type {\n        vertical-align: middle;\n    }\n\n    .dataframe tbody tr th {\n        vertical-align: top;\n    }\n\n    .dataframe thead th {\n        text-align: right;\n    }\n</style>\n<table border=\"1\" class=\"dataframe\">\n  <thead>\n    <tr style=\"text-align: right;\">\n      <th></th>\n      <th>Year</th>\n      <th>StateAbbr</th>\n      <th>State</th>\n      <th>DataSource</th>\n      <th>Topic</th>\n      <th>Question</th>\n      <th>DataValueUnit</th>\n      <th>DataValueType</th>\n      <th>DataValue</th>\n      <th>DataValueAlt</th>\n      <th>...</th>\n      <th>StratificationCategory1</th>\n      <th>Stratification1</th>\n      <th>GeoLocation</th>\n      <th>LocationID</th>\n      <th>TopicID</th>\n      <th>QuestionID</th>\n      <th>DataValueTypeID</th>\n      <th>StratificationCategoryID1</th>\n      <th>StratificationID1</th>\n      <th>data_values</th>\n    </tr>\n  </thead>\n  <tbody>\n    <tr>\n      <th>13</th>\n      <td>2011</td>\n      <td>AK</td>\n      <td>Alaska</td>\n      <td>PRAMS</td>\n      <td>Tobacco</td>\n      <td>Cigarette smoking before pregnancy</td>\n      <td>%</td>\n      <td>Crude Prevalence</td>\n      <td>NaN</td>\n      <td>NaN</td>\n      <td>...</td>\n      <td>Overall</td>\n      <td>Overall</td>\n      <td>POINT (-147.72205903599973 64.84507995700051)</td>\n      <td>2</td>\n      <td>TOB</td>\n      <td>TOB1_4</td>\n      <td>CRDPREV</td>\n      <td>OVERALL</td>\n      <td>OVR</td>\n      <td>Different</td>\n    </tr>\n    <tr>\n      <th>14</th>\n      <td>2017</td>\n      <td>AK</td>\n      <td>Alaska</td>\n      <td>SEDD; SID</td>\n      <td>Asthma</td>\n      <td>Emergency department visit rate for asthma</td>\n      <td>cases per 10,000</td>\n      <td>Age-adjusted Rate</td>\n      <td>NaN</td>\n      <td>NaN</td>\n      <td>...</td>\n      <td>Race/Ethnicity</td>\n      <td>Hispanic</td>\n      <td>POINT (-147.72205903599973 64.84507995700051)</td>\n      <td>2</td>\n      <td>AST</td>\n      <td>AST2_1</td>\n      <td>AGEADJRATE</td>\n      <td>RACE</td>\n      <td>HIS</td>\n      <td>Different</td>\n    </tr>\n    <tr>\n      <th>15</th>\n      <td>2010</td>\n      <td>AK</td>\n      <td>Alaska</td>\n      <td>SEDD; SID</td>\n      <td>Diabetes</td>\n      <td>Amputation of a lower extremity attributable t...</td>\n      <td></td>\n      <td>Number</td>\n      <td>NaN</td>\n      <td>NaN</td>\n      <td>...</td>\n      <td>Overall</td>\n      <td>Overall</td>\n      <td>POINT (-147.72205903599973 64.84507995700051)</td>\n      <td>2</td>\n      <td>DIA</td>\n      <td>DIA4_0</td>\n      <td>NMBR</td>\n      <td>OVERALL</td>\n      <td>OVR</td>\n      <td>Different</td>\n    </tr>\n    <tr>\n      <th>32</th>\n      <td>2014</td>\n      <td>AL</td>\n      <td>Alabama</td>\n      <td>SEDD; SID</td>\n      <td>Asthma</td>\n      <td>Hospitalizations for asthma</td>\n      <td>cases per 10,000</td>\n      <td>Crude Rate</td>\n      <td>NaN</td>\n      <td>NaN</td>\n      <td>...</td>\n      <td>Gender</td>\n      <td>Male</td>\n      <td>POINT (-86.63186076199969 32.84057112200048)</td>\n      <td>1</td>\n      <td>AST</td>\n      <td>AST3_1</td>\n      <td>CRDRATE</td>\n      <td>GENDER</td>\n      <td>GENM</td>\n      <td>Different</td>\n    </tr>\n    <tr>\n      <th>33</th>\n      <td>2017</td>\n      <td>AL</td>\n      <td>Alabama</td>\n      <td>SEDD; SID</td>\n      <td>Cardiovascular Disease</td>\n      <td>Hospitalization for stroke</td>\n      <td></td>\n      <td>Number</td>\n      <td>NaN</td>\n      <td>NaN</td>\n      <td>...</td>\n      <td>Gender</td>\n      <td>Male</td>\n      <td>POINT (-86.63186076199969 32.84057112200048)</td>\n      <td>1</td>\n      <td>CVD</td>\n      <td>CVD3_1</td>\n      <td>NMBR</td>\n      <td>GENDER</td>\n      <td>GENM</td>\n      <td>Different</td>\n    </tr>\n    <tr>\n      <th>...</th>\n      <td>...</td>\n      <td>...</td>\n      <td>...</td>\n      <td>...</td>\n      <td>...</td>\n      <td>...</td>\n      <td>...</td>\n      <td>...</td>\n      <td>...</td>\n      <td>...</td>\n      <td>...</td>\n      <td>...</td>\n      <td>...</td>\n      <td>...</td>\n      <td>...</td>\n      <td>...</td>\n      <td>...</td>\n      <td>...</td>\n      <td>...</td>\n      <td>...</td>\n      <td>...</td>\n    </tr>\n    <tr>\n      <th>1082314</th>\n      <td>2020</td>\n      <td>WV</td>\n      <td>West Virginia</td>\n      <td>BRFSS</td>\n      <td>Cardiovascular Disease</td>\n      <td>Pneumococcal vaccination among noninstitutiona...</td>\n      <td>%</td>\n      <td>Age-adjusted Prevalence</td>\n      <td>NaN</td>\n      <td>NaN</td>\n      <td>...</td>\n      <td>Race/Ethnicity</td>\n      <td>Black, non-Hispanic</td>\n      <td>POINT (-80.71264013499967 38.66551020200046)</td>\n      <td>54</td>\n      <td>CVD</td>\n      <td>CVD10_2</td>\n      <td>AGEADJPREV</td>\n      <td>RACE</td>\n      <td>BLK</td>\n      <td>Different</td>\n    </tr>\n    <tr>\n      <th>1082316</th>\n      <td>2020</td>\n      <td>WY</td>\n      <td>Wyoming</td>\n      <td>BRFSS</td>\n      <td>Asthma</td>\n      <td>Pneumococcal vaccination among noninstitutiona...</td>\n      <td>%</td>\n      <td>Crude Prevalence</td>\n      <td>NaN</td>\n      <td>NaN</td>\n      <td>...</td>\n      <td>Race/Ethnicity</td>\n      <td>Multiracial, non-Hispanic</td>\n      <td>POINT (-108.10983035299967 43.23554134300048)</td>\n      <td>56</td>\n      <td>AST</td>\n      <td>AST6_2</td>\n      <td>CRDPREV</td>\n      <td>RACE</td>\n      <td>MRC</td>\n      <td>Different</td>\n    </tr>\n    <tr>\n      <th>1082319</th>\n      <td>2020</td>\n      <td>WI</td>\n      <td>Wisconsin</td>\n      <td>BRFSS</td>\n      <td>Chronic Obstructive Pulmonary Disease</td>\n      <td>Pneumococcal vaccination among noninstitutiona...</td>\n      <td>%</td>\n      <td>Age-adjusted Prevalence</td>\n      <td>NaN</td>\n      <td>NaN</td>\n      <td>...</td>\n      <td>Race/Ethnicity</td>\n      <td>Hispanic</td>\n      <td>POINT (-89.81637074199966 44.39319117400049)</td>\n      <td>55</td>\n      <td>COPD</td>\n      <td>COPD8_0</td>\n      <td>AGEADJPREV</td>\n      <td>RACE</td>\n      <td>HIS</td>\n      <td>Different</td>\n    </tr>\n    <tr>\n      <th>1082321</th>\n      <td>2020</td>\n      <td>VT</td>\n      <td>Vermont</td>\n      <td>BRFSS</td>\n      <td>Overarching Conditions</td>\n      <td>Prevalence of sufficient sleep among adults ag...</td>\n      <td>%</td>\n      <td>Crude Prevalence</td>\n      <td>NaN</td>\n      <td>NaN</td>\n      <td>...</td>\n      <td>Race/Ethnicity</td>\n      <td>Black, non-Hispanic</td>\n      <td>POINT (-72.51764079099962 43.62538123900049)</td>\n      <td>50</td>\n      <td>OVC</td>\n      <td>OVC8_0</td>\n      <td>CRDPREV</td>\n      <td>RACE</td>\n      <td>BLK</td>\n      <td>Different</td>\n    </tr>\n    <tr>\n      <th>1082327</th>\n      <td>2020</td>\n      <td>WI</td>\n      <td>Wisconsin</td>\n      <td>BRFSS</td>\n      <td>Diabetes</td>\n      <td>Prevalence of diagnosed diabetes among adults ...</td>\n      <td>%</td>\n      <td>Age-adjusted Prevalence</td>\n      <td>NaN</td>\n      <td>NaN</td>\n      <td>...</td>\n      <td>Race/Ethnicity</td>\n      <td>Multiracial, non-Hispanic</td>\n      <td>POINT (-89.81637074199966 44.39319117400049)</td>\n      <td>55</td>\n      <td>DIA</td>\n      <td>DIA2_1</td>\n      <td>AGEADJPREV</td>\n      <td>RACE</td>\n      <td>MRC</td>\n      <td>Different</td>\n    </tr>\n  </tbody>\n</table>\n<p>317333 rows × 24 columns</p>\n</div>"
     },
     "execution_count": 162,
     "metadata": {},
     "output_type": "execute_result"
    }
   ],
   "source": [
    "#Displaying the data frame with different values. Important. it is going to include the empty values.\n",
    "df_per_year[df_per_year['data_values'].str.contains('Different')]"
   ],
   "metadata": {
    "collapsed": false
   }
  },
  {
   "cell_type": "code",
   "execution_count": 169,
   "outputs": [],
   "source": [
    "#Deleting the column DataValueAtl and the column data_values\n",
    "df_per_year = df_per_year.drop(columns=['DataValueAlt', 'data_values'])"
   ],
   "metadata": {
    "collapsed": false
   }
  },
  {
   "cell_type": "code",
   "execution_count": 171,
   "outputs": [
    {
     "data": {
      "text/plain": "(941342, 22)"
     },
     "execution_count": 171,
     "metadata": {},
     "output_type": "execute_result"
    }
   ],
   "source": [
    "#Check the changes\n",
    "df_per_year.shape"
   ],
   "metadata": {
    "collapsed": false
   }
  },
  {
   "cell_type": "markdown",
   "source": [
    "Analyzing data from Guam, Puerto Rico and Virgin Islands separately because are unincorporated territories and lack of data"
   ],
   "metadata": {
    "collapsed": false
   }
  },
  {
   "cell_type": "code",
   "execution_count": 209,
   "outputs": [
    {
     "data": {
      "text/plain": "(39046, 22)"
     },
     "execution_count": 209,
     "metadata": {},
     "output_type": "execute_result"
    }
   ],
   "source": [
    "#Checking how much data is available\n",
    "df_year_unincorporated = df_per_year[df_per_year['State'].str.contains('Guam|Puerto Rico|Virgin Islands')]\n",
    "df_year_unincorporated.shape"
   ],
   "metadata": {
    "collapsed": false
   }
  },
  {
   "cell_type": "code",
   "execution_count": 210,
   "outputs": [
    {
     "data": {
      "text/plain": "Crude Prevalence                                                    17835\nAge-adjusted Prevalence                                             14172\nNumber                                                               1353\nCrude Rate                                                           1314\nAge-adjusted Rate                                                    1314\nMean                                                                 1212\nAge-adjusted Mean                                                    1200\nMedian                                                                348\nPercent                                                               130\nYes/No                                                                 90\nUS Dollars                                                             45\nPer capita alcohol consumption                                         15\nLocal control of the regulation of alcohol outlet density               9\nCommercial host (dram shop) liability status for alcohol service        9\nName: DataValueType, dtype: int64"
     },
     "execution_count": 210,
     "metadata": {},
     "output_type": "execute_result"
    }
   ],
   "source": [
    "#Counting the type of data with more available values to analyze\n",
    "df_year_unincorporated[\"DataValueType\"].value_counts()"
   ],
   "metadata": {
    "collapsed": false
   }
  },
  {
   "cell_type": "code",
   "execution_count": 211,
   "outputs": [
    {
     "data": {
      "text/plain": "27710"
     },
     "execution_count": 211,
     "metadata": {},
     "output_type": "execute_result"
    }
   ],
   "source": [
    "#The database has 27710 empty values\n",
    "df_year_unincorporated['DataValue'].isna().sum()"
   ],
   "metadata": {
    "collapsed": false
   }
  },
  {
   "cell_type": "code",
   "execution_count": 213,
   "outputs": [],
   "source": [
    "#Deleting all the missing values\n",
    "df_year_unincorporated=df_year_unincorporated[~df_year_unincorporated['DataValue'].isna()]"
   ],
   "metadata": {
    "collapsed": false
   }
  },
  {
   "cell_type": "code",
   "execution_count": 214,
   "outputs": [
    {
     "data": {
      "text/plain": "         Year StateAbbr        State DataSource  \\\n1122     2012        GU         Guam  HRSA, UDS   \n1134     2018        PR  Puerto Rico      PRAMS   \n1604     2011        GU         Guam      BRFSS   \n1605     2013        GU         Guam      BRFSS   \n1610     2014        GU         Guam      BRFSS   \n...       ...       ...          ...        ...   \n1076845  2020        PR  Puerto Rico      BRFSS   \n1076903  2020        PR  Puerto Rico      BRFSS   \n1076967  2020        PR  Puerto Rico      BRFSS   \n1076971  2020        PR  Puerto Rico      BRFSS   \n1076980  2020        PR  Puerto Rico      BRFSS   \n\n                                                   Topic  \\\n1122                                         Oral Health   \n1134                                             Alcohol   \n1604                                             Alcohol   \n1605                                           Arthritis   \n1610                                              Asthma   \n...                                                  ...   \n1076845  Nutrition, Physical Activity, and Weight Status   \n1076903                                           Asthma   \n1076967                                         Diabetes   \n1076971                                           Cancer   \n1076980                                          Tobacco   \n\n                                                  Question DataValueUnit  \\\n1122     Oral health services at Federally Qualified He...             %   \n1134                          Alcohol use before pregnancy             %   \n1604          Heavy drinking among adults aged >= 18 years             %   \n1605               Arthritis among adults aged >= 18 years             %   \n1610     Current asthma prevalence among adults aged >=...             %   \n...                                                    ...           ...   \n1076845  No leisure-time physical activity among adults...             %   \n1076903  Influenza vaccination among noninstitutionaliz...             %   \n1076967  Foot examination among adults aged >= 18 years...             %   \n1076971  Fecal occult blood test, sigmoidoscopy, or col...             %   \n1076980  Current smokeless tobacco use among adults age...             %   \n\n                   DataValueType  DataValue DataValueFootnoteSymbol  ...  \\\n1122            Crude Prevalence        0.0                          ...   \n1134            Crude Prevalence       43.3                          ...   \n1604            Crude Prevalence        4.4                          ...   \n1605            Crude Prevalence       15.8                          ...   \n1610            Crude Prevalence        2.9                          ...   \n...                          ...        ...                     ...  ...   \n1076845  Age-adjusted Prevalence       44.7                          ...   \n1076903  Age-adjusted Prevalence       46.6                          ...   \n1076967         Crude Prevalence       38.5                          ...   \n1076971         Crude Prevalence       68.7                          ...   \n1076980         Crude Prevalence        0.6                          ...   \n\n        HighConfidenceLimit  StratificationCategory1  Stratification1  \\\n1122                    NaN                  Overall          Overall   \n1134                   47.3           Race/Ethnicity         Hispanic   \n1604                    6.5                   Gender           Female   \n1605                   19.4                   Gender             Male   \n1610                    4.7                   Gender             Male   \n...                     ...                      ...              ...   \n1076845                46.8           Race/Ethnicity         Hispanic   \n1076903                61.4           Race/Ethnicity         Hispanic   \n1076967                50.0                   Gender           Female   \n1076971                74.0                   Gender             Male   \n1076980                 1.1                   Gender           Female   \n\n                          GeoLocation LocationID TopicID  QuestionID  \\\n1122     POINT (144.793731 13.444304)         66     ORH      ORH3_0   \n1134     POINT (-66.590149 18.220833)         72     ALC      ALC1_2   \n1604     POINT (144.793731 13.444304)         66     ALC      ALC5_1   \n1605     POINT (144.793731 13.444304)         66     ART      ART1_1   \n1610     POINT (144.793731 13.444304)         66     AST      AST1_1   \n...                               ...        ...     ...         ...   \n1076845  POINT (-66.590149 18.220833)         72    NPAW    NPAW10_0   \n1076903  POINT (-66.590149 18.220833)         72     AST      AST5_2   \n1076967  POINT (-66.590149 18.220833)         72     DIA      DIA5_0   \n1076971  POINT (-66.590149 18.220833)         72     CAN      CAN3_0   \n1076980  POINT (-66.590149 18.220833)         72     TOB      TOB2_2   \n\n        DataValueTypeID StratificationCategoryID1 StratificationID1  \n1122            CRDPREV                   OVERALL               OVR  \n1134            CRDPREV                      RACE               HIS  \n1604            CRDPREV                    GENDER              GENF  \n1605            CRDPREV                    GENDER              GENM  \n1610            CRDPREV                    GENDER              GENM  \n...                 ...                       ...               ...  \n1076845      AGEADJPREV                      RACE               HIS  \n1076903      AGEADJPREV                      RACE               HIS  \n1076967         CRDPREV                    GENDER              GENF  \n1076971         CRDPREV                    GENDER              GENM  \n1076980         CRDPREV                    GENDER              GENF  \n\n[11336 rows x 22 columns]",
      "text/html": "<div>\n<style scoped>\n    .dataframe tbody tr th:only-of-type {\n        vertical-align: middle;\n    }\n\n    .dataframe tbody tr th {\n        vertical-align: top;\n    }\n\n    .dataframe thead th {\n        text-align: right;\n    }\n</style>\n<table border=\"1\" class=\"dataframe\">\n  <thead>\n    <tr style=\"text-align: right;\">\n      <th></th>\n      <th>Year</th>\n      <th>StateAbbr</th>\n      <th>State</th>\n      <th>DataSource</th>\n      <th>Topic</th>\n      <th>Question</th>\n      <th>DataValueUnit</th>\n      <th>DataValueType</th>\n      <th>DataValue</th>\n      <th>DataValueFootnoteSymbol</th>\n      <th>...</th>\n      <th>HighConfidenceLimit</th>\n      <th>StratificationCategory1</th>\n      <th>Stratification1</th>\n      <th>GeoLocation</th>\n      <th>LocationID</th>\n      <th>TopicID</th>\n      <th>QuestionID</th>\n      <th>DataValueTypeID</th>\n      <th>StratificationCategoryID1</th>\n      <th>StratificationID1</th>\n    </tr>\n  </thead>\n  <tbody>\n    <tr>\n      <th>1122</th>\n      <td>2012</td>\n      <td>GU</td>\n      <td>Guam</td>\n      <td>HRSA, UDS</td>\n      <td>Oral Health</td>\n      <td>Oral health services at Federally Qualified He...</td>\n      <td>%</td>\n      <td>Crude Prevalence</td>\n      <td>0.0</td>\n      <td></td>\n      <td>...</td>\n      <td>NaN</td>\n      <td>Overall</td>\n      <td>Overall</td>\n      <td>POINT (144.793731 13.444304)</td>\n      <td>66</td>\n      <td>ORH</td>\n      <td>ORH3_0</td>\n      <td>CRDPREV</td>\n      <td>OVERALL</td>\n      <td>OVR</td>\n    </tr>\n    <tr>\n      <th>1134</th>\n      <td>2018</td>\n      <td>PR</td>\n      <td>Puerto Rico</td>\n      <td>PRAMS</td>\n      <td>Alcohol</td>\n      <td>Alcohol use before pregnancy</td>\n      <td>%</td>\n      <td>Crude Prevalence</td>\n      <td>43.3</td>\n      <td></td>\n      <td>...</td>\n      <td>47.3</td>\n      <td>Race/Ethnicity</td>\n      <td>Hispanic</td>\n      <td>POINT (-66.590149 18.220833)</td>\n      <td>72</td>\n      <td>ALC</td>\n      <td>ALC1_2</td>\n      <td>CRDPREV</td>\n      <td>RACE</td>\n      <td>HIS</td>\n    </tr>\n    <tr>\n      <th>1604</th>\n      <td>2011</td>\n      <td>GU</td>\n      <td>Guam</td>\n      <td>BRFSS</td>\n      <td>Alcohol</td>\n      <td>Heavy drinking among adults aged &gt;= 18 years</td>\n      <td>%</td>\n      <td>Crude Prevalence</td>\n      <td>4.4</td>\n      <td></td>\n      <td>...</td>\n      <td>6.5</td>\n      <td>Gender</td>\n      <td>Female</td>\n      <td>POINT (144.793731 13.444304)</td>\n      <td>66</td>\n      <td>ALC</td>\n      <td>ALC5_1</td>\n      <td>CRDPREV</td>\n      <td>GENDER</td>\n      <td>GENF</td>\n    </tr>\n    <tr>\n      <th>1605</th>\n      <td>2013</td>\n      <td>GU</td>\n      <td>Guam</td>\n      <td>BRFSS</td>\n      <td>Arthritis</td>\n      <td>Arthritis among adults aged &gt;= 18 years</td>\n      <td>%</td>\n      <td>Crude Prevalence</td>\n      <td>15.8</td>\n      <td></td>\n      <td>...</td>\n      <td>19.4</td>\n      <td>Gender</td>\n      <td>Male</td>\n      <td>POINT (144.793731 13.444304)</td>\n      <td>66</td>\n      <td>ART</td>\n      <td>ART1_1</td>\n      <td>CRDPREV</td>\n      <td>GENDER</td>\n      <td>GENM</td>\n    </tr>\n    <tr>\n      <th>1610</th>\n      <td>2014</td>\n      <td>GU</td>\n      <td>Guam</td>\n      <td>BRFSS</td>\n      <td>Asthma</td>\n      <td>Current asthma prevalence among adults aged &gt;=...</td>\n      <td>%</td>\n      <td>Crude Prevalence</td>\n      <td>2.9</td>\n      <td></td>\n      <td>...</td>\n      <td>4.7</td>\n      <td>Gender</td>\n      <td>Male</td>\n      <td>POINT (144.793731 13.444304)</td>\n      <td>66</td>\n      <td>AST</td>\n      <td>AST1_1</td>\n      <td>CRDPREV</td>\n      <td>GENDER</td>\n      <td>GENM</td>\n    </tr>\n    <tr>\n      <th>...</th>\n      <td>...</td>\n      <td>...</td>\n      <td>...</td>\n      <td>...</td>\n      <td>...</td>\n      <td>...</td>\n      <td>...</td>\n      <td>...</td>\n      <td>...</td>\n      <td>...</td>\n      <td>...</td>\n      <td>...</td>\n      <td>...</td>\n      <td>...</td>\n      <td>...</td>\n      <td>...</td>\n      <td>...</td>\n      <td>...</td>\n      <td>...</td>\n      <td>...</td>\n      <td>...</td>\n    </tr>\n    <tr>\n      <th>1076845</th>\n      <td>2020</td>\n      <td>PR</td>\n      <td>Puerto Rico</td>\n      <td>BRFSS</td>\n      <td>Nutrition, Physical Activity, and Weight Status</td>\n      <td>No leisure-time physical activity among adults...</td>\n      <td>%</td>\n      <td>Age-adjusted Prevalence</td>\n      <td>44.7</td>\n      <td></td>\n      <td>...</td>\n      <td>46.8</td>\n      <td>Race/Ethnicity</td>\n      <td>Hispanic</td>\n      <td>POINT (-66.590149 18.220833)</td>\n      <td>72</td>\n      <td>NPAW</td>\n      <td>NPAW10_0</td>\n      <td>AGEADJPREV</td>\n      <td>RACE</td>\n      <td>HIS</td>\n    </tr>\n    <tr>\n      <th>1076903</th>\n      <td>2020</td>\n      <td>PR</td>\n      <td>Puerto Rico</td>\n      <td>BRFSS</td>\n      <td>Asthma</td>\n      <td>Influenza vaccination among noninstitutionaliz...</td>\n      <td>%</td>\n      <td>Age-adjusted Prevalence</td>\n      <td>46.6</td>\n      <td></td>\n      <td>...</td>\n      <td>61.4</td>\n      <td>Race/Ethnicity</td>\n      <td>Hispanic</td>\n      <td>POINT (-66.590149 18.220833)</td>\n      <td>72</td>\n      <td>AST</td>\n      <td>AST5_2</td>\n      <td>AGEADJPREV</td>\n      <td>RACE</td>\n      <td>HIS</td>\n    </tr>\n    <tr>\n      <th>1076967</th>\n      <td>2020</td>\n      <td>PR</td>\n      <td>Puerto Rico</td>\n      <td>BRFSS</td>\n      <td>Diabetes</td>\n      <td>Foot examination among adults aged &gt;= 18 years...</td>\n      <td>%</td>\n      <td>Crude Prevalence</td>\n      <td>38.5</td>\n      <td></td>\n      <td>...</td>\n      <td>50.0</td>\n      <td>Gender</td>\n      <td>Female</td>\n      <td>POINT (-66.590149 18.220833)</td>\n      <td>72</td>\n      <td>DIA</td>\n      <td>DIA5_0</td>\n      <td>CRDPREV</td>\n      <td>GENDER</td>\n      <td>GENF</td>\n    </tr>\n    <tr>\n      <th>1076971</th>\n      <td>2020</td>\n      <td>PR</td>\n      <td>Puerto Rico</td>\n      <td>BRFSS</td>\n      <td>Cancer</td>\n      <td>Fecal occult blood test, sigmoidoscopy, or col...</td>\n      <td>%</td>\n      <td>Crude Prevalence</td>\n      <td>68.7</td>\n      <td></td>\n      <td>...</td>\n      <td>74.0</td>\n      <td>Gender</td>\n      <td>Male</td>\n      <td>POINT (-66.590149 18.220833)</td>\n      <td>72</td>\n      <td>CAN</td>\n      <td>CAN3_0</td>\n      <td>CRDPREV</td>\n      <td>GENDER</td>\n      <td>GENM</td>\n    </tr>\n    <tr>\n      <th>1076980</th>\n      <td>2020</td>\n      <td>PR</td>\n      <td>Puerto Rico</td>\n      <td>BRFSS</td>\n      <td>Tobacco</td>\n      <td>Current smokeless tobacco use among adults age...</td>\n      <td>%</td>\n      <td>Crude Prevalence</td>\n      <td>0.6</td>\n      <td></td>\n      <td>...</td>\n      <td>1.1</td>\n      <td>Gender</td>\n      <td>Female</td>\n      <td>POINT (-66.590149 18.220833)</td>\n      <td>72</td>\n      <td>TOB</td>\n      <td>TOB2_2</td>\n      <td>CRDPREV</td>\n      <td>GENDER</td>\n      <td>GENF</td>\n    </tr>\n  </tbody>\n</table>\n<p>11336 rows × 22 columns</p>\n</div>"
     },
     "execution_count": 214,
     "metadata": {},
     "output_type": "execute_result"
    }
   ],
   "source": [
    "#Verifying if the data is deleted\n",
    "df_year_unincorporated"
   ],
   "metadata": {
    "collapsed": false
   }
  },
  {
   "cell_type": "code",
   "execution_count": 216,
   "outputs": [
    {
     "data": {
      "text/plain": "Year                     2010  2011  2012  2013  2014  2015  2016  2017  2018  \\\nDataValueType                                                                   \nAge-adjusted Mean           0    38    51    48    49    50    70    48    48   \nAge-adjusted Prevalence     0   425   447   479   457   449   581   431   407   \nCrude Prevalence           19   498   525   603   550   549   676   586   487   \nMean                        0    40    45    49    49    49    70    48    45   \nMedian                      0    24     0    25     0    26     0    38     0   \nNumber                      1     1     1     1     1     1     1     1     2   \nPercent                     0     0     0     0     4     0     1     1     7   \n\nYear                     2019  2020  \nDataValueType                        \nAge-adjusted Mean          51    48  \nAge-adjusted Prevalence   461   409  \nCrude Prevalence          656   457  \nMean                       50    47  \nMedian                     40     0  \nNumber                      2     0  \nPercent                     7     6  ",
      "text/html": "<div>\n<style scoped>\n    .dataframe tbody tr th:only-of-type {\n        vertical-align: middle;\n    }\n\n    .dataframe tbody tr th {\n        vertical-align: top;\n    }\n\n    .dataframe thead th {\n        text-align: right;\n    }\n</style>\n<table border=\"1\" class=\"dataframe\">\n  <thead>\n    <tr style=\"text-align: right;\">\n      <th>Year</th>\n      <th>2010</th>\n      <th>2011</th>\n      <th>2012</th>\n      <th>2013</th>\n      <th>2014</th>\n      <th>2015</th>\n      <th>2016</th>\n      <th>2017</th>\n      <th>2018</th>\n      <th>2019</th>\n      <th>2020</th>\n    </tr>\n    <tr>\n      <th>DataValueType</th>\n      <th></th>\n      <th></th>\n      <th></th>\n      <th></th>\n      <th></th>\n      <th></th>\n      <th></th>\n      <th></th>\n      <th></th>\n      <th></th>\n      <th></th>\n    </tr>\n  </thead>\n  <tbody>\n    <tr>\n      <th>Age-adjusted Mean</th>\n      <td>0</td>\n      <td>38</td>\n      <td>51</td>\n      <td>48</td>\n      <td>49</td>\n      <td>50</td>\n      <td>70</td>\n      <td>48</td>\n      <td>48</td>\n      <td>51</td>\n      <td>48</td>\n    </tr>\n    <tr>\n      <th>Age-adjusted Prevalence</th>\n      <td>0</td>\n      <td>425</td>\n      <td>447</td>\n      <td>479</td>\n      <td>457</td>\n      <td>449</td>\n      <td>581</td>\n      <td>431</td>\n      <td>407</td>\n      <td>461</td>\n      <td>409</td>\n    </tr>\n    <tr>\n      <th>Crude Prevalence</th>\n      <td>19</td>\n      <td>498</td>\n      <td>525</td>\n      <td>603</td>\n      <td>550</td>\n      <td>549</td>\n      <td>676</td>\n      <td>586</td>\n      <td>487</td>\n      <td>656</td>\n      <td>457</td>\n    </tr>\n    <tr>\n      <th>Mean</th>\n      <td>0</td>\n      <td>40</td>\n      <td>45</td>\n      <td>49</td>\n      <td>49</td>\n      <td>49</td>\n      <td>70</td>\n      <td>48</td>\n      <td>45</td>\n      <td>50</td>\n      <td>47</td>\n    </tr>\n    <tr>\n      <th>Median</th>\n      <td>0</td>\n      <td>24</td>\n      <td>0</td>\n      <td>25</td>\n      <td>0</td>\n      <td>26</td>\n      <td>0</td>\n      <td>38</td>\n      <td>0</td>\n      <td>40</td>\n      <td>0</td>\n    </tr>\n    <tr>\n      <th>Number</th>\n      <td>1</td>\n      <td>1</td>\n      <td>1</td>\n      <td>1</td>\n      <td>1</td>\n      <td>1</td>\n      <td>1</td>\n      <td>1</td>\n      <td>2</td>\n      <td>2</td>\n      <td>0</td>\n    </tr>\n    <tr>\n      <th>Percent</th>\n      <td>0</td>\n      <td>0</td>\n      <td>0</td>\n      <td>0</td>\n      <td>4</td>\n      <td>0</td>\n      <td>1</td>\n      <td>1</td>\n      <td>7</td>\n      <td>7</td>\n      <td>6</td>\n    </tr>\n  </tbody>\n</table>\n</div>"
     },
     "execution_count": 216,
     "metadata": {},
     "output_type": "execute_result"
    }
   ],
   "source": [
    "#Analyzing the DataValueTye available per year\n",
    "pd.crosstab(df_year_unincorporated.DataValueType,df_year_unincorporated.Year)"
   ],
   "metadata": {
    "collapsed": false
   }
  },
  {
   "cell_type": "code",
   "execution_count": 217,
   "outputs": [
    {
     "data": {
      "text/plain": "Topic                    Alcohol  Arthritis  Asthma  Cancer  \\\nDataValueType                                                 \nAge-adjusted Mean            174          0       0       0   \nAge-adjusted Prevalence      214        669     261     117   \nCrude Prevalence             326        672     292     141   \nMean                         173          0       0       0   \nMedian                         0          0       0       0   \nNumber                         0          0       0       0   \nPercent                        0          0       0       0   \n\nTopic                    Cardiovascular Disease  Chronic Kidney Disease  \\\nDataValueType                                                             \nAge-adjusted Mean                             0                       0   \nAge-adjusted Prevalence                     391                      81   \nCrude Prevalence                            419                      81   \nMean                                          0                       0   \nMedian                                        0                       0   \nNumber                                        0                       0   \nPercent                                       0                       0   \n\nTopic                    Chronic Obstructive Pulmonary Disease  Diabetes  \\\nDataValueType                                                              \nAge-adjusted Mean                                            0         0   \nAge-adjusted Prevalence                                    376       807   \nCrude Prevalence                                           379       874   \nMean                                                         0         0   \nMedian                                                       0         0   \nNumber                                                       0         0   \nPercent                                                      0         0   \n\nTopic                    Disability  Immunization  Mental Health  \\\nDataValueType                                                      \nAge-adjusted Mean                 0             0            114   \nAge-adjusted Prevalence           0           117              0   \nCrude Prevalence                 50           117             46   \nMean                              0             0            108   \nMedian                            0             0              0   \nNumber                            0             0              0   \nPercent                           0             0              0   \n\nTopic                    Nutrition, Physical Activity, and Weight Status  \\\nDataValueType                                                              \nAge-adjusted Mean                                                      0   \nAge-adjusted Prevalence                                              600   \nCrude Prevalence                                                     844   \nMean                                                                   4   \nMedian                                                               153   \nNumber                                                                 2   \nPercent                                                               19   \n\nTopic                    Older Adults  Oral Health  Overarching Conditions  \\\nDataValueType                                                                \nAge-adjusted Mean                   0            0                     213   \nAge-adjusted Prevalence            84          190                     270   \nCrude Prevalence                  139          226                     481   \nMean                                0            0                     207   \nMedian                              0            0                       0   \nNumber                              0            0                      10   \nPercent                             0            0                       0   \n\nTopic                    Reproductive Health  Tobacco  \nDataValueType                                          \nAge-adjusted Mean                          0        0  \nAge-adjusted Prevalence                    0      369  \nCrude Prevalence                          66      453  \nMean                                       0        0  \nMedian                                     0        0  \nNumber                                     0        0  \nPercent                                    0        7  ",
      "text/html": "<div>\n<style scoped>\n    .dataframe tbody tr th:only-of-type {\n        vertical-align: middle;\n    }\n\n    .dataframe tbody tr th {\n        vertical-align: top;\n    }\n\n    .dataframe thead th {\n        text-align: right;\n    }\n</style>\n<table border=\"1\" class=\"dataframe\">\n  <thead>\n    <tr style=\"text-align: right;\">\n      <th>Topic</th>\n      <th>Alcohol</th>\n      <th>Arthritis</th>\n      <th>Asthma</th>\n      <th>Cancer</th>\n      <th>Cardiovascular Disease</th>\n      <th>Chronic Kidney Disease</th>\n      <th>Chronic Obstructive Pulmonary Disease</th>\n      <th>Diabetes</th>\n      <th>Disability</th>\n      <th>Immunization</th>\n      <th>Mental Health</th>\n      <th>Nutrition, Physical Activity, and Weight Status</th>\n      <th>Older Adults</th>\n      <th>Oral Health</th>\n      <th>Overarching Conditions</th>\n      <th>Reproductive Health</th>\n      <th>Tobacco</th>\n    </tr>\n    <tr>\n      <th>DataValueType</th>\n      <th></th>\n      <th></th>\n      <th></th>\n      <th></th>\n      <th></th>\n      <th></th>\n      <th></th>\n      <th></th>\n      <th></th>\n      <th></th>\n      <th></th>\n      <th></th>\n      <th></th>\n      <th></th>\n      <th></th>\n      <th></th>\n      <th></th>\n    </tr>\n  </thead>\n  <tbody>\n    <tr>\n      <th>Age-adjusted Mean</th>\n      <td>174</td>\n      <td>0</td>\n      <td>0</td>\n      <td>0</td>\n      <td>0</td>\n      <td>0</td>\n      <td>0</td>\n      <td>0</td>\n      <td>0</td>\n      <td>0</td>\n      <td>114</td>\n      <td>0</td>\n      <td>0</td>\n      <td>0</td>\n      <td>213</td>\n      <td>0</td>\n      <td>0</td>\n    </tr>\n    <tr>\n      <th>Age-adjusted Prevalence</th>\n      <td>214</td>\n      <td>669</td>\n      <td>261</td>\n      <td>117</td>\n      <td>391</td>\n      <td>81</td>\n      <td>376</td>\n      <td>807</td>\n      <td>0</td>\n      <td>117</td>\n      <td>0</td>\n      <td>600</td>\n      <td>84</td>\n      <td>190</td>\n      <td>270</td>\n      <td>0</td>\n      <td>369</td>\n    </tr>\n    <tr>\n      <th>Crude Prevalence</th>\n      <td>326</td>\n      <td>672</td>\n      <td>292</td>\n      <td>141</td>\n      <td>419</td>\n      <td>81</td>\n      <td>379</td>\n      <td>874</td>\n      <td>50</td>\n      <td>117</td>\n      <td>46</td>\n      <td>844</td>\n      <td>139</td>\n      <td>226</td>\n      <td>481</td>\n      <td>66</td>\n      <td>453</td>\n    </tr>\n    <tr>\n      <th>Mean</th>\n      <td>173</td>\n      <td>0</td>\n      <td>0</td>\n      <td>0</td>\n      <td>0</td>\n      <td>0</td>\n      <td>0</td>\n      <td>0</td>\n      <td>0</td>\n      <td>0</td>\n      <td>108</td>\n      <td>4</td>\n      <td>0</td>\n      <td>0</td>\n      <td>207</td>\n      <td>0</td>\n      <td>0</td>\n    </tr>\n    <tr>\n      <th>Median</th>\n      <td>0</td>\n      <td>0</td>\n      <td>0</td>\n      <td>0</td>\n      <td>0</td>\n      <td>0</td>\n      <td>0</td>\n      <td>0</td>\n      <td>0</td>\n      <td>0</td>\n      <td>0</td>\n      <td>153</td>\n      <td>0</td>\n      <td>0</td>\n      <td>0</td>\n      <td>0</td>\n      <td>0</td>\n    </tr>\n    <tr>\n      <th>Number</th>\n      <td>0</td>\n      <td>0</td>\n      <td>0</td>\n      <td>0</td>\n      <td>0</td>\n      <td>0</td>\n      <td>0</td>\n      <td>0</td>\n      <td>0</td>\n      <td>0</td>\n      <td>0</td>\n      <td>2</td>\n      <td>0</td>\n      <td>0</td>\n      <td>10</td>\n      <td>0</td>\n      <td>0</td>\n    </tr>\n    <tr>\n      <th>Percent</th>\n      <td>0</td>\n      <td>0</td>\n      <td>0</td>\n      <td>0</td>\n      <td>0</td>\n      <td>0</td>\n      <td>0</td>\n      <td>0</td>\n      <td>0</td>\n      <td>0</td>\n      <td>0</td>\n      <td>19</td>\n      <td>0</td>\n      <td>0</td>\n      <td>0</td>\n      <td>0</td>\n      <td>7</td>\n    </tr>\n  </tbody>\n</table>\n</div>"
     },
     "execution_count": 217,
     "metadata": {},
     "output_type": "execute_result"
    }
   ],
   "source": [
    "#Analyzin the DataValueType available per Topic\n",
    "pd.crosstab(df_year_unincorporated.DataValueType,df_year_unincorporated.Topic)"
   ],
   "metadata": {
    "collapsed": false
   }
  },
  {
   "cell_type": "code",
   "execution_count": 218,
   "outputs": [],
   "source": [
    "df_year_unincorporated.to_csv('dataunincorporated.csv')"
   ],
   "metadata": {
    "collapsed": false
   }
  },
  {
   "cell_type": "markdown",
   "source": [
    "Analysis 53 states - MAINLAND"
   ],
   "metadata": {
    "collapsed": false
   }
  },
  {
   "cell_type": "code",
   "execution_count": null,
   "outputs": [],
   "source": [
    "#df_per_year = df_per_year[df_per_year['State'].str.contains('Guam|Puerto Rico|Virgin Islands') == False]"
   ],
   "metadata": {
    "collapsed": false
   }
  }
 ],
 "metadata": {
  "kernelspec": {
   "display_name": "Python 3 (ipykernel)",
   "language": "python",
   "name": "python3"
  },
  "language_info": {
   "codemirror_mode": {
    "name": "ipython",
    "version": 3
   },
   "file_extension": ".py",
   "mimetype": "text/x-python",
   "name": "python",
   "nbconvert_exporter": "python",
   "pygments_lexer": "ipython3",
   "version": "3.9.5"
  }
 },
 "nbformat": 4,
 "nbformat_minor": 5
}
