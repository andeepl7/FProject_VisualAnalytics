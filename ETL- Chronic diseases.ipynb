{
 "cells": [
  {
   "cell_type": "markdown",
   "source": [
    "1. Loading the parquet file for analysis."
   ],
   "metadata": {
    "collapsed": false
   }
  },
  {
   "cell_type": "code",
   "execution_count": 41,
   "id": "ba58b5ad",
   "metadata": {},
   "outputs": [
    {
     "name": "stdout",
     "output_type": "stream",
     "text": [
      "   YearStart  YearEnd LocationAbbr LocationDesc DataSource  \\\n",
      "0       2010     2010           AK       Alaska       NVSS   \n",
      "1       2017     2017           AK       Alaska       NVSS   \n",
      "2       2018     2018           AK       Alaska       NVSS   \n",
      "3       2011     2011           AK       Alaska       NVSS   \n",
      "4       2012     2012           AK       Alaska       NVSS   \n",
      "\n",
      "                    Topic                                Question Response  \\\n",
      "0                 Alcohol         Chronic liver disease mortality     None   \n",
      "1                 Alcohol         Chronic liver disease mortality     None   \n",
      "2                 Alcohol         Chronic liver disease mortality     None   \n",
      "3  Chronic Kidney Disease  Mortality with end-stage renal disease     None   \n",
      "4  Chronic Kidney Disease  Mortality with end-stage renal disease     None   \n",
      "\n",
      "  DataValueUnit DataValueType  ... LocationID  TopicID QuestionID  \\\n",
      "0                      Number  ...          2      ALC     ALC6_0   \n",
      "1                      Number  ...          2      ALC     ALC6_0   \n",
      "2                      Number  ...          2      ALC     ALC6_0   \n",
      "3                      Number  ...          2      CKD     CKD1_0   \n",
      "4                      Number  ...          2      CKD     CKD1_0   \n",
      "\n",
      "  DataValueTypeID  StratificationCategoryID1  StratificationID1  \\\n",
      "0            NMBR                    OVERALL                OVR   \n",
      "1            NMBR                    OVERALL                OVR   \n",
      "2            NMBR                    OVERALL                OVR   \n",
      "3            NMBR                       RACE                WHT   \n",
      "4            NMBR                       RACE                WHT   \n",
      "\n",
      "  StratificationCategoryID2 StratificationID2 StratificationCategoryID3  \\\n",
      "0                      None              None                      None   \n",
      "1                      None              None                      None   \n",
      "2                      None              None                      None   \n",
      "3                      None              None                      None   \n",
      "4                      None              None                      None   \n",
      "\n",
      "  StratificationID3  \n",
      "0              None  \n",
      "1              None  \n",
      "2              None  \n",
      "3              None  \n",
      "4              None  \n",
      "\n",
      "[5 rows x 34 columns]\n"
     ]
    }
   ],
   "source": [
    "import pandas as pd\n",
    "import numpy as np\n",
    "\n",
    "df = pd.read_parquet('cdi.parquet')\n",
    "\n",
    "print(df.head())"
   ]
  },
  {
   "cell_type": "code",
   "execution_count": 42,
   "id": "81675ef9",
   "metadata": {},
   "outputs": [
    {
     "name": "stdout",
     "output_type": "stream",
     "text": [
      "<bound method DataFrame.info of          YearStart  YearEnd LocationAbbr   LocationDesc DataSource  \\\n",
      "0             2010     2010           AK         Alaska       NVSS   \n",
      "1             2017     2017           AK         Alaska       NVSS   \n",
      "2             2018     2018           AK         Alaska       NVSS   \n",
      "3             2011     2011           AK         Alaska       NVSS   \n",
      "4             2012     2012           AK         Alaska       NVSS   \n",
      "...            ...      ...          ...            ...        ...   \n",
      "1082323       2020     2020           WA     Washington      BRFSS   \n",
      "1082324       2020     2020           WV  West Virginia      BRFSS   \n",
      "1082325       2020     2020           WY        Wyoming      BRFSS   \n",
      "1082326       2020     2020           VT        Vermont      BRFSS   \n",
      "1082327       2020     2020           WI      Wisconsin      BRFSS   \n",
      "\n",
      "                                                   Topic  \\\n",
      "0                                                Alcohol   \n",
      "1                                                Alcohol   \n",
      "2                                                Alcohol   \n",
      "3                                 Chronic Kidney Disease   \n",
      "4                                 Chronic Kidney Disease   \n",
      "...                                                  ...   \n",
      "1082323  Nutrition, Physical Activity, and Weight Status   \n",
      "1082324            Chronic Obstructive Pulmonary Disease   \n",
      "1082325            Chronic Obstructive Pulmonary Disease   \n",
      "1082326                           Overarching Conditions   \n",
      "1082327                                         Diabetes   \n",
      "\n",
      "                                                  Question Response  \\\n",
      "0                          Chronic liver disease mortality     None   \n",
      "1                          Chronic liver disease mortality     None   \n",
      "2                          Chronic liver disease mortality     None   \n",
      "3                   Mortality with end-stage renal disease     None   \n",
      "4                   Mortality with end-stage renal disease     None   \n",
      "...                                                    ...      ...   \n",
      "1082323              Obesity among adults aged >= 18 years     None   \n",
      "1082324  Prevalence of current smoking among adults >= ...     None   \n",
      "1082325  Influenza vaccination among noninstitutionaliz...     None   \n",
      "1082326  Self-rated health status among women aged 18-4...     None   \n",
      "1082327  Prevalence of diagnosed diabetes among adults ...     None   \n",
      "\n",
      "        DataValueUnit            DataValueType  ... LocationID  TopicID  \\\n",
      "0                                       Number  ...          2      ALC   \n",
      "1                                       Number  ...          2      ALC   \n",
      "2                                       Number  ...          2      ALC   \n",
      "3                                       Number  ...          2      CKD   \n",
      "4                                       Number  ...          2      CKD   \n",
      "...               ...                      ...  ...        ...      ...   \n",
      "1082323             %         Crude Prevalence  ...         53     NPAW   \n",
      "1082324             %  Age-adjusted Prevalence  ...         54     COPD   \n",
      "1082325             %         Crude Prevalence  ...         56     COPD   \n",
      "1082326             %         Crude Prevalence  ...         50      OVC   \n",
      "1082327             %  Age-adjusted Prevalence  ...         55      DIA   \n",
      "\n",
      "        QuestionID DataValueTypeID  StratificationCategoryID1  \\\n",
      "0           ALC6_0            NMBR                    OVERALL   \n",
      "1           ALC6_0            NMBR                    OVERALL   \n",
      "2           ALC6_0            NMBR                    OVERALL   \n",
      "3           CKD1_0            NMBR                       RACE   \n",
      "4           CKD1_0            NMBR                       RACE   \n",
      "...            ...             ...                        ...   \n",
      "1082323    NPAW1_1         CRDPREV                       RACE   \n",
      "1082324  COPD3_0_1      AGEADJPREV                       RACE   \n",
      "1082325    COPD7_0         CRDPREV                       RACE   \n",
      "1082326     OVC6_2         CRDPREV                       RACE   \n",
      "1082327     DIA2_1      AGEADJPREV                       RACE   \n",
      "\n",
      "         StratificationID1 StratificationCategoryID2 StratificationID2  \\\n",
      "0                      OVR                      None              None   \n",
      "1                      OVR                      None              None   \n",
      "2                      OVR                      None              None   \n",
      "3                      WHT                      None              None   \n",
      "4                      WHT                      None              None   \n",
      "...                    ...                       ...               ...   \n",
      "1082323                BLK                      None              None   \n",
      "1082324                WHT                      None              None   \n",
      "1082325                WHT                      None              None   \n",
      "1082326                OTH                      None              None   \n",
      "1082327                MRC                      None              None   \n",
      "\n",
      "        StratificationCategoryID3 StratificationID3  \n",
      "0                            None              None  \n",
      "1                            None              None  \n",
      "2                            None              None  \n",
      "3                            None              None  \n",
      "4                            None              None  \n",
      "...                           ...               ...  \n",
      "1082323                      None              None  \n",
      "1082324                      None              None  \n",
      "1082325                      None              None  \n",
      "1082326                      None              None  \n",
      "1082327                      None              None  \n",
      "\n",
      "[1082328 rows x 34 columns]>\n"
     ]
    }
   ],
   "source": [
    "print(df.info)"
   ]
  },
  {
   "cell_type": "code",
   "execution_count": 43,
   "id": "eb1d9980",
   "metadata": {},
   "outputs": [
    {
     "name": "stdout",
     "output_type": "stream",
     "text": [
      "YearStart                          0\n",
      "YearEnd                            0\n",
      "LocationAbbr                       0\n",
      "LocationDesc                       0\n",
      "DataSource                         0\n",
      "Topic                              0\n",
      "Question                           0\n",
      "Response                     1082328\n",
      "DataValueUnit                      0\n",
      "DataValueType                      0\n",
      "DataValue                          0\n",
      "DataValueAlt                  355136\n",
      "DataValueFootnoteSymbol            0\n",
      "DatavalueFootnote                  0\n",
      "LowConfidenceLimit            465077\n",
      "HighConfidenceLimit           465077\n",
      "StratificationCategory1            0\n",
      "Stratification1                    0\n",
      "StratificationCategory2      1082328\n",
      "Stratification2              1082328\n",
      "StratificationCategory3      1082328\n",
      "Stratification3              1082328\n",
      "GeoLocation                        0\n",
      "ResponseID                   1082328\n",
      "LocationID                         0\n",
      "TopicID                            0\n",
      "QuestionID                         0\n",
      "DataValueTypeID                    0\n",
      "StratificationCategoryID1          0\n",
      "StratificationID1                  0\n",
      "StratificationCategoryID2    1082328\n",
      "StratificationID2            1082328\n",
      "StratificationCategoryID3    1082328\n",
      "StratificationID3            1082328\n",
      "dtype: int64\n"
     ]
    }
   ],
   "source": [
    "print(df.isna().sum())"
   ]
  },
  {
   "cell_type": "code",
   "execution_count": 44,
   "id": "b1a4e7dc",
   "metadata": {},
   "outputs": [
    {
     "name": "stdout",
     "output_type": "stream",
     "text": [
      "(1082328, 34)\n"
     ]
    }
   ],
   "source": [
    "print(df.shape)"
   ]
  },
  {
   "cell_type": "code",
   "execution_count": 45,
   "id": "60d29116",
   "metadata": {
    "scrolled": true
   },
   "outputs": [
    {
     "name": "stdout",
     "output_type": "stream",
     "text": [
      "Index(['YearStart', 'YearEnd', 'LocationAbbr', 'LocationDesc', 'DataSource',\n",
      "       'Topic', 'Question', 'Response', 'DataValueUnit', 'DataValueType',\n",
      "       'DataValue', 'DataValueAlt', 'DataValueFootnoteSymbol',\n",
      "       'DatavalueFootnote', 'LowConfidenceLimit', 'HighConfidenceLimit',\n",
      "       'StratificationCategory1', 'Stratification1', 'StratificationCategory2',\n",
      "       'Stratification2', 'StratificationCategory3', 'Stratification3',\n",
      "       'GeoLocation', 'ResponseID', 'LocationID', 'TopicID', 'QuestionID',\n",
      "       'DataValueTypeID', 'StratificationCategoryID1', 'StratificationID1',\n",
      "       'StratificationCategoryID2', 'StratificationID2',\n",
      "       'StratificationCategoryID3', 'StratificationID3'],\n",
      "      dtype='object')\n"
     ]
    }
   ],
   "source": [
    "print(df.columns)"
   ]
  },
  {
   "cell_type": "code",
   "execution_count": 46,
   "id": "66c19aa6",
   "metadata": {},
   "outputs": [
    {
     "name": "stdout",
     "output_type": "stream",
     "text": [
      "             YearEnd DataValue\n",
      "count   1.082328e+06   1082328\n",
      "unique           NaN     42288\n",
      "top              NaN          \n",
      "freq             NaN    353093\n",
      "mean    2.015196e+03       NaN\n",
      "std     2.738999e+00       NaN\n",
      "min     2.001000e+03       NaN\n",
      "25%     2.013000e+03       NaN\n",
      "50%     2.015000e+03       NaN\n",
      "75%     2.017000e+03       NaN\n",
      "max     2.021000e+03       NaN\n"
     ]
    }
   ],
   "source": [
    "print(df[['YearEnd','DataValue']].describe(include=\"all\"))"
   ]
  },
  {
   "cell_type": "code",
   "execution_count": 47,
   "id": "2e1149cc",
   "metadata": {},
   "outputs": [
    {
     "name": "stdout",
     "output_type": "stream",
     "text": [
      "           YearStart       YearEnd LocationAbbr LocationDesc DataSource  \\\n",
      "count   1.082328e+06  1.082328e+06      1082328      1082328    1082328   \n",
      "unique           NaN           NaN           55           55         31   \n",
      "top              NaN           NaN           NY     New York      BRFSS   \n",
      "freq             NaN           NaN        20608        20608     597950   \n",
      "mean    2.014678e+03  2.015196e+03          NaN          NaN        NaN   \n",
      "std     3.082694e+00  2.738999e+00          NaN          NaN        NaN   \n",
      "min     2.001000e+03  2.001000e+03          NaN          NaN        NaN   \n",
      "25%     2.012000e+03  2.013000e+03          NaN          NaN        NaN   \n",
      "50%     2.015000e+03  2.015000e+03          NaN          NaN        NaN   \n",
      "75%     2.017000e+03  2.017000e+03          NaN          NaN        NaN   \n",
      "max     2.021000e+03  2.021000e+03          NaN          NaN        NaN   \n",
      "\n",
      "          Topic                                           Question Response  \\\n",
      "count   1082328                                            1082328        0   \n",
      "unique       17                                                203        0   \n",
      "top      Cancer  Hospitalization for hip fracture among Medicar...      NaN   \n",
      "freq     156371                                              12480      NaN   \n",
      "mean        NaN                                                NaN      NaN   \n",
      "std         NaN                                                NaN      NaN   \n",
      "min         NaN                                                NaN      NaN   \n",
      "25%         NaN                                                NaN      NaN   \n",
      "50%         NaN                                                NaN      NaN   \n",
      "75%         NaN                                                NaN      NaN   \n",
      "max         NaN                                                NaN      NaN   \n",
      "\n",
      "       DataValueUnit     DataValueType  ...    LocationID  TopicID QuestionID  \\\n",
      "count        1082328           1082328  ...  1.082328e+06  1082328    1082328   \n",
      "unique            13                19  ...           NaN       17        203   \n",
      "top                %  Crude Prevalence  ...           NaN      CAN     OLD1_0   \n",
      "freq          599411            339878  ...           NaN   156371      12480   \n",
      "mean             NaN               NaN  ...  3.080346e+01      NaN        NaN   \n",
      "std              NaN               NaN  ...  1.752053e+01      NaN        NaN   \n",
      "min              NaN               NaN  ...  1.000000e+00      NaN        NaN   \n",
      "25%              NaN               NaN  ...  1.700000e+01      NaN        NaN   \n",
      "50%              NaN               NaN  ...  3.000000e+01      NaN        NaN   \n",
      "75%              NaN               NaN  ...  4.500000e+01      NaN        NaN   \n",
      "max              NaN               NaN  ...  7.800000e+01      NaN        NaN   \n",
      "\n",
      "       DataValueTypeID  StratificationCategoryID1  StratificationID1  \\\n",
      "count          1082328                    1082328            1082328   \n",
      "unique              19                          3                 13   \n",
      "top            CRDPREV                       RACE                OVR   \n",
      "freq            339878                     673808             152290   \n",
      "mean               NaN                        NaN                NaN   \n",
      "std                NaN                        NaN                NaN   \n",
      "min                NaN                        NaN                NaN   \n",
      "25%                NaN                        NaN                NaN   \n",
      "50%                NaN                        NaN                NaN   \n",
      "75%                NaN                        NaN                NaN   \n",
      "max                NaN                        NaN                NaN   \n",
      "\n",
      "       StratificationCategoryID2 StratificationID2 StratificationCategoryID3  \\\n",
      "count                          0                 0                         0   \n",
      "unique                         0                 0                         0   \n",
      "top                          NaN               NaN                       NaN   \n",
      "freq                         NaN               NaN                       NaN   \n",
      "mean                         NaN               NaN                       NaN   \n",
      "std                          NaN               NaN                       NaN   \n",
      "min                          NaN               NaN                       NaN   \n",
      "25%                          NaN               NaN                       NaN   \n",
      "50%                          NaN               NaN                       NaN   \n",
      "75%                          NaN               NaN                       NaN   \n",
      "max                          NaN               NaN                       NaN   \n",
      "\n",
      "       StratificationID3  \n",
      "count                  0  \n",
      "unique                 0  \n",
      "top                  NaN  \n",
      "freq                 NaN  \n",
      "mean                 NaN  \n",
      "std                  NaN  \n",
      "min                  NaN  \n",
      "25%                  NaN  \n",
      "50%                  NaN  \n",
      "75%                  NaN  \n",
      "max                  NaN  \n",
      "\n",
      "[11 rows x 34 columns]\n"
     ]
    }
   ],
   "source": [
    "print(df.describe(include='all'))"
   ]
  },
  {
   "cell_type": "markdown",
   "source": [
    "Drop the null data, first the empty columns."
   ],
   "metadata": {
    "collapsed": false
   }
  },
  {
   "cell_type": "code",
   "execution_count": 48,
   "outputs": [],
   "source": [
    "df = df.drop(columns=['Response', 'StratificationCategory2', 'Stratification2', 'StratificationCategory3', 'Stratification3', 'ResponseID', 'StratificationCategoryID2', 'StratificationID2', 'StratificationCategoryID3','StratificationID3'])"
   ],
   "metadata": {
    "collapsed": false
   }
  },
  {
   "cell_type": "code",
   "execution_count": 49,
   "outputs": [
    {
     "name": "stdout",
     "output_type": "stream",
     "text": [
      "(1082328, 24)\n"
     ]
    }
   ],
   "source": [
    "print(df.shape)"
   ],
   "metadata": {
    "collapsed": false
   }
  },
  {
   "cell_type": "code",
   "execution_count": 53,
   "outputs": [
    {
     "data": {
      "text/plain": "         YearStart  YearEnd LocationAbbr   LocationDesc DataSource  \\\n0             2010     2010           AK         Alaska       NVSS   \n1             2017     2017           AK         Alaska       NVSS   \n2             2018     2018           AK         Alaska       NVSS   \n3             2011     2011           AK         Alaska       NVSS   \n4             2012     2012           AK         Alaska       NVSS   \n...            ...      ...          ...            ...        ...   \n1082323       2020     2020           WA     Washington      BRFSS   \n1082324       2020     2020           WV  West Virginia      BRFSS   \n1082325       2020     2020           WY        Wyoming      BRFSS   \n1082326       2020     2020           VT        Vermont      BRFSS   \n1082327       2020     2020           WI      Wisconsin      BRFSS   \n\n                                                   Topic  \\\n0                                                Alcohol   \n1                                                Alcohol   \n2                                                Alcohol   \n3                                 Chronic Kidney Disease   \n4                                 Chronic Kidney Disease   \n...                                                  ...   \n1082323  Nutrition, Physical Activity, and Weight Status   \n1082324            Chronic Obstructive Pulmonary Disease   \n1082325            Chronic Obstructive Pulmonary Disease   \n1082326                           Overarching Conditions   \n1082327                                         Diabetes   \n\n                                                  Question DataValueUnit  \\\n0                          Chronic liver disease mortality                 \n1                          Chronic liver disease mortality                 \n2                          Chronic liver disease mortality                 \n3                   Mortality with end-stage renal disease                 \n4                   Mortality with end-stage renal disease                 \n...                                                    ...           ...   \n1082323              Obesity among adults aged >= 18 years             %   \n1082324  Prevalence of current smoking among adults >= ...             %   \n1082325  Influenza vaccination among noninstitutionaliz...             %   \n1082326  Self-rated health status among women aged 18-4...             %   \n1082327  Prevalence of diagnosed diabetes among adults ...             %   \n\n                   DataValueType DataValue  ...  StratificationCategory1  \\\n0                         Number        70  ...                  Overall   \n1                         Number       121  ...                  Overall   \n2                         Number       121  ...                  Overall   \n3                         Number       221  ...           Race/Ethnicity   \n4                         Number       234  ...           Race/Ethnicity   \n...                          ...       ...  ...                      ...   \n1082323         Crude Prevalence      37.2  ...           Race/Ethnicity   \n1082324  Age-adjusted Prevalence      47.6  ...           Race/Ethnicity   \n1082325         Crude Prevalence      58.2  ...           Race/Ethnicity   \n1082326         Crude Prevalence      90.5  ...           Race/Ethnicity   \n1082327  Age-adjusted Prevalence            ...           Race/Ethnicity   \n\n                   Stratification1  \\\n0                          Overall   \n1                          Overall   \n2                          Overall   \n3              White, non-Hispanic   \n4              White, non-Hispanic   \n...                            ...   \n1082323        Black, non-Hispanic   \n1082324        White, non-Hispanic   \n1082325        White, non-Hispanic   \n1082326        Other, non-Hispanic   \n1082327  Multiracial, non-Hispanic   \n\n                                           GeoLocation  LocationID  TopicID  \\\n0        POINT (-147.72205903599973 64.84507995700051)           2      ALC   \n1        POINT (-147.72205903599973 64.84507995700051)           2      ALC   \n2        POINT (-147.72205903599973 64.84507995700051)           2      ALC   \n3        POINT (-147.72205903599973 64.84507995700051)           2      CKD   \n4        POINT (-147.72205903599973 64.84507995700051)           2      CKD   \n...                                                ...         ...      ...   \n1082323  POINT (-120.47001078999972 47.52227862900048)          53     NPAW   \n1082324   POINT (-80.71264013499967 38.66551020200046)          54     COPD   \n1082325  POINT (-108.10983035299967 43.23554134300048)          56     COPD   \n1082326   POINT (-72.51764079099962 43.62538123900049)          50      OVC   \n1082327   POINT (-89.81637074199966 44.39319117400049)          55      DIA   \n\n        QuestionID DataValueTypeID StratificationCategoryID1  \\\n0           ALC6_0            NMBR                   OVERALL   \n1           ALC6_0            NMBR                   OVERALL   \n2           ALC6_0            NMBR                   OVERALL   \n3           CKD1_0            NMBR                      RACE   \n4           CKD1_0            NMBR                      RACE   \n...            ...             ...                       ...   \n1082323    NPAW1_1         CRDPREV                      RACE   \n1082324  COPD3_0_1      AGEADJPREV                      RACE   \n1082325    COPD7_0         CRDPREV                      RACE   \n1082326     OVC6_2         CRDPREV                      RACE   \n1082327     DIA2_1      AGEADJPREV                      RACE   \n\n         StratificationID1 diff_year  \n0                      OVR       nan  \n1                      OVR       nan  \n2                      OVR       nan  \n3                      WHT       nan  \n4                      WHT       nan  \n...                    ...       ...  \n1082323                BLK       nan  \n1082324                WHT       nan  \n1082325                WHT       nan  \n1082326                OTH       nan  \n1082327                MRC       nan  \n\n[1082328 rows x 25 columns]",
      "text/html": "<div>\n<style scoped>\n    .dataframe tbody tr th:only-of-type {\n        vertical-align: middle;\n    }\n\n    .dataframe tbody tr th {\n        vertical-align: top;\n    }\n\n    .dataframe thead th {\n        text-align: right;\n    }\n</style>\n<table border=\"1\" class=\"dataframe\">\n  <thead>\n    <tr style=\"text-align: right;\">\n      <th></th>\n      <th>YearStart</th>\n      <th>YearEnd</th>\n      <th>LocationAbbr</th>\n      <th>LocationDesc</th>\n      <th>DataSource</th>\n      <th>Topic</th>\n      <th>Question</th>\n      <th>DataValueUnit</th>\n      <th>DataValueType</th>\n      <th>DataValue</th>\n      <th>...</th>\n      <th>StratificationCategory1</th>\n      <th>Stratification1</th>\n      <th>GeoLocation</th>\n      <th>LocationID</th>\n      <th>TopicID</th>\n      <th>QuestionID</th>\n      <th>DataValueTypeID</th>\n      <th>StratificationCategoryID1</th>\n      <th>StratificationID1</th>\n      <th>diff_year</th>\n    </tr>\n  </thead>\n  <tbody>\n    <tr>\n      <th>0</th>\n      <td>2010</td>\n      <td>2010</td>\n      <td>AK</td>\n      <td>Alaska</td>\n      <td>NVSS</td>\n      <td>Alcohol</td>\n      <td>Chronic liver disease mortality</td>\n      <td></td>\n      <td>Number</td>\n      <td>70</td>\n      <td>...</td>\n      <td>Overall</td>\n      <td>Overall</td>\n      <td>POINT (-147.72205903599973 64.84507995700051)</td>\n      <td>2</td>\n      <td>ALC</td>\n      <td>ALC6_0</td>\n      <td>NMBR</td>\n      <td>OVERALL</td>\n      <td>OVR</td>\n      <td>nan</td>\n    </tr>\n    <tr>\n      <th>1</th>\n      <td>2017</td>\n      <td>2017</td>\n      <td>AK</td>\n      <td>Alaska</td>\n      <td>NVSS</td>\n      <td>Alcohol</td>\n      <td>Chronic liver disease mortality</td>\n      <td></td>\n      <td>Number</td>\n      <td>121</td>\n      <td>...</td>\n      <td>Overall</td>\n      <td>Overall</td>\n      <td>POINT (-147.72205903599973 64.84507995700051)</td>\n      <td>2</td>\n      <td>ALC</td>\n      <td>ALC6_0</td>\n      <td>NMBR</td>\n      <td>OVERALL</td>\n      <td>OVR</td>\n      <td>nan</td>\n    </tr>\n    <tr>\n      <th>2</th>\n      <td>2018</td>\n      <td>2018</td>\n      <td>AK</td>\n      <td>Alaska</td>\n      <td>NVSS</td>\n      <td>Alcohol</td>\n      <td>Chronic liver disease mortality</td>\n      <td></td>\n      <td>Number</td>\n      <td>121</td>\n      <td>...</td>\n      <td>Overall</td>\n      <td>Overall</td>\n      <td>POINT (-147.72205903599973 64.84507995700051)</td>\n      <td>2</td>\n      <td>ALC</td>\n      <td>ALC6_0</td>\n      <td>NMBR</td>\n      <td>OVERALL</td>\n      <td>OVR</td>\n      <td>nan</td>\n    </tr>\n    <tr>\n      <th>3</th>\n      <td>2011</td>\n      <td>2011</td>\n      <td>AK</td>\n      <td>Alaska</td>\n      <td>NVSS</td>\n      <td>Chronic Kidney Disease</td>\n      <td>Mortality with end-stage renal disease</td>\n      <td></td>\n      <td>Number</td>\n      <td>221</td>\n      <td>...</td>\n      <td>Race/Ethnicity</td>\n      <td>White, non-Hispanic</td>\n      <td>POINT (-147.72205903599973 64.84507995700051)</td>\n      <td>2</td>\n      <td>CKD</td>\n      <td>CKD1_0</td>\n      <td>NMBR</td>\n      <td>RACE</td>\n      <td>WHT</td>\n      <td>nan</td>\n    </tr>\n    <tr>\n      <th>4</th>\n      <td>2012</td>\n      <td>2012</td>\n      <td>AK</td>\n      <td>Alaska</td>\n      <td>NVSS</td>\n      <td>Chronic Kidney Disease</td>\n      <td>Mortality with end-stage renal disease</td>\n      <td></td>\n      <td>Number</td>\n      <td>234</td>\n      <td>...</td>\n      <td>Race/Ethnicity</td>\n      <td>White, non-Hispanic</td>\n      <td>POINT (-147.72205903599973 64.84507995700051)</td>\n      <td>2</td>\n      <td>CKD</td>\n      <td>CKD1_0</td>\n      <td>NMBR</td>\n      <td>RACE</td>\n      <td>WHT</td>\n      <td>nan</td>\n    </tr>\n    <tr>\n      <th>...</th>\n      <td>...</td>\n      <td>...</td>\n      <td>...</td>\n      <td>...</td>\n      <td>...</td>\n      <td>...</td>\n      <td>...</td>\n      <td>...</td>\n      <td>...</td>\n      <td>...</td>\n      <td>...</td>\n      <td>...</td>\n      <td>...</td>\n      <td>...</td>\n      <td>...</td>\n      <td>...</td>\n      <td>...</td>\n      <td>...</td>\n      <td>...</td>\n      <td>...</td>\n      <td>...</td>\n    </tr>\n    <tr>\n      <th>1082323</th>\n      <td>2020</td>\n      <td>2020</td>\n      <td>WA</td>\n      <td>Washington</td>\n      <td>BRFSS</td>\n      <td>Nutrition, Physical Activity, and Weight Status</td>\n      <td>Obesity among adults aged &gt;= 18 years</td>\n      <td>%</td>\n      <td>Crude Prevalence</td>\n      <td>37.2</td>\n      <td>...</td>\n      <td>Race/Ethnicity</td>\n      <td>Black, non-Hispanic</td>\n      <td>POINT (-120.47001078999972 47.52227862900048)</td>\n      <td>53</td>\n      <td>NPAW</td>\n      <td>NPAW1_1</td>\n      <td>CRDPREV</td>\n      <td>RACE</td>\n      <td>BLK</td>\n      <td>nan</td>\n    </tr>\n    <tr>\n      <th>1082324</th>\n      <td>2020</td>\n      <td>2020</td>\n      <td>WV</td>\n      <td>West Virginia</td>\n      <td>BRFSS</td>\n      <td>Chronic Obstructive Pulmonary Disease</td>\n      <td>Prevalence of current smoking among adults &gt;= ...</td>\n      <td>%</td>\n      <td>Age-adjusted Prevalence</td>\n      <td>47.6</td>\n      <td>...</td>\n      <td>Race/Ethnicity</td>\n      <td>White, non-Hispanic</td>\n      <td>POINT (-80.71264013499967 38.66551020200046)</td>\n      <td>54</td>\n      <td>COPD</td>\n      <td>COPD3_0_1</td>\n      <td>AGEADJPREV</td>\n      <td>RACE</td>\n      <td>WHT</td>\n      <td>nan</td>\n    </tr>\n    <tr>\n      <th>1082325</th>\n      <td>2020</td>\n      <td>2020</td>\n      <td>WY</td>\n      <td>Wyoming</td>\n      <td>BRFSS</td>\n      <td>Chronic Obstructive Pulmonary Disease</td>\n      <td>Influenza vaccination among noninstitutionaliz...</td>\n      <td>%</td>\n      <td>Crude Prevalence</td>\n      <td>58.2</td>\n      <td>...</td>\n      <td>Race/Ethnicity</td>\n      <td>White, non-Hispanic</td>\n      <td>POINT (-108.10983035299967 43.23554134300048)</td>\n      <td>56</td>\n      <td>COPD</td>\n      <td>COPD7_0</td>\n      <td>CRDPREV</td>\n      <td>RACE</td>\n      <td>WHT</td>\n      <td>nan</td>\n    </tr>\n    <tr>\n      <th>1082326</th>\n      <td>2020</td>\n      <td>2020</td>\n      <td>VT</td>\n      <td>Vermont</td>\n      <td>BRFSS</td>\n      <td>Overarching Conditions</td>\n      <td>Self-rated health status among women aged 18-4...</td>\n      <td>%</td>\n      <td>Crude Prevalence</td>\n      <td>90.5</td>\n      <td>...</td>\n      <td>Race/Ethnicity</td>\n      <td>Other, non-Hispanic</td>\n      <td>POINT (-72.51764079099962 43.62538123900049)</td>\n      <td>50</td>\n      <td>OVC</td>\n      <td>OVC6_2</td>\n      <td>CRDPREV</td>\n      <td>RACE</td>\n      <td>OTH</td>\n      <td>nan</td>\n    </tr>\n    <tr>\n      <th>1082327</th>\n      <td>2020</td>\n      <td>2020</td>\n      <td>WI</td>\n      <td>Wisconsin</td>\n      <td>BRFSS</td>\n      <td>Diabetes</td>\n      <td>Prevalence of diagnosed diabetes among adults ...</td>\n      <td>%</td>\n      <td>Age-adjusted Prevalence</td>\n      <td></td>\n      <td>...</td>\n      <td>Race/Ethnicity</td>\n      <td>Multiracial, non-Hispanic</td>\n      <td>POINT (-89.81637074199966 44.39319117400049)</td>\n      <td>55</td>\n      <td>DIA</td>\n      <td>DIA2_1</td>\n      <td>AGEADJPREV</td>\n      <td>RACE</td>\n      <td>MRC</td>\n      <td>nan</td>\n    </tr>\n  </tbody>\n</table>\n<p>1082328 rows × 25 columns</p>\n</div>"
     },
     "execution_count": 53,
     "metadata": {},
     "output_type": "execute_result"
    }
   ],
   "source": [
    "df"
   ],
   "metadata": {
    "collapsed": false
   }
  },
  {
   "cell_type": "markdown",
   "source": [
    "Exploring data per period"
   ],
   "metadata": {
    "collapsed": false
   }
  },
  {
   "cell_type": "code",
   "execution_count": 54,
   "outputs": [
    {
     "data": {
      "text/plain": "(140986, 25)"
     },
     "execution_count": 54,
     "metadata": {},
     "output_type": "execute_result"
    }
   ],
   "source": [
    "df['diff_year'] = np.where((df['YearStart'] != df['YearEnd']),'Period',np.nan)\n",
    "df_per_period = df[df['diff_year'].str.contains('Period')]\n",
    "df_per_period.shape"
   ],
   "metadata": {
    "collapsed": false
   }
  },
  {
   "cell_type": "code",
   "execution_count": 56,
   "outputs": [
    {
     "data": {
      "text/plain": "YearStart                        0\nYearEnd                          0\nLocationAbbr                     0\nLocationDesc                     0\nDataSource                       0\nTopic                            0\nQuestion                         0\nDataValueUnit                    0\nDataValueType                    0\nDataValue                        0\nDataValueAlt                 37805\nDataValueFootnoteSymbol          0\nDatavalueFootnote                0\nLowConfidenceLimit           71856\nHighConfidenceLimit          71856\nStratificationCategory1          0\nStratification1                  0\nGeoLocation                      0\nLocationID                       0\nTopicID                          0\nQuestionID                       0\nDataValueTypeID                  0\nStratificationCategoryID1        0\nStratificationID1                0\ndiff_year                        0\ndtype: int64"
     },
     "execution_count": 56,
     "metadata": {},
     "output_type": "execute_result"
    }
   ],
   "source": [
    "df_per_period.isna().sum()"
   ],
   "metadata": {
    "collapsed": false
   }
  },
  {
   "cell_type": "code",
   "execution_count": 55,
   "outputs": [
    {
     "data": {
      "text/plain": "0"
     },
     "execution_count": 55,
     "metadata": {},
     "output_type": "execute_result"
    }
   ],
   "source": [
    "df_per_period.duplicated().sum()"
   ],
   "metadata": {
    "collapsed": false
   }
  },
  {
   "cell_type": "code",
   "execution_count": 58,
   "outputs": [],
   "source": [
    "df_per_period.to_csv('dataperiod.csv')"
   ],
   "metadata": {
    "collapsed": false
   }
  },
  {
   "cell_type": "code",
   "execution_count": null,
   "outputs": [],
   "source": [],
   "metadata": {
    "collapsed": false,
    "pycharm": {
     "is_executing": true
    }
   }
  },
  {
   "cell_type": "code",
   "execution_count": 58,
   "outputs": [],
   "source": [],
   "metadata": {
    "collapsed": false
   }
  }
 ],
 "metadata": {
  "kernelspec": {
   "display_name": "Python 3 (ipykernel)",
   "language": "python",
   "name": "python3"
  },
  "language_info": {
   "codemirror_mode": {
    "name": "ipython",
    "version": 3
   },
   "file_extension": ".py",
   "mimetype": "text/x-python",
   "name": "python",
   "nbconvert_exporter": "python",
   "pygments_lexer": "ipython3",
   "version": "3.9.5"
  }
 },
 "nbformat": 4,
 "nbformat_minor": 5
}
