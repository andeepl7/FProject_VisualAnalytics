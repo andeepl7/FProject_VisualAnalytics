{
 "cells": [
  {
   "cell_type": "markdown",
   "source": [
    "1. Loading the parquet file for analysis."
   ],
   "metadata": {
    "collapsed": false
   }
  },
  {
   "cell_type": "code",
   "execution_count": 48,
   "id": "ba58b5ad",
   "metadata": {},
   "outputs": [
    {
     "name": "stdout",
     "output_type": "stream",
     "text": [
      "   YearStart  YearEnd LocationAbbr LocationDesc DataSource  \\\n",
      "0       2010     2010           AK       Alaska       NVSS   \n",
      "1       2017     2017           AK       Alaska       NVSS   \n",
      "2       2018     2018           AK       Alaska       NVSS   \n",
      "3       2011     2011           AK       Alaska       NVSS   \n",
      "4       2012     2012           AK       Alaska       NVSS   \n",
      "\n",
      "                    Topic                                Question Response  \\\n",
      "0                 Alcohol         Chronic liver disease mortality     None   \n",
      "1                 Alcohol         Chronic liver disease mortality     None   \n",
      "2                 Alcohol         Chronic liver disease mortality     None   \n",
      "3  Chronic Kidney Disease  Mortality with end-stage renal disease     None   \n",
      "4  Chronic Kidney Disease  Mortality with end-stage renal disease     None   \n",
      "\n",
      "  DataValueUnit DataValueType  ... LocationID  TopicID QuestionID  \\\n",
      "0                      Number  ...          2      ALC     ALC6_0   \n",
      "1                      Number  ...          2      ALC     ALC6_0   \n",
      "2                      Number  ...          2      ALC     ALC6_0   \n",
      "3                      Number  ...          2      CKD     CKD1_0   \n",
      "4                      Number  ...          2      CKD     CKD1_0   \n",
      "\n",
      "  DataValueTypeID  StratificationCategoryID1  StratificationID1  \\\n",
      "0            NMBR                    OVERALL                OVR   \n",
      "1            NMBR                    OVERALL                OVR   \n",
      "2            NMBR                    OVERALL                OVR   \n",
      "3            NMBR                       RACE                WHT   \n",
      "4            NMBR                       RACE                WHT   \n",
      "\n",
      "  StratificationCategoryID2 StratificationID2 StratificationCategoryID3  \\\n",
      "0                      None              None                      None   \n",
      "1                      None              None                      None   \n",
      "2                      None              None                      None   \n",
      "3                      None              None                      None   \n",
      "4                      None              None                      None   \n",
      "\n",
      "  StratificationID3  \n",
      "0              None  \n",
      "1              None  \n",
      "2              None  \n",
      "3              None  \n",
      "4              None  \n",
      "\n",
      "[5 rows x 34 columns]\n"
     ]
    }
   ],
   "source": [
    "import pandas as pd\n",
    "import numpy as np\n",
    "\n",
    "df = pd.read_parquet('cdi.parquet')\n",
    "\n",
    "print(df.head())"
   ]
  },
  {
   "cell_type": "code",
   "execution_count": 49,
   "id": "81675ef9",
   "metadata": {},
   "outputs": [
    {
     "name": "stdout",
     "output_type": "stream",
     "text": [
      "<bound method DataFrame.info of          YearStart  YearEnd LocationAbbr   LocationDesc DataSource  \\\n",
      "0             2010     2010           AK         Alaska       NVSS   \n",
      "1             2017     2017           AK         Alaska       NVSS   \n",
      "2             2018     2018           AK         Alaska       NVSS   \n",
      "3             2011     2011           AK         Alaska       NVSS   \n",
      "4             2012     2012           AK         Alaska       NVSS   \n",
      "...            ...      ...          ...            ...        ...   \n",
      "1082323       2020     2020           WA     Washington      BRFSS   \n",
      "1082324       2020     2020           WV  West Virginia      BRFSS   \n",
      "1082325       2020     2020           WY        Wyoming      BRFSS   \n",
      "1082326       2020     2020           VT        Vermont      BRFSS   \n",
      "1082327       2020     2020           WI      Wisconsin      BRFSS   \n",
      "\n",
      "                                                   Topic  \\\n",
      "0                                                Alcohol   \n",
      "1                                                Alcohol   \n",
      "2                                                Alcohol   \n",
      "3                                 Chronic Kidney Disease   \n",
      "4                                 Chronic Kidney Disease   \n",
      "...                                                  ...   \n",
      "1082323  Nutrition, Physical Activity, and Weight Status   \n",
      "1082324            Chronic Obstructive Pulmonary Disease   \n",
      "1082325            Chronic Obstructive Pulmonary Disease   \n",
      "1082326                           Overarching Conditions   \n",
      "1082327                                         Diabetes   \n",
      "\n",
      "                                                  Question Response  \\\n",
      "0                          Chronic liver disease mortality     None   \n",
      "1                          Chronic liver disease mortality     None   \n",
      "2                          Chronic liver disease mortality     None   \n",
      "3                   Mortality with end-stage renal disease     None   \n",
      "4                   Mortality with end-stage renal disease     None   \n",
      "...                                                    ...      ...   \n",
      "1082323              Obesity among adults aged >= 18 years     None   \n",
      "1082324  Prevalence of current smoking among adults >= ...     None   \n",
      "1082325  Influenza vaccination among noninstitutionaliz...     None   \n",
      "1082326  Self-rated health status among women aged 18-4...     None   \n",
      "1082327  Prevalence of diagnosed diabetes among adults ...     None   \n",
      "\n",
      "        DataValueUnit            DataValueType  ... LocationID  TopicID  \\\n",
      "0                                       Number  ...          2      ALC   \n",
      "1                                       Number  ...          2      ALC   \n",
      "2                                       Number  ...          2      ALC   \n",
      "3                                       Number  ...          2      CKD   \n",
      "4                                       Number  ...          2      CKD   \n",
      "...               ...                      ...  ...        ...      ...   \n",
      "1082323             %         Crude Prevalence  ...         53     NPAW   \n",
      "1082324             %  Age-adjusted Prevalence  ...         54     COPD   \n",
      "1082325             %         Crude Prevalence  ...         56     COPD   \n",
      "1082326             %         Crude Prevalence  ...         50      OVC   \n",
      "1082327             %  Age-adjusted Prevalence  ...         55      DIA   \n",
      "\n",
      "        QuestionID DataValueTypeID  StratificationCategoryID1  \\\n",
      "0           ALC6_0            NMBR                    OVERALL   \n",
      "1           ALC6_0            NMBR                    OVERALL   \n",
      "2           ALC6_0            NMBR                    OVERALL   \n",
      "3           CKD1_0            NMBR                       RACE   \n",
      "4           CKD1_0            NMBR                       RACE   \n",
      "...            ...             ...                        ...   \n",
      "1082323    NPAW1_1         CRDPREV                       RACE   \n",
      "1082324  COPD3_0_1      AGEADJPREV                       RACE   \n",
      "1082325    COPD7_0         CRDPREV                       RACE   \n",
      "1082326     OVC6_2         CRDPREV                       RACE   \n",
      "1082327     DIA2_1      AGEADJPREV                       RACE   \n",
      "\n",
      "         StratificationID1 StratificationCategoryID2 StratificationID2  \\\n",
      "0                      OVR                      None              None   \n",
      "1                      OVR                      None              None   \n",
      "2                      OVR                      None              None   \n",
      "3                      WHT                      None              None   \n",
      "4                      WHT                      None              None   \n",
      "...                    ...                       ...               ...   \n",
      "1082323                BLK                      None              None   \n",
      "1082324                WHT                      None              None   \n",
      "1082325                WHT                      None              None   \n",
      "1082326                OTH                      None              None   \n",
      "1082327                MRC                      None              None   \n",
      "\n",
      "        StratificationCategoryID3 StratificationID3  \n",
      "0                            None              None  \n",
      "1                            None              None  \n",
      "2                            None              None  \n",
      "3                            None              None  \n",
      "4                            None              None  \n",
      "...                           ...               ...  \n",
      "1082323                      None              None  \n",
      "1082324                      None              None  \n",
      "1082325                      None              None  \n",
      "1082326                      None              None  \n",
      "1082327                      None              None  \n",
      "\n",
      "[1082328 rows x 34 columns]>\n"
     ]
    }
   ],
   "source": [
    "print(df.info)"
   ]
  },
  {
   "cell_type": "code",
   "execution_count": 50,
   "id": "eb1d9980",
   "metadata": {},
   "outputs": [
    {
     "name": "stdout",
     "output_type": "stream",
     "text": [
      "YearStart                          0\n",
      "YearEnd                            0\n",
      "LocationAbbr                       0\n",
      "LocationDesc                       0\n",
      "DataSource                         0\n",
      "Topic                              0\n",
      "Question                           0\n",
      "Response                     1082328\n",
      "DataValueUnit                      0\n",
      "DataValueType                      0\n",
      "DataValue                          0\n",
      "DataValueAlt                  355136\n",
      "DataValueFootnoteSymbol            0\n",
      "DatavalueFootnote                  0\n",
      "LowConfidenceLimit            465077\n",
      "HighConfidenceLimit           465077\n",
      "StratificationCategory1            0\n",
      "Stratification1                    0\n",
      "StratificationCategory2      1082328\n",
      "Stratification2              1082328\n",
      "StratificationCategory3      1082328\n",
      "Stratification3              1082328\n",
      "GeoLocation                        0\n",
      "ResponseID                   1082328\n",
      "LocationID                         0\n",
      "TopicID                            0\n",
      "QuestionID                         0\n",
      "DataValueTypeID                    0\n",
      "StratificationCategoryID1          0\n",
      "StratificationID1                  0\n",
      "StratificationCategoryID2    1082328\n",
      "StratificationID2            1082328\n",
      "StratificationCategoryID3    1082328\n",
      "StratificationID3            1082328\n",
      "dtype: int64\n"
     ]
    }
   ],
   "source": [
    "print(df.isna().sum())"
   ]
  },
  {
   "cell_type": "code",
   "execution_count": 51,
   "id": "b1a4e7dc",
   "metadata": {},
   "outputs": [
    {
     "name": "stdout",
     "output_type": "stream",
     "text": [
      "(1082328, 34)\n"
     ]
    }
   ],
   "source": [
    "print(df.shape)"
   ]
  },
  {
   "cell_type": "code",
   "execution_count": 52,
   "id": "60d29116",
   "metadata": {
    "scrolled": true
   },
   "outputs": [
    {
     "name": "stdout",
     "output_type": "stream",
     "text": [
      "Index(['YearStart', 'YearEnd', 'LocationAbbr', 'LocationDesc', 'DataSource',\n",
      "       'Topic', 'Question', 'Response', 'DataValueUnit', 'DataValueType',\n",
      "       'DataValue', 'DataValueAlt', 'DataValueFootnoteSymbol',\n",
      "       'DatavalueFootnote', 'LowConfidenceLimit', 'HighConfidenceLimit',\n",
      "       'StratificationCategory1', 'Stratification1', 'StratificationCategory2',\n",
      "       'Stratification2', 'StratificationCategory3', 'Stratification3',\n",
      "       'GeoLocation', 'ResponseID', 'LocationID', 'TopicID', 'QuestionID',\n",
      "       'DataValueTypeID', 'StratificationCategoryID1', 'StratificationID1',\n",
      "       'StratificationCategoryID2', 'StratificationID2',\n",
      "       'StratificationCategoryID3', 'StratificationID3'],\n",
      "      dtype='object')\n"
     ]
    }
   ],
   "source": [
    "print(df.columns)"
   ]
  },
  {
   "cell_type": "code",
   "execution_count": 53,
   "id": "66c19aa6",
   "metadata": {},
   "outputs": [
    {
     "name": "stdout",
     "output_type": "stream",
     "text": [
      "             YearEnd DataValue\n",
      "count   1.082328e+06   1082328\n",
      "unique           NaN     42288\n",
      "top              NaN          \n",
      "freq             NaN    353093\n",
      "mean    2.015196e+03       NaN\n",
      "std     2.738999e+00       NaN\n",
      "min     2.001000e+03       NaN\n",
      "25%     2.013000e+03       NaN\n",
      "50%     2.015000e+03       NaN\n",
      "75%     2.017000e+03       NaN\n",
      "max     2.021000e+03       NaN\n"
     ]
    }
   ],
   "source": [
    "print(df[['YearEnd','DataValue']].describe(include=\"all\"))"
   ]
  },
  {
   "cell_type": "code",
   "execution_count": 54,
   "id": "2e1149cc",
   "metadata": {},
   "outputs": [
    {
     "name": "stdout",
     "output_type": "stream",
     "text": [
      "           YearStart       YearEnd LocationAbbr LocationDesc DataSource  \\\n",
      "count   1.082328e+06  1.082328e+06      1082328      1082328    1082328   \n",
      "unique           NaN           NaN           55           55         31   \n",
      "top              NaN           NaN           NY     New York      BRFSS   \n",
      "freq             NaN           NaN        20608        20608     597950   \n",
      "mean    2.014678e+03  2.015196e+03          NaN          NaN        NaN   \n",
      "std     3.082694e+00  2.738999e+00          NaN          NaN        NaN   \n",
      "min     2.001000e+03  2.001000e+03          NaN          NaN        NaN   \n",
      "25%     2.012000e+03  2.013000e+03          NaN          NaN        NaN   \n",
      "50%     2.015000e+03  2.015000e+03          NaN          NaN        NaN   \n",
      "75%     2.017000e+03  2.017000e+03          NaN          NaN        NaN   \n",
      "max     2.021000e+03  2.021000e+03          NaN          NaN        NaN   \n",
      "\n",
      "          Topic                                           Question Response  \\\n",
      "count   1082328                                            1082328        0   \n",
      "unique       17                                                203        0   \n",
      "top      Cancer  Hospitalization for hip fracture among Medicar...      NaN   \n",
      "freq     156371                                              12480      NaN   \n",
      "mean        NaN                                                NaN      NaN   \n",
      "std         NaN                                                NaN      NaN   \n",
      "min         NaN                                                NaN      NaN   \n",
      "25%         NaN                                                NaN      NaN   \n",
      "50%         NaN                                                NaN      NaN   \n",
      "75%         NaN                                                NaN      NaN   \n",
      "max         NaN                                                NaN      NaN   \n",
      "\n",
      "       DataValueUnit     DataValueType  ...    LocationID  TopicID QuestionID  \\\n",
      "count        1082328           1082328  ...  1.082328e+06  1082328    1082328   \n",
      "unique            13                19  ...           NaN       17        203   \n",
      "top                %  Crude Prevalence  ...           NaN      CAN     OLD1_0   \n",
      "freq          599411            339878  ...           NaN   156371      12480   \n",
      "mean             NaN               NaN  ...  3.080346e+01      NaN        NaN   \n",
      "std              NaN               NaN  ...  1.752053e+01      NaN        NaN   \n",
      "min              NaN               NaN  ...  1.000000e+00      NaN        NaN   \n",
      "25%              NaN               NaN  ...  1.700000e+01      NaN        NaN   \n",
      "50%              NaN               NaN  ...  3.000000e+01      NaN        NaN   \n",
      "75%              NaN               NaN  ...  4.500000e+01      NaN        NaN   \n",
      "max              NaN               NaN  ...  7.800000e+01      NaN        NaN   \n",
      "\n",
      "       DataValueTypeID  StratificationCategoryID1  StratificationID1  \\\n",
      "count          1082328                    1082328            1082328   \n",
      "unique              19                          3                 13   \n",
      "top            CRDPREV                       RACE                OVR   \n",
      "freq            339878                     673808             152290   \n",
      "mean               NaN                        NaN                NaN   \n",
      "std                NaN                        NaN                NaN   \n",
      "min                NaN                        NaN                NaN   \n",
      "25%                NaN                        NaN                NaN   \n",
      "50%                NaN                        NaN                NaN   \n",
      "75%                NaN                        NaN                NaN   \n",
      "max                NaN                        NaN                NaN   \n",
      "\n",
      "       StratificationCategoryID2 StratificationID2 StratificationCategoryID3  \\\n",
      "count                          0                 0                         0   \n",
      "unique                         0                 0                         0   \n",
      "top                          NaN               NaN                       NaN   \n",
      "freq                         NaN               NaN                       NaN   \n",
      "mean                         NaN               NaN                       NaN   \n",
      "std                          NaN               NaN                       NaN   \n",
      "min                          NaN               NaN                       NaN   \n",
      "25%                          NaN               NaN                       NaN   \n",
      "50%                          NaN               NaN                       NaN   \n",
      "75%                          NaN               NaN                       NaN   \n",
      "max                          NaN               NaN                       NaN   \n",
      "\n",
      "       StratificationID3  \n",
      "count                  0  \n",
      "unique                 0  \n",
      "top                  NaN  \n",
      "freq                 NaN  \n",
      "mean                 NaN  \n",
      "std                  NaN  \n",
      "min                  NaN  \n",
      "25%                  NaN  \n",
      "50%                  NaN  \n",
      "75%                  NaN  \n",
      "max                  NaN  \n",
      "\n",
      "[11 rows x 34 columns]\n"
     ]
    }
   ],
   "source": [
    "print(df.describe(include='all'))"
   ]
  },
  {
   "cell_type": "markdown",
   "source": [
    "Drop the null data, first the empty columns."
   ],
   "metadata": {
    "collapsed": false
   }
  },
  {
   "cell_type": "code",
   "execution_count": 55,
   "outputs": [],
   "source": [
    "df = df.drop(columns=['Response', 'StratificationCategory2', 'Stratification2', 'StratificationCategory3', 'Stratification3', 'ResponseID', 'StratificationCategoryID2', 'StratificationID2', 'StratificationCategoryID3','StratificationID3'])"
   ],
   "metadata": {
    "collapsed": false
   }
  },
  {
   "cell_type": "code",
   "execution_count": 56,
   "outputs": [
    {
     "name": "stdout",
     "output_type": "stream",
     "text": [
      "(1082328, 24)\n"
     ]
    }
   ],
   "source": [
    "print(df.shape)"
   ],
   "metadata": {
    "collapsed": false
   }
  },
  {
   "cell_type": "code",
   "execution_count": 57,
   "outputs": [
    {
     "data": {
      "text/plain": "         YearStart  YearEnd LocationAbbr   LocationDesc DataSource  \\\n0             2010     2010           AK         Alaska       NVSS   \n1             2017     2017           AK         Alaska       NVSS   \n2             2018     2018           AK         Alaska       NVSS   \n3             2011     2011           AK         Alaska       NVSS   \n4             2012     2012           AK         Alaska       NVSS   \n...            ...      ...          ...            ...        ...   \n1082323       2020     2020           WA     Washington      BRFSS   \n1082324       2020     2020           WV  West Virginia      BRFSS   \n1082325       2020     2020           WY        Wyoming      BRFSS   \n1082326       2020     2020           VT        Vermont      BRFSS   \n1082327       2020     2020           WI      Wisconsin      BRFSS   \n\n                                                   Topic  \\\n0                                                Alcohol   \n1                                                Alcohol   \n2                                                Alcohol   \n3                                 Chronic Kidney Disease   \n4                                 Chronic Kidney Disease   \n...                                                  ...   \n1082323  Nutrition, Physical Activity, and Weight Status   \n1082324            Chronic Obstructive Pulmonary Disease   \n1082325            Chronic Obstructive Pulmonary Disease   \n1082326                           Overarching Conditions   \n1082327                                         Diabetes   \n\n                                                  Question DataValueUnit  \\\n0                          Chronic liver disease mortality                 \n1                          Chronic liver disease mortality                 \n2                          Chronic liver disease mortality                 \n3                   Mortality with end-stage renal disease                 \n4                   Mortality with end-stage renal disease                 \n...                                                    ...           ...   \n1082323              Obesity among adults aged >= 18 years             %   \n1082324  Prevalence of current smoking among adults >= ...             %   \n1082325  Influenza vaccination among noninstitutionaliz...             %   \n1082326  Self-rated health status among women aged 18-4...             %   \n1082327  Prevalence of diagnosed diabetes among adults ...             %   \n\n                   DataValueType DataValue  ...  HighConfidenceLimit  \\\n0                         Number        70  ...                  NaN   \n1                         Number       121  ...                  NaN   \n2                         Number       121  ...                  NaN   \n3                         Number       221  ...                  NaN   \n4                         Number       234  ...                  NaN   \n...                          ...       ...  ...                  ...   \n1082323         Crude Prevalence      37.2  ...                 44.4   \n1082324  Age-adjusted Prevalence      47.6  ...                 52.2   \n1082325         Crude Prevalence      58.2  ...                 65.6   \n1082326         Crude Prevalence      90.5  ...                 96.0   \n1082327  Age-adjusted Prevalence            ...                  NaN   \n\n        StratificationCategory1            Stratification1  \\\n0                       Overall                    Overall   \n1                       Overall                    Overall   \n2                       Overall                    Overall   \n3                Race/Ethnicity        White, non-Hispanic   \n4                Race/Ethnicity        White, non-Hispanic   \n...                         ...                        ...   \n1082323          Race/Ethnicity        Black, non-Hispanic   \n1082324          Race/Ethnicity        White, non-Hispanic   \n1082325          Race/Ethnicity        White, non-Hispanic   \n1082326          Race/Ethnicity        Other, non-Hispanic   \n1082327          Race/Ethnicity  Multiracial, non-Hispanic   \n\n                                           GeoLocation  LocationID TopicID  \\\n0        POINT (-147.72205903599973 64.84507995700051)           2     ALC   \n1        POINT (-147.72205903599973 64.84507995700051)           2     ALC   \n2        POINT (-147.72205903599973 64.84507995700051)           2     ALC   \n3        POINT (-147.72205903599973 64.84507995700051)           2     CKD   \n4        POINT (-147.72205903599973 64.84507995700051)           2     CKD   \n...                                                ...         ...     ...   \n1082323  POINT (-120.47001078999972 47.52227862900048)          53    NPAW   \n1082324   POINT (-80.71264013499967 38.66551020200046)          54    COPD   \n1082325  POINT (-108.10983035299967 43.23554134300048)          56    COPD   \n1082326   POINT (-72.51764079099962 43.62538123900049)          50     OVC   \n1082327   POINT (-89.81637074199966 44.39319117400049)          55     DIA   \n\n        QuestionID DataValueTypeID  StratificationCategoryID1  \\\n0           ALC6_0            NMBR                    OVERALL   \n1           ALC6_0            NMBR                    OVERALL   \n2           ALC6_0            NMBR                    OVERALL   \n3           CKD1_0            NMBR                       RACE   \n4           CKD1_0            NMBR                       RACE   \n...            ...             ...                        ...   \n1082323    NPAW1_1         CRDPREV                       RACE   \n1082324  COPD3_0_1      AGEADJPREV                       RACE   \n1082325    COPD7_0         CRDPREV                       RACE   \n1082326     OVC6_2         CRDPREV                       RACE   \n1082327     DIA2_1      AGEADJPREV                       RACE   \n\n        StratificationID1  \n0                     OVR  \n1                     OVR  \n2                     OVR  \n3                     WHT  \n4                     WHT  \n...                   ...  \n1082323               BLK  \n1082324               WHT  \n1082325               WHT  \n1082326               OTH  \n1082327               MRC  \n\n[1082328 rows x 24 columns]",
      "text/html": "<div>\n<style scoped>\n    .dataframe tbody tr th:only-of-type {\n        vertical-align: middle;\n    }\n\n    .dataframe tbody tr th {\n        vertical-align: top;\n    }\n\n    .dataframe thead th {\n        text-align: right;\n    }\n</style>\n<table border=\"1\" class=\"dataframe\">\n  <thead>\n    <tr style=\"text-align: right;\">\n      <th></th>\n      <th>YearStart</th>\n      <th>YearEnd</th>\n      <th>LocationAbbr</th>\n      <th>LocationDesc</th>\n      <th>DataSource</th>\n      <th>Topic</th>\n      <th>Question</th>\n      <th>DataValueUnit</th>\n      <th>DataValueType</th>\n      <th>DataValue</th>\n      <th>...</th>\n      <th>HighConfidenceLimit</th>\n      <th>StratificationCategory1</th>\n      <th>Stratification1</th>\n      <th>GeoLocation</th>\n      <th>LocationID</th>\n      <th>TopicID</th>\n      <th>QuestionID</th>\n      <th>DataValueTypeID</th>\n      <th>StratificationCategoryID1</th>\n      <th>StratificationID1</th>\n    </tr>\n  </thead>\n  <tbody>\n    <tr>\n      <th>0</th>\n      <td>2010</td>\n      <td>2010</td>\n      <td>AK</td>\n      <td>Alaska</td>\n      <td>NVSS</td>\n      <td>Alcohol</td>\n      <td>Chronic liver disease mortality</td>\n      <td></td>\n      <td>Number</td>\n      <td>70</td>\n      <td>...</td>\n      <td>NaN</td>\n      <td>Overall</td>\n      <td>Overall</td>\n      <td>POINT (-147.72205903599973 64.84507995700051)</td>\n      <td>2</td>\n      <td>ALC</td>\n      <td>ALC6_0</td>\n      <td>NMBR</td>\n      <td>OVERALL</td>\n      <td>OVR</td>\n    </tr>\n    <tr>\n      <th>1</th>\n      <td>2017</td>\n      <td>2017</td>\n      <td>AK</td>\n      <td>Alaska</td>\n      <td>NVSS</td>\n      <td>Alcohol</td>\n      <td>Chronic liver disease mortality</td>\n      <td></td>\n      <td>Number</td>\n      <td>121</td>\n      <td>...</td>\n      <td>NaN</td>\n      <td>Overall</td>\n      <td>Overall</td>\n      <td>POINT (-147.72205903599973 64.84507995700051)</td>\n      <td>2</td>\n      <td>ALC</td>\n      <td>ALC6_0</td>\n      <td>NMBR</td>\n      <td>OVERALL</td>\n      <td>OVR</td>\n    </tr>\n    <tr>\n      <th>2</th>\n      <td>2018</td>\n      <td>2018</td>\n      <td>AK</td>\n      <td>Alaska</td>\n      <td>NVSS</td>\n      <td>Alcohol</td>\n      <td>Chronic liver disease mortality</td>\n      <td></td>\n      <td>Number</td>\n      <td>121</td>\n      <td>...</td>\n      <td>NaN</td>\n      <td>Overall</td>\n      <td>Overall</td>\n      <td>POINT (-147.72205903599973 64.84507995700051)</td>\n      <td>2</td>\n      <td>ALC</td>\n      <td>ALC6_0</td>\n      <td>NMBR</td>\n      <td>OVERALL</td>\n      <td>OVR</td>\n    </tr>\n    <tr>\n      <th>3</th>\n      <td>2011</td>\n      <td>2011</td>\n      <td>AK</td>\n      <td>Alaska</td>\n      <td>NVSS</td>\n      <td>Chronic Kidney Disease</td>\n      <td>Mortality with end-stage renal disease</td>\n      <td></td>\n      <td>Number</td>\n      <td>221</td>\n      <td>...</td>\n      <td>NaN</td>\n      <td>Race/Ethnicity</td>\n      <td>White, non-Hispanic</td>\n      <td>POINT (-147.72205903599973 64.84507995700051)</td>\n      <td>2</td>\n      <td>CKD</td>\n      <td>CKD1_0</td>\n      <td>NMBR</td>\n      <td>RACE</td>\n      <td>WHT</td>\n    </tr>\n    <tr>\n      <th>4</th>\n      <td>2012</td>\n      <td>2012</td>\n      <td>AK</td>\n      <td>Alaska</td>\n      <td>NVSS</td>\n      <td>Chronic Kidney Disease</td>\n      <td>Mortality with end-stage renal disease</td>\n      <td></td>\n      <td>Number</td>\n      <td>234</td>\n      <td>...</td>\n      <td>NaN</td>\n      <td>Race/Ethnicity</td>\n      <td>White, non-Hispanic</td>\n      <td>POINT (-147.72205903599973 64.84507995700051)</td>\n      <td>2</td>\n      <td>CKD</td>\n      <td>CKD1_0</td>\n      <td>NMBR</td>\n      <td>RACE</td>\n      <td>WHT</td>\n    </tr>\n    <tr>\n      <th>...</th>\n      <td>...</td>\n      <td>...</td>\n      <td>...</td>\n      <td>...</td>\n      <td>...</td>\n      <td>...</td>\n      <td>...</td>\n      <td>...</td>\n      <td>...</td>\n      <td>...</td>\n      <td>...</td>\n      <td>...</td>\n      <td>...</td>\n      <td>...</td>\n      <td>...</td>\n      <td>...</td>\n      <td>...</td>\n      <td>...</td>\n      <td>...</td>\n      <td>...</td>\n      <td>...</td>\n    </tr>\n    <tr>\n      <th>1082323</th>\n      <td>2020</td>\n      <td>2020</td>\n      <td>WA</td>\n      <td>Washington</td>\n      <td>BRFSS</td>\n      <td>Nutrition, Physical Activity, and Weight Status</td>\n      <td>Obesity among adults aged &gt;= 18 years</td>\n      <td>%</td>\n      <td>Crude Prevalence</td>\n      <td>37.2</td>\n      <td>...</td>\n      <td>44.4</td>\n      <td>Race/Ethnicity</td>\n      <td>Black, non-Hispanic</td>\n      <td>POINT (-120.47001078999972 47.52227862900048)</td>\n      <td>53</td>\n      <td>NPAW</td>\n      <td>NPAW1_1</td>\n      <td>CRDPREV</td>\n      <td>RACE</td>\n      <td>BLK</td>\n    </tr>\n    <tr>\n      <th>1082324</th>\n      <td>2020</td>\n      <td>2020</td>\n      <td>WV</td>\n      <td>West Virginia</td>\n      <td>BRFSS</td>\n      <td>Chronic Obstructive Pulmonary Disease</td>\n      <td>Prevalence of current smoking among adults &gt;= ...</td>\n      <td>%</td>\n      <td>Age-adjusted Prevalence</td>\n      <td>47.6</td>\n      <td>...</td>\n      <td>52.2</td>\n      <td>Race/Ethnicity</td>\n      <td>White, non-Hispanic</td>\n      <td>POINT (-80.71264013499967 38.66551020200046)</td>\n      <td>54</td>\n      <td>COPD</td>\n      <td>COPD3_0_1</td>\n      <td>AGEADJPREV</td>\n      <td>RACE</td>\n      <td>WHT</td>\n    </tr>\n    <tr>\n      <th>1082325</th>\n      <td>2020</td>\n      <td>2020</td>\n      <td>WY</td>\n      <td>Wyoming</td>\n      <td>BRFSS</td>\n      <td>Chronic Obstructive Pulmonary Disease</td>\n      <td>Influenza vaccination among noninstitutionaliz...</td>\n      <td>%</td>\n      <td>Crude Prevalence</td>\n      <td>58.2</td>\n      <td>...</td>\n      <td>65.6</td>\n      <td>Race/Ethnicity</td>\n      <td>White, non-Hispanic</td>\n      <td>POINT (-108.10983035299967 43.23554134300048)</td>\n      <td>56</td>\n      <td>COPD</td>\n      <td>COPD7_0</td>\n      <td>CRDPREV</td>\n      <td>RACE</td>\n      <td>WHT</td>\n    </tr>\n    <tr>\n      <th>1082326</th>\n      <td>2020</td>\n      <td>2020</td>\n      <td>VT</td>\n      <td>Vermont</td>\n      <td>BRFSS</td>\n      <td>Overarching Conditions</td>\n      <td>Self-rated health status among women aged 18-4...</td>\n      <td>%</td>\n      <td>Crude Prevalence</td>\n      <td>90.5</td>\n      <td>...</td>\n      <td>96.0</td>\n      <td>Race/Ethnicity</td>\n      <td>Other, non-Hispanic</td>\n      <td>POINT (-72.51764079099962 43.62538123900049)</td>\n      <td>50</td>\n      <td>OVC</td>\n      <td>OVC6_2</td>\n      <td>CRDPREV</td>\n      <td>RACE</td>\n      <td>OTH</td>\n    </tr>\n    <tr>\n      <th>1082327</th>\n      <td>2020</td>\n      <td>2020</td>\n      <td>WI</td>\n      <td>Wisconsin</td>\n      <td>BRFSS</td>\n      <td>Diabetes</td>\n      <td>Prevalence of diagnosed diabetes among adults ...</td>\n      <td>%</td>\n      <td>Age-adjusted Prevalence</td>\n      <td></td>\n      <td>...</td>\n      <td>NaN</td>\n      <td>Race/Ethnicity</td>\n      <td>Multiracial, non-Hispanic</td>\n      <td>POINT (-89.81637074199966 44.39319117400049)</td>\n      <td>55</td>\n      <td>DIA</td>\n      <td>DIA2_1</td>\n      <td>AGEADJPREV</td>\n      <td>RACE</td>\n      <td>MRC</td>\n    </tr>\n  </tbody>\n</table>\n<p>1082328 rows × 24 columns</p>\n</div>"
     },
     "execution_count": 57,
     "metadata": {},
     "output_type": "execute_result"
    }
   ],
   "source": [
    "df"
   ],
   "metadata": {
    "collapsed": false
   }
  },
  {
   "cell_type": "markdown",
   "source": [
    "Exploring if the data is available per year or per period"
   ],
   "metadata": {
    "collapsed": false
   }
  },
  {
   "cell_type": "code",
   "execution_count": 58,
   "outputs": [
    {
     "data": {
      "text/plain": "(140986, 25)"
     },
     "execution_count": 58,
     "metadata": {},
     "output_type": "execute_result"
    }
   ],
   "source": [
    "df['diff_year'] = np.where((df['YearStart'] != df['YearEnd']),'Period','Year')\n",
    "df_per_period = df[df['diff_year'].str.contains('Period')]\n",
    "# Veryfing the shape of the new database\n",
    "df_per_period.shape"
   ],
   "metadata": {
    "collapsed": false
   }
  },
  {
   "cell_type": "code",
   "execution_count": 59,
   "outputs": [
    {
     "data": {
      "text/plain": "YearStart                        0\nYearEnd                          0\nLocationAbbr                     0\nLocationDesc                     0\nDataSource                       0\nTopic                            0\nQuestion                         0\nDataValueUnit                    0\nDataValueType                    0\nDataValue                        0\nDataValueAlt                 37805\nDataValueFootnoteSymbol          0\nDatavalueFootnote                0\nLowConfidenceLimit           71856\nHighConfidenceLimit          71856\nStratificationCategory1          0\nStratification1                  0\nGeoLocation                      0\nLocationID                       0\nTopicID                          0\nQuestionID                       0\nDataValueTypeID                  0\nStratificationCategoryID1        0\nStratificationID1                0\ndiff_year                        0\ndtype: int64"
     },
     "execution_count": 59,
     "metadata": {},
     "output_type": "execute_result"
    }
   ],
   "source": [
    "#Checking the empty values in the new database\n",
    "df_per_period.isna().sum()"
   ],
   "metadata": {
    "collapsed": false
   }
  },
  {
   "cell_type": "code",
   "execution_count": 60,
   "outputs": [
    {
     "data": {
      "text/plain": "0"
     },
     "execution_count": 60,
     "metadata": {},
     "output_type": "execute_result"
    }
   ],
   "source": [
    "#Check for duplicates in the new database\n",
    "df_per_period.duplicated().sum()"
   ],
   "metadata": {
    "collapsed": false
   }
  },
  {
   "cell_type": "code",
   "execution_count": 61,
   "outputs": [],
   "source": [
    "#Exporting to csv for a different analysis\n",
    "df_per_period.to_csv('dataperiod.csv')"
   ],
   "metadata": {
    "collapsed": false
   }
  },
  {
   "cell_type": "markdown",
   "source": [
    "Creating a new data frame per year"
   ],
   "metadata": {
    "collapsed": false
   }
  },
  {
   "cell_type": "code",
   "execution_count": 62,
   "outputs": [
    {
     "data": {
      "text/plain": "   YearStart  YearEnd LocationAbbr LocationDesc DataSource  \\\n0       2010     2010           AK       Alaska       NVSS   \n1       2017     2017           AK       Alaska       NVSS   \n2       2018     2018           AK       Alaska       NVSS   \n3       2011     2011           AK       Alaska       NVSS   \n4       2012     2012           AK       Alaska       NVSS   \n\n                    Topic                                Question  \\\n0                 Alcohol         Chronic liver disease mortality   \n1                 Alcohol         Chronic liver disease mortality   \n2                 Alcohol         Chronic liver disease mortality   \n3  Chronic Kidney Disease  Mortality with end-stage renal disease   \n4  Chronic Kidney Disease  Mortality with end-stage renal disease   \n\n  DataValueUnit DataValueType DataValue  ...  StratificationCategory1  \\\n0                      Number        70  ...                  Overall   \n1                      Number       121  ...                  Overall   \n2                      Number       121  ...                  Overall   \n3                      Number       221  ...           Race/Ethnicity   \n4                      Number       234  ...           Race/Ethnicity   \n\n       Stratification1                                    GeoLocation  \\\n0              Overall  POINT (-147.72205903599973 64.84507995700051)   \n1              Overall  POINT (-147.72205903599973 64.84507995700051)   \n2              Overall  POINT (-147.72205903599973 64.84507995700051)   \n3  White, non-Hispanic  POINT (-147.72205903599973 64.84507995700051)   \n4  White, non-Hispanic  POINT (-147.72205903599973 64.84507995700051)   \n\n   LocationID  TopicID QuestionID DataValueTypeID StratificationCategoryID1  \\\n0           2      ALC     ALC6_0            NMBR                   OVERALL   \n1           2      ALC     ALC6_0            NMBR                   OVERALL   \n2           2      ALC     ALC6_0            NMBR                   OVERALL   \n3           2      CKD     CKD1_0            NMBR                      RACE   \n4           2      CKD     CKD1_0            NMBR                      RACE   \n\n   StratificationID1 diff_year  \n0                OVR      Year  \n1                OVR      Year  \n2                OVR      Year  \n3                WHT      Year  \n4                WHT      Year  \n\n[5 rows x 25 columns]",
      "text/html": "<div>\n<style scoped>\n    .dataframe tbody tr th:only-of-type {\n        vertical-align: middle;\n    }\n\n    .dataframe tbody tr th {\n        vertical-align: top;\n    }\n\n    .dataframe thead th {\n        text-align: right;\n    }\n</style>\n<table border=\"1\" class=\"dataframe\">\n  <thead>\n    <tr style=\"text-align: right;\">\n      <th></th>\n      <th>YearStart</th>\n      <th>YearEnd</th>\n      <th>LocationAbbr</th>\n      <th>LocationDesc</th>\n      <th>DataSource</th>\n      <th>Topic</th>\n      <th>Question</th>\n      <th>DataValueUnit</th>\n      <th>DataValueType</th>\n      <th>DataValue</th>\n      <th>...</th>\n      <th>StratificationCategory1</th>\n      <th>Stratification1</th>\n      <th>GeoLocation</th>\n      <th>LocationID</th>\n      <th>TopicID</th>\n      <th>QuestionID</th>\n      <th>DataValueTypeID</th>\n      <th>StratificationCategoryID1</th>\n      <th>StratificationID1</th>\n      <th>diff_year</th>\n    </tr>\n  </thead>\n  <tbody>\n    <tr>\n      <th>0</th>\n      <td>2010</td>\n      <td>2010</td>\n      <td>AK</td>\n      <td>Alaska</td>\n      <td>NVSS</td>\n      <td>Alcohol</td>\n      <td>Chronic liver disease mortality</td>\n      <td></td>\n      <td>Number</td>\n      <td>70</td>\n      <td>...</td>\n      <td>Overall</td>\n      <td>Overall</td>\n      <td>POINT (-147.72205903599973 64.84507995700051)</td>\n      <td>2</td>\n      <td>ALC</td>\n      <td>ALC6_0</td>\n      <td>NMBR</td>\n      <td>OVERALL</td>\n      <td>OVR</td>\n      <td>Year</td>\n    </tr>\n    <tr>\n      <th>1</th>\n      <td>2017</td>\n      <td>2017</td>\n      <td>AK</td>\n      <td>Alaska</td>\n      <td>NVSS</td>\n      <td>Alcohol</td>\n      <td>Chronic liver disease mortality</td>\n      <td></td>\n      <td>Number</td>\n      <td>121</td>\n      <td>...</td>\n      <td>Overall</td>\n      <td>Overall</td>\n      <td>POINT (-147.72205903599973 64.84507995700051)</td>\n      <td>2</td>\n      <td>ALC</td>\n      <td>ALC6_0</td>\n      <td>NMBR</td>\n      <td>OVERALL</td>\n      <td>OVR</td>\n      <td>Year</td>\n    </tr>\n    <tr>\n      <th>2</th>\n      <td>2018</td>\n      <td>2018</td>\n      <td>AK</td>\n      <td>Alaska</td>\n      <td>NVSS</td>\n      <td>Alcohol</td>\n      <td>Chronic liver disease mortality</td>\n      <td></td>\n      <td>Number</td>\n      <td>121</td>\n      <td>...</td>\n      <td>Overall</td>\n      <td>Overall</td>\n      <td>POINT (-147.72205903599973 64.84507995700051)</td>\n      <td>2</td>\n      <td>ALC</td>\n      <td>ALC6_0</td>\n      <td>NMBR</td>\n      <td>OVERALL</td>\n      <td>OVR</td>\n      <td>Year</td>\n    </tr>\n    <tr>\n      <th>3</th>\n      <td>2011</td>\n      <td>2011</td>\n      <td>AK</td>\n      <td>Alaska</td>\n      <td>NVSS</td>\n      <td>Chronic Kidney Disease</td>\n      <td>Mortality with end-stage renal disease</td>\n      <td></td>\n      <td>Number</td>\n      <td>221</td>\n      <td>...</td>\n      <td>Race/Ethnicity</td>\n      <td>White, non-Hispanic</td>\n      <td>POINT (-147.72205903599973 64.84507995700051)</td>\n      <td>2</td>\n      <td>CKD</td>\n      <td>CKD1_0</td>\n      <td>NMBR</td>\n      <td>RACE</td>\n      <td>WHT</td>\n      <td>Year</td>\n    </tr>\n    <tr>\n      <th>4</th>\n      <td>2012</td>\n      <td>2012</td>\n      <td>AK</td>\n      <td>Alaska</td>\n      <td>NVSS</td>\n      <td>Chronic Kidney Disease</td>\n      <td>Mortality with end-stage renal disease</td>\n      <td></td>\n      <td>Number</td>\n      <td>234</td>\n      <td>...</td>\n      <td>Race/Ethnicity</td>\n      <td>White, non-Hispanic</td>\n      <td>POINT (-147.72205903599973 64.84507995700051)</td>\n      <td>2</td>\n      <td>CKD</td>\n      <td>CKD1_0</td>\n      <td>NMBR</td>\n      <td>RACE</td>\n      <td>WHT</td>\n      <td>Year</td>\n    </tr>\n  </tbody>\n</table>\n<p>5 rows × 25 columns</p>\n</div>"
     },
     "execution_count": 62,
     "metadata": {},
     "output_type": "execute_result"
    }
   ],
   "source": [
    "#Finding the number of data available to National and State level\n",
    "df_per_year = df[df['diff_year'].str.contains('Year')]\n",
    "df_per_year.head()"
   ],
   "metadata": {
    "collapsed": false
   }
  },
  {
   "cell_type": "code",
   "execution_count": 63,
   "outputs": [
    {
     "data": {
      "text/plain": "(941342, 25)"
     },
     "execution_count": 63,
     "metadata": {},
     "output_type": "execute_result"
    }
   ],
   "source": [
    "df_per_year.shape"
   ],
   "metadata": {
    "collapsed": false
   }
  },
  {
   "cell_type": "code",
   "execution_count": 64,
   "outputs": [
    {
     "data": {
      "text/plain": "YearStart                        0\nYearEnd                          0\nLocationAbbr                     0\nLocationDesc                     0\nDataSource                       0\nTopic                            0\nQuestion                         0\nDataValueUnit                    0\nDataValueType                    0\nDataValue                        0\nDataValueAlt                 37805\nDataValueFootnoteSymbol          0\nDatavalueFootnote                0\nLowConfidenceLimit           71856\nHighConfidenceLimit          71856\nStratificationCategory1          0\nStratification1                  0\nGeoLocation                      0\nLocationID                       0\nTopicID                          0\nQuestionID                       0\nDataValueTypeID                  0\nStratificationCategoryID1        0\nStratificationID1                0\ndiff_year                        0\ndtype: int64"
     },
     "execution_count": 64,
     "metadata": {},
     "output_type": "execute_result"
    }
   ],
   "source": [
    "df_per_period.isna().sum()"
   ],
   "metadata": {
    "collapsed": false
   }
  },
  {
   "cell_type": "code",
   "execution_count": 65,
   "outputs": [
    {
     "data": {
      "text/plain": "0"
     },
     "execution_count": 65,
     "metadata": {},
     "output_type": "execute_result"
    }
   ],
   "source": [
    "df_per_year.duplicated().sum()"
   ],
   "metadata": {
    "collapsed": false
   }
  },
  {
   "cell_type": "code",
   "execution_count": 66,
   "outputs": [],
   "source": [
    "#Dropping columns after check if the data is the same\n",
    "df_per_year = df_per_year.drop(columns=['YearEnd', 'diff_year'])"
   ],
   "metadata": {
    "collapsed": false
   }
  },
  {
   "cell_type": "code",
   "execution_count": 67,
   "outputs": [
    {
     "data": {
      "text/plain": "(941342, 23)"
     },
     "execution_count": 67,
     "metadata": {},
     "output_type": "execute_result"
    }
   ],
   "source": [
    "#Check if the changes were applied\n",
    "df_per_year.shape"
   ],
   "metadata": {
    "collapsed": false
   }
  },
  {
   "cell_type": "code",
   "execution_count": 68,
   "outputs": [],
   "source": [
    "# Rename columns to simplify the analysis\n",
    "df_per_year = df_per_year.rename({'YearStart': 'Year', 'LocationDesc': 'State', 'LocationAbbr': 'StateAbbr'}, axis=1)"
   ],
   "metadata": {
    "collapsed": false
   }
  },
  {
   "cell_type": "code",
   "execution_count": 69,
   "outputs": [
    {
     "data": {
      "text/plain": "   Year StateAbbr   State DataSource                   Topic  \\\n0  2010        AK  Alaska       NVSS                 Alcohol   \n1  2017        AK  Alaska       NVSS                 Alcohol   \n2  2018        AK  Alaska       NVSS                 Alcohol   \n3  2011        AK  Alaska       NVSS  Chronic Kidney Disease   \n4  2012        AK  Alaska       NVSS  Chronic Kidney Disease   \n\n                                 Question DataValueUnit DataValueType  \\\n0         Chronic liver disease mortality                      Number   \n1         Chronic liver disease mortality                      Number   \n2         Chronic liver disease mortality                      Number   \n3  Mortality with end-stage renal disease                      Number   \n4  Mortality with end-stage renal disease                      Number   \n\n  DataValue  DataValueAlt  ... HighConfidenceLimit StratificationCategory1  \\\n0        70          70.0  ...                 NaN                 Overall   \n1       121         121.0  ...                 NaN                 Overall   \n2       121         121.0  ...                 NaN                 Overall   \n3       221         221.0  ...                 NaN          Race/Ethnicity   \n4       234         234.0  ...                 NaN          Race/Ethnicity   \n\n       Stratification1                                    GeoLocation  \\\n0              Overall  POINT (-147.72205903599973 64.84507995700051)   \n1              Overall  POINT (-147.72205903599973 64.84507995700051)   \n2              Overall  POINT (-147.72205903599973 64.84507995700051)   \n3  White, non-Hispanic  POINT (-147.72205903599973 64.84507995700051)   \n4  White, non-Hispanic  POINT (-147.72205903599973 64.84507995700051)   \n\n  LocationID TopicID QuestionID  DataValueTypeID StratificationCategoryID1  \\\n0          2     ALC     ALC6_0             NMBR                   OVERALL   \n1          2     ALC     ALC6_0             NMBR                   OVERALL   \n2          2     ALC     ALC6_0             NMBR                   OVERALL   \n3          2     CKD     CKD1_0             NMBR                      RACE   \n4          2     CKD     CKD1_0             NMBR                      RACE   \n\n  StratificationID1  \n0               OVR  \n1               OVR  \n2               OVR  \n3               WHT  \n4               WHT  \n\n[5 rows x 23 columns]",
      "text/html": "<div>\n<style scoped>\n    .dataframe tbody tr th:only-of-type {\n        vertical-align: middle;\n    }\n\n    .dataframe tbody tr th {\n        vertical-align: top;\n    }\n\n    .dataframe thead th {\n        text-align: right;\n    }\n</style>\n<table border=\"1\" class=\"dataframe\">\n  <thead>\n    <tr style=\"text-align: right;\">\n      <th></th>\n      <th>Year</th>\n      <th>StateAbbr</th>\n      <th>State</th>\n      <th>DataSource</th>\n      <th>Topic</th>\n      <th>Question</th>\n      <th>DataValueUnit</th>\n      <th>DataValueType</th>\n      <th>DataValue</th>\n      <th>DataValueAlt</th>\n      <th>...</th>\n      <th>HighConfidenceLimit</th>\n      <th>StratificationCategory1</th>\n      <th>Stratification1</th>\n      <th>GeoLocation</th>\n      <th>LocationID</th>\n      <th>TopicID</th>\n      <th>QuestionID</th>\n      <th>DataValueTypeID</th>\n      <th>StratificationCategoryID1</th>\n      <th>StratificationID1</th>\n    </tr>\n  </thead>\n  <tbody>\n    <tr>\n      <th>0</th>\n      <td>2010</td>\n      <td>AK</td>\n      <td>Alaska</td>\n      <td>NVSS</td>\n      <td>Alcohol</td>\n      <td>Chronic liver disease mortality</td>\n      <td></td>\n      <td>Number</td>\n      <td>70</td>\n      <td>70.0</td>\n      <td>...</td>\n      <td>NaN</td>\n      <td>Overall</td>\n      <td>Overall</td>\n      <td>POINT (-147.72205903599973 64.84507995700051)</td>\n      <td>2</td>\n      <td>ALC</td>\n      <td>ALC6_0</td>\n      <td>NMBR</td>\n      <td>OVERALL</td>\n      <td>OVR</td>\n    </tr>\n    <tr>\n      <th>1</th>\n      <td>2017</td>\n      <td>AK</td>\n      <td>Alaska</td>\n      <td>NVSS</td>\n      <td>Alcohol</td>\n      <td>Chronic liver disease mortality</td>\n      <td></td>\n      <td>Number</td>\n      <td>121</td>\n      <td>121.0</td>\n      <td>...</td>\n      <td>NaN</td>\n      <td>Overall</td>\n      <td>Overall</td>\n      <td>POINT (-147.72205903599973 64.84507995700051)</td>\n      <td>2</td>\n      <td>ALC</td>\n      <td>ALC6_0</td>\n      <td>NMBR</td>\n      <td>OVERALL</td>\n      <td>OVR</td>\n    </tr>\n    <tr>\n      <th>2</th>\n      <td>2018</td>\n      <td>AK</td>\n      <td>Alaska</td>\n      <td>NVSS</td>\n      <td>Alcohol</td>\n      <td>Chronic liver disease mortality</td>\n      <td></td>\n      <td>Number</td>\n      <td>121</td>\n      <td>121.0</td>\n      <td>...</td>\n      <td>NaN</td>\n      <td>Overall</td>\n      <td>Overall</td>\n      <td>POINT (-147.72205903599973 64.84507995700051)</td>\n      <td>2</td>\n      <td>ALC</td>\n      <td>ALC6_0</td>\n      <td>NMBR</td>\n      <td>OVERALL</td>\n      <td>OVR</td>\n    </tr>\n    <tr>\n      <th>3</th>\n      <td>2011</td>\n      <td>AK</td>\n      <td>Alaska</td>\n      <td>NVSS</td>\n      <td>Chronic Kidney Disease</td>\n      <td>Mortality with end-stage renal disease</td>\n      <td></td>\n      <td>Number</td>\n      <td>221</td>\n      <td>221.0</td>\n      <td>...</td>\n      <td>NaN</td>\n      <td>Race/Ethnicity</td>\n      <td>White, non-Hispanic</td>\n      <td>POINT (-147.72205903599973 64.84507995700051)</td>\n      <td>2</td>\n      <td>CKD</td>\n      <td>CKD1_0</td>\n      <td>NMBR</td>\n      <td>RACE</td>\n      <td>WHT</td>\n    </tr>\n    <tr>\n      <th>4</th>\n      <td>2012</td>\n      <td>AK</td>\n      <td>Alaska</td>\n      <td>NVSS</td>\n      <td>Chronic Kidney Disease</td>\n      <td>Mortality with end-stage renal disease</td>\n      <td></td>\n      <td>Number</td>\n      <td>234</td>\n      <td>234.0</td>\n      <td>...</td>\n      <td>NaN</td>\n      <td>Race/Ethnicity</td>\n      <td>White, non-Hispanic</td>\n      <td>POINT (-147.72205903599973 64.84507995700051)</td>\n      <td>2</td>\n      <td>CKD</td>\n      <td>CKD1_0</td>\n      <td>NMBR</td>\n      <td>RACE</td>\n      <td>WHT</td>\n    </tr>\n  </tbody>\n</table>\n<p>5 rows × 23 columns</p>\n</div>"
     },
     "execution_count": 69,
     "metadata": {},
     "output_type": "execute_result"
    }
   ],
   "source": [
    "#Veryfy if the columns are renamed\n",
    "df_per_year.head()"
   ],
   "metadata": {
    "collapsed": false
   }
  },
  {
   "cell_type": "markdown",
   "source": [
    "Look over if the column DataValue and DataValueAlt have the same data and drop one"
   ],
   "metadata": {
    "collapsed": false
   }
  },
  {
   "cell_type": "code",
   "execution_count": 70,
   "outputs": [
    {
     "data": {
      "text/plain": "Year                           int64\nStateAbbr                     object\nState                         object\nDataSource                    object\nTopic                         object\nQuestion                      object\nDataValueUnit                 object\nDataValueType                 object\nDataValue                     object\nDataValueAlt                 float64\nDataValueFootnoteSymbol       object\nDatavalueFootnote             object\nLowConfidenceLimit           float64\nHighConfidenceLimit          float64\nStratificationCategory1       object\nStratification1               object\nGeoLocation                   object\nLocationID                     int64\nTopicID                       object\nQuestionID                    object\nDataValueTypeID               object\nStratificationCategoryID1     object\nStratificationID1             object\ndtype: object"
     },
     "execution_count": 70,
     "metadata": {},
     "output_type": "execute_result"
    }
   ],
   "source": [
    "#Before comparison between the data, we checked the data types.\n",
    "df_per_year.dtypes"
   ],
   "metadata": {
    "collapsed": false
   }
  },
  {
   "cell_type": "code",
   "execution_count": 71,
   "outputs": [
    {
     "data": {
      "text/plain": "Year                           int64\nStateAbbr                     object\nState                         object\nDataSource                    object\nTopic                         object\nQuestion                      object\nDataValueUnit                 object\nDataValueType                 object\nDataValue                    float64\nDataValueAlt                 float64\nDataValueFootnoteSymbol       object\nDatavalueFootnote             object\nLowConfidenceLimit           float64\nHighConfidenceLimit          float64\nStratificationCategory1       object\nStratification1               object\nGeoLocation                   object\nLocationID                     int64\nTopicID                       object\nQuestionID                    object\nDataValueTypeID               object\nStratificationCategoryID1     object\nStratificationID1             object\ndtype: object"
     },
     "execution_count": 71,
     "metadata": {},
     "output_type": "execute_result"
    }
   ],
   "source": [
    "#Converting both Columns into numbers to proceed to compare.\n",
    "cols = ['DataValueAlt', 'DataValue']\n",
    "df_per_year[cols] = df_per_year[cols].apply(pd.to_numeric, errors='coerce')\n",
    "df_per_year['DataValueAlt'].convert_dtypes()\n",
    "df_per_year.dtypes"
   ],
   "metadata": {
    "collapsed": false
   }
  },
  {
   "cell_type": "code",
   "execution_count": 72,
   "outputs": [
    {
     "data": {
      "text/plain": "         Year StateAbbr          State DataSource  \\\n13       2011        AK         Alaska      PRAMS   \n14       2017        AK         Alaska  SEDD; SID   \n15       2010        AK         Alaska  SEDD; SID   \n32       2014        AL        Alabama  SEDD; SID   \n33       2017        AL        Alabama  SEDD; SID   \n...       ...       ...            ...        ...   \n1082314  2020        WV  West Virginia      BRFSS   \n1082316  2020        WY        Wyoming      BRFSS   \n1082319  2020        WI      Wisconsin      BRFSS   \n1082321  2020        VT        Vermont      BRFSS   \n1082327  2020        WI      Wisconsin      BRFSS   \n\n                                         Topic  \\\n13                                     Tobacco   \n14                                      Asthma   \n15                                    Diabetes   \n32                                      Asthma   \n33                      Cardiovascular Disease   \n...                                        ...   \n1082314                 Cardiovascular Disease   \n1082316                                 Asthma   \n1082319  Chronic Obstructive Pulmonary Disease   \n1082321                 Overarching Conditions   \n1082327                               Diabetes   \n\n                                                  Question     DataValueUnit  \\\n13                      Cigarette smoking before pregnancy                 %   \n14              Emergency department visit rate for asthma  cases per 10,000   \n15       Amputation of a lower extremity attributable t...                     \n32                             Hospitalizations for asthma  cases per 10,000   \n33                              Hospitalization for stroke                     \n...                                                    ...               ...   \n1082314  Pneumococcal vaccination among noninstitutiona...                 %   \n1082316  Pneumococcal vaccination among noninstitutiona...                 %   \n1082319  Pneumococcal vaccination among noninstitutiona...                 %   \n1082321  Prevalence of sufficient sleep among adults ag...                 %   \n1082327  Prevalence of diagnosed diabetes among adults ...                 %   \n\n                   DataValueType  DataValue  DataValueAlt  ...  \\\n13              Crude Prevalence        NaN           NaN  ...   \n14             Age-adjusted Rate        NaN           NaN  ...   \n15                        Number        NaN           NaN  ...   \n32                    Crude Rate        NaN           NaN  ...   \n33                        Number        NaN           NaN  ...   \n...                          ...        ...           ...  ...   \n1082314  Age-adjusted Prevalence        NaN           NaN  ...   \n1082316         Crude Prevalence        NaN           NaN  ...   \n1082319  Age-adjusted Prevalence        NaN           NaN  ...   \n1082321         Crude Prevalence        NaN           NaN  ...   \n1082327  Age-adjusted Prevalence        NaN           NaN  ...   \n\n        HighConfidenceLimit StratificationCategory1  \\\n13                      NaN                 Overall   \n14                      NaN          Race/Ethnicity   \n15                      NaN                 Overall   \n32                      NaN                  Gender   \n33                      NaN                  Gender   \n...                     ...                     ...   \n1082314                 NaN          Race/Ethnicity   \n1082316                 NaN          Race/Ethnicity   \n1082319                 NaN          Race/Ethnicity   \n1082321                 NaN          Race/Ethnicity   \n1082327                 NaN          Race/Ethnicity   \n\n                   Stratification1  \\\n13                         Overall   \n14                        Hispanic   \n15                         Overall   \n32                            Male   \n33                            Male   \n...                            ...   \n1082314        Black, non-Hispanic   \n1082316  Multiracial, non-Hispanic   \n1082319                   Hispanic   \n1082321        Black, non-Hispanic   \n1082327  Multiracial, non-Hispanic   \n\n                                           GeoLocation LocationID TopicID  \\\n13       POINT (-147.72205903599973 64.84507995700051)          2     TOB   \n14       POINT (-147.72205903599973 64.84507995700051)          2     AST   \n15       POINT (-147.72205903599973 64.84507995700051)          2     DIA   \n32        POINT (-86.63186076199969 32.84057112200048)          1     AST   \n33        POINT (-86.63186076199969 32.84057112200048)          1     CVD   \n...                                                ...        ...     ...   \n1082314   POINT (-80.71264013499967 38.66551020200046)         54     CVD   \n1082316  POINT (-108.10983035299967 43.23554134300048)         56     AST   \n1082319   POINT (-89.81637074199966 44.39319117400049)         55    COPD   \n1082321   POINT (-72.51764079099962 43.62538123900049)         50     OVC   \n1082327   POINT (-89.81637074199966 44.39319117400049)         55     DIA   \n\n        QuestionID  DataValueTypeID StratificationCategoryID1  \\\n13          TOB1_4          CRDPREV                   OVERALL   \n14          AST2_1       AGEADJRATE                      RACE   \n15          DIA4_0             NMBR                   OVERALL   \n32          AST3_1          CRDRATE                    GENDER   \n33          CVD3_1             NMBR                    GENDER   \n...            ...              ...                       ...   \n1082314    CVD10_2       AGEADJPREV                      RACE   \n1082316     AST6_2          CRDPREV                      RACE   \n1082319    COPD8_0       AGEADJPREV                      RACE   \n1082321     OVC8_0          CRDPREV                      RACE   \n1082327     DIA2_1       AGEADJPREV                      RACE   \n\n        StratificationID1  \n13                    OVR  \n14                    HIS  \n15                    OVR  \n32                   GENM  \n33                   GENM  \n...                   ...  \n1082314               BLK  \n1082316               MRC  \n1082319               HIS  \n1082321               BLK  \n1082327               MRC  \n\n[317331 rows x 23 columns]",
      "text/html": "<div>\n<style scoped>\n    .dataframe tbody tr th:only-of-type {\n        vertical-align: middle;\n    }\n\n    .dataframe tbody tr th {\n        vertical-align: top;\n    }\n\n    .dataframe thead th {\n        text-align: right;\n    }\n</style>\n<table border=\"1\" class=\"dataframe\">\n  <thead>\n    <tr style=\"text-align: right;\">\n      <th></th>\n      <th>Year</th>\n      <th>StateAbbr</th>\n      <th>State</th>\n      <th>DataSource</th>\n      <th>Topic</th>\n      <th>Question</th>\n      <th>DataValueUnit</th>\n      <th>DataValueType</th>\n      <th>DataValue</th>\n      <th>DataValueAlt</th>\n      <th>...</th>\n      <th>HighConfidenceLimit</th>\n      <th>StratificationCategory1</th>\n      <th>Stratification1</th>\n      <th>GeoLocation</th>\n      <th>LocationID</th>\n      <th>TopicID</th>\n      <th>QuestionID</th>\n      <th>DataValueTypeID</th>\n      <th>StratificationCategoryID1</th>\n      <th>StratificationID1</th>\n    </tr>\n  </thead>\n  <tbody>\n    <tr>\n      <th>13</th>\n      <td>2011</td>\n      <td>AK</td>\n      <td>Alaska</td>\n      <td>PRAMS</td>\n      <td>Tobacco</td>\n      <td>Cigarette smoking before pregnancy</td>\n      <td>%</td>\n      <td>Crude Prevalence</td>\n      <td>NaN</td>\n      <td>NaN</td>\n      <td>...</td>\n      <td>NaN</td>\n      <td>Overall</td>\n      <td>Overall</td>\n      <td>POINT (-147.72205903599973 64.84507995700051)</td>\n      <td>2</td>\n      <td>TOB</td>\n      <td>TOB1_4</td>\n      <td>CRDPREV</td>\n      <td>OVERALL</td>\n      <td>OVR</td>\n    </tr>\n    <tr>\n      <th>14</th>\n      <td>2017</td>\n      <td>AK</td>\n      <td>Alaska</td>\n      <td>SEDD; SID</td>\n      <td>Asthma</td>\n      <td>Emergency department visit rate for asthma</td>\n      <td>cases per 10,000</td>\n      <td>Age-adjusted Rate</td>\n      <td>NaN</td>\n      <td>NaN</td>\n      <td>...</td>\n      <td>NaN</td>\n      <td>Race/Ethnicity</td>\n      <td>Hispanic</td>\n      <td>POINT (-147.72205903599973 64.84507995700051)</td>\n      <td>2</td>\n      <td>AST</td>\n      <td>AST2_1</td>\n      <td>AGEADJRATE</td>\n      <td>RACE</td>\n      <td>HIS</td>\n    </tr>\n    <tr>\n      <th>15</th>\n      <td>2010</td>\n      <td>AK</td>\n      <td>Alaska</td>\n      <td>SEDD; SID</td>\n      <td>Diabetes</td>\n      <td>Amputation of a lower extremity attributable t...</td>\n      <td></td>\n      <td>Number</td>\n      <td>NaN</td>\n      <td>NaN</td>\n      <td>...</td>\n      <td>NaN</td>\n      <td>Overall</td>\n      <td>Overall</td>\n      <td>POINT (-147.72205903599973 64.84507995700051)</td>\n      <td>2</td>\n      <td>DIA</td>\n      <td>DIA4_0</td>\n      <td>NMBR</td>\n      <td>OVERALL</td>\n      <td>OVR</td>\n    </tr>\n    <tr>\n      <th>32</th>\n      <td>2014</td>\n      <td>AL</td>\n      <td>Alabama</td>\n      <td>SEDD; SID</td>\n      <td>Asthma</td>\n      <td>Hospitalizations for asthma</td>\n      <td>cases per 10,000</td>\n      <td>Crude Rate</td>\n      <td>NaN</td>\n      <td>NaN</td>\n      <td>...</td>\n      <td>NaN</td>\n      <td>Gender</td>\n      <td>Male</td>\n      <td>POINT (-86.63186076199969 32.84057112200048)</td>\n      <td>1</td>\n      <td>AST</td>\n      <td>AST3_1</td>\n      <td>CRDRATE</td>\n      <td>GENDER</td>\n      <td>GENM</td>\n    </tr>\n    <tr>\n      <th>33</th>\n      <td>2017</td>\n      <td>AL</td>\n      <td>Alabama</td>\n      <td>SEDD; SID</td>\n      <td>Cardiovascular Disease</td>\n      <td>Hospitalization for stroke</td>\n      <td></td>\n      <td>Number</td>\n      <td>NaN</td>\n      <td>NaN</td>\n      <td>...</td>\n      <td>NaN</td>\n      <td>Gender</td>\n      <td>Male</td>\n      <td>POINT (-86.63186076199969 32.84057112200048)</td>\n      <td>1</td>\n      <td>CVD</td>\n      <td>CVD3_1</td>\n      <td>NMBR</td>\n      <td>GENDER</td>\n      <td>GENM</td>\n    </tr>\n    <tr>\n      <th>...</th>\n      <td>...</td>\n      <td>...</td>\n      <td>...</td>\n      <td>...</td>\n      <td>...</td>\n      <td>...</td>\n      <td>...</td>\n      <td>...</td>\n      <td>...</td>\n      <td>...</td>\n      <td>...</td>\n      <td>...</td>\n      <td>...</td>\n      <td>...</td>\n      <td>...</td>\n      <td>...</td>\n      <td>...</td>\n      <td>...</td>\n      <td>...</td>\n      <td>...</td>\n      <td>...</td>\n    </tr>\n    <tr>\n      <th>1082314</th>\n      <td>2020</td>\n      <td>WV</td>\n      <td>West Virginia</td>\n      <td>BRFSS</td>\n      <td>Cardiovascular Disease</td>\n      <td>Pneumococcal vaccination among noninstitutiona...</td>\n      <td>%</td>\n      <td>Age-adjusted Prevalence</td>\n      <td>NaN</td>\n      <td>NaN</td>\n      <td>...</td>\n      <td>NaN</td>\n      <td>Race/Ethnicity</td>\n      <td>Black, non-Hispanic</td>\n      <td>POINT (-80.71264013499967 38.66551020200046)</td>\n      <td>54</td>\n      <td>CVD</td>\n      <td>CVD10_2</td>\n      <td>AGEADJPREV</td>\n      <td>RACE</td>\n      <td>BLK</td>\n    </tr>\n    <tr>\n      <th>1082316</th>\n      <td>2020</td>\n      <td>WY</td>\n      <td>Wyoming</td>\n      <td>BRFSS</td>\n      <td>Asthma</td>\n      <td>Pneumococcal vaccination among noninstitutiona...</td>\n      <td>%</td>\n      <td>Crude Prevalence</td>\n      <td>NaN</td>\n      <td>NaN</td>\n      <td>...</td>\n      <td>NaN</td>\n      <td>Race/Ethnicity</td>\n      <td>Multiracial, non-Hispanic</td>\n      <td>POINT (-108.10983035299967 43.23554134300048)</td>\n      <td>56</td>\n      <td>AST</td>\n      <td>AST6_2</td>\n      <td>CRDPREV</td>\n      <td>RACE</td>\n      <td>MRC</td>\n    </tr>\n    <tr>\n      <th>1082319</th>\n      <td>2020</td>\n      <td>WI</td>\n      <td>Wisconsin</td>\n      <td>BRFSS</td>\n      <td>Chronic Obstructive Pulmonary Disease</td>\n      <td>Pneumococcal vaccination among noninstitutiona...</td>\n      <td>%</td>\n      <td>Age-adjusted Prevalence</td>\n      <td>NaN</td>\n      <td>NaN</td>\n      <td>...</td>\n      <td>NaN</td>\n      <td>Race/Ethnicity</td>\n      <td>Hispanic</td>\n      <td>POINT (-89.81637074199966 44.39319117400049)</td>\n      <td>55</td>\n      <td>COPD</td>\n      <td>COPD8_0</td>\n      <td>AGEADJPREV</td>\n      <td>RACE</td>\n      <td>HIS</td>\n    </tr>\n    <tr>\n      <th>1082321</th>\n      <td>2020</td>\n      <td>VT</td>\n      <td>Vermont</td>\n      <td>BRFSS</td>\n      <td>Overarching Conditions</td>\n      <td>Prevalence of sufficient sleep among adults ag...</td>\n      <td>%</td>\n      <td>Crude Prevalence</td>\n      <td>NaN</td>\n      <td>NaN</td>\n      <td>...</td>\n      <td>NaN</td>\n      <td>Race/Ethnicity</td>\n      <td>Black, non-Hispanic</td>\n      <td>POINT (-72.51764079099962 43.62538123900049)</td>\n      <td>50</td>\n      <td>OVC</td>\n      <td>OVC8_0</td>\n      <td>CRDPREV</td>\n      <td>RACE</td>\n      <td>BLK</td>\n    </tr>\n    <tr>\n      <th>1082327</th>\n      <td>2020</td>\n      <td>WI</td>\n      <td>Wisconsin</td>\n      <td>BRFSS</td>\n      <td>Diabetes</td>\n      <td>Prevalence of diagnosed diabetes among adults ...</td>\n      <td>%</td>\n      <td>Age-adjusted Prevalence</td>\n      <td>NaN</td>\n      <td>NaN</td>\n      <td>...</td>\n      <td>NaN</td>\n      <td>Race/Ethnicity</td>\n      <td>Multiracial, non-Hispanic</td>\n      <td>POINT (-89.81637074199966 44.39319117400049)</td>\n      <td>55</td>\n      <td>DIA</td>\n      <td>DIA2_1</td>\n      <td>AGEADJPREV</td>\n      <td>RACE</td>\n      <td>MRC</td>\n    </tr>\n  </tbody>\n</table>\n<p>317331 rows × 23 columns</p>\n</div>"
     },
     "execution_count": 72,
     "metadata": {},
     "output_type": "execute_result"
    }
   ],
   "source": [
    "#Counting the empty values, because Python can't compare it.\n",
    "df_per_year[df_per_year['DataValueAlt'].isna()]"
   ],
   "metadata": {
    "collapsed": false
   }
  },
  {
   "cell_type": "code",
   "execution_count": 73,
   "outputs": [],
   "source": [
    "#Adding a new column name data_values to filter if they are different before dropping it.\n",
    "df_per_year['data_values'] = np.where((df_per_year['DataValue'] != df_per_year['DataValueAlt']),'Different','Same')"
   ],
   "metadata": {
    "collapsed": false
   }
  },
  {
   "cell_type": "code",
   "execution_count": 74,
   "outputs": [
    {
     "data": {
      "text/plain": "         Year StateAbbr          State DataSource  \\\n13       2011        AK         Alaska      PRAMS   \n14       2017        AK         Alaska  SEDD; SID   \n15       2010        AK         Alaska  SEDD; SID   \n32       2014        AL        Alabama  SEDD; SID   \n33       2017        AL        Alabama  SEDD; SID   \n...       ...       ...            ...        ...   \n1082314  2020        WV  West Virginia      BRFSS   \n1082316  2020        WY        Wyoming      BRFSS   \n1082319  2020        WI      Wisconsin      BRFSS   \n1082321  2020        VT        Vermont      BRFSS   \n1082327  2020        WI      Wisconsin      BRFSS   \n\n                                         Topic  \\\n13                                     Tobacco   \n14                                      Asthma   \n15                                    Diabetes   \n32                                      Asthma   \n33                      Cardiovascular Disease   \n...                                        ...   \n1082314                 Cardiovascular Disease   \n1082316                                 Asthma   \n1082319  Chronic Obstructive Pulmonary Disease   \n1082321                 Overarching Conditions   \n1082327                               Diabetes   \n\n                                                  Question     DataValueUnit  \\\n13                      Cigarette smoking before pregnancy                 %   \n14              Emergency department visit rate for asthma  cases per 10,000   \n15       Amputation of a lower extremity attributable t...                     \n32                             Hospitalizations for asthma  cases per 10,000   \n33                              Hospitalization for stroke                     \n...                                                    ...               ...   \n1082314  Pneumococcal vaccination among noninstitutiona...                 %   \n1082316  Pneumococcal vaccination among noninstitutiona...                 %   \n1082319  Pneumococcal vaccination among noninstitutiona...                 %   \n1082321  Prevalence of sufficient sleep among adults ag...                 %   \n1082327  Prevalence of diagnosed diabetes among adults ...                 %   \n\n                   DataValueType  DataValue  DataValueAlt  ...  \\\n13              Crude Prevalence        NaN           NaN  ...   \n14             Age-adjusted Rate        NaN           NaN  ...   \n15                        Number        NaN           NaN  ...   \n32                    Crude Rate        NaN           NaN  ...   \n33                        Number        NaN           NaN  ...   \n...                          ...        ...           ...  ...   \n1082314  Age-adjusted Prevalence        NaN           NaN  ...   \n1082316         Crude Prevalence        NaN           NaN  ...   \n1082319  Age-adjusted Prevalence        NaN           NaN  ...   \n1082321         Crude Prevalence        NaN           NaN  ...   \n1082327  Age-adjusted Prevalence        NaN           NaN  ...   \n\n        StratificationCategory1            Stratification1  \\\n13                      Overall                    Overall   \n14               Race/Ethnicity                   Hispanic   \n15                      Overall                    Overall   \n32                       Gender                       Male   \n33                       Gender                       Male   \n...                         ...                        ...   \n1082314          Race/Ethnicity        Black, non-Hispanic   \n1082316          Race/Ethnicity  Multiracial, non-Hispanic   \n1082319          Race/Ethnicity                   Hispanic   \n1082321          Race/Ethnicity        Black, non-Hispanic   \n1082327          Race/Ethnicity  Multiracial, non-Hispanic   \n\n                                           GeoLocation  LocationID TopicID  \\\n13       POINT (-147.72205903599973 64.84507995700051)           2     TOB   \n14       POINT (-147.72205903599973 64.84507995700051)           2     AST   \n15       POINT (-147.72205903599973 64.84507995700051)           2     DIA   \n32        POINT (-86.63186076199969 32.84057112200048)           1     AST   \n33        POINT (-86.63186076199969 32.84057112200048)           1     CVD   \n...                                                ...         ...     ...   \n1082314   POINT (-80.71264013499967 38.66551020200046)          54     CVD   \n1082316  POINT (-108.10983035299967 43.23554134300048)          56     AST   \n1082319   POINT (-89.81637074199966 44.39319117400049)          55    COPD   \n1082321   POINT (-72.51764079099962 43.62538123900049)          50     OVC   \n1082327   POINT (-89.81637074199966 44.39319117400049)          55     DIA   \n\n        QuestionID DataValueTypeID  StratificationCategoryID1  \\\n13          TOB1_4         CRDPREV                    OVERALL   \n14          AST2_1      AGEADJRATE                       RACE   \n15          DIA4_0            NMBR                    OVERALL   \n32          AST3_1         CRDRATE                     GENDER   \n33          CVD3_1            NMBR                     GENDER   \n...            ...             ...                        ...   \n1082314    CVD10_2      AGEADJPREV                       RACE   \n1082316     AST6_2         CRDPREV                       RACE   \n1082319    COPD8_0      AGEADJPREV                       RACE   \n1082321     OVC8_0         CRDPREV                       RACE   \n1082327     DIA2_1      AGEADJPREV                       RACE   \n\n        StratificationID1 data_values  \n13                    OVR   Different  \n14                    HIS   Different  \n15                    OVR   Different  \n32                   GENM   Different  \n33                   GENM   Different  \n...                   ...         ...  \n1082314               BLK   Different  \n1082316               MRC   Different  \n1082319               HIS   Different  \n1082321               BLK   Different  \n1082327               MRC   Different  \n\n[317333 rows x 24 columns]",
      "text/html": "<div>\n<style scoped>\n    .dataframe tbody tr th:only-of-type {\n        vertical-align: middle;\n    }\n\n    .dataframe tbody tr th {\n        vertical-align: top;\n    }\n\n    .dataframe thead th {\n        text-align: right;\n    }\n</style>\n<table border=\"1\" class=\"dataframe\">\n  <thead>\n    <tr style=\"text-align: right;\">\n      <th></th>\n      <th>Year</th>\n      <th>StateAbbr</th>\n      <th>State</th>\n      <th>DataSource</th>\n      <th>Topic</th>\n      <th>Question</th>\n      <th>DataValueUnit</th>\n      <th>DataValueType</th>\n      <th>DataValue</th>\n      <th>DataValueAlt</th>\n      <th>...</th>\n      <th>StratificationCategory1</th>\n      <th>Stratification1</th>\n      <th>GeoLocation</th>\n      <th>LocationID</th>\n      <th>TopicID</th>\n      <th>QuestionID</th>\n      <th>DataValueTypeID</th>\n      <th>StratificationCategoryID1</th>\n      <th>StratificationID1</th>\n      <th>data_values</th>\n    </tr>\n  </thead>\n  <tbody>\n    <tr>\n      <th>13</th>\n      <td>2011</td>\n      <td>AK</td>\n      <td>Alaska</td>\n      <td>PRAMS</td>\n      <td>Tobacco</td>\n      <td>Cigarette smoking before pregnancy</td>\n      <td>%</td>\n      <td>Crude Prevalence</td>\n      <td>NaN</td>\n      <td>NaN</td>\n      <td>...</td>\n      <td>Overall</td>\n      <td>Overall</td>\n      <td>POINT (-147.72205903599973 64.84507995700051)</td>\n      <td>2</td>\n      <td>TOB</td>\n      <td>TOB1_4</td>\n      <td>CRDPREV</td>\n      <td>OVERALL</td>\n      <td>OVR</td>\n      <td>Different</td>\n    </tr>\n    <tr>\n      <th>14</th>\n      <td>2017</td>\n      <td>AK</td>\n      <td>Alaska</td>\n      <td>SEDD; SID</td>\n      <td>Asthma</td>\n      <td>Emergency department visit rate for asthma</td>\n      <td>cases per 10,000</td>\n      <td>Age-adjusted Rate</td>\n      <td>NaN</td>\n      <td>NaN</td>\n      <td>...</td>\n      <td>Race/Ethnicity</td>\n      <td>Hispanic</td>\n      <td>POINT (-147.72205903599973 64.84507995700051)</td>\n      <td>2</td>\n      <td>AST</td>\n      <td>AST2_1</td>\n      <td>AGEADJRATE</td>\n      <td>RACE</td>\n      <td>HIS</td>\n      <td>Different</td>\n    </tr>\n    <tr>\n      <th>15</th>\n      <td>2010</td>\n      <td>AK</td>\n      <td>Alaska</td>\n      <td>SEDD; SID</td>\n      <td>Diabetes</td>\n      <td>Amputation of a lower extremity attributable t...</td>\n      <td></td>\n      <td>Number</td>\n      <td>NaN</td>\n      <td>NaN</td>\n      <td>...</td>\n      <td>Overall</td>\n      <td>Overall</td>\n      <td>POINT (-147.72205903599973 64.84507995700051)</td>\n      <td>2</td>\n      <td>DIA</td>\n      <td>DIA4_0</td>\n      <td>NMBR</td>\n      <td>OVERALL</td>\n      <td>OVR</td>\n      <td>Different</td>\n    </tr>\n    <tr>\n      <th>32</th>\n      <td>2014</td>\n      <td>AL</td>\n      <td>Alabama</td>\n      <td>SEDD; SID</td>\n      <td>Asthma</td>\n      <td>Hospitalizations for asthma</td>\n      <td>cases per 10,000</td>\n      <td>Crude Rate</td>\n      <td>NaN</td>\n      <td>NaN</td>\n      <td>...</td>\n      <td>Gender</td>\n      <td>Male</td>\n      <td>POINT (-86.63186076199969 32.84057112200048)</td>\n      <td>1</td>\n      <td>AST</td>\n      <td>AST3_1</td>\n      <td>CRDRATE</td>\n      <td>GENDER</td>\n      <td>GENM</td>\n      <td>Different</td>\n    </tr>\n    <tr>\n      <th>33</th>\n      <td>2017</td>\n      <td>AL</td>\n      <td>Alabama</td>\n      <td>SEDD; SID</td>\n      <td>Cardiovascular Disease</td>\n      <td>Hospitalization for stroke</td>\n      <td></td>\n      <td>Number</td>\n      <td>NaN</td>\n      <td>NaN</td>\n      <td>...</td>\n      <td>Gender</td>\n      <td>Male</td>\n      <td>POINT (-86.63186076199969 32.84057112200048)</td>\n      <td>1</td>\n      <td>CVD</td>\n      <td>CVD3_1</td>\n      <td>NMBR</td>\n      <td>GENDER</td>\n      <td>GENM</td>\n      <td>Different</td>\n    </tr>\n    <tr>\n      <th>...</th>\n      <td>...</td>\n      <td>...</td>\n      <td>...</td>\n      <td>...</td>\n      <td>...</td>\n      <td>...</td>\n      <td>...</td>\n      <td>...</td>\n      <td>...</td>\n      <td>...</td>\n      <td>...</td>\n      <td>...</td>\n      <td>...</td>\n      <td>...</td>\n      <td>...</td>\n      <td>...</td>\n      <td>...</td>\n      <td>...</td>\n      <td>...</td>\n      <td>...</td>\n      <td>...</td>\n    </tr>\n    <tr>\n      <th>1082314</th>\n      <td>2020</td>\n      <td>WV</td>\n      <td>West Virginia</td>\n      <td>BRFSS</td>\n      <td>Cardiovascular Disease</td>\n      <td>Pneumococcal vaccination among noninstitutiona...</td>\n      <td>%</td>\n      <td>Age-adjusted Prevalence</td>\n      <td>NaN</td>\n      <td>NaN</td>\n      <td>...</td>\n      <td>Race/Ethnicity</td>\n      <td>Black, non-Hispanic</td>\n      <td>POINT (-80.71264013499967 38.66551020200046)</td>\n      <td>54</td>\n      <td>CVD</td>\n      <td>CVD10_2</td>\n      <td>AGEADJPREV</td>\n      <td>RACE</td>\n      <td>BLK</td>\n      <td>Different</td>\n    </tr>\n    <tr>\n      <th>1082316</th>\n      <td>2020</td>\n      <td>WY</td>\n      <td>Wyoming</td>\n      <td>BRFSS</td>\n      <td>Asthma</td>\n      <td>Pneumococcal vaccination among noninstitutiona...</td>\n      <td>%</td>\n      <td>Crude Prevalence</td>\n      <td>NaN</td>\n      <td>NaN</td>\n      <td>...</td>\n      <td>Race/Ethnicity</td>\n      <td>Multiracial, non-Hispanic</td>\n      <td>POINT (-108.10983035299967 43.23554134300048)</td>\n      <td>56</td>\n      <td>AST</td>\n      <td>AST6_2</td>\n      <td>CRDPREV</td>\n      <td>RACE</td>\n      <td>MRC</td>\n      <td>Different</td>\n    </tr>\n    <tr>\n      <th>1082319</th>\n      <td>2020</td>\n      <td>WI</td>\n      <td>Wisconsin</td>\n      <td>BRFSS</td>\n      <td>Chronic Obstructive Pulmonary Disease</td>\n      <td>Pneumococcal vaccination among noninstitutiona...</td>\n      <td>%</td>\n      <td>Age-adjusted Prevalence</td>\n      <td>NaN</td>\n      <td>NaN</td>\n      <td>...</td>\n      <td>Race/Ethnicity</td>\n      <td>Hispanic</td>\n      <td>POINT (-89.81637074199966 44.39319117400049)</td>\n      <td>55</td>\n      <td>COPD</td>\n      <td>COPD8_0</td>\n      <td>AGEADJPREV</td>\n      <td>RACE</td>\n      <td>HIS</td>\n      <td>Different</td>\n    </tr>\n    <tr>\n      <th>1082321</th>\n      <td>2020</td>\n      <td>VT</td>\n      <td>Vermont</td>\n      <td>BRFSS</td>\n      <td>Overarching Conditions</td>\n      <td>Prevalence of sufficient sleep among adults ag...</td>\n      <td>%</td>\n      <td>Crude Prevalence</td>\n      <td>NaN</td>\n      <td>NaN</td>\n      <td>...</td>\n      <td>Race/Ethnicity</td>\n      <td>Black, non-Hispanic</td>\n      <td>POINT (-72.51764079099962 43.62538123900049)</td>\n      <td>50</td>\n      <td>OVC</td>\n      <td>OVC8_0</td>\n      <td>CRDPREV</td>\n      <td>RACE</td>\n      <td>BLK</td>\n      <td>Different</td>\n    </tr>\n    <tr>\n      <th>1082327</th>\n      <td>2020</td>\n      <td>WI</td>\n      <td>Wisconsin</td>\n      <td>BRFSS</td>\n      <td>Diabetes</td>\n      <td>Prevalence of diagnosed diabetes among adults ...</td>\n      <td>%</td>\n      <td>Age-adjusted Prevalence</td>\n      <td>NaN</td>\n      <td>NaN</td>\n      <td>...</td>\n      <td>Race/Ethnicity</td>\n      <td>Multiracial, non-Hispanic</td>\n      <td>POINT (-89.81637074199966 44.39319117400049)</td>\n      <td>55</td>\n      <td>DIA</td>\n      <td>DIA2_1</td>\n      <td>AGEADJPREV</td>\n      <td>RACE</td>\n      <td>MRC</td>\n      <td>Different</td>\n    </tr>\n  </tbody>\n</table>\n<p>317333 rows × 24 columns</p>\n</div>"
     },
     "execution_count": 74,
     "metadata": {},
     "output_type": "execute_result"
    }
   ],
   "source": [
    "#Displaying the data frame with different values. Important. it is going to include the empty values.\n",
    "df_per_year[df_per_year['data_values'].str.contains('Different')]"
   ],
   "metadata": {
    "collapsed": false
   }
  },
  {
   "cell_type": "code",
   "execution_count": 75,
   "outputs": [],
   "source": [
    "#Deleting the column DataValueAtl and the column data_values\n",
    "df_per_year = df_per_year.drop(columns=['DataValueAlt', 'data_values'])"
   ],
   "metadata": {
    "collapsed": false
   }
  },
  {
   "cell_type": "code",
   "execution_count": 76,
   "outputs": [
    {
     "data": {
      "text/plain": "(941342, 22)"
     },
     "execution_count": 76,
     "metadata": {},
     "output_type": "execute_result"
    }
   ],
   "source": [
    "#Check the changes\n",
    "df_per_year.shape"
   ],
   "metadata": {
    "collapsed": false
   }
  },
  {
   "cell_type": "markdown",
   "source": [
    "Analyzing data from Guam, Puerto Rico and Virgin Islands separately because are unincorporated territories and lack of data"
   ],
   "metadata": {
    "collapsed": false
   }
  },
  {
   "cell_type": "code",
   "execution_count": 77,
   "outputs": [
    {
     "data": {
      "text/plain": "(39046, 22)"
     },
     "execution_count": 77,
     "metadata": {},
     "output_type": "execute_result"
    }
   ],
   "source": [
    "#Checking how much data is available\n",
    "df_year_unincorporated = df_per_year[df_per_year['State'].str.contains('Guam|Puerto Rico|Virgin Islands')]\n",
    "df_year_unincorporated.shape"
   ],
   "metadata": {
    "collapsed": false
   }
  },
  {
   "cell_type": "code",
   "execution_count": 78,
   "outputs": [
    {
     "data": {
      "text/plain": "Crude Prevalence                                                    17835\nAge-adjusted Prevalence                                             14172\nNumber                                                               1353\nCrude Rate                                                           1314\nAge-adjusted Rate                                                    1314\nMean                                                                 1212\nAge-adjusted Mean                                                    1200\nMedian                                                                348\nPercent                                                               130\nYes/No                                                                 90\nUS Dollars                                                             45\nPer capita alcohol consumption                                         15\nLocal control of the regulation of alcohol outlet density               9\nCommercial host (dram shop) liability status for alcohol service        9\nName: DataValueType, dtype: int64"
     },
     "execution_count": 78,
     "metadata": {},
     "output_type": "execute_result"
    }
   ],
   "source": [
    "#Counting the type of data with more available values to analyze\n",
    "df_year_unincorporated[\"DataValueType\"].value_counts()"
   ],
   "metadata": {
    "collapsed": false
   }
  },
  {
   "cell_type": "code",
   "execution_count": 79,
   "outputs": [
    {
     "data": {
      "text/plain": "27710"
     },
     "execution_count": 79,
     "metadata": {},
     "output_type": "execute_result"
    }
   ],
   "source": [
    "#The database has 27710 empty values\n",
    "df_year_unincorporated['DataValue'].isna().sum()"
   ],
   "metadata": {
    "collapsed": false
   }
  },
  {
   "cell_type": "code",
   "execution_count": 80,
   "outputs": [],
   "source": [
    "#Deleting all the missing values\n",
    "df_year_unincorporated=df_year_unincorporated[~df_year_unincorporated['DataValue'].isna()]"
   ],
   "metadata": {
    "collapsed": false
   }
  },
  {
   "cell_type": "code",
   "execution_count": 81,
   "outputs": [
    {
     "data": {
      "text/plain": "         Year StateAbbr        State DataSource  \\\n1122     2012        GU         Guam  HRSA, UDS   \n1134     2018        PR  Puerto Rico      PRAMS   \n1604     2011        GU         Guam      BRFSS   \n1605     2013        GU         Guam      BRFSS   \n1610     2014        GU         Guam      BRFSS   \n...       ...       ...          ...        ...   \n1076845  2020        PR  Puerto Rico      BRFSS   \n1076903  2020        PR  Puerto Rico      BRFSS   \n1076967  2020        PR  Puerto Rico      BRFSS   \n1076971  2020        PR  Puerto Rico      BRFSS   \n1076980  2020        PR  Puerto Rico      BRFSS   \n\n                                                   Topic  \\\n1122                                         Oral Health   \n1134                                             Alcohol   \n1604                                             Alcohol   \n1605                                           Arthritis   \n1610                                              Asthma   \n...                                                  ...   \n1076845  Nutrition, Physical Activity, and Weight Status   \n1076903                                           Asthma   \n1076967                                         Diabetes   \n1076971                                           Cancer   \n1076980                                          Tobacco   \n\n                                                  Question DataValueUnit  \\\n1122     Oral health services at Federally Qualified He...             %   \n1134                          Alcohol use before pregnancy             %   \n1604          Heavy drinking among adults aged >= 18 years             %   \n1605               Arthritis among adults aged >= 18 years             %   \n1610     Current asthma prevalence among adults aged >=...             %   \n...                                                    ...           ...   \n1076845  No leisure-time physical activity among adults...             %   \n1076903  Influenza vaccination among noninstitutionaliz...             %   \n1076967  Foot examination among adults aged >= 18 years...             %   \n1076971  Fecal occult blood test, sigmoidoscopy, or col...             %   \n1076980  Current smokeless tobacco use among adults age...             %   \n\n                   DataValueType  DataValue DataValueFootnoteSymbol  ...  \\\n1122            Crude Prevalence        0.0                          ...   \n1134            Crude Prevalence       43.3                          ...   \n1604            Crude Prevalence        4.4                          ...   \n1605            Crude Prevalence       15.8                          ...   \n1610            Crude Prevalence        2.9                          ...   \n...                          ...        ...                     ...  ...   \n1076845  Age-adjusted Prevalence       44.7                          ...   \n1076903  Age-adjusted Prevalence       46.6                          ...   \n1076967         Crude Prevalence       38.5                          ...   \n1076971         Crude Prevalence       68.7                          ...   \n1076980         Crude Prevalence        0.6                          ...   \n\n        HighConfidenceLimit  StratificationCategory1  Stratification1  \\\n1122                    NaN                  Overall          Overall   \n1134                   47.3           Race/Ethnicity         Hispanic   \n1604                    6.5                   Gender           Female   \n1605                   19.4                   Gender             Male   \n1610                    4.7                   Gender             Male   \n...                     ...                      ...              ...   \n1076845                46.8           Race/Ethnicity         Hispanic   \n1076903                61.4           Race/Ethnicity         Hispanic   \n1076967                50.0                   Gender           Female   \n1076971                74.0                   Gender             Male   \n1076980                 1.1                   Gender           Female   \n\n                          GeoLocation LocationID TopicID  QuestionID  \\\n1122     POINT (144.793731 13.444304)         66     ORH      ORH3_0   \n1134     POINT (-66.590149 18.220833)         72     ALC      ALC1_2   \n1604     POINT (144.793731 13.444304)         66     ALC      ALC5_1   \n1605     POINT (144.793731 13.444304)         66     ART      ART1_1   \n1610     POINT (144.793731 13.444304)         66     AST      AST1_1   \n...                               ...        ...     ...         ...   \n1076845  POINT (-66.590149 18.220833)         72    NPAW    NPAW10_0   \n1076903  POINT (-66.590149 18.220833)         72     AST      AST5_2   \n1076967  POINT (-66.590149 18.220833)         72     DIA      DIA5_0   \n1076971  POINT (-66.590149 18.220833)         72     CAN      CAN3_0   \n1076980  POINT (-66.590149 18.220833)         72     TOB      TOB2_2   \n\n        DataValueTypeID StratificationCategoryID1 StratificationID1  \n1122            CRDPREV                   OVERALL               OVR  \n1134            CRDPREV                      RACE               HIS  \n1604            CRDPREV                    GENDER              GENF  \n1605            CRDPREV                    GENDER              GENM  \n1610            CRDPREV                    GENDER              GENM  \n...                 ...                       ...               ...  \n1076845      AGEADJPREV                      RACE               HIS  \n1076903      AGEADJPREV                      RACE               HIS  \n1076967         CRDPREV                    GENDER              GENF  \n1076971         CRDPREV                    GENDER              GENM  \n1076980         CRDPREV                    GENDER              GENF  \n\n[11336 rows x 22 columns]",
      "text/html": "<div>\n<style scoped>\n    .dataframe tbody tr th:only-of-type {\n        vertical-align: middle;\n    }\n\n    .dataframe tbody tr th {\n        vertical-align: top;\n    }\n\n    .dataframe thead th {\n        text-align: right;\n    }\n</style>\n<table border=\"1\" class=\"dataframe\">\n  <thead>\n    <tr style=\"text-align: right;\">\n      <th></th>\n      <th>Year</th>\n      <th>StateAbbr</th>\n      <th>State</th>\n      <th>DataSource</th>\n      <th>Topic</th>\n      <th>Question</th>\n      <th>DataValueUnit</th>\n      <th>DataValueType</th>\n      <th>DataValue</th>\n      <th>DataValueFootnoteSymbol</th>\n      <th>...</th>\n      <th>HighConfidenceLimit</th>\n      <th>StratificationCategory1</th>\n      <th>Stratification1</th>\n      <th>GeoLocation</th>\n      <th>LocationID</th>\n      <th>TopicID</th>\n      <th>QuestionID</th>\n      <th>DataValueTypeID</th>\n      <th>StratificationCategoryID1</th>\n      <th>StratificationID1</th>\n    </tr>\n  </thead>\n  <tbody>\n    <tr>\n      <th>1122</th>\n      <td>2012</td>\n      <td>GU</td>\n      <td>Guam</td>\n      <td>HRSA, UDS</td>\n      <td>Oral Health</td>\n      <td>Oral health services at Federally Qualified He...</td>\n      <td>%</td>\n      <td>Crude Prevalence</td>\n      <td>0.0</td>\n      <td></td>\n      <td>...</td>\n      <td>NaN</td>\n      <td>Overall</td>\n      <td>Overall</td>\n      <td>POINT (144.793731 13.444304)</td>\n      <td>66</td>\n      <td>ORH</td>\n      <td>ORH3_0</td>\n      <td>CRDPREV</td>\n      <td>OVERALL</td>\n      <td>OVR</td>\n    </tr>\n    <tr>\n      <th>1134</th>\n      <td>2018</td>\n      <td>PR</td>\n      <td>Puerto Rico</td>\n      <td>PRAMS</td>\n      <td>Alcohol</td>\n      <td>Alcohol use before pregnancy</td>\n      <td>%</td>\n      <td>Crude Prevalence</td>\n      <td>43.3</td>\n      <td></td>\n      <td>...</td>\n      <td>47.3</td>\n      <td>Race/Ethnicity</td>\n      <td>Hispanic</td>\n      <td>POINT (-66.590149 18.220833)</td>\n      <td>72</td>\n      <td>ALC</td>\n      <td>ALC1_2</td>\n      <td>CRDPREV</td>\n      <td>RACE</td>\n      <td>HIS</td>\n    </tr>\n    <tr>\n      <th>1604</th>\n      <td>2011</td>\n      <td>GU</td>\n      <td>Guam</td>\n      <td>BRFSS</td>\n      <td>Alcohol</td>\n      <td>Heavy drinking among adults aged &gt;= 18 years</td>\n      <td>%</td>\n      <td>Crude Prevalence</td>\n      <td>4.4</td>\n      <td></td>\n      <td>...</td>\n      <td>6.5</td>\n      <td>Gender</td>\n      <td>Female</td>\n      <td>POINT (144.793731 13.444304)</td>\n      <td>66</td>\n      <td>ALC</td>\n      <td>ALC5_1</td>\n      <td>CRDPREV</td>\n      <td>GENDER</td>\n      <td>GENF</td>\n    </tr>\n    <tr>\n      <th>1605</th>\n      <td>2013</td>\n      <td>GU</td>\n      <td>Guam</td>\n      <td>BRFSS</td>\n      <td>Arthritis</td>\n      <td>Arthritis among adults aged &gt;= 18 years</td>\n      <td>%</td>\n      <td>Crude Prevalence</td>\n      <td>15.8</td>\n      <td></td>\n      <td>...</td>\n      <td>19.4</td>\n      <td>Gender</td>\n      <td>Male</td>\n      <td>POINT (144.793731 13.444304)</td>\n      <td>66</td>\n      <td>ART</td>\n      <td>ART1_1</td>\n      <td>CRDPREV</td>\n      <td>GENDER</td>\n      <td>GENM</td>\n    </tr>\n    <tr>\n      <th>1610</th>\n      <td>2014</td>\n      <td>GU</td>\n      <td>Guam</td>\n      <td>BRFSS</td>\n      <td>Asthma</td>\n      <td>Current asthma prevalence among adults aged &gt;=...</td>\n      <td>%</td>\n      <td>Crude Prevalence</td>\n      <td>2.9</td>\n      <td></td>\n      <td>...</td>\n      <td>4.7</td>\n      <td>Gender</td>\n      <td>Male</td>\n      <td>POINT (144.793731 13.444304)</td>\n      <td>66</td>\n      <td>AST</td>\n      <td>AST1_1</td>\n      <td>CRDPREV</td>\n      <td>GENDER</td>\n      <td>GENM</td>\n    </tr>\n    <tr>\n      <th>...</th>\n      <td>...</td>\n      <td>...</td>\n      <td>...</td>\n      <td>...</td>\n      <td>...</td>\n      <td>...</td>\n      <td>...</td>\n      <td>...</td>\n      <td>...</td>\n      <td>...</td>\n      <td>...</td>\n      <td>...</td>\n      <td>...</td>\n      <td>...</td>\n      <td>...</td>\n      <td>...</td>\n      <td>...</td>\n      <td>...</td>\n      <td>...</td>\n      <td>...</td>\n      <td>...</td>\n    </tr>\n    <tr>\n      <th>1076845</th>\n      <td>2020</td>\n      <td>PR</td>\n      <td>Puerto Rico</td>\n      <td>BRFSS</td>\n      <td>Nutrition, Physical Activity, and Weight Status</td>\n      <td>No leisure-time physical activity among adults...</td>\n      <td>%</td>\n      <td>Age-adjusted Prevalence</td>\n      <td>44.7</td>\n      <td></td>\n      <td>...</td>\n      <td>46.8</td>\n      <td>Race/Ethnicity</td>\n      <td>Hispanic</td>\n      <td>POINT (-66.590149 18.220833)</td>\n      <td>72</td>\n      <td>NPAW</td>\n      <td>NPAW10_0</td>\n      <td>AGEADJPREV</td>\n      <td>RACE</td>\n      <td>HIS</td>\n    </tr>\n    <tr>\n      <th>1076903</th>\n      <td>2020</td>\n      <td>PR</td>\n      <td>Puerto Rico</td>\n      <td>BRFSS</td>\n      <td>Asthma</td>\n      <td>Influenza vaccination among noninstitutionaliz...</td>\n      <td>%</td>\n      <td>Age-adjusted Prevalence</td>\n      <td>46.6</td>\n      <td></td>\n      <td>...</td>\n      <td>61.4</td>\n      <td>Race/Ethnicity</td>\n      <td>Hispanic</td>\n      <td>POINT (-66.590149 18.220833)</td>\n      <td>72</td>\n      <td>AST</td>\n      <td>AST5_2</td>\n      <td>AGEADJPREV</td>\n      <td>RACE</td>\n      <td>HIS</td>\n    </tr>\n    <tr>\n      <th>1076967</th>\n      <td>2020</td>\n      <td>PR</td>\n      <td>Puerto Rico</td>\n      <td>BRFSS</td>\n      <td>Diabetes</td>\n      <td>Foot examination among adults aged &gt;= 18 years...</td>\n      <td>%</td>\n      <td>Crude Prevalence</td>\n      <td>38.5</td>\n      <td></td>\n      <td>...</td>\n      <td>50.0</td>\n      <td>Gender</td>\n      <td>Female</td>\n      <td>POINT (-66.590149 18.220833)</td>\n      <td>72</td>\n      <td>DIA</td>\n      <td>DIA5_0</td>\n      <td>CRDPREV</td>\n      <td>GENDER</td>\n      <td>GENF</td>\n    </tr>\n    <tr>\n      <th>1076971</th>\n      <td>2020</td>\n      <td>PR</td>\n      <td>Puerto Rico</td>\n      <td>BRFSS</td>\n      <td>Cancer</td>\n      <td>Fecal occult blood test, sigmoidoscopy, or col...</td>\n      <td>%</td>\n      <td>Crude Prevalence</td>\n      <td>68.7</td>\n      <td></td>\n      <td>...</td>\n      <td>74.0</td>\n      <td>Gender</td>\n      <td>Male</td>\n      <td>POINT (-66.590149 18.220833)</td>\n      <td>72</td>\n      <td>CAN</td>\n      <td>CAN3_0</td>\n      <td>CRDPREV</td>\n      <td>GENDER</td>\n      <td>GENM</td>\n    </tr>\n    <tr>\n      <th>1076980</th>\n      <td>2020</td>\n      <td>PR</td>\n      <td>Puerto Rico</td>\n      <td>BRFSS</td>\n      <td>Tobacco</td>\n      <td>Current smokeless tobacco use among adults age...</td>\n      <td>%</td>\n      <td>Crude Prevalence</td>\n      <td>0.6</td>\n      <td></td>\n      <td>...</td>\n      <td>1.1</td>\n      <td>Gender</td>\n      <td>Female</td>\n      <td>POINT (-66.590149 18.220833)</td>\n      <td>72</td>\n      <td>TOB</td>\n      <td>TOB2_2</td>\n      <td>CRDPREV</td>\n      <td>GENDER</td>\n      <td>GENF</td>\n    </tr>\n  </tbody>\n</table>\n<p>11336 rows × 22 columns</p>\n</div>"
     },
     "execution_count": 81,
     "metadata": {},
     "output_type": "execute_result"
    }
   ],
   "source": [
    "#Verifying if the data is deleted\n",
    "df_year_unincorporated"
   ],
   "metadata": {
    "collapsed": false
   }
  },
  {
   "cell_type": "code",
   "execution_count": 82,
   "outputs": [
    {
     "data": {
      "text/plain": "Year                     2010  2011  2012  2013  2014  2015  2016  2017  2018  \\\nDataValueType                                                                   \nAge-adjusted Mean           0    38    51    48    49    50    70    48    48   \nAge-adjusted Prevalence     0   425   447   479   457   449   581   431   407   \nCrude Prevalence           19   498   525   603   550   549   676   586   487   \nMean                        0    40    45    49    49    49    70    48    45   \nMedian                      0    24     0    25     0    26     0    38     0   \nNumber                      1     1     1     1     1     1     1     1     2   \nPercent                     0     0     0     0     4     0     1     1     7   \n\nYear                     2019  2020  \nDataValueType                        \nAge-adjusted Mean          51    48  \nAge-adjusted Prevalence   461   409  \nCrude Prevalence          656   457  \nMean                       50    47  \nMedian                     40     0  \nNumber                      2     0  \nPercent                     7     6  ",
      "text/html": "<div>\n<style scoped>\n    .dataframe tbody tr th:only-of-type {\n        vertical-align: middle;\n    }\n\n    .dataframe tbody tr th {\n        vertical-align: top;\n    }\n\n    .dataframe thead th {\n        text-align: right;\n    }\n</style>\n<table border=\"1\" class=\"dataframe\">\n  <thead>\n    <tr style=\"text-align: right;\">\n      <th>Year</th>\n      <th>2010</th>\n      <th>2011</th>\n      <th>2012</th>\n      <th>2013</th>\n      <th>2014</th>\n      <th>2015</th>\n      <th>2016</th>\n      <th>2017</th>\n      <th>2018</th>\n      <th>2019</th>\n      <th>2020</th>\n    </tr>\n    <tr>\n      <th>DataValueType</th>\n      <th></th>\n      <th></th>\n      <th></th>\n      <th></th>\n      <th></th>\n      <th></th>\n      <th></th>\n      <th></th>\n      <th></th>\n      <th></th>\n      <th></th>\n    </tr>\n  </thead>\n  <tbody>\n    <tr>\n      <th>Age-adjusted Mean</th>\n      <td>0</td>\n      <td>38</td>\n      <td>51</td>\n      <td>48</td>\n      <td>49</td>\n      <td>50</td>\n      <td>70</td>\n      <td>48</td>\n      <td>48</td>\n      <td>51</td>\n      <td>48</td>\n    </tr>\n    <tr>\n      <th>Age-adjusted Prevalence</th>\n      <td>0</td>\n      <td>425</td>\n      <td>447</td>\n      <td>479</td>\n      <td>457</td>\n      <td>449</td>\n      <td>581</td>\n      <td>431</td>\n      <td>407</td>\n      <td>461</td>\n      <td>409</td>\n    </tr>\n    <tr>\n      <th>Crude Prevalence</th>\n      <td>19</td>\n      <td>498</td>\n      <td>525</td>\n      <td>603</td>\n      <td>550</td>\n      <td>549</td>\n      <td>676</td>\n      <td>586</td>\n      <td>487</td>\n      <td>656</td>\n      <td>457</td>\n    </tr>\n    <tr>\n      <th>Mean</th>\n      <td>0</td>\n      <td>40</td>\n      <td>45</td>\n      <td>49</td>\n      <td>49</td>\n      <td>49</td>\n      <td>70</td>\n      <td>48</td>\n      <td>45</td>\n      <td>50</td>\n      <td>47</td>\n    </tr>\n    <tr>\n      <th>Median</th>\n      <td>0</td>\n      <td>24</td>\n      <td>0</td>\n      <td>25</td>\n      <td>0</td>\n      <td>26</td>\n      <td>0</td>\n      <td>38</td>\n      <td>0</td>\n      <td>40</td>\n      <td>0</td>\n    </tr>\n    <tr>\n      <th>Number</th>\n      <td>1</td>\n      <td>1</td>\n      <td>1</td>\n      <td>1</td>\n      <td>1</td>\n      <td>1</td>\n      <td>1</td>\n      <td>1</td>\n      <td>2</td>\n      <td>2</td>\n      <td>0</td>\n    </tr>\n    <tr>\n      <th>Percent</th>\n      <td>0</td>\n      <td>0</td>\n      <td>0</td>\n      <td>0</td>\n      <td>4</td>\n      <td>0</td>\n      <td>1</td>\n      <td>1</td>\n      <td>7</td>\n      <td>7</td>\n      <td>6</td>\n    </tr>\n  </tbody>\n</table>\n</div>"
     },
     "execution_count": 82,
     "metadata": {},
     "output_type": "execute_result"
    }
   ],
   "source": [
    "#Analyzing the DataValueTye available per year\n",
    "pd.crosstab(df_year_unincorporated.DataValueType,df_year_unincorporated.Year)"
   ],
   "metadata": {
    "collapsed": false
   }
  },
  {
   "cell_type": "code",
   "execution_count": 83,
   "outputs": [
    {
     "data": {
      "text/plain": "Topic                    Alcohol  Arthritis  Asthma  Cancer  \\\nDataValueType                                                 \nAge-adjusted Mean            174          0       0       0   \nAge-adjusted Prevalence      214        669     261     117   \nCrude Prevalence             326        672     292     141   \nMean                         173          0       0       0   \nMedian                         0          0       0       0   \nNumber                         0          0       0       0   \nPercent                        0          0       0       0   \n\nTopic                    Cardiovascular Disease  Chronic Kidney Disease  \\\nDataValueType                                                             \nAge-adjusted Mean                             0                       0   \nAge-adjusted Prevalence                     391                      81   \nCrude Prevalence                            419                      81   \nMean                                          0                       0   \nMedian                                        0                       0   \nNumber                                        0                       0   \nPercent                                       0                       0   \n\nTopic                    Chronic Obstructive Pulmonary Disease  Diabetes  \\\nDataValueType                                                              \nAge-adjusted Mean                                            0         0   \nAge-adjusted Prevalence                                    376       807   \nCrude Prevalence                                           379       874   \nMean                                                         0         0   \nMedian                                                       0         0   \nNumber                                                       0         0   \nPercent                                                      0         0   \n\nTopic                    Disability  Immunization  Mental Health  \\\nDataValueType                                                      \nAge-adjusted Mean                 0             0            114   \nAge-adjusted Prevalence           0           117              0   \nCrude Prevalence                 50           117             46   \nMean                              0             0            108   \nMedian                            0             0              0   \nNumber                            0             0              0   \nPercent                           0             0              0   \n\nTopic                    Nutrition, Physical Activity, and Weight Status  \\\nDataValueType                                                              \nAge-adjusted Mean                                                      0   \nAge-adjusted Prevalence                                              600   \nCrude Prevalence                                                     844   \nMean                                                                   4   \nMedian                                                               153   \nNumber                                                                 2   \nPercent                                                               19   \n\nTopic                    Older Adults  Oral Health  Overarching Conditions  \\\nDataValueType                                                                \nAge-adjusted Mean                   0            0                     213   \nAge-adjusted Prevalence            84          190                     270   \nCrude Prevalence                  139          226                     481   \nMean                                0            0                     207   \nMedian                              0            0                       0   \nNumber                              0            0                      10   \nPercent                             0            0                       0   \n\nTopic                    Reproductive Health  Tobacco  \nDataValueType                                          \nAge-adjusted Mean                          0        0  \nAge-adjusted Prevalence                    0      369  \nCrude Prevalence                          66      453  \nMean                                       0        0  \nMedian                                     0        0  \nNumber                                     0        0  \nPercent                                    0        7  ",
      "text/html": "<div>\n<style scoped>\n    .dataframe tbody tr th:only-of-type {\n        vertical-align: middle;\n    }\n\n    .dataframe tbody tr th {\n        vertical-align: top;\n    }\n\n    .dataframe thead th {\n        text-align: right;\n    }\n</style>\n<table border=\"1\" class=\"dataframe\">\n  <thead>\n    <tr style=\"text-align: right;\">\n      <th>Topic</th>\n      <th>Alcohol</th>\n      <th>Arthritis</th>\n      <th>Asthma</th>\n      <th>Cancer</th>\n      <th>Cardiovascular Disease</th>\n      <th>Chronic Kidney Disease</th>\n      <th>Chronic Obstructive Pulmonary Disease</th>\n      <th>Diabetes</th>\n      <th>Disability</th>\n      <th>Immunization</th>\n      <th>Mental Health</th>\n      <th>Nutrition, Physical Activity, and Weight Status</th>\n      <th>Older Adults</th>\n      <th>Oral Health</th>\n      <th>Overarching Conditions</th>\n      <th>Reproductive Health</th>\n      <th>Tobacco</th>\n    </tr>\n    <tr>\n      <th>DataValueType</th>\n      <th></th>\n      <th></th>\n      <th></th>\n      <th></th>\n      <th></th>\n      <th></th>\n      <th></th>\n      <th></th>\n      <th></th>\n      <th></th>\n      <th></th>\n      <th></th>\n      <th></th>\n      <th></th>\n      <th></th>\n      <th></th>\n      <th></th>\n    </tr>\n  </thead>\n  <tbody>\n    <tr>\n      <th>Age-adjusted Mean</th>\n      <td>174</td>\n      <td>0</td>\n      <td>0</td>\n      <td>0</td>\n      <td>0</td>\n      <td>0</td>\n      <td>0</td>\n      <td>0</td>\n      <td>0</td>\n      <td>0</td>\n      <td>114</td>\n      <td>0</td>\n      <td>0</td>\n      <td>0</td>\n      <td>213</td>\n      <td>0</td>\n      <td>0</td>\n    </tr>\n    <tr>\n      <th>Age-adjusted Prevalence</th>\n      <td>214</td>\n      <td>669</td>\n      <td>261</td>\n      <td>117</td>\n      <td>391</td>\n      <td>81</td>\n      <td>376</td>\n      <td>807</td>\n      <td>0</td>\n      <td>117</td>\n      <td>0</td>\n      <td>600</td>\n      <td>84</td>\n      <td>190</td>\n      <td>270</td>\n      <td>0</td>\n      <td>369</td>\n    </tr>\n    <tr>\n      <th>Crude Prevalence</th>\n      <td>326</td>\n      <td>672</td>\n      <td>292</td>\n      <td>141</td>\n      <td>419</td>\n      <td>81</td>\n      <td>379</td>\n      <td>874</td>\n      <td>50</td>\n      <td>117</td>\n      <td>46</td>\n      <td>844</td>\n      <td>139</td>\n      <td>226</td>\n      <td>481</td>\n      <td>66</td>\n      <td>453</td>\n    </tr>\n    <tr>\n      <th>Mean</th>\n      <td>173</td>\n      <td>0</td>\n      <td>0</td>\n      <td>0</td>\n      <td>0</td>\n      <td>0</td>\n      <td>0</td>\n      <td>0</td>\n      <td>0</td>\n      <td>0</td>\n      <td>108</td>\n      <td>4</td>\n      <td>0</td>\n      <td>0</td>\n      <td>207</td>\n      <td>0</td>\n      <td>0</td>\n    </tr>\n    <tr>\n      <th>Median</th>\n      <td>0</td>\n      <td>0</td>\n      <td>0</td>\n      <td>0</td>\n      <td>0</td>\n      <td>0</td>\n      <td>0</td>\n      <td>0</td>\n      <td>0</td>\n      <td>0</td>\n      <td>0</td>\n      <td>153</td>\n      <td>0</td>\n      <td>0</td>\n      <td>0</td>\n      <td>0</td>\n      <td>0</td>\n    </tr>\n    <tr>\n      <th>Number</th>\n      <td>0</td>\n      <td>0</td>\n      <td>0</td>\n      <td>0</td>\n      <td>0</td>\n      <td>0</td>\n      <td>0</td>\n      <td>0</td>\n      <td>0</td>\n      <td>0</td>\n      <td>0</td>\n      <td>2</td>\n      <td>0</td>\n      <td>0</td>\n      <td>10</td>\n      <td>0</td>\n      <td>0</td>\n    </tr>\n    <tr>\n      <th>Percent</th>\n      <td>0</td>\n      <td>0</td>\n      <td>0</td>\n      <td>0</td>\n      <td>0</td>\n      <td>0</td>\n      <td>0</td>\n      <td>0</td>\n      <td>0</td>\n      <td>0</td>\n      <td>0</td>\n      <td>19</td>\n      <td>0</td>\n      <td>0</td>\n      <td>0</td>\n      <td>0</td>\n      <td>7</td>\n    </tr>\n  </tbody>\n</table>\n</div>"
     },
     "execution_count": 83,
     "metadata": {},
     "output_type": "execute_result"
    }
   ],
   "source": [
    "#Analyzin the DataValueType available per Topic\n",
    "pd.crosstab(df_year_unincorporated.DataValueType,df_year_unincorporated.Topic)"
   ],
   "metadata": {
    "collapsed": false
   }
  },
  {
   "cell_type": "code",
   "execution_count": 96,
   "outputs": [
    {
     "data": {
      "text/plain": "StratificationCategory1  Gender  Overall  Race/Ethnicity\nDataValueType                                           \nAge-adjusted Mean           208      105             188\nAge-adjusted Prevalence    1854     1103            1589\nCrude Prevalence           2083     1508            2015\nMean                        208      109             175\nMedian                       56       35              62\nNumber                        0       12               0\nPercent                       0       26               0",
      "text/html": "<div>\n<style scoped>\n    .dataframe tbody tr th:only-of-type {\n        vertical-align: middle;\n    }\n\n    .dataframe tbody tr th {\n        vertical-align: top;\n    }\n\n    .dataframe thead th {\n        text-align: right;\n    }\n</style>\n<table border=\"1\" class=\"dataframe\">\n  <thead>\n    <tr style=\"text-align: right;\">\n      <th>StratificationCategory1</th>\n      <th>Gender</th>\n      <th>Overall</th>\n      <th>Race/Ethnicity</th>\n    </tr>\n    <tr>\n      <th>DataValueType</th>\n      <th></th>\n      <th></th>\n      <th></th>\n    </tr>\n  </thead>\n  <tbody>\n    <tr>\n      <th>Age-adjusted Mean</th>\n      <td>208</td>\n      <td>105</td>\n      <td>188</td>\n    </tr>\n    <tr>\n      <th>Age-adjusted Prevalence</th>\n      <td>1854</td>\n      <td>1103</td>\n      <td>1589</td>\n    </tr>\n    <tr>\n      <th>Crude Prevalence</th>\n      <td>2083</td>\n      <td>1508</td>\n      <td>2015</td>\n    </tr>\n    <tr>\n      <th>Mean</th>\n      <td>208</td>\n      <td>109</td>\n      <td>175</td>\n    </tr>\n    <tr>\n      <th>Median</th>\n      <td>56</td>\n      <td>35</td>\n      <td>62</td>\n    </tr>\n    <tr>\n      <th>Number</th>\n      <td>0</td>\n      <td>12</td>\n      <td>0</td>\n    </tr>\n    <tr>\n      <th>Percent</th>\n      <td>0</td>\n      <td>26</td>\n      <td>0</td>\n    </tr>\n  </tbody>\n</table>\n</div>"
     },
     "execution_count": 96,
     "metadata": {},
     "output_type": "execute_result"
    }
   ],
   "source": [
    "pd.crosstab(df_year_unincorporated.DataValueType,df_year_unincorporated.StratificationCategory1)"
   ],
   "metadata": {
    "collapsed": false
   }
  },
  {
   "cell_type": "code",
   "execution_count": 84,
   "outputs": [],
   "source": [
    "df_year_unincorporated.to_csv('dataunincorporated.csv')"
   ],
   "metadata": {
    "collapsed": false
   }
  },
  {
   "cell_type": "markdown",
   "source": [
    "Analysis 50 states - MAINLAND US and National index"
   ],
   "metadata": {
    "collapsed": false
   }
  },
  {
   "cell_type": "code",
   "execution_count": 85,
   "outputs": [],
   "source": [
    "df_year_mainland = df_per_year[df_per_year['State'].str.contains('Guam|Puerto Rico|Virgin Islands') == False]"
   ],
   "metadata": {
    "collapsed": false
   }
  },
  {
   "cell_type": "code",
   "execution_count": 86,
   "outputs": [
    {
     "data": {
      "text/plain": "(902296, 22)"
     },
     "execution_count": 86,
     "metadata": {},
     "output_type": "execute_result"
    }
   ],
   "source": [
    "df_year_mainland.shape"
   ],
   "metadata": {
    "collapsed": false
   }
  },
  {
   "cell_type": "code",
   "execution_count": 87,
   "outputs": [
    {
     "data": {
      "text/plain": "Crude Prevalence                                                    320833\nAge-adjusted Prevalence                                             242678\nNumber                                                               96761\nCrude Rate                                                           94162\nAge-adjusted Rate                                                    94162\nMean                                                                 20758\nAge-adjusted Mean                                                    20550\nMedian                                                                5982\nPercent                                                               2501\nYes/No                                                                1689\nAdjusted by age, sex, race and ethnicity                               832\nUS Dollars                                                             765\nPer capita alcohol consumption                                         260\nLocal control of the regulation of alcohol outlet density              156\nCommercial host (dram shop) liability status for alcohol service       155\nPrevalence                                                              52\nName: DataValueType, dtype: int64"
     },
     "execution_count": 87,
     "metadata": {},
     "output_type": "execute_result"
    }
   ],
   "source": [
    "# Check the data available, Crude Prevalence and Age-Adjusted Prevalence are the most available data.\n",
    "df_year_mainland[\"DataValueType\"].value_counts()"
   ],
   "metadata": {
    "collapsed": false
   }
  },
  {
   "cell_type": "code",
   "execution_count": 88,
   "outputs": [
    {
     "data": {
      "text/plain": "289621"
     },
     "execution_count": 88,
     "metadata": {},
     "output_type": "execute_result"
    }
   ],
   "source": [
    "#Counting the missing values.\n",
    "df_year_mainland['DataValue'].isna().sum()"
   ],
   "metadata": {
    "collapsed": false
   }
  },
  {
   "cell_type": "code",
   "execution_count": 89,
   "outputs": [],
   "source": [
    "#Due to the heterogeneity of the sources, years of the data, we are going to drop the missing values.\n",
    "#Deleting the missing values\n",
    "df_year_mainland=df_year_mainland[~df_year_mainland['DataValue'].isna()]"
   ],
   "metadata": {
    "collapsed": false
   }
  },
  {
   "cell_type": "code",
   "execution_count": 91,
   "outputs": [
    {
     "data": {
      "text/plain": "(612675, 22)"
     },
     "execution_count": 91,
     "metadata": {},
     "output_type": "execute_result"
    }
   ],
   "source": [
    "df_year_mainland.shape"
   ],
   "metadata": {
    "collapsed": false
   }
  },
  {
   "cell_type": "code",
   "execution_count": 99,
   "outputs": [
    {
     "data": {
      "text/plain": "Year                                      2001  2007  2009  2010   2011  \\\nDataValueType                                                             \nAdjusted by age, sex, race and ethnicity     0     0     0     0    104   \nAge-adjusted Mean                            0     0     0     0   1240   \nAge-adjusted Prevalence                      0     0     0     0  16045   \nAge-adjusted Rate                            0     0     0  6701   5142   \nCrude Prevalence                             0     0     0  1425  18960   \nCrude Rate                                   0     0     0  6701   5142   \nMean                                         0     0     0     0   1278   \nMedian                                       0     0     0     0    788   \nNumber                                     104     0   312  6753   5298   \nPer capita alcohol consumption               0     0     0    52      0   \nPercent                                      0    51     0     0     52   \nPrevalence                                   0     0     0    52      0   \nUS Dollars                                   0     0     0     0      0   \n\nYear                                       2012   2013   2014   2015   2016  \\\nDataValueType                                                                 \nAdjusted by age, sex, race and ethnicity    104    104    104    104    104   \nAge-adjusted Mean                          1704   1684   1675   1659   1685   \nAge-adjusted Prevalence                   16310  17941  16097  17629  15919   \nAge-adjusted Rate                          5160   6456   6842   6777   6809   \nCrude Prevalence                          20341  24330  20388  23547  19987   \nCrude Rate                                 5160   6456   6842   6777   6809   \nMean                                       1445   1705   1641   1685   1662   \nMedian                                        0    853      0    850      0   \nNumber                                     5368   6663   7049   6933   7016   \nPer capita alcohol consumption                0      0     52      0     52   \nPercent                                     414    156    452    104    349   \nPrevalence                                    0      0      0      0      0   \nUS Dollars                                  123      0      0    123      0   \n\nYear                                       2017   2018   2019   2020  \nDataValueType                                                         \nAdjusted by age, sex, race and ethnicity    104    104      0      0  \nAge-adjusted Mean                          1709   1707   1684   1681  \nAge-adjusted Prevalence                   16864  15824  16465  15408  \nAge-adjusted Rate                          6896   7258   5390      0  \nCrude Prevalence                          23946  19971  23355  17297  \nCrude Rate                                 6896   7258   5390      0  \nMean                                       1686   1741   1667   1670  \nMedian                                     1261      0   1215      0  \nNumber                                     7155   7828   5544      0  \nPer capita alcohol consumption                0     52     52      0  \nPercent                                     104    421    200    104  \nPrevalence                                    0      0      0      0  \nUS Dollars                                  123      0    123    123  ",
      "text/html": "<div>\n<style scoped>\n    .dataframe tbody tr th:only-of-type {\n        vertical-align: middle;\n    }\n\n    .dataframe tbody tr th {\n        vertical-align: top;\n    }\n\n    .dataframe thead th {\n        text-align: right;\n    }\n</style>\n<table border=\"1\" class=\"dataframe\">\n  <thead>\n    <tr style=\"text-align: right;\">\n      <th>Year</th>\n      <th>2001</th>\n      <th>2007</th>\n      <th>2009</th>\n      <th>2010</th>\n      <th>2011</th>\n      <th>2012</th>\n      <th>2013</th>\n      <th>2014</th>\n      <th>2015</th>\n      <th>2016</th>\n      <th>2017</th>\n      <th>2018</th>\n      <th>2019</th>\n      <th>2020</th>\n    </tr>\n    <tr>\n      <th>DataValueType</th>\n      <th></th>\n      <th></th>\n      <th></th>\n      <th></th>\n      <th></th>\n      <th></th>\n      <th></th>\n      <th></th>\n      <th></th>\n      <th></th>\n      <th></th>\n      <th></th>\n      <th></th>\n      <th></th>\n    </tr>\n  </thead>\n  <tbody>\n    <tr>\n      <th>Adjusted by age, sex, race and ethnicity</th>\n      <td>0</td>\n      <td>0</td>\n      <td>0</td>\n      <td>0</td>\n      <td>104</td>\n      <td>104</td>\n      <td>104</td>\n      <td>104</td>\n      <td>104</td>\n      <td>104</td>\n      <td>104</td>\n      <td>104</td>\n      <td>0</td>\n      <td>0</td>\n    </tr>\n    <tr>\n      <th>Age-adjusted Mean</th>\n      <td>0</td>\n      <td>0</td>\n      <td>0</td>\n      <td>0</td>\n      <td>1240</td>\n      <td>1704</td>\n      <td>1684</td>\n      <td>1675</td>\n      <td>1659</td>\n      <td>1685</td>\n      <td>1709</td>\n      <td>1707</td>\n      <td>1684</td>\n      <td>1681</td>\n    </tr>\n    <tr>\n      <th>Age-adjusted Prevalence</th>\n      <td>0</td>\n      <td>0</td>\n      <td>0</td>\n      <td>0</td>\n      <td>16045</td>\n      <td>16310</td>\n      <td>17941</td>\n      <td>16097</td>\n      <td>17629</td>\n      <td>15919</td>\n      <td>16864</td>\n      <td>15824</td>\n      <td>16465</td>\n      <td>15408</td>\n    </tr>\n    <tr>\n      <th>Age-adjusted Rate</th>\n      <td>0</td>\n      <td>0</td>\n      <td>0</td>\n      <td>6701</td>\n      <td>5142</td>\n      <td>5160</td>\n      <td>6456</td>\n      <td>6842</td>\n      <td>6777</td>\n      <td>6809</td>\n      <td>6896</td>\n      <td>7258</td>\n      <td>5390</td>\n      <td>0</td>\n    </tr>\n    <tr>\n      <th>Crude Prevalence</th>\n      <td>0</td>\n      <td>0</td>\n      <td>0</td>\n      <td>1425</td>\n      <td>18960</td>\n      <td>20341</td>\n      <td>24330</td>\n      <td>20388</td>\n      <td>23547</td>\n      <td>19987</td>\n      <td>23946</td>\n      <td>19971</td>\n      <td>23355</td>\n      <td>17297</td>\n    </tr>\n    <tr>\n      <th>Crude Rate</th>\n      <td>0</td>\n      <td>0</td>\n      <td>0</td>\n      <td>6701</td>\n      <td>5142</td>\n      <td>5160</td>\n      <td>6456</td>\n      <td>6842</td>\n      <td>6777</td>\n      <td>6809</td>\n      <td>6896</td>\n      <td>7258</td>\n      <td>5390</td>\n      <td>0</td>\n    </tr>\n    <tr>\n      <th>Mean</th>\n      <td>0</td>\n      <td>0</td>\n      <td>0</td>\n      <td>0</td>\n      <td>1278</td>\n      <td>1445</td>\n      <td>1705</td>\n      <td>1641</td>\n      <td>1685</td>\n      <td>1662</td>\n      <td>1686</td>\n      <td>1741</td>\n      <td>1667</td>\n      <td>1670</td>\n    </tr>\n    <tr>\n      <th>Median</th>\n      <td>0</td>\n      <td>0</td>\n      <td>0</td>\n      <td>0</td>\n      <td>788</td>\n      <td>0</td>\n      <td>853</td>\n      <td>0</td>\n      <td>850</td>\n      <td>0</td>\n      <td>1261</td>\n      <td>0</td>\n      <td>1215</td>\n      <td>0</td>\n    </tr>\n    <tr>\n      <th>Number</th>\n      <td>104</td>\n      <td>0</td>\n      <td>312</td>\n      <td>6753</td>\n      <td>5298</td>\n      <td>5368</td>\n      <td>6663</td>\n      <td>7049</td>\n      <td>6933</td>\n      <td>7016</td>\n      <td>7155</td>\n      <td>7828</td>\n      <td>5544</td>\n      <td>0</td>\n    </tr>\n    <tr>\n      <th>Per capita alcohol consumption</th>\n      <td>0</td>\n      <td>0</td>\n      <td>0</td>\n      <td>52</td>\n      <td>0</td>\n      <td>0</td>\n      <td>0</td>\n      <td>52</td>\n      <td>0</td>\n      <td>52</td>\n      <td>0</td>\n      <td>52</td>\n      <td>52</td>\n      <td>0</td>\n    </tr>\n    <tr>\n      <th>Percent</th>\n      <td>0</td>\n      <td>51</td>\n      <td>0</td>\n      <td>0</td>\n      <td>52</td>\n      <td>414</td>\n      <td>156</td>\n      <td>452</td>\n      <td>104</td>\n      <td>349</td>\n      <td>104</td>\n      <td>421</td>\n      <td>200</td>\n      <td>104</td>\n    </tr>\n    <tr>\n      <th>Prevalence</th>\n      <td>0</td>\n      <td>0</td>\n      <td>0</td>\n      <td>52</td>\n      <td>0</td>\n      <td>0</td>\n      <td>0</td>\n      <td>0</td>\n      <td>0</td>\n      <td>0</td>\n      <td>0</td>\n      <td>0</td>\n      <td>0</td>\n      <td>0</td>\n    </tr>\n    <tr>\n      <th>US Dollars</th>\n      <td>0</td>\n      <td>0</td>\n      <td>0</td>\n      <td>0</td>\n      <td>0</td>\n      <td>123</td>\n      <td>0</td>\n      <td>0</td>\n      <td>123</td>\n      <td>0</td>\n      <td>123</td>\n      <td>0</td>\n      <td>123</td>\n      <td>123</td>\n    </tr>\n  </tbody>\n</table>\n</div>"
     },
     "execution_count": 99,
     "metadata": {},
     "output_type": "execute_result"
    }
   ],
   "source": [
    "#Analyzing the DataValueTye available per year\n",
    "pd.crosstab(df_year_mainland.DataValueType,df_year_mainland.Year)"
   ],
   "metadata": {
    "collapsed": false
   }
  },
  {
   "cell_type": "code",
   "execution_count": 94,
   "outputs": [
    {
     "data": {
      "text/plain": "Topic                                     Alcohol  Arthritis  Asthma  Cancer  \\\nDataValueType                                                                  \nAdjusted by age, sex, race and ethnicity        0          0       0       0   \nAge-adjusted Mean                            5357          0       0       0   \nAge-adjusted Prevalence                      6335      23094   12214    3929   \nAge-adjusted Rate                            2736          0    3445       0   \nCrude Prevalence                            11958      22806   13570    4878   \nCrude Rate                                   2736          0    3445       0   \nMean                                         5342          0       0       0   \nMedian                                          0          0       0       0   \nNumber                                       2736          0    3445       0   \nPer capita alcohol consumption                260          0       0       0   \nPercent                                         0          0       0       0   \nPrevalence                                      0          0       0       0   \nUS Dollars                                    615          0       0       0   \n\nTopic                                     Cardiovascular Disease  \\\nDataValueType                                                      \nAdjusted by age, sex, race and ethnicity                       0   \nAge-adjusted Mean                                              0   \nAge-adjusted Prevalence                                    16090   \nAge-adjusted Rate                                          22745   \nCrude Prevalence                                           16920   \nCrude Rate                                                 22745   \nMean                                                           0   \nMedian                                                         0   \nNumber                                                     22745   \nPer capita alcohol consumption                                 0   \nPercent                                                        0   \nPrevalence                                                     0   \nUS Dollars                                                     0   \n\nTopic                                     Chronic Kidney Disease  \\\nDataValueType                                                      \nAdjusted by age, sex, race and ethnicity                     832   \nAge-adjusted Mean                                              0   \nAge-adjusted Prevalence                                     2627   \nAge-adjusted Rate                                           3313   \nCrude Prevalence                                            2587   \nCrude Rate                                                  3313   \nMean                                                           0   \nMedian                                                         0   \nNumber                                                      4145   \nPer capita alcohol consumption                                 0   \nPercent                                                        0   \nPrevalence                                                     0   \nUS Dollars                                                     0   \n\nTopic                                     Chronic Obstructive Pulmonary Disease  \\\nDataValueType                                                                     \nAdjusted by age, sex, race and ethnicity                                      0   \nAge-adjusted Mean                                                             0   \nAge-adjusted Prevalence                                                   18026   \nAge-adjusted Rate                                                         17043   \nCrude Prevalence                                                          17736   \nCrude Rate                                                                17043   \nMean                                                                          0   \nMedian                                                                        0   \nNumber                                                                    17043   \nPer capita alcohol consumption                                                0   \nPercent                                                                       0   \nPrevalence                                                                    0   \nUS Dollars                                                                    0   \n\nTopic                                     Diabetes  Disability  Immunization  \\\nDataValueType                                                                  \nAdjusted by age, sex, race and ethnicity         0           0             0   \nAge-adjusted Mean                                0           0             0   \nAge-adjusted Prevalence                      25901           0          3954   \nAge-adjusted Rate                             7508           0             0   \nCrude Prevalence                             27114        3189          3939   \nCrude Rate                                    7508           0             0   \nMean                                             0           0             0   \nMedian                                           0           0             0   \nNumber                                        7508           0             0   \nPer capita alcohol consumption                   0           0             0   \nPercent                                          0           0             0   \nPrevalence                                      52           0             0   \nUS Dollars                                       0           0             0   \n\nTopic                                     Mental Health  \\\nDataValueType                                             \nAdjusted by age, sex, race and ethnicity              0   \nAge-adjusted Mean                                  3899   \nAge-adjusted Prevalence                               0   \nAge-adjusted Rate                                     0   \nCrude Prevalence                                   1852   \nCrude Rate                                            0   \nMean                                               3613   \nMedian                                                0   \nNumber                                                0   \nPer capita alcohol consumption                        0   \nPercent                                               0   \nPrevalence                                            0   \nUS Dollars                                            0   \n\nTopic                                     Nutrition, Physical Activity, and Weight Status  \\\nDataValueType                                                                               \nAdjusted by age, sex, race and ethnicity                                                0   \nAge-adjusted Mean                                                                       0   \nAge-adjusted Prevalence                                                             20381   \nAge-adjusted Rate                                                                       0   \nCrude Prevalence                                                                    29797   \nCrude Rate                                                                              0   \nMean                                                                                  206   \nMedian                                                                               4967   \nNumber                                                                                206   \nPer capita alcohol consumption                                                          0   \nPercent                                                                              1706   \nPrevalence                                                                              0   \nUS Dollars                                                                              0   \n\nTopic                                     Older Adults  Oral Health  \\\nDataValueType                                                         \nAdjusted by age, sex, race and ethnicity             0            0   \nAge-adjusted Mean                                    0            0   \nAge-adjusted Prevalence                           2798         6314   \nAge-adjusted Rate                                 2960            0   \nCrude Prevalence                                  6365         8417   \nCrude Rate                                        2960            0   \nMean                                                 0            0   \nMedian                                               0            0   \nNumber                                            2960            0   \nPer capita alcohol consumption                       0            0   \nPercent                                              0          208   \nPrevalence                                           0            0   \nUS Dollars                                           0            0   \n\nTopic                                     Overarching Conditions  \\\nDataValueType                                                      \nAdjusted by age, sex, race and ethnicity                       0   \nAge-adjusted Mean                                           7172   \nAge-adjusted Prevalence                                     9012   \nAge-adjusted Rate                                           3681   \nCrude Prevalence                                           19242   \nCrude Rate                                                  3681   \nMean                                                        7019   \nMedian                                                         0   \nNumber                                                      4929   \nPer capita alcohol consumption                                 0   \nPercent                                                        0   \nPrevalence                                                     0   \nUS Dollars                                                     0   \n\nTopic                                     Reproductive Health  Tobacco  \nDataValueType                                                           \nAdjusted by age, sex, race and ethnicity                    0        0  \nAge-adjusted Mean                                           0        0  \nAge-adjusted Prevalence                                     0    13827  \nAge-adjusted Rate                                           0        0  \nCrude Prevalence                                         4807    18370  \nCrude Rate                                                  0        0  \nMean                                                        0        0  \nMedian                                                      0        0  \nNumber                                                      0      306  \nPer capita alcohol consumption                              0        0  \nPercent                                                     0      493  \nPrevalence                                                  0        0  \nUS Dollars                                                  0        0  ",
      "text/html": "<div>\n<style scoped>\n    .dataframe tbody tr th:only-of-type {\n        vertical-align: middle;\n    }\n\n    .dataframe tbody tr th {\n        vertical-align: top;\n    }\n\n    .dataframe thead th {\n        text-align: right;\n    }\n</style>\n<table border=\"1\" class=\"dataframe\">\n  <thead>\n    <tr style=\"text-align: right;\">\n      <th>Topic</th>\n      <th>Alcohol</th>\n      <th>Arthritis</th>\n      <th>Asthma</th>\n      <th>Cancer</th>\n      <th>Cardiovascular Disease</th>\n      <th>Chronic Kidney Disease</th>\n      <th>Chronic Obstructive Pulmonary Disease</th>\n      <th>Diabetes</th>\n      <th>Disability</th>\n      <th>Immunization</th>\n      <th>Mental Health</th>\n      <th>Nutrition, Physical Activity, and Weight Status</th>\n      <th>Older Adults</th>\n      <th>Oral Health</th>\n      <th>Overarching Conditions</th>\n      <th>Reproductive Health</th>\n      <th>Tobacco</th>\n    </tr>\n    <tr>\n      <th>DataValueType</th>\n      <th></th>\n      <th></th>\n      <th></th>\n      <th></th>\n      <th></th>\n      <th></th>\n      <th></th>\n      <th></th>\n      <th></th>\n      <th></th>\n      <th></th>\n      <th></th>\n      <th></th>\n      <th></th>\n      <th></th>\n      <th></th>\n      <th></th>\n    </tr>\n  </thead>\n  <tbody>\n    <tr>\n      <th>Adjusted by age, sex, race and ethnicity</th>\n      <td>0</td>\n      <td>0</td>\n      <td>0</td>\n      <td>0</td>\n      <td>0</td>\n      <td>832</td>\n      <td>0</td>\n      <td>0</td>\n      <td>0</td>\n      <td>0</td>\n      <td>0</td>\n      <td>0</td>\n      <td>0</td>\n      <td>0</td>\n      <td>0</td>\n      <td>0</td>\n      <td>0</td>\n    </tr>\n    <tr>\n      <th>Age-adjusted Mean</th>\n      <td>5357</td>\n      <td>0</td>\n      <td>0</td>\n      <td>0</td>\n      <td>0</td>\n      <td>0</td>\n      <td>0</td>\n      <td>0</td>\n      <td>0</td>\n      <td>0</td>\n      <td>3899</td>\n      <td>0</td>\n      <td>0</td>\n      <td>0</td>\n      <td>7172</td>\n      <td>0</td>\n      <td>0</td>\n    </tr>\n    <tr>\n      <th>Age-adjusted Prevalence</th>\n      <td>6335</td>\n      <td>23094</td>\n      <td>12214</td>\n      <td>3929</td>\n      <td>16090</td>\n      <td>2627</td>\n      <td>18026</td>\n      <td>25901</td>\n      <td>0</td>\n      <td>3954</td>\n      <td>0</td>\n      <td>20381</td>\n      <td>2798</td>\n      <td>6314</td>\n      <td>9012</td>\n      <td>0</td>\n      <td>13827</td>\n    </tr>\n    <tr>\n      <th>Age-adjusted Rate</th>\n      <td>2736</td>\n      <td>0</td>\n      <td>3445</td>\n      <td>0</td>\n      <td>22745</td>\n      <td>3313</td>\n      <td>17043</td>\n      <td>7508</td>\n      <td>0</td>\n      <td>0</td>\n      <td>0</td>\n      <td>0</td>\n      <td>2960</td>\n      <td>0</td>\n      <td>3681</td>\n      <td>0</td>\n      <td>0</td>\n    </tr>\n    <tr>\n      <th>Crude Prevalence</th>\n      <td>11958</td>\n      <td>22806</td>\n      <td>13570</td>\n      <td>4878</td>\n      <td>16920</td>\n      <td>2587</td>\n      <td>17736</td>\n      <td>27114</td>\n      <td>3189</td>\n      <td>3939</td>\n      <td>1852</td>\n      <td>29797</td>\n      <td>6365</td>\n      <td>8417</td>\n      <td>19242</td>\n      <td>4807</td>\n      <td>18370</td>\n    </tr>\n    <tr>\n      <th>Crude Rate</th>\n      <td>2736</td>\n      <td>0</td>\n      <td>3445</td>\n      <td>0</td>\n      <td>22745</td>\n      <td>3313</td>\n      <td>17043</td>\n      <td>7508</td>\n      <td>0</td>\n      <td>0</td>\n      <td>0</td>\n      <td>0</td>\n      <td>2960</td>\n      <td>0</td>\n      <td>3681</td>\n      <td>0</td>\n      <td>0</td>\n    </tr>\n    <tr>\n      <th>Mean</th>\n      <td>5342</td>\n      <td>0</td>\n      <td>0</td>\n      <td>0</td>\n      <td>0</td>\n      <td>0</td>\n      <td>0</td>\n      <td>0</td>\n      <td>0</td>\n      <td>0</td>\n      <td>3613</td>\n      <td>206</td>\n      <td>0</td>\n      <td>0</td>\n      <td>7019</td>\n      <td>0</td>\n      <td>0</td>\n    </tr>\n    <tr>\n      <th>Median</th>\n      <td>0</td>\n      <td>0</td>\n      <td>0</td>\n      <td>0</td>\n      <td>0</td>\n      <td>0</td>\n      <td>0</td>\n      <td>0</td>\n      <td>0</td>\n      <td>0</td>\n      <td>0</td>\n      <td>4967</td>\n      <td>0</td>\n      <td>0</td>\n      <td>0</td>\n      <td>0</td>\n      <td>0</td>\n    </tr>\n    <tr>\n      <th>Number</th>\n      <td>2736</td>\n      <td>0</td>\n      <td>3445</td>\n      <td>0</td>\n      <td>22745</td>\n      <td>4145</td>\n      <td>17043</td>\n      <td>7508</td>\n      <td>0</td>\n      <td>0</td>\n      <td>0</td>\n      <td>206</td>\n      <td>2960</td>\n      <td>0</td>\n      <td>4929</td>\n      <td>0</td>\n      <td>306</td>\n    </tr>\n    <tr>\n      <th>Per capita alcohol consumption</th>\n      <td>260</td>\n      <td>0</td>\n      <td>0</td>\n      <td>0</td>\n      <td>0</td>\n      <td>0</td>\n      <td>0</td>\n      <td>0</td>\n      <td>0</td>\n      <td>0</td>\n      <td>0</td>\n      <td>0</td>\n      <td>0</td>\n      <td>0</td>\n      <td>0</td>\n      <td>0</td>\n      <td>0</td>\n    </tr>\n    <tr>\n      <th>Percent</th>\n      <td>0</td>\n      <td>0</td>\n      <td>0</td>\n      <td>0</td>\n      <td>0</td>\n      <td>0</td>\n      <td>0</td>\n      <td>0</td>\n      <td>0</td>\n      <td>0</td>\n      <td>0</td>\n      <td>1706</td>\n      <td>0</td>\n      <td>208</td>\n      <td>0</td>\n      <td>0</td>\n      <td>493</td>\n    </tr>\n    <tr>\n      <th>Prevalence</th>\n      <td>0</td>\n      <td>0</td>\n      <td>0</td>\n      <td>0</td>\n      <td>0</td>\n      <td>0</td>\n      <td>0</td>\n      <td>52</td>\n      <td>0</td>\n      <td>0</td>\n      <td>0</td>\n      <td>0</td>\n      <td>0</td>\n      <td>0</td>\n      <td>0</td>\n      <td>0</td>\n      <td>0</td>\n    </tr>\n    <tr>\n      <th>US Dollars</th>\n      <td>615</td>\n      <td>0</td>\n      <td>0</td>\n      <td>0</td>\n      <td>0</td>\n      <td>0</td>\n      <td>0</td>\n      <td>0</td>\n      <td>0</td>\n      <td>0</td>\n      <td>0</td>\n      <td>0</td>\n      <td>0</td>\n      <td>0</td>\n      <td>0</td>\n      <td>0</td>\n      <td>0</td>\n    </tr>\n  </tbody>\n</table>\n</div>"
     },
     "execution_count": 94,
     "metadata": {},
     "output_type": "execute_result"
    }
   ],
   "source": [
    "#Analyzing the DataValueType available per Topic\n",
    "pd.crosstab(df_year_mainland.DataValueType,df_year_mainland.Topic)"
   ],
   "metadata": {
    "collapsed": false
   }
  },
  {
   "cell_type": "code",
   "execution_count": 97,
   "outputs": [
    {
     "data": {
      "text/plain": "StratificationCategory1                   Gender  Overall  Race/Ethnicity\nDataValueType                                                            \nAdjusted by age, sex, race and ethnicity       0      832               0\nAge-adjusted Mean                           5190     2595            8643\nAge-adjusted Prevalence                    56731    29350           78421\nAge-adjusted Rate                          19733    10169           33529\nCrude Prevalence                           64115    42434          106998\nCrude Rate                                 19733    10169           33529\nMean                                        5190     2801            8189\nMedian                                      1326      808            2833\nNumber                                     20149    12345           33529\nPer capita alcohol consumption                 0      260               0\nPercent                                        0     2407               0\nPrevalence                                     0       52               0\nUS Dollars                                     0      615               0",
      "text/html": "<div>\n<style scoped>\n    .dataframe tbody tr th:only-of-type {\n        vertical-align: middle;\n    }\n\n    .dataframe tbody tr th {\n        vertical-align: top;\n    }\n\n    .dataframe thead th {\n        text-align: right;\n    }\n</style>\n<table border=\"1\" class=\"dataframe\">\n  <thead>\n    <tr style=\"text-align: right;\">\n      <th>StratificationCategory1</th>\n      <th>Gender</th>\n      <th>Overall</th>\n      <th>Race/Ethnicity</th>\n    </tr>\n    <tr>\n      <th>DataValueType</th>\n      <th></th>\n      <th></th>\n      <th></th>\n    </tr>\n  </thead>\n  <tbody>\n    <tr>\n      <th>Adjusted by age, sex, race and ethnicity</th>\n      <td>0</td>\n      <td>832</td>\n      <td>0</td>\n    </tr>\n    <tr>\n      <th>Age-adjusted Mean</th>\n      <td>5190</td>\n      <td>2595</td>\n      <td>8643</td>\n    </tr>\n    <tr>\n      <th>Age-adjusted Prevalence</th>\n      <td>56731</td>\n      <td>29350</td>\n      <td>78421</td>\n    </tr>\n    <tr>\n      <th>Age-adjusted Rate</th>\n      <td>19733</td>\n      <td>10169</td>\n      <td>33529</td>\n    </tr>\n    <tr>\n      <th>Crude Prevalence</th>\n      <td>64115</td>\n      <td>42434</td>\n      <td>106998</td>\n    </tr>\n    <tr>\n      <th>Crude Rate</th>\n      <td>19733</td>\n      <td>10169</td>\n      <td>33529</td>\n    </tr>\n    <tr>\n      <th>Mean</th>\n      <td>5190</td>\n      <td>2801</td>\n      <td>8189</td>\n    </tr>\n    <tr>\n      <th>Median</th>\n      <td>1326</td>\n      <td>808</td>\n      <td>2833</td>\n    </tr>\n    <tr>\n      <th>Number</th>\n      <td>20149</td>\n      <td>12345</td>\n      <td>33529</td>\n    </tr>\n    <tr>\n      <th>Per capita alcohol consumption</th>\n      <td>0</td>\n      <td>260</td>\n      <td>0</td>\n    </tr>\n    <tr>\n      <th>Percent</th>\n      <td>0</td>\n      <td>2407</td>\n      <td>0</td>\n    </tr>\n    <tr>\n      <th>Prevalence</th>\n      <td>0</td>\n      <td>52</td>\n      <td>0</td>\n    </tr>\n    <tr>\n      <th>US Dollars</th>\n      <td>0</td>\n      <td>615</td>\n      <td>0</td>\n    </tr>\n  </tbody>\n</table>\n</div>"
     },
     "execution_count": 97,
     "metadata": {},
     "output_type": "execute_result"
    }
   ],
   "source": [
    "#Analyzing the DataValueType available per Gender and Race\n",
    "pd.crosstab(df_year_mainland.DataValueType,df_year_mainland.StratificationCategory1)"
   ],
   "metadata": {
    "collapsed": false
   }
  },
  {
   "cell_type": "code",
   "execution_count": 104,
   "outputs": [
    {
     "data": {
      "text/plain": "Year                     2001  2007  2009   2010   2011   2012   2013   2014  \\\nStratificationCategory1                                                        \nGender                      0     0   208   6776  18160  17639  20711  19125   \nOverall                   104    51   104   3851  10380  10919  12293  11708   \nRace/Ethnicity              0     0     0  11057  25509  27571  33344  30309   \n\nYear                      2015   2016   2017   2018   2019   2020  \nStratificationCategory1                                            \nGender                   20798  18601  20611  18963  18976  11599  \nOverall                  12264  11343  12094  11649  11146   6931  \nRace/Ethnicity           33126  30448  34039  31552  30963  17753  ",
      "text/html": "<div>\n<style scoped>\n    .dataframe tbody tr th:only-of-type {\n        vertical-align: middle;\n    }\n\n    .dataframe tbody tr th {\n        vertical-align: top;\n    }\n\n    .dataframe thead th {\n        text-align: right;\n    }\n</style>\n<table border=\"1\" class=\"dataframe\">\n  <thead>\n    <tr style=\"text-align: right;\">\n      <th>Year</th>\n      <th>2001</th>\n      <th>2007</th>\n      <th>2009</th>\n      <th>2010</th>\n      <th>2011</th>\n      <th>2012</th>\n      <th>2013</th>\n      <th>2014</th>\n      <th>2015</th>\n      <th>2016</th>\n      <th>2017</th>\n      <th>2018</th>\n      <th>2019</th>\n      <th>2020</th>\n    </tr>\n    <tr>\n      <th>StratificationCategory1</th>\n      <th></th>\n      <th></th>\n      <th></th>\n      <th></th>\n      <th></th>\n      <th></th>\n      <th></th>\n      <th></th>\n      <th></th>\n      <th></th>\n      <th></th>\n      <th></th>\n      <th></th>\n      <th></th>\n    </tr>\n  </thead>\n  <tbody>\n    <tr>\n      <th>Gender</th>\n      <td>0</td>\n      <td>0</td>\n      <td>208</td>\n      <td>6776</td>\n      <td>18160</td>\n      <td>17639</td>\n      <td>20711</td>\n      <td>19125</td>\n      <td>20798</td>\n      <td>18601</td>\n      <td>20611</td>\n      <td>18963</td>\n      <td>18976</td>\n      <td>11599</td>\n    </tr>\n    <tr>\n      <th>Overall</th>\n      <td>104</td>\n      <td>51</td>\n      <td>104</td>\n      <td>3851</td>\n      <td>10380</td>\n      <td>10919</td>\n      <td>12293</td>\n      <td>11708</td>\n      <td>12264</td>\n      <td>11343</td>\n      <td>12094</td>\n      <td>11649</td>\n      <td>11146</td>\n      <td>6931</td>\n    </tr>\n    <tr>\n      <th>Race/Ethnicity</th>\n      <td>0</td>\n      <td>0</td>\n      <td>0</td>\n      <td>11057</td>\n      <td>25509</td>\n      <td>27571</td>\n      <td>33344</td>\n      <td>30309</td>\n      <td>33126</td>\n      <td>30448</td>\n      <td>34039</td>\n      <td>31552</td>\n      <td>30963</td>\n      <td>17753</td>\n    </tr>\n  </tbody>\n</table>\n</div>"
     },
     "execution_count": 104,
     "metadata": {},
     "output_type": "execute_result"
    }
   ],
   "source": [
    "#Analyzing the Gender/Race data available per year\n",
    "pd.crosstab(df_year_mainland.StratificationCategory1,df_year_mainland.Year)"
   ],
   "metadata": {
    "collapsed": false
   }
  },
  {
   "cell_type": "code",
   "execution_count": 103,
   "outputs": [
    {
     "data": {
      "text/plain": "Year                                                       2001      2007  \\\nTopic                                    Overarching Conditions   Tobacco   \nStratificationCategory1                                 Overall   Overall   \nDataValueType                                                               \nTotal                                                  0.016975  0.008324   \nCrude Prevalence                                       0.000000  0.000000   \nAge-adjusted Prevalence                                0.000000  0.000000   \nNumber                                                 0.016975  0.000000   \nAge-adjusted Rate                                      0.000000  0.000000   \nCrude Rate                                             0.000000  0.000000   \nAge-adjusted Mean                                      0.000000  0.000000   \nMean                                                   0.000000  0.000000   \nMedian                                                 0.000000  0.000000   \nPercent                                                0.000000  0.008324   \nAdjusted by age, sex, race and ethnicity               0.000000  0.000000   \nUS Dollars                                             0.000000  0.000000   \nPer capita alcohol consumption                         0.000000  0.000000   \nPrevalence                                             0.000000  0.000000   \n\nYear                                                       2009            \\\nTopic                                    Overarching Conditions             \nStratificationCategory1                                  Gender   Overall   \nDataValueType                                                               \nTotal                                                  0.033949  0.016975   \nCrude Prevalence                                       0.000000  0.000000   \nAge-adjusted Prevalence                                0.000000  0.000000   \nNumber                                                 0.033949  0.016975   \nAge-adjusted Rate                                      0.000000  0.000000   \nCrude Rate                                             0.000000  0.000000   \nAge-adjusted Mean                                      0.000000  0.000000   \nMean                                                   0.000000  0.000000   \nMedian                                                 0.000000  0.000000   \nPercent                                                0.000000  0.000000   \nAdjusted by age, sex, race and ethnicity               0.000000  0.000000   \nUS Dollars                                             0.000000  0.000000   \nPer capita alcohol consumption                         0.000000  0.000000   \nPrevalence                                             0.000000  0.000000   \n\nYear                                          2010                           \\\nTopic                                      Alcohol                            \nStratificationCategory1                     Gender   Overall Race/Ethnicity   \nDataValueType                                                                 \nTotal                                     0.049455  0.033949       0.054352   \nCrude Prevalence                          0.000000  0.000000       0.000000   \nAge-adjusted Prevalence                   0.000000  0.000000       0.000000   \nNumber                                    0.016485  0.008487       0.018117   \nAge-adjusted Rate                         0.016485  0.008487       0.018117   \nCrude Rate                                0.016485  0.008487       0.018117   \nAge-adjusted Mean                         0.000000  0.000000       0.000000   \nMean                                      0.000000  0.000000       0.000000   \nMedian                                    0.000000  0.000000       0.000000   \nPercent                                   0.000000  0.000000       0.000000   \nAdjusted by age, sex, race and ethnicity  0.000000  0.000000       0.000000   \nUS Dollars                                0.000000  0.000000       0.000000   \nPer capita alcohol consumption            0.000000  0.008487       0.000000   \nPrevalence                                0.000000  0.000000       0.000000   \n\nYear                                                                         \\\nTopic                                       Asthma                            \nStratificationCategory1                     Gender   Overall Race/Ethnicity   \nDataValueType                                                                 \nTotal                                     0.070021  0.040641       0.079814   \nCrude Prevalence                          0.000000  0.000000       0.000000   \nAge-adjusted Prevalence                   0.000000  0.000000       0.000000   \nNumber                                    0.023340  0.013547       0.026605   \nAge-adjusted Rate                         0.023340  0.013547       0.026605   \nCrude Rate                                0.023340  0.013547       0.026605   \nAge-adjusted Mean                         0.000000  0.000000       0.000000   \nMean                                      0.000000  0.000000       0.000000   \nMedian                                    0.000000  0.000000       0.000000   \nPercent                                   0.000000  0.000000       0.000000   \nAdjusted by age, sex, race and ethnicity  0.000000  0.000000       0.000000   \nUS Dollars                                0.000000  0.000000       0.000000   \nPer capita alcohol consumption            0.000000  0.000000       0.000000   \nPrevalence                                0.000000  0.000000       0.000000   \n\nYear                                      ...           2020  \\\nTopic                                     ...    Oral Health   \nStratificationCategory1                   ... Race/Ethnicity   \nDataValueType                             ...                  \nTotal                                     ...       0.228180   \nCrude Prevalence                          ...       0.113437   \nAge-adjusted Prevalence                   ...       0.114743   \nNumber                                    ...       0.000000   \nAge-adjusted Rate                         ...       0.000000   \nCrude Rate                                ...       0.000000   \nAge-adjusted Mean                         ...       0.000000   \nMean                                      ...       0.000000   \nMedian                                    ...       0.000000   \nPercent                                   ...       0.000000   \nAdjusted by age, sex, race and ethnicity  ...       0.000000   \nUS Dollars                                ...       0.000000   \nPer capita alcohol consumption            ...       0.000000   \nPrevalence                                ...       0.000000   \n\nYear                                                                       \\\nTopic                                    Overarching Conditions             \nStratificationCategory1                                  Gender   Overall   \nDataValueType                                                               \nTotal                                                  0.169747  0.101848   \nCrude Prevalence                                       0.050924  0.042437   \nAge-adjusted Prevalence                                0.050924  0.025462   \nNumber                                                 0.000000  0.000000   \nAge-adjusted Rate                                      0.000000  0.000000   \nCrude Rate                                             0.000000  0.000000   \nAge-adjusted Mean                                      0.033949  0.016975   \nMean                                                   0.033949  0.016975   \nMedian                                                 0.000000  0.000000   \nPercent                                                0.000000  0.000000   \nAdjusted by age, sex, race and ethnicity               0.000000  0.000000   \nUS Dollars                                             0.000000  0.000000   \nPer capita alcohol consumption                         0.000000  0.000000   \nPrevalence                                             0.000000  0.000000   \n\nYear                                                                         \\\nTopic                                                   Reproductive Health   \nStratificationCategory1                  Race/Ethnicity             Overall   \nDataValueType                                                                 \nTotal                                          0.422410            0.008487   \nCrude Prevalence                               0.171543            0.008487   \nAge-adjusted Prevalence                        0.108540            0.000000   \nNumber                                         0.000000            0.000000   \nAge-adjusted Rate                              0.000000            0.000000   \nCrude Rate                                     0.000000            0.000000   \nAge-adjusted Mean                              0.072306            0.000000   \nMean                                           0.070021            0.000000   \nMedian                                         0.000000            0.000000   \nPercent                                        0.000000            0.000000   \nAdjusted by age, sex, race and ethnicity       0.000000            0.000000   \nUS Dollars                                     0.000000            0.000000   \nPer capita alcohol consumption                 0.000000            0.000000   \nPrevalence                                     0.000000            0.000000   \n\nYear                                                                         \\\nTopic                                                     Tobacco             \nStratificationCategory1                  Race/Ethnicity    Gender   Overall   \nDataValueType                                                                 \nTotal                                          0.024646  0.162239  0.101848   \nCrude Prevalence                               0.024646  0.081773  0.050924   \nAge-adjusted Prevalence                        0.000000  0.080467  0.042437   \nNumber                                         0.000000  0.000000  0.000000   \nAge-adjusted Rate                              0.000000  0.000000  0.000000   \nCrude Rate                                     0.000000  0.000000  0.000000   \nAge-adjusted Mean                              0.000000  0.000000  0.000000   \nMean                                           0.000000  0.000000  0.000000   \nMedian                                         0.000000  0.000000  0.000000   \nPercent                                        0.000000  0.000000  0.008487   \nAdjusted by age, sex, race and ethnicity       0.000000  0.000000  0.000000   \nUS Dollars                                     0.000000  0.000000  0.000000   \nPer capita alcohol consumption                 0.000000  0.000000  0.000000   \nPrevalence                                     0.000000  0.000000  0.000000   \n\nYear                                                          Total  \nTopic                                                                \nStratificationCategory1                  Race/Ethnicity              \nDataValueType                                                        \nTotal                                          0.207451  100.000000  \nCrude Prevalence                               0.110662   34.854858  \nAge-adjusted Prevalence                        0.096789   26.849798  \nNumber                                         0.000000   10.776186  \nAge-adjusted Rate                              0.000000   10.353124  \nCrude Rate                                     0.000000   10.353124  \nAge-adjusted Mean                              0.000000    2.681356  \nMean                                           0.000000    2.640878  \nMedian                                         0.000000    0.810707  \nPercent                                        0.000000    0.392867  \nAdjusted by age, sex, race and ethnicity       0.000000    0.135798  \nUS Dollars                                     0.000000    0.100379  \nPer capita alcohol consumption                 0.000000    0.042437  \nPrevalence                                     0.000000    0.008487  \n\n[14 rows x 513 columns]",
      "text/html": "<div>\n<style scoped>\n    .dataframe tbody tr th:only-of-type {\n        vertical-align: middle;\n    }\n\n    .dataframe tbody tr th {\n        vertical-align: top;\n    }\n\n    .dataframe thead tr th {\n        text-align: left;\n    }\n\n    .dataframe thead tr:last-of-type th {\n        text-align: right;\n    }\n</style>\n<table border=\"1\" class=\"dataframe\">\n  <thead>\n    <tr>\n      <th>Year</th>\n      <th>2001</th>\n      <th>2007</th>\n      <th colspan=\"2\" halign=\"left\">2009</th>\n      <th colspan=\"6\" halign=\"left\">2010</th>\n      <th>...</th>\n      <th colspan=\"9\" halign=\"left\">2020</th>\n      <th>Total</th>\n    </tr>\n    <tr>\n      <th>Topic</th>\n      <th>Overarching Conditions</th>\n      <th>Tobacco</th>\n      <th colspan=\"2\" halign=\"left\">Overarching Conditions</th>\n      <th colspan=\"3\" halign=\"left\">Alcohol</th>\n      <th colspan=\"3\" halign=\"left\">Asthma</th>\n      <th>...</th>\n      <th>Oral Health</th>\n      <th colspan=\"3\" halign=\"left\">Overarching Conditions</th>\n      <th colspan=\"2\" halign=\"left\">Reproductive Health</th>\n      <th colspan=\"3\" halign=\"left\">Tobacco</th>\n      <th></th>\n    </tr>\n    <tr>\n      <th>StratificationCategory1</th>\n      <th>Overall</th>\n      <th>Overall</th>\n      <th>Gender</th>\n      <th>Overall</th>\n      <th>Gender</th>\n      <th>Overall</th>\n      <th>Race/Ethnicity</th>\n      <th>Gender</th>\n      <th>Overall</th>\n      <th>Race/Ethnicity</th>\n      <th>...</th>\n      <th>Race/Ethnicity</th>\n      <th>Gender</th>\n      <th>Overall</th>\n      <th>Race/Ethnicity</th>\n      <th>Overall</th>\n      <th>Race/Ethnicity</th>\n      <th>Gender</th>\n      <th>Overall</th>\n      <th>Race/Ethnicity</th>\n      <th></th>\n    </tr>\n    <tr>\n      <th>DataValueType</th>\n      <th></th>\n      <th></th>\n      <th></th>\n      <th></th>\n      <th></th>\n      <th></th>\n      <th></th>\n      <th></th>\n      <th></th>\n      <th></th>\n      <th></th>\n      <th></th>\n      <th></th>\n      <th></th>\n      <th></th>\n      <th></th>\n      <th></th>\n      <th></th>\n      <th></th>\n      <th></th>\n      <th></th>\n    </tr>\n  </thead>\n  <tbody>\n    <tr>\n      <th>Total</th>\n      <td>0.016975</td>\n      <td>0.008324</td>\n      <td>0.033949</td>\n      <td>0.016975</td>\n      <td>0.049455</td>\n      <td>0.033949</td>\n      <td>0.054352</td>\n      <td>0.070021</td>\n      <td>0.040641</td>\n      <td>0.079814</td>\n      <td>...</td>\n      <td>0.228180</td>\n      <td>0.169747</td>\n      <td>0.101848</td>\n      <td>0.422410</td>\n      <td>0.008487</td>\n      <td>0.024646</td>\n      <td>0.162239</td>\n      <td>0.101848</td>\n      <td>0.207451</td>\n      <td>100.000000</td>\n    </tr>\n    <tr>\n      <th>Crude Prevalence</th>\n      <td>0.000000</td>\n      <td>0.000000</td>\n      <td>0.000000</td>\n      <td>0.000000</td>\n      <td>0.000000</td>\n      <td>0.000000</td>\n      <td>0.000000</td>\n      <td>0.000000</td>\n      <td>0.000000</td>\n      <td>0.000000</td>\n      <td>...</td>\n      <td>0.113437</td>\n      <td>0.050924</td>\n      <td>0.042437</td>\n      <td>0.171543</td>\n      <td>0.008487</td>\n      <td>0.024646</td>\n      <td>0.081773</td>\n      <td>0.050924</td>\n      <td>0.110662</td>\n      <td>34.854858</td>\n    </tr>\n    <tr>\n      <th>Age-adjusted Prevalence</th>\n      <td>0.000000</td>\n      <td>0.000000</td>\n      <td>0.000000</td>\n      <td>0.000000</td>\n      <td>0.000000</td>\n      <td>0.000000</td>\n      <td>0.000000</td>\n      <td>0.000000</td>\n      <td>0.000000</td>\n      <td>0.000000</td>\n      <td>...</td>\n      <td>0.114743</td>\n      <td>0.050924</td>\n      <td>0.025462</td>\n      <td>0.108540</td>\n      <td>0.000000</td>\n      <td>0.000000</td>\n      <td>0.080467</td>\n      <td>0.042437</td>\n      <td>0.096789</td>\n      <td>26.849798</td>\n    </tr>\n    <tr>\n      <th>Number</th>\n      <td>0.016975</td>\n      <td>0.000000</td>\n      <td>0.033949</td>\n      <td>0.016975</td>\n      <td>0.016485</td>\n      <td>0.008487</td>\n      <td>0.018117</td>\n      <td>0.023340</td>\n      <td>0.013547</td>\n      <td>0.026605</td>\n      <td>...</td>\n      <td>0.000000</td>\n      <td>0.000000</td>\n      <td>0.000000</td>\n      <td>0.000000</td>\n      <td>0.000000</td>\n      <td>0.000000</td>\n      <td>0.000000</td>\n      <td>0.000000</td>\n      <td>0.000000</td>\n      <td>10.776186</td>\n    </tr>\n    <tr>\n      <th>Age-adjusted Rate</th>\n      <td>0.000000</td>\n      <td>0.000000</td>\n      <td>0.000000</td>\n      <td>0.000000</td>\n      <td>0.016485</td>\n      <td>0.008487</td>\n      <td>0.018117</td>\n      <td>0.023340</td>\n      <td>0.013547</td>\n      <td>0.026605</td>\n      <td>...</td>\n      <td>0.000000</td>\n      <td>0.000000</td>\n      <td>0.000000</td>\n      <td>0.000000</td>\n      <td>0.000000</td>\n      <td>0.000000</td>\n      <td>0.000000</td>\n      <td>0.000000</td>\n      <td>0.000000</td>\n      <td>10.353124</td>\n    </tr>\n    <tr>\n      <th>Crude Rate</th>\n      <td>0.000000</td>\n      <td>0.000000</td>\n      <td>0.000000</td>\n      <td>0.000000</td>\n      <td>0.016485</td>\n      <td>0.008487</td>\n      <td>0.018117</td>\n      <td>0.023340</td>\n      <td>0.013547</td>\n      <td>0.026605</td>\n      <td>...</td>\n      <td>0.000000</td>\n      <td>0.000000</td>\n      <td>0.000000</td>\n      <td>0.000000</td>\n      <td>0.000000</td>\n      <td>0.000000</td>\n      <td>0.000000</td>\n      <td>0.000000</td>\n      <td>0.000000</td>\n      <td>10.353124</td>\n    </tr>\n    <tr>\n      <th>Age-adjusted Mean</th>\n      <td>0.000000</td>\n      <td>0.000000</td>\n      <td>0.000000</td>\n      <td>0.000000</td>\n      <td>0.000000</td>\n      <td>0.000000</td>\n      <td>0.000000</td>\n      <td>0.000000</td>\n      <td>0.000000</td>\n      <td>0.000000</td>\n      <td>...</td>\n      <td>0.000000</td>\n      <td>0.033949</td>\n      <td>0.016975</td>\n      <td>0.072306</td>\n      <td>0.000000</td>\n      <td>0.000000</td>\n      <td>0.000000</td>\n      <td>0.000000</td>\n      <td>0.000000</td>\n      <td>2.681356</td>\n    </tr>\n    <tr>\n      <th>Mean</th>\n      <td>0.000000</td>\n      <td>0.000000</td>\n      <td>0.000000</td>\n      <td>0.000000</td>\n      <td>0.000000</td>\n      <td>0.000000</td>\n      <td>0.000000</td>\n      <td>0.000000</td>\n      <td>0.000000</td>\n      <td>0.000000</td>\n      <td>...</td>\n      <td>0.000000</td>\n      <td>0.033949</td>\n      <td>0.016975</td>\n      <td>0.070021</td>\n      <td>0.000000</td>\n      <td>0.000000</td>\n      <td>0.000000</td>\n      <td>0.000000</td>\n      <td>0.000000</td>\n      <td>2.640878</td>\n    </tr>\n    <tr>\n      <th>Median</th>\n      <td>0.000000</td>\n      <td>0.000000</td>\n      <td>0.000000</td>\n      <td>0.000000</td>\n      <td>0.000000</td>\n      <td>0.000000</td>\n      <td>0.000000</td>\n      <td>0.000000</td>\n      <td>0.000000</td>\n      <td>0.000000</td>\n      <td>...</td>\n      <td>0.000000</td>\n      <td>0.000000</td>\n      <td>0.000000</td>\n      <td>0.000000</td>\n      <td>0.000000</td>\n      <td>0.000000</td>\n      <td>0.000000</td>\n      <td>0.000000</td>\n      <td>0.000000</td>\n      <td>0.810707</td>\n    </tr>\n    <tr>\n      <th>Percent</th>\n      <td>0.000000</td>\n      <td>0.008324</td>\n      <td>0.000000</td>\n      <td>0.000000</td>\n      <td>0.000000</td>\n      <td>0.000000</td>\n      <td>0.000000</td>\n      <td>0.000000</td>\n      <td>0.000000</td>\n      <td>0.000000</td>\n      <td>...</td>\n      <td>0.000000</td>\n      <td>0.000000</td>\n      <td>0.000000</td>\n      <td>0.000000</td>\n      <td>0.000000</td>\n      <td>0.000000</td>\n      <td>0.000000</td>\n      <td>0.008487</td>\n      <td>0.000000</td>\n      <td>0.392867</td>\n    </tr>\n    <tr>\n      <th>Adjusted by age, sex, race and ethnicity</th>\n      <td>0.000000</td>\n      <td>0.000000</td>\n      <td>0.000000</td>\n      <td>0.000000</td>\n      <td>0.000000</td>\n      <td>0.000000</td>\n      <td>0.000000</td>\n      <td>0.000000</td>\n      <td>0.000000</td>\n      <td>0.000000</td>\n      <td>...</td>\n      <td>0.000000</td>\n      <td>0.000000</td>\n      <td>0.000000</td>\n      <td>0.000000</td>\n      <td>0.000000</td>\n      <td>0.000000</td>\n      <td>0.000000</td>\n      <td>0.000000</td>\n      <td>0.000000</td>\n      <td>0.135798</td>\n    </tr>\n    <tr>\n      <th>US Dollars</th>\n      <td>0.000000</td>\n      <td>0.000000</td>\n      <td>0.000000</td>\n      <td>0.000000</td>\n      <td>0.000000</td>\n      <td>0.000000</td>\n      <td>0.000000</td>\n      <td>0.000000</td>\n      <td>0.000000</td>\n      <td>0.000000</td>\n      <td>...</td>\n      <td>0.000000</td>\n      <td>0.000000</td>\n      <td>0.000000</td>\n      <td>0.000000</td>\n      <td>0.000000</td>\n      <td>0.000000</td>\n      <td>0.000000</td>\n      <td>0.000000</td>\n      <td>0.000000</td>\n      <td>0.100379</td>\n    </tr>\n    <tr>\n      <th>Per capita alcohol consumption</th>\n      <td>0.000000</td>\n      <td>0.000000</td>\n      <td>0.000000</td>\n      <td>0.000000</td>\n      <td>0.000000</td>\n      <td>0.008487</td>\n      <td>0.000000</td>\n      <td>0.000000</td>\n      <td>0.000000</td>\n      <td>0.000000</td>\n      <td>...</td>\n      <td>0.000000</td>\n      <td>0.000000</td>\n      <td>0.000000</td>\n      <td>0.000000</td>\n      <td>0.000000</td>\n      <td>0.000000</td>\n      <td>0.000000</td>\n      <td>0.000000</td>\n      <td>0.000000</td>\n      <td>0.042437</td>\n    </tr>\n    <tr>\n      <th>Prevalence</th>\n      <td>0.000000</td>\n      <td>0.000000</td>\n      <td>0.000000</td>\n      <td>0.000000</td>\n      <td>0.000000</td>\n      <td>0.000000</td>\n      <td>0.000000</td>\n      <td>0.000000</td>\n      <td>0.000000</td>\n      <td>0.000000</td>\n      <td>...</td>\n      <td>0.000000</td>\n      <td>0.000000</td>\n      <td>0.000000</td>\n      <td>0.000000</td>\n      <td>0.000000</td>\n      <td>0.000000</td>\n      <td>0.000000</td>\n      <td>0.000000</td>\n      <td>0.000000</td>\n      <td>0.008487</td>\n    </tr>\n  </tbody>\n</table>\n<p>14 rows × 513 columns</p>\n</div>"
     },
     "execution_count": 103,
     "metadata": {},
     "output_type": "execute_result"
    }
   ],
   "source": [
    "#Analyzing the data per Type, Year and Topic. As we can see,\n",
    "crosstb1 = pd.crosstab(index = df_year_mainland['DataValueType'],\n",
    "                       columns = [df_year_mainland['Year'], df_year_mainland['Topic'], df_year_mainland['StratificationCategory1'] ] ,\n",
    "                       normalize=True, margins = True,\n",
    "                       margins_name= \"Total\") *100\n",
    "\n",
    "crosstb1.astype(str).applymap(lambda x:x + '%')\n",
    "crosstb1.sort_values('Total', ascending=False)"
   ],
   "metadata": {
    "collapsed": false
   }
  },
  {
   "cell_type": "code",
   "execution_count": 100,
   "outputs": [],
   "source": [],
   "metadata": {
    "collapsed": false
   }
  }
 ],
 "metadata": {
  "kernelspec": {
   "display_name": "Python 3 (ipykernel)",
   "language": "python",
   "name": "python3"
  },
  "language_info": {
   "codemirror_mode": {
    "name": "ipython",
    "version": 3
   },
   "file_extension": ".py",
   "mimetype": "text/x-python",
   "name": "python",
   "nbconvert_exporter": "python",
   "pygments_lexer": "ipython3",
   "version": "3.9.5"
  }
 },
 "nbformat": 4,
 "nbformat_minor": 5
}
