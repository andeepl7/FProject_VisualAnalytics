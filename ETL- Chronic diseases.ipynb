{
 "cells": [
  {
   "cell_type": "markdown",
   "source": [
    "1. Loading the parquet file for analysis."
   ],
   "metadata": {
    "collapsed": false
   }
  },
  {
   "cell_type": "code",
   "execution_count": 75,
   "id": "ba58b5ad",
   "metadata": {},
   "outputs": [
    {
     "data": {
      "text/plain": "         YearStart  YearEnd LocationAbbr   LocationDesc DataSource  \\\n0             2010     2010           AK         Alaska       NVSS   \n1             2017     2017           AK         Alaska       NVSS   \n2             2018     2018           AK         Alaska       NVSS   \n3             2011     2011           AK         Alaska       NVSS   \n4             2012     2012           AK         Alaska       NVSS   \n...            ...      ...          ...            ...        ...   \n1082323       2020     2020           WA     Washington      BRFSS   \n1082324       2020     2020           WV  West Virginia      BRFSS   \n1082325       2020     2020           WY        Wyoming      BRFSS   \n1082326       2020     2020           VT        Vermont      BRFSS   \n1082327       2020     2020           WI      Wisconsin      BRFSS   \n\n                                                   Topic  \\\n0                                                Alcohol   \n1                                                Alcohol   \n2                                                Alcohol   \n3                                 Chronic Kidney Disease   \n4                                 Chronic Kidney Disease   \n...                                                  ...   \n1082323  Nutrition, Physical Activity, and Weight Status   \n1082324            Chronic Obstructive Pulmonary Disease   \n1082325            Chronic Obstructive Pulmonary Disease   \n1082326                           Overarching Conditions   \n1082327                                         Diabetes   \n\n                                                  Question Response  \\\n0                          Chronic liver disease mortality     None   \n1                          Chronic liver disease mortality     None   \n2                          Chronic liver disease mortality     None   \n3                   Mortality with end-stage renal disease     None   \n4                   Mortality with end-stage renal disease     None   \n...                                                    ...      ...   \n1082323              Obesity among adults aged >= 18 years     None   \n1082324  Prevalence of current smoking among adults >= ...     None   \n1082325  Influenza vaccination among noninstitutionaliz...     None   \n1082326  Self-rated health status among women aged 18-4...     None   \n1082327  Prevalence of diagnosed diabetes among adults ...     None   \n\n        DataValueUnit            DataValueType  ... LocationID  TopicID  \\\n0                                       Number  ...          2      ALC   \n1                                       Number  ...          2      ALC   \n2                                       Number  ...          2      ALC   \n3                                       Number  ...          2      CKD   \n4                                       Number  ...          2      CKD   \n...               ...                      ...  ...        ...      ...   \n1082323             %         Crude Prevalence  ...         53     NPAW   \n1082324             %  Age-adjusted Prevalence  ...         54     COPD   \n1082325             %         Crude Prevalence  ...         56     COPD   \n1082326             %         Crude Prevalence  ...         50      OVC   \n1082327             %  Age-adjusted Prevalence  ...         55      DIA   \n\n        QuestionID DataValueTypeID  StratificationCategoryID1  \\\n0           ALC6_0            NMBR                    OVERALL   \n1           ALC6_0            NMBR                    OVERALL   \n2           ALC6_0            NMBR                    OVERALL   \n3           CKD1_0            NMBR                       RACE   \n4           CKD1_0            NMBR                       RACE   \n...            ...             ...                        ...   \n1082323    NPAW1_1         CRDPREV                       RACE   \n1082324  COPD3_0_1      AGEADJPREV                       RACE   \n1082325    COPD7_0         CRDPREV                       RACE   \n1082326     OVC6_2         CRDPREV                       RACE   \n1082327     DIA2_1      AGEADJPREV                       RACE   \n\n         StratificationID1 StratificationCategoryID2 StratificationID2  \\\n0                      OVR                      None              None   \n1                      OVR                      None              None   \n2                      OVR                      None              None   \n3                      WHT                      None              None   \n4                      WHT                      None              None   \n...                    ...                       ...               ...   \n1082323                BLK                      None              None   \n1082324                WHT                      None              None   \n1082325                WHT                      None              None   \n1082326                OTH                      None              None   \n1082327                MRC                      None              None   \n\n        StratificationCategoryID3 StratificationID3  \n0                            None              None  \n1                            None              None  \n2                            None              None  \n3                            None              None  \n4                            None              None  \n...                           ...               ...  \n1082323                      None              None  \n1082324                      None              None  \n1082325                      None              None  \n1082326                      None              None  \n1082327                      None              None  \n\n[1082328 rows x 34 columns]",
      "text/html": "<div>\n<style scoped>\n    .dataframe tbody tr th:only-of-type {\n        vertical-align: middle;\n    }\n\n    .dataframe tbody tr th {\n        vertical-align: top;\n    }\n\n    .dataframe thead th {\n        text-align: right;\n    }\n</style>\n<table border=\"1\" class=\"dataframe\">\n  <thead>\n    <tr style=\"text-align: right;\">\n      <th></th>\n      <th>YearStart</th>\n      <th>YearEnd</th>\n      <th>LocationAbbr</th>\n      <th>LocationDesc</th>\n      <th>DataSource</th>\n      <th>Topic</th>\n      <th>Question</th>\n      <th>Response</th>\n      <th>DataValueUnit</th>\n      <th>DataValueType</th>\n      <th>...</th>\n      <th>LocationID</th>\n      <th>TopicID</th>\n      <th>QuestionID</th>\n      <th>DataValueTypeID</th>\n      <th>StratificationCategoryID1</th>\n      <th>StratificationID1</th>\n      <th>StratificationCategoryID2</th>\n      <th>StratificationID2</th>\n      <th>StratificationCategoryID3</th>\n      <th>StratificationID3</th>\n    </tr>\n  </thead>\n  <tbody>\n    <tr>\n      <th>0</th>\n      <td>2010</td>\n      <td>2010</td>\n      <td>AK</td>\n      <td>Alaska</td>\n      <td>NVSS</td>\n      <td>Alcohol</td>\n      <td>Chronic liver disease mortality</td>\n      <td>None</td>\n      <td></td>\n      <td>Number</td>\n      <td>...</td>\n      <td>2</td>\n      <td>ALC</td>\n      <td>ALC6_0</td>\n      <td>NMBR</td>\n      <td>OVERALL</td>\n      <td>OVR</td>\n      <td>None</td>\n      <td>None</td>\n      <td>None</td>\n      <td>None</td>\n    </tr>\n    <tr>\n      <th>1</th>\n      <td>2017</td>\n      <td>2017</td>\n      <td>AK</td>\n      <td>Alaska</td>\n      <td>NVSS</td>\n      <td>Alcohol</td>\n      <td>Chronic liver disease mortality</td>\n      <td>None</td>\n      <td></td>\n      <td>Number</td>\n      <td>...</td>\n      <td>2</td>\n      <td>ALC</td>\n      <td>ALC6_0</td>\n      <td>NMBR</td>\n      <td>OVERALL</td>\n      <td>OVR</td>\n      <td>None</td>\n      <td>None</td>\n      <td>None</td>\n      <td>None</td>\n    </tr>\n    <tr>\n      <th>2</th>\n      <td>2018</td>\n      <td>2018</td>\n      <td>AK</td>\n      <td>Alaska</td>\n      <td>NVSS</td>\n      <td>Alcohol</td>\n      <td>Chronic liver disease mortality</td>\n      <td>None</td>\n      <td></td>\n      <td>Number</td>\n      <td>...</td>\n      <td>2</td>\n      <td>ALC</td>\n      <td>ALC6_0</td>\n      <td>NMBR</td>\n      <td>OVERALL</td>\n      <td>OVR</td>\n      <td>None</td>\n      <td>None</td>\n      <td>None</td>\n      <td>None</td>\n    </tr>\n    <tr>\n      <th>3</th>\n      <td>2011</td>\n      <td>2011</td>\n      <td>AK</td>\n      <td>Alaska</td>\n      <td>NVSS</td>\n      <td>Chronic Kidney Disease</td>\n      <td>Mortality with end-stage renal disease</td>\n      <td>None</td>\n      <td></td>\n      <td>Number</td>\n      <td>...</td>\n      <td>2</td>\n      <td>CKD</td>\n      <td>CKD1_0</td>\n      <td>NMBR</td>\n      <td>RACE</td>\n      <td>WHT</td>\n      <td>None</td>\n      <td>None</td>\n      <td>None</td>\n      <td>None</td>\n    </tr>\n    <tr>\n      <th>4</th>\n      <td>2012</td>\n      <td>2012</td>\n      <td>AK</td>\n      <td>Alaska</td>\n      <td>NVSS</td>\n      <td>Chronic Kidney Disease</td>\n      <td>Mortality with end-stage renal disease</td>\n      <td>None</td>\n      <td></td>\n      <td>Number</td>\n      <td>...</td>\n      <td>2</td>\n      <td>CKD</td>\n      <td>CKD1_0</td>\n      <td>NMBR</td>\n      <td>RACE</td>\n      <td>WHT</td>\n      <td>None</td>\n      <td>None</td>\n      <td>None</td>\n      <td>None</td>\n    </tr>\n    <tr>\n      <th>...</th>\n      <td>...</td>\n      <td>...</td>\n      <td>...</td>\n      <td>...</td>\n      <td>...</td>\n      <td>...</td>\n      <td>...</td>\n      <td>...</td>\n      <td>...</td>\n      <td>...</td>\n      <td>...</td>\n      <td>...</td>\n      <td>...</td>\n      <td>...</td>\n      <td>...</td>\n      <td>...</td>\n      <td>...</td>\n      <td>...</td>\n      <td>...</td>\n      <td>...</td>\n      <td>...</td>\n    </tr>\n    <tr>\n      <th>1082323</th>\n      <td>2020</td>\n      <td>2020</td>\n      <td>WA</td>\n      <td>Washington</td>\n      <td>BRFSS</td>\n      <td>Nutrition, Physical Activity, and Weight Status</td>\n      <td>Obesity among adults aged &gt;= 18 years</td>\n      <td>None</td>\n      <td>%</td>\n      <td>Crude Prevalence</td>\n      <td>...</td>\n      <td>53</td>\n      <td>NPAW</td>\n      <td>NPAW1_1</td>\n      <td>CRDPREV</td>\n      <td>RACE</td>\n      <td>BLK</td>\n      <td>None</td>\n      <td>None</td>\n      <td>None</td>\n      <td>None</td>\n    </tr>\n    <tr>\n      <th>1082324</th>\n      <td>2020</td>\n      <td>2020</td>\n      <td>WV</td>\n      <td>West Virginia</td>\n      <td>BRFSS</td>\n      <td>Chronic Obstructive Pulmonary Disease</td>\n      <td>Prevalence of current smoking among adults &gt;= ...</td>\n      <td>None</td>\n      <td>%</td>\n      <td>Age-adjusted Prevalence</td>\n      <td>...</td>\n      <td>54</td>\n      <td>COPD</td>\n      <td>COPD3_0_1</td>\n      <td>AGEADJPREV</td>\n      <td>RACE</td>\n      <td>WHT</td>\n      <td>None</td>\n      <td>None</td>\n      <td>None</td>\n      <td>None</td>\n    </tr>\n    <tr>\n      <th>1082325</th>\n      <td>2020</td>\n      <td>2020</td>\n      <td>WY</td>\n      <td>Wyoming</td>\n      <td>BRFSS</td>\n      <td>Chronic Obstructive Pulmonary Disease</td>\n      <td>Influenza vaccination among noninstitutionaliz...</td>\n      <td>None</td>\n      <td>%</td>\n      <td>Crude Prevalence</td>\n      <td>...</td>\n      <td>56</td>\n      <td>COPD</td>\n      <td>COPD7_0</td>\n      <td>CRDPREV</td>\n      <td>RACE</td>\n      <td>WHT</td>\n      <td>None</td>\n      <td>None</td>\n      <td>None</td>\n      <td>None</td>\n    </tr>\n    <tr>\n      <th>1082326</th>\n      <td>2020</td>\n      <td>2020</td>\n      <td>VT</td>\n      <td>Vermont</td>\n      <td>BRFSS</td>\n      <td>Overarching Conditions</td>\n      <td>Self-rated health status among women aged 18-4...</td>\n      <td>None</td>\n      <td>%</td>\n      <td>Crude Prevalence</td>\n      <td>...</td>\n      <td>50</td>\n      <td>OVC</td>\n      <td>OVC6_2</td>\n      <td>CRDPREV</td>\n      <td>RACE</td>\n      <td>OTH</td>\n      <td>None</td>\n      <td>None</td>\n      <td>None</td>\n      <td>None</td>\n    </tr>\n    <tr>\n      <th>1082327</th>\n      <td>2020</td>\n      <td>2020</td>\n      <td>WI</td>\n      <td>Wisconsin</td>\n      <td>BRFSS</td>\n      <td>Diabetes</td>\n      <td>Prevalence of diagnosed diabetes among adults ...</td>\n      <td>None</td>\n      <td>%</td>\n      <td>Age-adjusted Prevalence</td>\n      <td>...</td>\n      <td>55</td>\n      <td>DIA</td>\n      <td>DIA2_1</td>\n      <td>AGEADJPREV</td>\n      <td>RACE</td>\n      <td>MRC</td>\n      <td>None</td>\n      <td>None</td>\n      <td>None</td>\n      <td>None</td>\n    </tr>\n  </tbody>\n</table>\n<p>1082328 rows × 34 columns</p>\n</div>"
     },
     "execution_count": 75,
     "metadata": {},
     "output_type": "execute_result"
    }
   ],
   "source": [
    "import pandas as pd\n",
    "import numpy as np\n",
    "import pyarrow\n",
    "import fastparquet\n",
    "\n",
    "\n",
    "df = pd.read_parquet('cdi.parquet')\n",
    "df"
   ]
  },
  {
   "cell_type": "code",
   "execution_count": 76,
   "id": "eb1d9980",
   "metadata": {},
   "outputs": [
    {
     "data": {
      "text/plain": "YearStart                          0\nYearEnd                            0\nLocationAbbr                       0\nLocationDesc                       0\nDataSource                         0\nTopic                              0\nQuestion                           0\nResponse                     1082328\nDataValueUnit                      0\nDataValueType                      0\nDataValue                          0\nDataValueAlt                  355136\nDataValueFootnoteSymbol            0\nDatavalueFootnote                  0\nLowConfidenceLimit            465077\nHighConfidenceLimit           465077\nStratificationCategory1            0\nStratification1                    0\nStratificationCategory2      1082328\nStratification2              1082328\nStratificationCategory3      1082328\nStratification3              1082328\nGeoLocation                        0\nResponseID                   1082328\nLocationID                         0\nTopicID                            0\nQuestionID                         0\nDataValueTypeID                    0\nStratificationCategoryID1          0\nStratificationID1                  0\nStratificationCategoryID2    1082328\nStratificationID2            1082328\nStratificationCategoryID3    1082328\nStratificationID3            1082328\ndtype: int64"
     },
     "execution_count": 76,
     "metadata": {},
     "output_type": "execute_result"
    }
   ],
   "source": [
    "df.isna().sum()"
   ]
  },
  {
   "cell_type": "code",
   "execution_count": 77,
   "id": "b1a4e7dc",
   "metadata": {},
   "outputs": [
    {
     "data": {
      "text/plain": "(1082328, 34)"
     },
     "execution_count": 77,
     "metadata": {},
     "output_type": "execute_result"
    }
   ],
   "source": [
    "df.shape"
   ]
  },
  {
   "cell_type": "code",
   "execution_count": 78,
   "id": "60d29116",
   "metadata": {
    "scrolled": true
   },
   "outputs": [
    {
     "data": {
      "text/plain": "Index(['YearStart', 'YearEnd', 'LocationAbbr', 'LocationDesc', 'DataSource',\n       'Topic', 'Question', 'Response', 'DataValueUnit', 'DataValueType',\n       'DataValue', 'DataValueAlt', 'DataValueFootnoteSymbol',\n       'DatavalueFootnote', 'LowConfidenceLimit', 'HighConfidenceLimit',\n       'StratificationCategory1', 'Stratification1', 'StratificationCategory2',\n       'Stratification2', 'StratificationCategory3', 'Stratification3',\n       'GeoLocation', 'ResponseID', 'LocationID', 'TopicID', 'QuestionID',\n       'DataValueTypeID', 'StratificationCategoryID1', 'StratificationID1',\n       'StratificationCategoryID2', 'StratificationID2',\n       'StratificationCategoryID3', 'StratificationID3'],\n      dtype='object')"
     },
     "execution_count": 78,
     "metadata": {},
     "output_type": "execute_result"
    }
   ],
   "source": [
    "df.columns"
   ]
  },
  {
   "cell_type": "code",
   "execution_count": 79,
   "id": "2e1149cc",
   "metadata": {},
   "outputs": [
    {
     "data": {
      "text/plain": "           YearStart       YearEnd LocationAbbr LocationDesc DataSource  \\\ncount   1.082328e+06  1.082328e+06      1082328      1082328    1082328   \nunique           NaN           NaN           55           55         31   \ntop              NaN           NaN           NY     New York      BRFSS   \nfreq             NaN           NaN        20608        20608     597950   \nmean    2.014678e+03  2.015196e+03          NaN          NaN        NaN   \nstd     3.082694e+00  2.738999e+00          NaN          NaN        NaN   \nmin     2.001000e+03  2.001000e+03          NaN          NaN        NaN   \n25%     2.012000e+03  2.013000e+03          NaN          NaN        NaN   \n50%     2.015000e+03  2.015000e+03          NaN          NaN        NaN   \n75%     2.017000e+03  2.017000e+03          NaN          NaN        NaN   \nmax     2.021000e+03  2.021000e+03          NaN          NaN        NaN   \n\n          Topic                                           Question Response  \\\ncount   1082328                                            1082328        0   \nunique       17                                                203        0   \ntop      Cancer  Hospitalization for hip fracture among Medicar...      NaN   \nfreq     156371                                              12480      NaN   \nmean        NaN                                                NaN      NaN   \nstd         NaN                                                NaN      NaN   \nmin         NaN                                                NaN      NaN   \n25%         NaN                                                NaN      NaN   \n50%         NaN                                                NaN      NaN   \n75%         NaN                                                NaN      NaN   \nmax         NaN                                                NaN      NaN   \n\n       DataValueUnit     DataValueType  ...    LocationID  TopicID QuestionID  \\\ncount        1082328           1082328  ...  1.082328e+06  1082328    1082328   \nunique            13                19  ...           NaN       17        203   \ntop                %  Crude Prevalence  ...           NaN      CAN     OLD1_0   \nfreq          599411            339878  ...           NaN   156371      12480   \nmean             NaN               NaN  ...  3.080346e+01      NaN        NaN   \nstd              NaN               NaN  ...  1.752053e+01      NaN        NaN   \nmin              NaN               NaN  ...  1.000000e+00      NaN        NaN   \n25%              NaN               NaN  ...  1.700000e+01      NaN        NaN   \n50%              NaN               NaN  ...  3.000000e+01      NaN        NaN   \n75%              NaN               NaN  ...  4.500000e+01      NaN        NaN   \nmax              NaN               NaN  ...  7.800000e+01      NaN        NaN   \n\n       DataValueTypeID  StratificationCategoryID1  StratificationID1  \\\ncount          1082328                    1082328            1082328   \nunique              19                          3                 13   \ntop            CRDPREV                       RACE                OVR   \nfreq            339878                     673808             152290   \nmean               NaN                        NaN                NaN   \nstd                NaN                        NaN                NaN   \nmin                NaN                        NaN                NaN   \n25%                NaN                        NaN                NaN   \n50%                NaN                        NaN                NaN   \n75%                NaN                        NaN                NaN   \nmax                NaN                        NaN                NaN   \n\n       StratificationCategoryID2 StratificationID2 StratificationCategoryID3  \\\ncount                          0                 0                         0   \nunique                         0                 0                         0   \ntop                          NaN               NaN                       NaN   \nfreq                         NaN               NaN                       NaN   \nmean                         NaN               NaN                       NaN   \nstd                          NaN               NaN                       NaN   \nmin                          NaN               NaN                       NaN   \n25%                          NaN               NaN                       NaN   \n50%                          NaN               NaN                       NaN   \n75%                          NaN               NaN                       NaN   \nmax                          NaN               NaN                       NaN   \n\n       StratificationID3  \ncount                  0  \nunique                 0  \ntop                  NaN  \nfreq                 NaN  \nmean                 NaN  \nstd                  NaN  \nmin                  NaN  \n25%                  NaN  \n50%                  NaN  \n75%                  NaN  \nmax                  NaN  \n\n[11 rows x 34 columns]",
      "text/html": "<div>\n<style scoped>\n    .dataframe tbody tr th:only-of-type {\n        vertical-align: middle;\n    }\n\n    .dataframe tbody tr th {\n        vertical-align: top;\n    }\n\n    .dataframe thead th {\n        text-align: right;\n    }\n</style>\n<table border=\"1\" class=\"dataframe\">\n  <thead>\n    <tr style=\"text-align: right;\">\n      <th></th>\n      <th>YearStart</th>\n      <th>YearEnd</th>\n      <th>LocationAbbr</th>\n      <th>LocationDesc</th>\n      <th>DataSource</th>\n      <th>Topic</th>\n      <th>Question</th>\n      <th>Response</th>\n      <th>DataValueUnit</th>\n      <th>DataValueType</th>\n      <th>...</th>\n      <th>LocationID</th>\n      <th>TopicID</th>\n      <th>QuestionID</th>\n      <th>DataValueTypeID</th>\n      <th>StratificationCategoryID1</th>\n      <th>StratificationID1</th>\n      <th>StratificationCategoryID2</th>\n      <th>StratificationID2</th>\n      <th>StratificationCategoryID3</th>\n      <th>StratificationID3</th>\n    </tr>\n  </thead>\n  <tbody>\n    <tr>\n      <th>count</th>\n      <td>1.082328e+06</td>\n      <td>1.082328e+06</td>\n      <td>1082328</td>\n      <td>1082328</td>\n      <td>1082328</td>\n      <td>1082328</td>\n      <td>1082328</td>\n      <td>0</td>\n      <td>1082328</td>\n      <td>1082328</td>\n      <td>...</td>\n      <td>1.082328e+06</td>\n      <td>1082328</td>\n      <td>1082328</td>\n      <td>1082328</td>\n      <td>1082328</td>\n      <td>1082328</td>\n      <td>0</td>\n      <td>0</td>\n      <td>0</td>\n      <td>0</td>\n    </tr>\n    <tr>\n      <th>unique</th>\n      <td>NaN</td>\n      <td>NaN</td>\n      <td>55</td>\n      <td>55</td>\n      <td>31</td>\n      <td>17</td>\n      <td>203</td>\n      <td>0</td>\n      <td>13</td>\n      <td>19</td>\n      <td>...</td>\n      <td>NaN</td>\n      <td>17</td>\n      <td>203</td>\n      <td>19</td>\n      <td>3</td>\n      <td>13</td>\n      <td>0</td>\n      <td>0</td>\n      <td>0</td>\n      <td>0</td>\n    </tr>\n    <tr>\n      <th>top</th>\n      <td>NaN</td>\n      <td>NaN</td>\n      <td>NY</td>\n      <td>New York</td>\n      <td>BRFSS</td>\n      <td>Cancer</td>\n      <td>Hospitalization for hip fracture among Medicar...</td>\n      <td>NaN</td>\n      <td>%</td>\n      <td>Crude Prevalence</td>\n      <td>...</td>\n      <td>NaN</td>\n      <td>CAN</td>\n      <td>OLD1_0</td>\n      <td>CRDPREV</td>\n      <td>RACE</td>\n      <td>OVR</td>\n      <td>NaN</td>\n      <td>NaN</td>\n      <td>NaN</td>\n      <td>NaN</td>\n    </tr>\n    <tr>\n      <th>freq</th>\n      <td>NaN</td>\n      <td>NaN</td>\n      <td>20608</td>\n      <td>20608</td>\n      <td>597950</td>\n      <td>156371</td>\n      <td>12480</td>\n      <td>NaN</td>\n      <td>599411</td>\n      <td>339878</td>\n      <td>...</td>\n      <td>NaN</td>\n      <td>156371</td>\n      <td>12480</td>\n      <td>339878</td>\n      <td>673808</td>\n      <td>152290</td>\n      <td>NaN</td>\n      <td>NaN</td>\n      <td>NaN</td>\n      <td>NaN</td>\n    </tr>\n    <tr>\n      <th>mean</th>\n      <td>2.014678e+03</td>\n      <td>2.015196e+03</td>\n      <td>NaN</td>\n      <td>NaN</td>\n      <td>NaN</td>\n      <td>NaN</td>\n      <td>NaN</td>\n      <td>NaN</td>\n      <td>NaN</td>\n      <td>NaN</td>\n      <td>...</td>\n      <td>3.080346e+01</td>\n      <td>NaN</td>\n      <td>NaN</td>\n      <td>NaN</td>\n      <td>NaN</td>\n      <td>NaN</td>\n      <td>NaN</td>\n      <td>NaN</td>\n      <td>NaN</td>\n      <td>NaN</td>\n    </tr>\n    <tr>\n      <th>std</th>\n      <td>3.082694e+00</td>\n      <td>2.738999e+00</td>\n      <td>NaN</td>\n      <td>NaN</td>\n      <td>NaN</td>\n      <td>NaN</td>\n      <td>NaN</td>\n      <td>NaN</td>\n      <td>NaN</td>\n      <td>NaN</td>\n      <td>...</td>\n      <td>1.752053e+01</td>\n      <td>NaN</td>\n      <td>NaN</td>\n      <td>NaN</td>\n      <td>NaN</td>\n      <td>NaN</td>\n      <td>NaN</td>\n      <td>NaN</td>\n      <td>NaN</td>\n      <td>NaN</td>\n    </tr>\n    <tr>\n      <th>min</th>\n      <td>2.001000e+03</td>\n      <td>2.001000e+03</td>\n      <td>NaN</td>\n      <td>NaN</td>\n      <td>NaN</td>\n      <td>NaN</td>\n      <td>NaN</td>\n      <td>NaN</td>\n      <td>NaN</td>\n      <td>NaN</td>\n      <td>...</td>\n      <td>1.000000e+00</td>\n      <td>NaN</td>\n      <td>NaN</td>\n      <td>NaN</td>\n      <td>NaN</td>\n      <td>NaN</td>\n      <td>NaN</td>\n      <td>NaN</td>\n      <td>NaN</td>\n      <td>NaN</td>\n    </tr>\n    <tr>\n      <th>25%</th>\n      <td>2.012000e+03</td>\n      <td>2.013000e+03</td>\n      <td>NaN</td>\n      <td>NaN</td>\n      <td>NaN</td>\n      <td>NaN</td>\n      <td>NaN</td>\n      <td>NaN</td>\n      <td>NaN</td>\n      <td>NaN</td>\n      <td>...</td>\n      <td>1.700000e+01</td>\n      <td>NaN</td>\n      <td>NaN</td>\n      <td>NaN</td>\n      <td>NaN</td>\n      <td>NaN</td>\n      <td>NaN</td>\n      <td>NaN</td>\n      <td>NaN</td>\n      <td>NaN</td>\n    </tr>\n    <tr>\n      <th>50%</th>\n      <td>2.015000e+03</td>\n      <td>2.015000e+03</td>\n      <td>NaN</td>\n      <td>NaN</td>\n      <td>NaN</td>\n      <td>NaN</td>\n      <td>NaN</td>\n      <td>NaN</td>\n      <td>NaN</td>\n      <td>NaN</td>\n      <td>...</td>\n      <td>3.000000e+01</td>\n      <td>NaN</td>\n      <td>NaN</td>\n      <td>NaN</td>\n      <td>NaN</td>\n      <td>NaN</td>\n      <td>NaN</td>\n      <td>NaN</td>\n      <td>NaN</td>\n      <td>NaN</td>\n    </tr>\n    <tr>\n      <th>75%</th>\n      <td>2.017000e+03</td>\n      <td>2.017000e+03</td>\n      <td>NaN</td>\n      <td>NaN</td>\n      <td>NaN</td>\n      <td>NaN</td>\n      <td>NaN</td>\n      <td>NaN</td>\n      <td>NaN</td>\n      <td>NaN</td>\n      <td>...</td>\n      <td>4.500000e+01</td>\n      <td>NaN</td>\n      <td>NaN</td>\n      <td>NaN</td>\n      <td>NaN</td>\n      <td>NaN</td>\n      <td>NaN</td>\n      <td>NaN</td>\n      <td>NaN</td>\n      <td>NaN</td>\n    </tr>\n    <tr>\n      <th>max</th>\n      <td>2.021000e+03</td>\n      <td>2.021000e+03</td>\n      <td>NaN</td>\n      <td>NaN</td>\n      <td>NaN</td>\n      <td>NaN</td>\n      <td>NaN</td>\n      <td>NaN</td>\n      <td>NaN</td>\n      <td>NaN</td>\n      <td>...</td>\n      <td>7.800000e+01</td>\n      <td>NaN</td>\n      <td>NaN</td>\n      <td>NaN</td>\n      <td>NaN</td>\n      <td>NaN</td>\n      <td>NaN</td>\n      <td>NaN</td>\n      <td>NaN</td>\n      <td>NaN</td>\n    </tr>\n  </tbody>\n</table>\n<p>11 rows × 34 columns</p>\n</div>"
     },
     "execution_count": 79,
     "metadata": {},
     "output_type": "execute_result"
    }
   ],
   "source": [
    "df.describe(include='all')"
   ]
  },
  {
   "cell_type": "code",
   "execution_count": 80,
   "outputs": [
    {
     "data": {
      "text/plain": "YearStart                      int64\nYearEnd                        int64\nLocationAbbr                  object\nLocationDesc                  object\nDataSource                    object\nTopic                         object\nQuestion                      object\nResponse                      object\nDataValueUnit                 object\nDataValueType                 object\nDataValue                     object\nDataValueAlt                 float64\nDataValueFootnoteSymbol       object\nDatavalueFootnote             object\nLowConfidenceLimit           float64\nHighConfidenceLimit          float64\nStratificationCategory1       object\nStratification1               object\nStratificationCategory2       object\nStratification2               object\nStratificationCategory3       object\nStratification3               object\nGeoLocation                   object\nResponseID                    object\nLocationID                     int64\nTopicID                       object\nQuestionID                    object\nDataValueTypeID               object\nStratificationCategoryID1     object\nStratificationID1             object\nStratificationCategoryID2     object\nStratificationID2             object\nStratificationCategoryID3     object\nStratificationID3             object\ndtype: object"
     },
     "execution_count": 80,
     "metadata": {},
     "output_type": "execute_result"
    }
   ],
   "source": [
    "df.dtypes"
   ],
   "metadata": {
    "collapsed": false
   }
  },
  {
   "cell_type": "markdown",
   "source": [
    "Drop the null data, first the empty columns."
   ],
   "metadata": {
    "collapsed": false
   }
  },
  {
   "cell_type": "code",
   "execution_count": 81,
   "outputs": [],
   "source": [
    "df = df.dropna(axis=1, how='all')"
   ],
   "metadata": {
    "collapsed": false
   }
  },
  {
   "cell_type": "code",
   "execution_count": 82,
   "outputs": [
    {
     "data": {
      "text/plain": "(1082328, 24)"
     },
     "execution_count": 82,
     "metadata": {},
     "output_type": "execute_result"
    }
   ],
   "source": [
    "df.shape"
   ],
   "metadata": {
    "collapsed": false
   }
  },
  {
   "cell_type": "code",
   "execution_count": 83,
   "outputs": [
    {
     "data": {
      "text/plain": "         YearStart  YearEnd LocationAbbr   LocationDesc DataSource  \\\n0             2010     2010           AK         Alaska       NVSS   \n1             2017     2017           AK         Alaska       NVSS   \n2             2018     2018           AK         Alaska       NVSS   \n3             2011     2011           AK         Alaska       NVSS   \n4             2012     2012           AK         Alaska       NVSS   \n...            ...      ...          ...            ...        ...   \n1082323       2020     2020           WA     Washington      BRFSS   \n1082324       2020     2020           WV  West Virginia      BRFSS   \n1082325       2020     2020           WY        Wyoming      BRFSS   \n1082326       2020     2020           VT        Vermont      BRFSS   \n1082327       2020     2020           WI      Wisconsin      BRFSS   \n\n                                                   Topic  \\\n0                                                Alcohol   \n1                                                Alcohol   \n2                                                Alcohol   \n3                                 Chronic Kidney Disease   \n4                                 Chronic Kidney Disease   \n...                                                  ...   \n1082323  Nutrition, Physical Activity, and Weight Status   \n1082324            Chronic Obstructive Pulmonary Disease   \n1082325            Chronic Obstructive Pulmonary Disease   \n1082326                           Overarching Conditions   \n1082327                                         Diabetes   \n\n                                                  Question DataValueUnit  \\\n0                          Chronic liver disease mortality                 \n1                          Chronic liver disease mortality                 \n2                          Chronic liver disease mortality                 \n3                   Mortality with end-stage renal disease                 \n4                   Mortality with end-stage renal disease                 \n...                                                    ...           ...   \n1082323              Obesity among adults aged >= 18 years             %   \n1082324  Prevalence of current smoking among adults >= ...             %   \n1082325  Influenza vaccination among noninstitutionaliz...             %   \n1082326  Self-rated health status among women aged 18-4...             %   \n1082327  Prevalence of diagnosed diabetes among adults ...             %   \n\n                   DataValueType DataValue  ...  HighConfidenceLimit  \\\n0                         Number        70  ...                  NaN   \n1                         Number       121  ...                  NaN   \n2                         Number       121  ...                  NaN   \n3                         Number       221  ...                  NaN   \n4                         Number       234  ...                  NaN   \n...                          ...       ...  ...                  ...   \n1082323         Crude Prevalence      37.2  ...                 44.4   \n1082324  Age-adjusted Prevalence      47.6  ...                 52.2   \n1082325         Crude Prevalence      58.2  ...                 65.6   \n1082326         Crude Prevalence      90.5  ...                 96.0   \n1082327  Age-adjusted Prevalence            ...                  NaN   \n\n        StratificationCategory1            Stratification1  \\\n0                       Overall                    Overall   \n1                       Overall                    Overall   \n2                       Overall                    Overall   \n3                Race/Ethnicity        White, non-Hispanic   \n4                Race/Ethnicity        White, non-Hispanic   \n...                         ...                        ...   \n1082323          Race/Ethnicity        Black, non-Hispanic   \n1082324          Race/Ethnicity        White, non-Hispanic   \n1082325          Race/Ethnicity        White, non-Hispanic   \n1082326          Race/Ethnicity        Other, non-Hispanic   \n1082327          Race/Ethnicity  Multiracial, non-Hispanic   \n\n                                           GeoLocation  LocationID TopicID  \\\n0        POINT (-147.72205903599973 64.84507995700051)           2     ALC   \n1        POINT (-147.72205903599973 64.84507995700051)           2     ALC   \n2        POINT (-147.72205903599973 64.84507995700051)           2     ALC   \n3        POINT (-147.72205903599973 64.84507995700051)           2     CKD   \n4        POINT (-147.72205903599973 64.84507995700051)           2     CKD   \n...                                                ...         ...     ...   \n1082323  POINT (-120.47001078999972 47.52227862900048)          53    NPAW   \n1082324   POINT (-80.71264013499967 38.66551020200046)          54    COPD   \n1082325  POINT (-108.10983035299967 43.23554134300048)          56    COPD   \n1082326   POINT (-72.51764079099962 43.62538123900049)          50     OVC   \n1082327   POINT (-89.81637074199966 44.39319117400049)          55     DIA   \n\n        QuestionID DataValueTypeID  StratificationCategoryID1  \\\n0           ALC6_0            NMBR                    OVERALL   \n1           ALC6_0            NMBR                    OVERALL   \n2           ALC6_0            NMBR                    OVERALL   \n3           CKD1_0            NMBR                       RACE   \n4           CKD1_0            NMBR                       RACE   \n...            ...             ...                        ...   \n1082323    NPAW1_1         CRDPREV                       RACE   \n1082324  COPD3_0_1      AGEADJPREV                       RACE   \n1082325    COPD7_0         CRDPREV                       RACE   \n1082326     OVC6_2         CRDPREV                       RACE   \n1082327     DIA2_1      AGEADJPREV                       RACE   \n\n        StratificationID1  \n0                     OVR  \n1                     OVR  \n2                     OVR  \n3                     WHT  \n4                     WHT  \n...                   ...  \n1082323               BLK  \n1082324               WHT  \n1082325               WHT  \n1082326               OTH  \n1082327               MRC  \n\n[1082328 rows x 24 columns]",
      "text/html": "<div>\n<style scoped>\n    .dataframe tbody tr th:only-of-type {\n        vertical-align: middle;\n    }\n\n    .dataframe tbody tr th {\n        vertical-align: top;\n    }\n\n    .dataframe thead th {\n        text-align: right;\n    }\n</style>\n<table border=\"1\" class=\"dataframe\">\n  <thead>\n    <tr style=\"text-align: right;\">\n      <th></th>\n      <th>YearStart</th>\n      <th>YearEnd</th>\n      <th>LocationAbbr</th>\n      <th>LocationDesc</th>\n      <th>DataSource</th>\n      <th>Topic</th>\n      <th>Question</th>\n      <th>DataValueUnit</th>\n      <th>DataValueType</th>\n      <th>DataValue</th>\n      <th>...</th>\n      <th>HighConfidenceLimit</th>\n      <th>StratificationCategory1</th>\n      <th>Stratification1</th>\n      <th>GeoLocation</th>\n      <th>LocationID</th>\n      <th>TopicID</th>\n      <th>QuestionID</th>\n      <th>DataValueTypeID</th>\n      <th>StratificationCategoryID1</th>\n      <th>StratificationID1</th>\n    </tr>\n  </thead>\n  <tbody>\n    <tr>\n      <th>0</th>\n      <td>2010</td>\n      <td>2010</td>\n      <td>AK</td>\n      <td>Alaska</td>\n      <td>NVSS</td>\n      <td>Alcohol</td>\n      <td>Chronic liver disease mortality</td>\n      <td></td>\n      <td>Number</td>\n      <td>70</td>\n      <td>...</td>\n      <td>NaN</td>\n      <td>Overall</td>\n      <td>Overall</td>\n      <td>POINT (-147.72205903599973 64.84507995700051)</td>\n      <td>2</td>\n      <td>ALC</td>\n      <td>ALC6_0</td>\n      <td>NMBR</td>\n      <td>OVERALL</td>\n      <td>OVR</td>\n    </tr>\n    <tr>\n      <th>1</th>\n      <td>2017</td>\n      <td>2017</td>\n      <td>AK</td>\n      <td>Alaska</td>\n      <td>NVSS</td>\n      <td>Alcohol</td>\n      <td>Chronic liver disease mortality</td>\n      <td></td>\n      <td>Number</td>\n      <td>121</td>\n      <td>...</td>\n      <td>NaN</td>\n      <td>Overall</td>\n      <td>Overall</td>\n      <td>POINT (-147.72205903599973 64.84507995700051)</td>\n      <td>2</td>\n      <td>ALC</td>\n      <td>ALC6_0</td>\n      <td>NMBR</td>\n      <td>OVERALL</td>\n      <td>OVR</td>\n    </tr>\n    <tr>\n      <th>2</th>\n      <td>2018</td>\n      <td>2018</td>\n      <td>AK</td>\n      <td>Alaska</td>\n      <td>NVSS</td>\n      <td>Alcohol</td>\n      <td>Chronic liver disease mortality</td>\n      <td></td>\n      <td>Number</td>\n      <td>121</td>\n      <td>...</td>\n      <td>NaN</td>\n      <td>Overall</td>\n      <td>Overall</td>\n      <td>POINT (-147.72205903599973 64.84507995700051)</td>\n      <td>2</td>\n      <td>ALC</td>\n      <td>ALC6_0</td>\n      <td>NMBR</td>\n      <td>OVERALL</td>\n      <td>OVR</td>\n    </tr>\n    <tr>\n      <th>3</th>\n      <td>2011</td>\n      <td>2011</td>\n      <td>AK</td>\n      <td>Alaska</td>\n      <td>NVSS</td>\n      <td>Chronic Kidney Disease</td>\n      <td>Mortality with end-stage renal disease</td>\n      <td></td>\n      <td>Number</td>\n      <td>221</td>\n      <td>...</td>\n      <td>NaN</td>\n      <td>Race/Ethnicity</td>\n      <td>White, non-Hispanic</td>\n      <td>POINT (-147.72205903599973 64.84507995700051)</td>\n      <td>2</td>\n      <td>CKD</td>\n      <td>CKD1_0</td>\n      <td>NMBR</td>\n      <td>RACE</td>\n      <td>WHT</td>\n    </tr>\n    <tr>\n      <th>4</th>\n      <td>2012</td>\n      <td>2012</td>\n      <td>AK</td>\n      <td>Alaska</td>\n      <td>NVSS</td>\n      <td>Chronic Kidney Disease</td>\n      <td>Mortality with end-stage renal disease</td>\n      <td></td>\n      <td>Number</td>\n      <td>234</td>\n      <td>...</td>\n      <td>NaN</td>\n      <td>Race/Ethnicity</td>\n      <td>White, non-Hispanic</td>\n      <td>POINT (-147.72205903599973 64.84507995700051)</td>\n      <td>2</td>\n      <td>CKD</td>\n      <td>CKD1_0</td>\n      <td>NMBR</td>\n      <td>RACE</td>\n      <td>WHT</td>\n    </tr>\n    <tr>\n      <th>...</th>\n      <td>...</td>\n      <td>...</td>\n      <td>...</td>\n      <td>...</td>\n      <td>...</td>\n      <td>...</td>\n      <td>...</td>\n      <td>...</td>\n      <td>...</td>\n      <td>...</td>\n      <td>...</td>\n      <td>...</td>\n      <td>...</td>\n      <td>...</td>\n      <td>...</td>\n      <td>...</td>\n      <td>...</td>\n      <td>...</td>\n      <td>...</td>\n      <td>...</td>\n      <td>...</td>\n    </tr>\n    <tr>\n      <th>1082323</th>\n      <td>2020</td>\n      <td>2020</td>\n      <td>WA</td>\n      <td>Washington</td>\n      <td>BRFSS</td>\n      <td>Nutrition, Physical Activity, and Weight Status</td>\n      <td>Obesity among adults aged &gt;= 18 years</td>\n      <td>%</td>\n      <td>Crude Prevalence</td>\n      <td>37.2</td>\n      <td>...</td>\n      <td>44.4</td>\n      <td>Race/Ethnicity</td>\n      <td>Black, non-Hispanic</td>\n      <td>POINT (-120.47001078999972 47.52227862900048)</td>\n      <td>53</td>\n      <td>NPAW</td>\n      <td>NPAW1_1</td>\n      <td>CRDPREV</td>\n      <td>RACE</td>\n      <td>BLK</td>\n    </tr>\n    <tr>\n      <th>1082324</th>\n      <td>2020</td>\n      <td>2020</td>\n      <td>WV</td>\n      <td>West Virginia</td>\n      <td>BRFSS</td>\n      <td>Chronic Obstructive Pulmonary Disease</td>\n      <td>Prevalence of current smoking among adults &gt;= ...</td>\n      <td>%</td>\n      <td>Age-adjusted Prevalence</td>\n      <td>47.6</td>\n      <td>...</td>\n      <td>52.2</td>\n      <td>Race/Ethnicity</td>\n      <td>White, non-Hispanic</td>\n      <td>POINT (-80.71264013499967 38.66551020200046)</td>\n      <td>54</td>\n      <td>COPD</td>\n      <td>COPD3_0_1</td>\n      <td>AGEADJPREV</td>\n      <td>RACE</td>\n      <td>WHT</td>\n    </tr>\n    <tr>\n      <th>1082325</th>\n      <td>2020</td>\n      <td>2020</td>\n      <td>WY</td>\n      <td>Wyoming</td>\n      <td>BRFSS</td>\n      <td>Chronic Obstructive Pulmonary Disease</td>\n      <td>Influenza vaccination among noninstitutionaliz...</td>\n      <td>%</td>\n      <td>Crude Prevalence</td>\n      <td>58.2</td>\n      <td>...</td>\n      <td>65.6</td>\n      <td>Race/Ethnicity</td>\n      <td>White, non-Hispanic</td>\n      <td>POINT (-108.10983035299967 43.23554134300048)</td>\n      <td>56</td>\n      <td>COPD</td>\n      <td>COPD7_0</td>\n      <td>CRDPREV</td>\n      <td>RACE</td>\n      <td>WHT</td>\n    </tr>\n    <tr>\n      <th>1082326</th>\n      <td>2020</td>\n      <td>2020</td>\n      <td>VT</td>\n      <td>Vermont</td>\n      <td>BRFSS</td>\n      <td>Overarching Conditions</td>\n      <td>Self-rated health status among women aged 18-4...</td>\n      <td>%</td>\n      <td>Crude Prevalence</td>\n      <td>90.5</td>\n      <td>...</td>\n      <td>96.0</td>\n      <td>Race/Ethnicity</td>\n      <td>Other, non-Hispanic</td>\n      <td>POINT (-72.51764079099962 43.62538123900049)</td>\n      <td>50</td>\n      <td>OVC</td>\n      <td>OVC6_2</td>\n      <td>CRDPREV</td>\n      <td>RACE</td>\n      <td>OTH</td>\n    </tr>\n    <tr>\n      <th>1082327</th>\n      <td>2020</td>\n      <td>2020</td>\n      <td>WI</td>\n      <td>Wisconsin</td>\n      <td>BRFSS</td>\n      <td>Diabetes</td>\n      <td>Prevalence of diagnosed diabetes among adults ...</td>\n      <td>%</td>\n      <td>Age-adjusted Prevalence</td>\n      <td></td>\n      <td>...</td>\n      <td>NaN</td>\n      <td>Race/Ethnicity</td>\n      <td>Multiracial, non-Hispanic</td>\n      <td>POINT (-89.81637074199966 44.39319117400049)</td>\n      <td>55</td>\n      <td>DIA</td>\n      <td>DIA2_1</td>\n      <td>AGEADJPREV</td>\n      <td>RACE</td>\n      <td>MRC</td>\n    </tr>\n  </tbody>\n</table>\n<p>1082328 rows × 24 columns</p>\n</div>"
     },
     "execution_count": 83,
     "metadata": {},
     "output_type": "execute_result"
    }
   ],
   "source": [
    "df"
   ],
   "metadata": {
    "collapsed": false
   }
  },
  {
   "cell_type": "markdown",
   "source": [
    "Exploring if the data is available per year or per period"
   ],
   "metadata": {
    "collapsed": false
   }
  },
  {
   "cell_type": "code",
   "execution_count": 84,
   "outputs": [
    {
     "name": "stderr",
     "output_type": "stream",
     "text": [
      "/var/folders/49/ss_w68xn6jx95hbc301c6q6c0000gn/T/ipykernel_2358/3952450489.py:1: SettingWithCopyWarning: \n",
      "A value is trying to be set on a copy of a slice from a DataFrame.\n",
      "Try using .loc[row_indexer,col_indexer] = value instead\n",
      "\n",
      "See the caveats in the documentation: https://pandas.pydata.org/pandas-docs/stable/user_guide/indexing.html#returning-a-view-versus-a-copy\n",
      "  df['diff_year'] = np.where((df['YearStart'] != df['YearEnd']),'Period','Year')\n"
     ]
    },
    {
     "data": {
      "text/plain": "(140986, 25)"
     },
     "execution_count": 84,
     "metadata": {},
     "output_type": "execute_result"
    }
   ],
   "source": [
    "df['diff_year'] = np.where((df['YearStart'] != df['YearEnd']),'Period','Year')\n",
    "df_per_period = df[df['diff_year'].str.contains('Period')]\n",
    "# Verify the shape of the new database\n",
    "df_per_period.shape"
   ],
   "metadata": {
    "collapsed": false
   }
  },
  {
   "cell_type": "code",
   "execution_count": 85,
   "outputs": [
    {
     "data": {
      "text/plain": "        YearStart  YearEnd LocationAbbr   LocationDesc  \\\n383          2017     2018           MT        Montana   \n414          2016     2017           ND   North Dakota   \n703          2008     2012           AK         Alaska   \n713          2014     2018           AL        Alabama   \n723          2014     2018           AR       Arkansas   \n...           ...      ...          ...            ...   \n490310       2009     2013           WV  West Virginia   \n490316       2012     2016           WY        Wyoming   \n490317       2013     2017           WY        Wyoming   \n490320       2012     2016           WV  West Virginia   \n490323       2010     2014           WY        Wyoming   \n\n                                 DataSource        Topic  \\\n383                                    NSCH  Oral Health   \n414                                    NSCH  Oral Health   \n703                       Death Certificate       Cancer   \n713                       Death Certificate       Cancer   \n723                       Death Certificate       Cancer   \n...                                     ...          ...   \n490310  Statewide central cancer registries       Cancer   \n490316                    Death Certificate       Cancer   \n490317                    Death Certificate       Cancer   \n490320  Statewide central cancer registries       Cancer   \n490323                    Death Certificate       Cancer   \n\n                                                 Question DataValueUnit  \\\n383     Dental visits among children and adolescents a...             %   \n414     Dental visits among children and adolescents a...             %   \n703                Cancer of the female cervix, mortality                 \n713                Cancer of the female cervix, mortality                 \n723                     Cancer of the prostate, mortality                 \n...                                                   ...           ...   \n490310                       Invasive melanoma, incidence                 \n490316             Cancer of the female cervix, mortality   per 100,000   \n490317                                Melanoma, mortality   per 100,000   \n490320                       Invasive melanoma, incidence   per 100,000   \n490323                  Cancer of the prostate, mortality                 \n\n                           DataValueType DataValue  ...  \\\n383                     Crude Prevalence      83.8  ...   \n414                     Crude Prevalence      80.0  ...   \n703                Average Annual Number         7  ...   \n713                Average Annual Number        99  ...   \n723                Average Annual Number       280  ...   \n...                                  ...       ...  ...   \n490310             Average Annual Number       475  ...   \n490316  Average Annual Age-adjusted Rate       2.0  ...   \n490317         Average Annual Crude Rate       3.5  ...   \n490320         Average Annual Crude Rate            ...   \n490323             Average Annual Number        47  ...   \n\n        StratificationCategory1      Stratification1  \\\n383                      Gender                 Male   \n414                      Gender               Female   \n703                      Gender               Female   \n713                      Gender               Female   \n723                      Gender                 Male   \n...                         ...                  ...   \n490310           Race/Ethnicity  White, non-Hispanic   \n490316                  Overall              Overall   \n490317                  Overall              Overall   \n490320           Race/Ethnicity             Hispanic   \n490323                  Overall              Overall   \n\n                                          GeoLocation  LocationID  TopicID  \\\n383     POINT (-109.42442064499971 47.06652897200047)          30      ORH   \n414     POINT (-100.11842104899966 47.47531977900047)          38      ORH   \n703     POINT (-147.72205903599973 64.84507995700051)           2      CAN   \n713      POINT (-86.63186076199969 32.84057112200048)           1      CAN   \n723      POINT (-92.27449074299966 34.74865012400045)           5      CAN   \n...                                               ...         ...      ...   \n490310   POINT (-80.71264013499967 38.66551020200046)          54      CAN   \n490316  POINT (-108.10983035299967 43.23554134300048)          56      CAN   \n490317  POINT (-108.10983035299967 43.23554134300048)          56      CAN   \n490320   POINT (-80.71264013499967 38.66551020200046)          54      CAN   \n490323  POINT (-108.10983035299967 43.23554134300048)          56      CAN   \n\n       QuestionID   DataValueTypeID StratificationCategoryID1  \\\n383        ORH1_2           CRDPREV                    GENDER   \n414        ORH1_2           CRDPREV                    GENDER   \n703        CAN6_2        AVGANNNMBR                    GENDER   \n713        CAN6_2        AVGANNNMBR                    GENDER   \n723       CAN11_2        AVGANNNMBR                    GENDER   \n...           ...               ...                       ...   \n490310     CAN9_1        AVGANNNMBR                      RACE   \n490316     CAN6_2  AVGANNAGEADJRATE                   OVERALL   \n490317     CAN9_2     AVGANNCRDRATE                   OVERALL   \n490320     CAN9_1     AVGANNCRDRATE                      RACE   \n490323    CAN11_2        AVGANNNMBR                   OVERALL   \n\n        StratificationID1 diff_year  \n383                  GENM    Period  \n414                  GENF    Period  \n703                  GENF    Period  \n713                  GENF    Period  \n723                  GENM    Period  \n...                   ...       ...  \n490310                WHT    Period  \n490316                OVR    Period  \n490317                OVR    Period  \n490320                HIS    Period  \n490323                OVR    Period  \n\n[140986 rows x 25 columns]",
      "text/html": "<div>\n<style scoped>\n    .dataframe tbody tr th:only-of-type {\n        vertical-align: middle;\n    }\n\n    .dataframe tbody tr th {\n        vertical-align: top;\n    }\n\n    .dataframe thead th {\n        text-align: right;\n    }\n</style>\n<table border=\"1\" class=\"dataframe\">\n  <thead>\n    <tr style=\"text-align: right;\">\n      <th></th>\n      <th>YearStart</th>\n      <th>YearEnd</th>\n      <th>LocationAbbr</th>\n      <th>LocationDesc</th>\n      <th>DataSource</th>\n      <th>Topic</th>\n      <th>Question</th>\n      <th>DataValueUnit</th>\n      <th>DataValueType</th>\n      <th>DataValue</th>\n      <th>...</th>\n      <th>StratificationCategory1</th>\n      <th>Stratification1</th>\n      <th>GeoLocation</th>\n      <th>LocationID</th>\n      <th>TopicID</th>\n      <th>QuestionID</th>\n      <th>DataValueTypeID</th>\n      <th>StratificationCategoryID1</th>\n      <th>StratificationID1</th>\n      <th>diff_year</th>\n    </tr>\n  </thead>\n  <tbody>\n    <tr>\n      <th>383</th>\n      <td>2017</td>\n      <td>2018</td>\n      <td>MT</td>\n      <td>Montana</td>\n      <td>NSCH</td>\n      <td>Oral Health</td>\n      <td>Dental visits among children and adolescents a...</td>\n      <td>%</td>\n      <td>Crude Prevalence</td>\n      <td>83.8</td>\n      <td>...</td>\n      <td>Gender</td>\n      <td>Male</td>\n      <td>POINT (-109.42442064499971 47.06652897200047)</td>\n      <td>30</td>\n      <td>ORH</td>\n      <td>ORH1_2</td>\n      <td>CRDPREV</td>\n      <td>GENDER</td>\n      <td>GENM</td>\n      <td>Period</td>\n    </tr>\n    <tr>\n      <th>414</th>\n      <td>2016</td>\n      <td>2017</td>\n      <td>ND</td>\n      <td>North Dakota</td>\n      <td>NSCH</td>\n      <td>Oral Health</td>\n      <td>Dental visits among children and adolescents a...</td>\n      <td>%</td>\n      <td>Crude Prevalence</td>\n      <td>80.0</td>\n      <td>...</td>\n      <td>Gender</td>\n      <td>Female</td>\n      <td>POINT (-100.11842104899966 47.47531977900047)</td>\n      <td>38</td>\n      <td>ORH</td>\n      <td>ORH1_2</td>\n      <td>CRDPREV</td>\n      <td>GENDER</td>\n      <td>GENF</td>\n      <td>Period</td>\n    </tr>\n    <tr>\n      <th>703</th>\n      <td>2008</td>\n      <td>2012</td>\n      <td>AK</td>\n      <td>Alaska</td>\n      <td>Death Certificate</td>\n      <td>Cancer</td>\n      <td>Cancer of the female cervix, mortality</td>\n      <td></td>\n      <td>Average Annual Number</td>\n      <td>7</td>\n      <td>...</td>\n      <td>Gender</td>\n      <td>Female</td>\n      <td>POINT (-147.72205903599973 64.84507995700051)</td>\n      <td>2</td>\n      <td>CAN</td>\n      <td>CAN6_2</td>\n      <td>AVGANNNMBR</td>\n      <td>GENDER</td>\n      <td>GENF</td>\n      <td>Period</td>\n    </tr>\n    <tr>\n      <th>713</th>\n      <td>2014</td>\n      <td>2018</td>\n      <td>AL</td>\n      <td>Alabama</td>\n      <td>Death Certificate</td>\n      <td>Cancer</td>\n      <td>Cancer of the female cervix, mortality</td>\n      <td></td>\n      <td>Average Annual Number</td>\n      <td>99</td>\n      <td>...</td>\n      <td>Gender</td>\n      <td>Female</td>\n      <td>POINT (-86.63186076199969 32.84057112200048)</td>\n      <td>1</td>\n      <td>CAN</td>\n      <td>CAN6_2</td>\n      <td>AVGANNNMBR</td>\n      <td>GENDER</td>\n      <td>GENF</td>\n      <td>Period</td>\n    </tr>\n    <tr>\n      <th>723</th>\n      <td>2014</td>\n      <td>2018</td>\n      <td>AR</td>\n      <td>Arkansas</td>\n      <td>Death Certificate</td>\n      <td>Cancer</td>\n      <td>Cancer of the prostate, mortality</td>\n      <td></td>\n      <td>Average Annual Number</td>\n      <td>280</td>\n      <td>...</td>\n      <td>Gender</td>\n      <td>Male</td>\n      <td>POINT (-92.27449074299966 34.74865012400045)</td>\n      <td>5</td>\n      <td>CAN</td>\n      <td>CAN11_2</td>\n      <td>AVGANNNMBR</td>\n      <td>GENDER</td>\n      <td>GENM</td>\n      <td>Period</td>\n    </tr>\n    <tr>\n      <th>...</th>\n      <td>...</td>\n      <td>...</td>\n      <td>...</td>\n      <td>...</td>\n      <td>...</td>\n      <td>...</td>\n      <td>...</td>\n      <td>...</td>\n      <td>...</td>\n      <td>...</td>\n      <td>...</td>\n      <td>...</td>\n      <td>...</td>\n      <td>...</td>\n      <td>...</td>\n      <td>...</td>\n      <td>...</td>\n      <td>...</td>\n      <td>...</td>\n      <td>...</td>\n      <td>...</td>\n    </tr>\n    <tr>\n      <th>490310</th>\n      <td>2009</td>\n      <td>2013</td>\n      <td>WV</td>\n      <td>West Virginia</td>\n      <td>Statewide central cancer registries</td>\n      <td>Cancer</td>\n      <td>Invasive melanoma, incidence</td>\n      <td></td>\n      <td>Average Annual Number</td>\n      <td>475</td>\n      <td>...</td>\n      <td>Race/Ethnicity</td>\n      <td>White, non-Hispanic</td>\n      <td>POINT (-80.71264013499967 38.66551020200046)</td>\n      <td>54</td>\n      <td>CAN</td>\n      <td>CAN9_1</td>\n      <td>AVGANNNMBR</td>\n      <td>RACE</td>\n      <td>WHT</td>\n      <td>Period</td>\n    </tr>\n    <tr>\n      <th>490316</th>\n      <td>2012</td>\n      <td>2016</td>\n      <td>WY</td>\n      <td>Wyoming</td>\n      <td>Death Certificate</td>\n      <td>Cancer</td>\n      <td>Cancer of the female cervix, mortality</td>\n      <td>per 100,000</td>\n      <td>Average Annual Age-adjusted Rate</td>\n      <td>2.0</td>\n      <td>...</td>\n      <td>Overall</td>\n      <td>Overall</td>\n      <td>POINT (-108.10983035299967 43.23554134300048)</td>\n      <td>56</td>\n      <td>CAN</td>\n      <td>CAN6_2</td>\n      <td>AVGANNAGEADJRATE</td>\n      <td>OVERALL</td>\n      <td>OVR</td>\n      <td>Period</td>\n    </tr>\n    <tr>\n      <th>490317</th>\n      <td>2013</td>\n      <td>2017</td>\n      <td>WY</td>\n      <td>Wyoming</td>\n      <td>Death Certificate</td>\n      <td>Cancer</td>\n      <td>Melanoma, mortality</td>\n      <td>per 100,000</td>\n      <td>Average Annual Crude Rate</td>\n      <td>3.5</td>\n      <td>...</td>\n      <td>Overall</td>\n      <td>Overall</td>\n      <td>POINT (-108.10983035299967 43.23554134300048)</td>\n      <td>56</td>\n      <td>CAN</td>\n      <td>CAN9_2</td>\n      <td>AVGANNCRDRATE</td>\n      <td>OVERALL</td>\n      <td>OVR</td>\n      <td>Period</td>\n    </tr>\n    <tr>\n      <th>490320</th>\n      <td>2012</td>\n      <td>2016</td>\n      <td>WV</td>\n      <td>West Virginia</td>\n      <td>Statewide central cancer registries</td>\n      <td>Cancer</td>\n      <td>Invasive melanoma, incidence</td>\n      <td>per 100,000</td>\n      <td>Average Annual Crude Rate</td>\n      <td></td>\n      <td>...</td>\n      <td>Race/Ethnicity</td>\n      <td>Hispanic</td>\n      <td>POINT (-80.71264013499967 38.66551020200046)</td>\n      <td>54</td>\n      <td>CAN</td>\n      <td>CAN9_1</td>\n      <td>AVGANNCRDRATE</td>\n      <td>RACE</td>\n      <td>HIS</td>\n      <td>Period</td>\n    </tr>\n    <tr>\n      <th>490323</th>\n      <td>2010</td>\n      <td>2014</td>\n      <td>WY</td>\n      <td>Wyoming</td>\n      <td>Death Certificate</td>\n      <td>Cancer</td>\n      <td>Cancer of the prostate, mortality</td>\n      <td></td>\n      <td>Average Annual Number</td>\n      <td>47</td>\n      <td>...</td>\n      <td>Overall</td>\n      <td>Overall</td>\n      <td>POINT (-108.10983035299967 43.23554134300048)</td>\n      <td>56</td>\n      <td>CAN</td>\n      <td>CAN11_2</td>\n      <td>AVGANNNMBR</td>\n      <td>OVERALL</td>\n      <td>OVR</td>\n      <td>Period</td>\n    </tr>\n  </tbody>\n</table>\n<p>140986 rows × 25 columns</p>\n</div>"
     },
     "execution_count": 85,
     "metadata": {},
     "output_type": "execute_result"
    }
   ],
   "source": [
    "#Checking the empty values in the new database\n",
    "df_per_period"
   ],
   "metadata": {
    "collapsed": false
   }
  },
  {
   "cell_type": "markdown",
   "source": [
    "Creating a new data frame per year"
   ],
   "metadata": {
    "collapsed": false
   }
  },
  {
   "cell_type": "code",
   "execution_count": 86,
   "outputs": [
    {
     "data": {
      "text/plain": "   YearStart  YearEnd LocationAbbr LocationDesc DataSource  \\\n0       2010     2010           AK       Alaska       NVSS   \n1       2017     2017           AK       Alaska       NVSS   \n2       2018     2018           AK       Alaska       NVSS   \n3       2011     2011           AK       Alaska       NVSS   \n4       2012     2012           AK       Alaska       NVSS   \n\n                    Topic                                Question  \\\n0                 Alcohol         Chronic liver disease mortality   \n1                 Alcohol         Chronic liver disease mortality   \n2                 Alcohol         Chronic liver disease mortality   \n3  Chronic Kidney Disease  Mortality with end-stage renal disease   \n4  Chronic Kidney Disease  Mortality with end-stage renal disease   \n\n  DataValueUnit DataValueType DataValue  ...  StratificationCategory1  \\\n0                      Number        70  ...                  Overall   \n1                      Number       121  ...                  Overall   \n2                      Number       121  ...                  Overall   \n3                      Number       221  ...           Race/Ethnicity   \n4                      Number       234  ...           Race/Ethnicity   \n\n       Stratification1                                    GeoLocation  \\\n0              Overall  POINT (-147.72205903599973 64.84507995700051)   \n1              Overall  POINT (-147.72205903599973 64.84507995700051)   \n2              Overall  POINT (-147.72205903599973 64.84507995700051)   \n3  White, non-Hispanic  POINT (-147.72205903599973 64.84507995700051)   \n4  White, non-Hispanic  POINT (-147.72205903599973 64.84507995700051)   \n\n   LocationID  TopicID QuestionID DataValueTypeID StratificationCategoryID1  \\\n0           2      ALC     ALC6_0            NMBR                   OVERALL   \n1           2      ALC     ALC6_0            NMBR                   OVERALL   \n2           2      ALC     ALC6_0            NMBR                   OVERALL   \n3           2      CKD     CKD1_0            NMBR                      RACE   \n4           2      CKD     CKD1_0            NMBR                      RACE   \n\n   StratificationID1 diff_year  \n0                OVR      Year  \n1                OVR      Year  \n2                OVR      Year  \n3                WHT      Year  \n4                WHT      Year  \n\n[5 rows x 25 columns]",
      "text/html": "<div>\n<style scoped>\n    .dataframe tbody tr th:only-of-type {\n        vertical-align: middle;\n    }\n\n    .dataframe tbody tr th {\n        vertical-align: top;\n    }\n\n    .dataframe thead th {\n        text-align: right;\n    }\n</style>\n<table border=\"1\" class=\"dataframe\">\n  <thead>\n    <tr style=\"text-align: right;\">\n      <th></th>\n      <th>YearStart</th>\n      <th>YearEnd</th>\n      <th>LocationAbbr</th>\n      <th>LocationDesc</th>\n      <th>DataSource</th>\n      <th>Topic</th>\n      <th>Question</th>\n      <th>DataValueUnit</th>\n      <th>DataValueType</th>\n      <th>DataValue</th>\n      <th>...</th>\n      <th>StratificationCategory1</th>\n      <th>Stratification1</th>\n      <th>GeoLocation</th>\n      <th>LocationID</th>\n      <th>TopicID</th>\n      <th>QuestionID</th>\n      <th>DataValueTypeID</th>\n      <th>StratificationCategoryID1</th>\n      <th>StratificationID1</th>\n      <th>diff_year</th>\n    </tr>\n  </thead>\n  <tbody>\n    <tr>\n      <th>0</th>\n      <td>2010</td>\n      <td>2010</td>\n      <td>AK</td>\n      <td>Alaska</td>\n      <td>NVSS</td>\n      <td>Alcohol</td>\n      <td>Chronic liver disease mortality</td>\n      <td></td>\n      <td>Number</td>\n      <td>70</td>\n      <td>...</td>\n      <td>Overall</td>\n      <td>Overall</td>\n      <td>POINT (-147.72205903599973 64.84507995700051)</td>\n      <td>2</td>\n      <td>ALC</td>\n      <td>ALC6_0</td>\n      <td>NMBR</td>\n      <td>OVERALL</td>\n      <td>OVR</td>\n      <td>Year</td>\n    </tr>\n    <tr>\n      <th>1</th>\n      <td>2017</td>\n      <td>2017</td>\n      <td>AK</td>\n      <td>Alaska</td>\n      <td>NVSS</td>\n      <td>Alcohol</td>\n      <td>Chronic liver disease mortality</td>\n      <td></td>\n      <td>Number</td>\n      <td>121</td>\n      <td>...</td>\n      <td>Overall</td>\n      <td>Overall</td>\n      <td>POINT (-147.72205903599973 64.84507995700051)</td>\n      <td>2</td>\n      <td>ALC</td>\n      <td>ALC6_0</td>\n      <td>NMBR</td>\n      <td>OVERALL</td>\n      <td>OVR</td>\n      <td>Year</td>\n    </tr>\n    <tr>\n      <th>2</th>\n      <td>2018</td>\n      <td>2018</td>\n      <td>AK</td>\n      <td>Alaska</td>\n      <td>NVSS</td>\n      <td>Alcohol</td>\n      <td>Chronic liver disease mortality</td>\n      <td></td>\n      <td>Number</td>\n      <td>121</td>\n      <td>...</td>\n      <td>Overall</td>\n      <td>Overall</td>\n      <td>POINT (-147.72205903599973 64.84507995700051)</td>\n      <td>2</td>\n      <td>ALC</td>\n      <td>ALC6_0</td>\n      <td>NMBR</td>\n      <td>OVERALL</td>\n      <td>OVR</td>\n      <td>Year</td>\n    </tr>\n    <tr>\n      <th>3</th>\n      <td>2011</td>\n      <td>2011</td>\n      <td>AK</td>\n      <td>Alaska</td>\n      <td>NVSS</td>\n      <td>Chronic Kidney Disease</td>\n      <td>Mortality with end-stage renal disease</td>\n      <td></td>\n      <td>Number</td>\n      <td>221</td>\n      <td>...</td>\n      <td>Race/Ethnicity</td>\n      <td>White, non-Hispanic</td>\n      <td>POINT (-147.72205903599973 64.84507995700051)</td>\n      <td>2</td>\n      <td>CKD</td>\n      <td>CKD1_0</td>\n      <td>NMBR</td>\n      <td>RACE</td>\n      <td>WHT</td>\n      <td>Year</td>\n    </tr>\n    <tr>\n      <th>4</th>\n      <td>2012</td>\n      <td>2012</td>\n      <td>AK</td>\n      <td>Alaska</td>\n      <td>NVSS</td>\n      <td>Chronic Kidney Disease</td>\n      <td>Mortality with end-stage renal disease</td>\n      <td></td>\n      <td>Number</td>\n      <td>234</td>\n      <td>...</td>\n      <td>Race/Ethnicity</td>\n      <td>White, non-Hispanic</td>\n      <td>POINT (-147.72205903599973 64.84507995700051)</td>\n      <td>2</td>\n      <td>CKD</td>\n      <td>CKD1_0</td>\n      <td>NMBR</td>\n      <td>RACE</td>\n      <td>WHT</td>\n      <td>Year</td>\n    </tr>\n  </tbody>\n</table>\n<p>5 rows × 25 columns</p>\n</div>"
     },
     "execution_count": 86,
     "metadata": {},
     "output_type": "execute_result"
    }
   ],
   "source": [
    "#Finding the number of data available to National and State level\n",
    "df_per_year = df[df['diff_year'].str.contains('Year')]\n",
    "df_per_year.head()"
   ],
   "metadata": {
    "collapsed": false
   }
  },
  {
   "cell_type": "code",
   "execution_count": 87,
   "outputs": [
    {
     "data": {
      "text/plain": "(941342, 25)"
     },
     "execution_count": 87,
     "metadata": {},
     "output_type": "execute_result"
    }
   ],
   "source": [
    "#Check point\n",
    "df_per_year.shape"
   ],
   "metadata": {
    "collapsed": false
   }
  },
  {
   "cell_type": "code",
   "execution_count": 88,
   "outputs": [
    {
     "data": {
      "text/plain": "YearStart                         0\nYearEnd                           0\nLocationAbbr                      0\nLocationDesc                      0\nDataSource                        0\nTopic                             0\nQuestion                          0\nDataValueUnit                     0\nDataValueType                     0\nDataValue                         0\nDataValueAlt                 317331\nDataValueFootnoteSymbol           0\nDatavalueFootnote                 0\nLowConfidenceLimit           393221\nHighConfidenceLimit          393221\nStratificationCategory1           0\nStratification1                   0\nGeoLocation                       0\nLocationID                        0\nTopicID                           0\nQuestionID                        0\nDataValueTypeID                   0\nStratificationCategoryID1         0\nStratificationID1                 0\ndiff_year                         0\ndtype: int64"
     },
     "execution_count": 88,
     "metadata": {},
     "output_type": "execute_result"
    }
   ],
   "source": [
    "#Check point\n",
    "df_per_year.isna().sum()"
   ],
   "metadata": {
    "collapsed": false
   }
  },
  {
   "cell_type": "code",
   "execution_count": 89,
   "outputs": [
    {
     "data": {
      "text/plain": "0"
     },
     "execution_count": 89,
     "metadata": {},
     "output_type": "execute_result"
    }
   ],
   "source": [
    "#Check point\n",
    "df_per_year.duplicated().sum()"
   ],
   "metadata": {
    "collapsed": false
   }
  },
  {
   "cell_type": "code",
   "execution_count": 90,
   "outputs": [],
   "source": [
    "#Dropping columns after check if the data is the same\n",
    "df_per_year = df_per_year.drop(columns=['YearEnd', 'diff_year'])"
   ],
   "metadata": {
    "collapsed": false
   }
  },
  {
   "cell_type": "code",
   "execution_count": 91,
   "outputs": [
    {
     "data": {
      "text/plain": "(941342, 23)"
     },
     "execution_count": 91,
     "metadata": {},
     "output_type": "execute_result"
    }
   ],
   "source": [
    "#Check if the changes were applied\n",
    "df_per_year.shape"
   ],
   "metadata": {
    "collapsed": false
   }
  },
  {
   "cell_type": "code",
   "execution_count": 92,
   "outputs": [],
   "source": [
    "# Rename columns to simplify the analysis\n",
    "df_per_year = df_per_year.rename({'YearStart': 'Year', 'LocationDesc': 'Location'}, axis=1)"
   ],
   "metadata": {
    "collapsed": false
   }
  },
  {
   "cell_type": "code",
   "execution_count": 93,
   "outputs": [
    {
     "data": {
      "text/plain": "   Year LocationAbbr Location DataSource                   Topic  \\\n0  2010           AK   Alaska       NVSS                 Alcohol   \n1  2017           AK   Alaska       NVSS                 Alcohol   \n2  2018           AK   Alaska       NVSS                 Alcohol   \n3  2011           AK   Alaska       NVSS  Chronic Kidney Disease   \n4  2012           AK   Alaska       NVSS  Chronic Kidney Disease   \n\n                                 Question DataValueUnit DataValueType  \\\n0         Chronic liver disease mortality                      Number   \n1         Chronic liver disease mortality                      Number   \n2         Chronic liver disease mortality                      Number   \n3  Mortality with end-stage renal disease                      Number   \n4  Mortality with end-stage renal disease                      Number   \n\n  DataValue  DataValueAlt  ... HighConfidenceLimit StratificationCategory1  \\\n0        70          70.0  ...                 NaN                 Overall   \n1       121         121.0  ...                 NaN                 Overall   \n2       121         121.0  ...                 NaN                 Overall   \n3       221         221.0  ...                 NaN          Race/Ethnicity   \n4       234         234.0  ...                 NaN          Race/Ethnicity   \n\n       Stratification1                                    GeoLocation  \\\n0              Overall  POINT (-147.72205903599973 64.84507995700051)   \n1              Overall  POINT (-147.72205903599973 64.84507995700051)   \n2              Overall  POINT (-147.72205903599973 64.84507995700051)   \n3  White, non-Hispanic  POINT (-147.72205903599973 64.84507995700051)   \n4  White, non-Hispanic  POINT (-147.72205903599973 64.84507995700051)   \n\n  LocationID TopicID QuestionID  DataValueTypeID StratificationCategoryID1  \\\n0          2     ALC     ALC6_0             NMBR                   OVERALL   \n1          2     ALC     ALC6_0             NMBR                   OVERALL   \n2          2     ALC     ALC6_0             NMBR                   OVERALL   \n3          2     CKD     CKD1_0             NMBR                      RACE   \n4          2     CKD     CKD1_0             NMBR                      RACE   \n\n  StratificationID1  \n0               OVR  \n1               OVR  \n2               OVR  \n3               WHT  \n4               WHT  \n\n[5 rows x 23 columns]",
      "text/html": "<div>\n<style scoped>\n    .dataframe tbody tr th:only-of-type {\n        vertical-align: middle;\n    }\n\n    .dataframe tbody tr th {\n        vertical-align: top;\n    }\n\n    .dataframe thead th {\n        text-align: right;\n    }\n</style>\n<table border=\"1\" class=\"dataframe\">\n  <thead>\n    <tr style=\"text-align: right;\">\n      <th></th>\n      <th>Year</th>\n      <th>LocationAbbr</th>\n      <th>Location</th>\n      <th>DataSource</th>\n      <th>Topic</th>\n      <th>Question</th>\n      <th>DataValueUnit</th>\n      <th>DataValueType</th>\n      <th>DataValue</th>\n      <th>DataValueAlt</th>\n      <th>...</th>\n      <th>HighConfidenceLimit</th>\n      <th>StratificationCategory1</th>\n      <th>Stratification1</th>\n      <th>GeoLocation</th>\n      <th>LocationID</th>\n      <th>TopicID</th>\n      <th>QuestionID</th>\n      <th>DataValueTypeID</th>\n      <th>StratificationCategoryID1</th>\n      <th>StratificationID1</th>\n    </tr>\n  </thead>\n  <tbody>\n    <tr>\n      <th>0</th>\n      <td>2010</td>\n      <td>AK</td>\n      <td>Alaska</td>\n      <td>NVSS</td>\n      <td>Alcohol</td>\n      <td>Chronic liver disease mortality</td>\n      <td></td>\n      <td>Number</td>\n      <td>70</td>\n      <td>70.0</td>\n      <td>...</td>\n      <td>NaN</td>\n      <td>Overall</td>\n      <td>Overall</td>\n      <td>POINT (-147.72205903599973 64.84507995700051)</td>\n      <td>2</td>\n      <td>ALC</td>\n      <td>ALC6_0</td>\n      <td>NMBR</td>\n      <td>OVERALL</td>\n      <td>OVR</td>\n    </tr>\n    <tr>\n      <th>1</th>\n      <td>2017</td>\n      <td>AK</td>\n      <td>Alaska</td>\n      <td>NVSS</td>\n      <td>Alcohol</td>\n      <td>Chronic liver disease mortality</td>\n      <td></td>\n      <td>Number</td>\n      <td>121</td>\n      <td>121.0</td>\n      <td>...</td>\n      <td>NaN</td>\n      <td>Overall</td>\n      <td>Overall</td>\n      <td>POINT (-147.72205903599973 64.84507995700051)</td>\n      <td>2</td>\n      <td>ALC</td>\n      <td>ALC6_0</td>\n      <td>NMBR</td>\n      <td>OVERALL</td>\n      <td>OVR</td>\n    </tr>\n    <tr>\n      <th>2</th>\n      <td>2018</td>\n      <td>AK</td>\n      <td>Alaska</td>\n      <td>NVSS</td>\n      <td>Alcohol</td>\n      <td>Chronic liver disease mortality</td>\n      <td></td>\n      <td>Number</td>\n      <td>121</td>\n      <td>121.0</td>\n      <td>...</td>\n      <td>NaN</td>\n      <td>Overall</td>\n      <td>Overall</td>\n      <td>POINT (-147.72205903599973 64.84507995700051)</td>\n      <td>2</td>\n      <td>ALC</td>\n      <td>ALC6_0</td>\n      <td>NMBR</td>\n      <td>OVERALL</td>\n      <td>OVR</td>\n    </tr>\n    <tr>\n      <th>3</th>\n      <td>2011</td>\n      <td>AK</td>\n      <td>Alaska</td>\n      <td>NVSS</td>\n      <td>Chronic Kidney Disease</td>\n      <td>Mortality with end-stage renal disease</td>\n      <td></td>\n      <td>Number</td>\n      <td>221</td>\n      <td>221.0</td>\n      <td>...</td>\n      <td>NaN</td>\n      <td>Race/Ethnicity</td>\n      <td>White, non-Hispanic</td>\n      <td>POINT (-147.72205903599973 64.84507995700051)</td>\n      <td>2</td>\n      <td>CKD</td>\n      <td>CKD1_0</td>\n      <td>NMBR</td>\n      <td>RACE</td>\n      <td>WHT</td>\n    </tr>\n    <tr>\n      <th>4</th>\n      <td>2012</td>\n      <td>AK</td>\n      <td>Alaska</td>\n      <td>NVSS</td>\n      <td>Chronic Kidney Disease</td>\n      <td>Mortality with end-stage renal disease</td>\n      <td></td>\n      <td>Number</td>\n      <td>234</td>\n      <td>234.0</td>\n      <td>...</td>\n      <td>NaN</td>\n      <td>Race/Ethnicity</td>\n      <td>White, non-Hispanic</td>\n      <td>POINT (-147.72205903599973 64.84507995700051)</td>\n      <td>2</td>\n      <td>CKD</td>\n      <td>CKD1_0</td>\n      <td>NMBR</td>\n      <td>RACE</td>\n      <td>WHT</td>\n    </tr>\n  </tbody>\n</table>\n<p>5 rows × 23 columns</p>\n</div>"
     },
     "execution_count": 93,
     "metadata": {},
     "output_type": "execute_result"
    }
   ],
   "source": [
    "#Verify if the columns are renamed\n",
    "df_per_year.head()"
   ],
   "metadata": {
    "collapsed": false
   }
  },
  {
   "cell_type": "markdown",
   "source": [
    "Look over if the column DataValue and DataValueAlt have the same data and drop one"
   ],
   "metadata": {
    "collapsed": false
   }
  },
  {
   "cell_type": "code",
   "execution_count": 94,
   "outputs": [
    {
     "data": {
      "text/plain": "dtype('O')"
     },
     "execution_count": 94,
     "metadata": {},
     "output_type": "execute_result"
    }
   ],
   "source": [
    "#Before comparison between the data, we checked the data types.\n",
    "df_per_year['DataValue'].dtypes"
   ],
   "metadata": {
    "collapsed": false
   }
  },
  {
   "cell_type": "code",
   "execution_count": 95,
   "outputs": [
    {
     "data": {
      "text/plain": "dtype('float64')"
     },
     "execution_count": 95,
     "metadata": {},
     "output_type": "execute_result"
    }
   ],
   "source": [
    "df_per_year['DataValueAlt'].dtypes"
   ],
   "metadata": {
    "collapsed": false
   }
  },
  {
   "cell_type": "code",
   "execution_count": 96,
   "outputs": [
    {
     "data": {
      "text/plain": "Year                           int64\nLocationAbbr                  object\nLocation                      object\nDataSource                    object\nTopic                         object\nQuestion                      object\nDataValueUnit                 object\nDataValueType                 object\nDataValue                    float64\nDataValueAlt                 float64\nDataValueFootnoteSymbol       object\nDatavalueFootnote             object\nLowConfidenceLimit           float64\nHighConfidenceLimit          float64\nStratificationCategory1       object\nStratification1               object\nGeoLocation                   object\nLocationID                     int64\nTopicID                       object\nQuestionID                    object\nDataValueTypeID               object\nStratificationCategoryID1     object\nStratificationID1             object\ndtype: object"
     },
     "execution_count": 96,
     "metadata": {},
     "output_type": "execute_result"
    }
   ],
   "source": [
    "#Converting both Columns into numbers to proceed to compare.\n",
    "cols = ['DataValueAlt', 'DataValue']\n",
    "df_per_year[cols] = df_per_year[cols].apply(pd.to_numeric, errors='coerce')\n",
    "df_per_year['DataValueAlt'].convert_dtypes()\n",
    "df_per_year.dtypes"
   ],
   "metadata": {
    "collapsed": false
   }
  },
  {
   "cell_type": "code",
   "execution_count": 97,
   "outputs": [
    {
     "data": {
      "text/plain": "         Year LocationAbbr       Location DataSource  \\\n13       2011           AK         Alaska      PRAMS   \n14       2017           AK         Alaska  SEDD; SID   \n15       2010           AK         Alaska  SEDD; SID   \n32       2014           AL        Alabama  SEDD; SID   \n33       2017           AL        Alabama  SEDD; SID   \n...       ...          ...            ...        ...   \n1082314  2020           WV  West Virginia      BRFSS   \n1082316  2020           WY        Wyoming      BRFSS   \n1082319  2020           WI      Wisconsin      BRFSS   \n1082321  2020           VT        Vermont      BRFSS   \n1082327  2020           WI      Wisconsin      BRFSS   \n\n                                         Topic  \\\n13                                     Tobacco   \n14                                      Asthma   \n15                                    Diabetes   \n32                                      Asthma   \n33                      Cardiovascular Disease   \n...                                        ...   \n1082314                 Cardiovascular Disease   \n1082316                                 Asthma   \n1082319  Chronic Obstructive Pulmonary Disease   \n1082321                 Overarching Conditions   \n1082327                               Diabetes   \n\n                                                  Question     DataValueUnit  \\\n13                      Cigarette smoking before pregnancy                 %   \n14              Emergency department visit rate for asthma  cases per 10,000   \n15       Amputation of a lower extremity attributable t...                     \n32                             Hospitalizations for asthma  cases per 10,000   \n33                              Hospitalization for stroke                     \n...                                                    ...               ...   \n1082314  Pneumococcal vaccination among noninstitutiona...                 %   \n1082316  Pneumococcal vaccination among noninstitutiona...                 %   \n1082319  Pneumococcal vaccination among noninstitutiona...                 %   \n1082321  Prevalence of sufficient sleep among adults ag...                 %   \n1082327  Prevalence of diagnosed diabetes among adults ...                 %   \n\n                   DataValueType  DataValue  DataValueAlt  ...  \\\n13              Crude Prevalence        NaN           NaN  ...   \n14             Age-adjusted Rate        NaN           NaN  ...   \n15                        Number        NaN           NaN  ...   \n32                    Crude Rate        NaN           NaN  ...   \n33                        Number        NaN           NaN  ...   \n...                          ...        ...           ...  ...   \n1082314  Age-adjusted Prevalence        NaN           NaN  ...   \n1082316         Crude Prevalence        NaN           NaN  ...   \n1082319  Age-adjusted Prevalence        NaN           NaN  ...   \n1082321         Crude Prevalence        NaN           NaN  ...   \n1082327  Age-adjusted Prevalence        NaN           NaN  ...   \n\n        HighConfidenceLimit StratificationCategory1  \\\n13                      NaN                 Overall   \n14                      NaN          Race/Ethnicity   \n15                      NaN                 Overall   \n32                      NaN                  Gender   \n33                      NaN                  Gender   \n...                     ...                     ...   \n1082314                 NaN          Race/Ethnicity   \n1082316                 NaN          Race/Ethnicity   \n1082319                 NaN          Race/Ethnicity   \n1082321                 NaN          Race/Ethnicity   \n1082327                 NaN          Race/Ethnicity   \n\n                   Stratification1  \\\n13                         Overall   \n14                        Hispanic   \n15                         Overall   \n32                            Male   \n33                            Male   \n...                            ...   \n1082314        Black, non-Hispanic   \n1082316  Multiracial, non-Hispanic   \n1082319                   Hispanic   \n1082321        Black, non-Hispanic   \n1082327  Multiracial, non-Hispanic   \n\n                                           GeoLocation LocationID TopicID  \\\n13       POINT (-147.72205903599973 64.84507995700051)          2     TOB   \n14       POINT (-147.72205903599973 64.84507995700051)          2     AST   \n15       POINT (-147.72205903599973 64.84507995700051)          2     DIA   \n32        POINT (-86.63186076199969 32.84057112200048)          1     AST   \n33        POINT (-86.63186076199969 32.84057112200048)          1     CVD   \n...                                                ...        ...     ...   \n1082314   POINT (-80.71264013499967 38.66551020200046)         54     CVD   \n1082316  POINT (-108.10983035299967 43.23554134300048)         56     AST   \n1082319   POINT (-89.81637074199966 44.39319117400049)         55    COPD   \n1082321   POINT (-72.51764079099962 43.62538123900049)         50     OVC   \n1082327   POINT (-89.81637074199966 44.39319117400049)         55     DIA   \n\n        QuestionID  DataValueTypeID StratificationCategoryID1  \\\n13          TOB1_4          CRDPREV                   OVERALL   \n14          AST2_1       AGEADJRATE                      RACE   \n15          DIA4_0             NMBR                   OVERALL   \n32          AST3_1          CRDRATE                    GENDER   \n33          CVD3_1             NMBR                    GENDER   \n...            ...              ...                       ...   \n1082314    CVD10_2       AGEADJPREV                      RACE   \n1082316     AST6_2          CRDPREV                      RACE   \n1082319    COPD8_0       AGEADJPREV                      RACE   \n1082321     OVC8_0          CRDPREV                      RACE   \n1082327     DIA2_1       AGEADJPREV                      RACE   \n\n        StratificationID1  \n13                    OVR  \n14                    HIS  \n15                    OVR  \n32                   GENM  \n33                   GENM  \n...                   ...  \n1082314               BLK  \n1082316               MRC  \n1082319               HIS  \n1082321               BLK  \n1082327               MRC  \n\n[317331 rows x 23 columns]",
      "text/html": "<div>\n<style scoped>\n    .dataframe tbody tr th:only-of-type {\n        vertical-align: middle;\n    }\n\n    .dataframe tbody tr th {\n        vertical-align: top;\n    }\n\n    .dataframe thead th {\n        text-align: right;\n    }\n</style>\n<table border=\"1\" class=\"dataframe\">\n  <thead>\n    <tr style=\"text-align: right;\">\n      <th></th>\n      <th>Year</th>\n      <th>LocationAbbr</th>\n      <th>Location</th>\n      <th>DataSource</th>\n      <th>Topic</th>\n      <th>Question</th>\n      <th>DataValueUnit</th>\n      <th>DataValueType</th>\n      <th>DataValue</th>\n      <th>DataValueAlt</th>\n      <th>...</th>\n      <th>HighConfidenceLimit</th>\n      <th>StratificationCategory1</th>\n      <th>Stratification1</th>\n      <th>GeoLocation</th>\n      <th>LocationID</th>\n      <th>TopicID</th>\n      <th>QuestionID</th>\n      <th>DataValueTypeID</th>\n      <th>StratificationCategoryID1</th>\n      <th>StratificationID1</th>\n    </tr>\n  </thead>\n  <tbody>\n    <tr>\n      <th>13</th>\n      <td>2011</td>\n      <td>AK</td>\n      <td>Alaska</td>\n      <td>PRAMS</td>\n      <td>Tobacco</td>\n      <td>Cigarette smoking before pregnancy</td>\n      <td>%</td>\n      <td>Crude Prevalence</td>\n      <td>NaN</td>\n      <td>NaN</td>\n      <td>...</td>\n      <td>NaN</td>\n      <td>Overall</td>\n      <td>Overall</td>\n      <td>POINT (-147.72205903599973 64.84507995700051)</td>\n      <td>2</td>\n      <td>TOB</td>\n      <td>TOB1_4</td>\n      <td>CRDPREV</td>\n      <td>OVERALL</td>\n      <td>OVR</td>\n    </tr>\n    <tr>\n      <th>14</th>\n      <td>2017</td>\n      <td>AK</td>\n      <td>Alaska</td>\n      <td>SEDD; SID</td>\n      <td>Asthma</td>\n      <td>Emergency department visit rate for asthma</td>\n      <td>cases per 10,000</td>\n      <td>Age-adjusted Rate</td>\n      <td>NaN</td>\n      <td>NaN</td>\n      <td>...</td>\n      <td>NaN</td>\n      <td>Race/Ethnicity</td>\n      <td>Hispanic</td>\n      <td>POINT (-147.72205903599973 64.84507995700051)</td>\n      <td>2</td>\n      <td>AST</td>\n      <td>AST2_1</td>\n      <td>AGEADJRATE</td>\n      <td>RACE</td>\n      <td>HIS</td>\n    </tr>\n    <tr>\n      <th>15</th>\n      <td>2010</td>\n      <td>AK</td>\n      <td>Alaska</td>\n      <td>SEDD; SID</td>\n      <td>Diabetes</td>\n      <td>Amputation of a lower extremity attributable t...</td>\n      <td></td>\n      <td>Number</td>\n      <td>NaN</td>\n      <td>NaN</td>\n      <td>...</td>\n      <td>NaN</td>\n      <td>Overall</td>\n      <td>Overall</td>\n      <td>POINT (-147.72205903599973 64.84507995700051)</td>\n      <td>2</td>\n      <td>DIA</td>\n      <td>DIA4_0</td>\n      <td>NMBR</td>\n      <td>OVERALL</td>\n      <td>OVR</td>\n    </tr>\n    <tr>\n      <th>32</th>\n      <td>2014</td>\n      <td>AL</td>\n      <td>Alabama</td>\n      <td>SEDD; SID</td>\n      <td>Asthma</td>\n      <td>Hospitalizations for asthma</td>\n      <td>cases per 10,000</td>\n      <td>Crude Rate</td>\n      <td>NaN</td>\n      <td>NaN</td>\n      <td>...</td>\n      <td>NaN</td>\n      <td>Gender</td>\n      <td>Male</td>\n      <td>POINT (-86.63186076199969 32.84057112200048)</td>\n      <td>1</td>\n      <td>AST</td>\n      <td>AST3_1</td>\n      <td>CRDRATE</td>\n      <td>GENDER</td>\n      <td>GENM</td>\n    </tr>\n    <tr>\n      <th>33</th>\n      <td>2017</td>\n      <td>AL</td>\n      <td>Alabama</td>\n      <td>SEDD; SID</td>\n      <td>Cardiovascular Disease</td>\n      <td>Hospitalization for stroke</td>\n      <td></td>\n      <td>Number</td>\n      <td>NaN</td>\n      <td>NaN</td>\n      <td>...</td>\n      <td>NaN</td>\n      <td>Gender</td>\n      <td>Male</td>\n      <td>POINT (-86.63186076199969 32.84057112200048)</td>\n      <td>1</td>\n      <td>CVD</td>\n      <td>CVD3_1</td>\n      <td>NMBR</td>\n      <td>GENDER</td>\n      <td>GENM</td>\n    </tr>\n    <tr>\n      <th>...</th>\n      <td>...</td>\n      <td>...</td>\n      <td>...</td>\n      <td>...</td>\n      <td>...</td>\n      <td>...</td>\n      <td>...</td>\n      <td>...</td>\n      <td>...</td>\n      <td>...</td>\n      <td>...</td>\n      <td>...</td>\n      <td>...</td>\n      <td>...</td>\n      <td>...</td>\n      <td>...</td>\n      <td>...</td>\n      <td>...</td>\n      <td>...</td>\n      <td>...</td>\n      <td>...</td>\n    </tr>\n    <tr>\n      <th>1082314</th>\n      <td>2020</td>\n      <td>WV</td>\n      <td>West Virginia</td>\n      <td>BRFSS</td>\n      <td>Cardiovascular Disease</td>\n      <td>Pneumococcal vaccination among noninstitutiona...</td>\n      <td>%</td>\n      <td>Age-adjusted Prevalence</td>\n      <td>NaN</td>\n      <td>NaN</td>\n      <td>...</td>\n      <td>NaN</td>\n      <td>Race/Ethnicity</td>\n      <td>Black, non-Hispanic</td>\n      <td>POINT (-80.71264013499967 38.66551020200046)</td>\n      <td>54</td>\n      <td>CVD</td>\n      <td>CVD10_2</td>\n      <td>AGEADJPREV</td>\n      <td>RACE</td>\n      <td>BLK</td>\n    </tr>\n    <tr>\n      <th>1082316</th>\n      <td>2020</td>\n      <td>WY</td>\n      <td>Wyoming</td>\n      <td>BRFSS</td>\n      <td>Asthma</td>\n      <td>Pneumococcal vaccination among noninstitutiona...</td>\n      <td>%</td>\n      <td>Crude Prevalence</td>\n      <td>NaN</td>\n      <td>NaN</td>\n      <td>...</td>\n      <td>NaN</td>\n      <td>Race/Ethnicity</td>\n      <td>Multiracial, non-Hispanic</td>\n      <td>POINT (-108.10983035299967 43.23554134300048)</td>\n      <td>56</td>\n      <td>AST</td>\n      <td>AST6_2</td>\n      <td>CRDPREV</td>\n      <td>RACE</td>\n      <td>MRC</td>\n    </tr>\n    <tr>\n      <th>1082319</th>\n      <td>2020</td>\n      <td>WI</td>\n      <td>Wisconsin</td>\n      <td>BRFSS</td>\n      <td>Chronic Obstructive Pulmonary Disease</td>\n      <td>Pneumococcal vaccination among noninstitutiona...</td>\n      <td>%</td>\n      <td>Age-adjusted Prevalence</td>\n      <td>NaN</td>\n      <td>NaN</td>\n      <td>...</td>\n      <td>NaN</td>\n      <td>Race/Ethnicity</td>\n      <td>Hispanic</td>\n      <td>POINT (-89.81637074199966 44.39319117400049)</td>\n      <td>55</td>\n      <td>COPD</td>\n      <td>COPD8_0</td>\n      <td>AGEADJPREV</td>\n      <td>RACE</td>\n      <td>HIS</td>\n    </tr>\n    <tr>\n      <th>1082321</th>\n      <td>2020</td>\n      <td>VT</td>\n      <td>Vermont</td>\n      <td>BRFSS</td>\n      <td>Overarching Conditions</td>\n      <td>Prevalence of sufficient sleep among adults ag...</td>\n      <td>%</td>\n      <td>Crude Prevalence</td>\n      <td>NaN</td>\n      <td>NaN</td>\n      <td>...</td>\n      <td>NaN</td>\n      <td>Race/Ethnicity</td>\n      <td>Black, non-Hispanic</td>\n      <td>POINT (-72.51764079099962 43.62538123900049)</td>\n      <td>50</td>\n      <td>OVC</td>\n      <td>OVC8_0</td>\n      <td>CRDPREV</td>\n      <td>RACE</td>\n      <td>BLK</td>\n    </tr>\n    <tr>\n      <th>1082327</th>\n      <td>2020</td>\n      <td>WI</td>\n      <td>Wisconsin</td>\n      <td>BRFSS</td>\n      <td>Diabetes</td>\n      <td>Prevalence of diagnosed diabetes among adults ...</td>\n      <td>%</td>\n      <td>Age-adjusted Prevalence</td>\n      <td>NaN</td>\n      <td>NaN</td>\n      <td>...</td>\n      <td>NaN</td>\n      <td>Race/Ethnicity</td>\n      <td>Multiracial, non-Hispanic</td>\n      <td>POINT (-89.81637074199966 44.39319117400049)</td>\n      <td>55</td>\n      <td>DIA</td>\n      <td>DIA2_1</td>\n      <td>AGEADJPREV</td>\n      <td>RACE</td>\n      <td>MRC</td>\n    </tr>\n  </tbody>\n</table>\n<p>317331 rows × 23 columns</p>\n</div>"
     },
     "execution_count": 97,
     "metadata": {},
     "output_type": "execute_result"
    }
   ],
   "source": [
    "#Counting the empty values, because Python can't compare it.\n",
    "df_per_year[df_per_year['DataValueAlt'].isna()]"
   ],
   "metadata": {
    "collapsed": false
   }
  },
  {
   "cell_type": "code",
   "execution_count": 98,
   "outputs": [],
   "source": [
    "#Adding a new column name data_values to filter if they are different before dropping it.\n",
    "df_per_year['data_values'] = np.where((df_per_year['DataValue'] != df_per_year['DataValueAlt']),'Different','Same')"
   ],
   "metadata": {
    "collapsed": false
   }
  },
  {
   "cell_type": "code",
   "execution_count": 99,
   "outputs": [
    {
     "data": {
      "text/plain": "(317333, 24)"
     },
     "execution_count": 99,
     "metadata": {},
     "output_type": "execute_result"
    }
   ],
   "source": [
    "#Displaying the data frame with different values. Important. it is going to include the empty values.\n",
    "df_per_year[df_per_year['data_values'].str.contains('Different')].shape"
   ],
   "metadata": {
    "collapsed": false
   }
  },
  {
   "cell_type": "code",
   "execution_count": 100,
   "outputs": [
    {
     "data": {
      "text/plain": "(317333, 24)"
     },
     "execution_count": 100,
     "metadata": {},
     "output_type": "execute_result"
    }
   ],
   "source": [
    "# All different values are NA values\n",
    "df_per_year[df_per_year['data_values'].str.contains('Different')].isna().shape"
   ],
   "metadata": {
    "collapsed": false
   }
  },
  {
   "cell_type": "code",
   "execution_count": 101,
   "outputs": [],
   "source": [
    "#Deleting the column DataValueAtl and the column data_values\n",
    "df_per_year = df_per_year.drop(columns=['DataValueAlt', 'data_values'])"
   ],
   "metadata": {
    "collapsed": false
   }
  },
  {
   "cell_type": "code",
   "execution_count": 102,
   "outputs": [
    {
     "data": {
      "text/plain": "(941342, 22)"
     },
     "execution_count": 102,
     "metadata": {},
     "output_type": "execute_result"
    }
   ],
   "source": [
    "#Check the changes\n",
    "df_per_year.shape"
   ],
   "metadata": {
    "collapsed": false
   }
  },
  {
   "cell_type": "markdown",
   "source": [
    "Analyzing and discarding data from Guam, Puerto Rico and Virgin Islands separately because are unincorporated territories and lack of data"
   ],
   "metadata": {
    "collapsed": false
   }
  },
  {
   "cell_type": "code",
   "execution_count": 103,
   "outputs": [
    {
     "data": {
      "text/plain": "(39046, 22)"
     },
     "execution_count": 103,
     "metadata": {},
     "output_type": "execute_result"
    }
   ],
   "source": [
    "#Checking how much data is available\n",
    "df_year_unincorporated = df_per_year[df_per_year['Location'].str.contains('Guam|Puerto Rico|Virgin Islands')]\n",
    "df_year_unincorporated.shape"
   ],
   "metadata": {
    "collapsed": false
   }
  },
  {
   "cell_type": "code",
   "execution_count": 104,
   "outputs": [
    {
     "data": {
      "text/plain": "Crude Prevalence                                                    17835\nAge-adjusted Prevalence                                             14172\nNumber                                                               1353\nCrude Rate                                                           1314\nAge-adjusted Rate                                                    1314\nMean                                                                 1212\nAge-adjusted Mean                                                    1200\nMedian                                                                348\nPercent                                                               130\nYes/No                                                                 90\nUS Dollars                                                             45\nPer capita alcohol consumption                                         15\nLocal control of the regulation of alcohol outlet density               9\nCommercial host (dram shop) liability status for alcohol service        9\nName: DataValueType, dtype: int64"
     },
     "execution_count": 104,
     "metadata": {},
     "output_type": "execute_result"
    }
   ],
   "source": [
    "#Counting the type of data with more available values to analyze\n",
    "df_year_unincorporated[\"DataValueType\"].value_counts()"
   ],
   "metadata": {
    "collapsed": false
   }
  },
  {
   "cell_type": "code",
   "execution_count": 105,
   "outputs": [
    {
     "data": {
      "text/plain": "27710"
     },
     "execution_count": 105,
     "metadata": {},
     "output_type": "execute_result"
    }
   ],
   "source": [
    "#The database has 27710 empty values\n",
    "df_year_unincorporated['DataValue'].isna().sum()"
   ],
   "metadata": {
    "collapsed": false
   }
  },
  {
   "cell_type": "code",
   "execution_count": 106,
   "outputs": [],
   "source": [
    "#Deleting all the missing values\n",
    "df_year_unincorporated=df_year_unincorporated[~df_year_unincorporated['DataValue'].isna()]"
   ],
   "metadata": {
    "collapsed": false
   }
  },
  {
   "cell_type": "code",
   "execution_count": 107,
   "outputs": [
    {
     "data": {
      "text/plain": "         Year LocationAbbr     Location DataSource  \\\n1122     2012           GU         Guam  HRSA, UDS   \n1134     2018           PR  Puerto Rico      PRAMS   \n1604     2011           GU         Guam      BRFSS   \n1605     2013           GU         Guam      BRFSS   \n1610     2014           GU         Guam      BRFSS   \n...       ...          ...          ...        ...   \n1076845  2020           PR  Puerto Rico      BRFSS   \n1076903  2020           PR  Puerto Rico      BRFSS   \n1076967  2020           PR  Puerto Rico      BRFSS   \n1076971  2020           PR  Puerto Rico      BRFSS   \n1076980  2020           PR  Puerto Rico      BRFSS   \n\n                                                   Topic  \\\n1122                                         Oral Health   \n1134                                             Alcohol   \n1604                                             Alcohol   \n1605                                           Arthritis   \n1610                                              Asthma   \n...                                                  ...   \n1076845  Nutrition, Physical Activity, and Weight Status   \n1076903                                           Asthma   \n1076967                                         Diabetes   \n1076971                                           Cancer   \n1076980                                          Tobacco   \n\n                                                  Question DataValueUnit  \\\n1122     Oral health services at Federally Qualified He...             %   \n1134                          Alcohol use before pregnancy             %   \n1604          Heavy drinking among adults aged >= 18 years             %   \n1605               Arthritis among adults aged >= 18 years             %   \n1610     Current asthma prevalence among adults aged >=...             %   \n...                                                    ...           ...   \n1076845  No leisure-time physical activity among adults...             %   \n1076903  Influenza vaccination among noninstitutionaliz...             %   \n1076967  Foot examination among adults aged >= 18 years...             %   \n1076971  Fecal occult blood test, sigmoidoscopy, or col...             %   \n1076980  Current smokeless tobacco use among adults age...             %   \n\n                   DataValueType  DataValue DataValueFootnoteSymbol  ...  \\\n1122            Crude Prevalence        0.0                          ...   \n1134            Crude Prevalence       43.3                          ...   \n1604            Crude Prevalence        4.4                          ...   \n1605            Crude Prevalence       15.8                          ...   \n1610            Crude Prevalence        2.9                          ...   \n...                          ...        ...                     ...  ...   \n1076845  Age-adjusted Prevalence       44.7                          ...   \n1076903  Age-adjusted Prevalence       46.6                          ...   \n1076967         Crude Prevalence       38.5                          ...   \n1076971         Crude Prevalence       68.7                          ...   \n1076980         Crude Prevalence        0.6                          ...   \n\n        HighConfidenceLimit  StratificationCategory1  Stratification1  \\\n1122                    NaN                  Overall          Overall   \n1134                   47.3           Race/Ethnicity         Hispanic   \n1604                    6.5                   Gender           Female   \n1605                   19.4                   Gender             Male   \n1610                    4.7                   Gender             Male   \n...                     ...                      ...              ...   \n1076845                46.8           Race/Ethnicity         Hispanic   \n1076903                61.4           Race/Ethnicity         Hispanic   \n1076967                50.0                   Gender           Female   \n1076971                74.0                   Gender             Male   \n1076980                 1.1                   Gender           Female   \n\n                          GeoLocation LocationID TopicID  QuestionID  \\\n1122     POINT (144.793731 13.444304)         66     ORH      ORH3_0   \n1134     POINT (-66.590149 18.220833)         72     ALC      ALC1_2   \n1604     POINT (144.793731 13.444304)         66     ALC      ALC5_1   \n1605     POINT (144.793731 13.444304)         66     ART      ART1_1   \n1610     POINT (144.793731 13.444304)         66     AST      AST1_1   \n...                               ...        ...     ...         ...   \n1076845  POINT (-66.590149 18.220833)         72    NPAW    NPAW10_0   \n1076903  POINT (-66.590149 18.220833)         72     AST      AST5_2   \n1076967  POINT (-66.590149 18.220833)         72     DIA      DIA5_0   \n1076971  POINT (-66.590149 18.220833)         72     CAN      CAN3_0   \n1076980  POINT (-66.590149 18.220833)         72     TOB      TOB2_2   \n\n        DataValueTypeID StratificationCategoryID1 StratificationID1  \n1122            CRDPREV                   OVERALL               OVR  \n1134            CRDPREV                      RACE               HIS  \n1604            CRDPREV                    GENDER              GENF  \n1605            CRDPREV                    GENDER              GENM  \n1610            CRDPREV                    GENDER              GENM  \n...                 ...                       ...               ...  \n1076845      AGEADJPREV                      RACE               HIS  \n1076903      AGEADJPREV                      RACE               HIS  \n1076967         CRDPREV                    GENDER              GENF  \n1076971         CRDPREV                    GENDER              GENM  \n1076980         CRDPREV                    GENDER              GENF  \n\n[11336 rows x 22 columns]",
      "text/html": "<div>\n<style scoped>\n    .dataframe tbody tr th:only-of-type {\n        vertical-align: middle;\n    }\n\n    .dataframe tbody tr th {\n        vertical-align: top;\n    }\n\n    .dataframe thead th {\n        text-align: right;\n    }\n</style>\n<table border=\"1\" class=\"dataframe\">\n  <thead>\n    <tr style=\"text-align: right;\">\n      <th></th>\n      <th>Year</th>\n      <th>LocationAbbr</th>\n      <th>Location</th>\n      <th>DataSource</th>\n      <th>Topic</th>\n      <th>Question</th>\n      <th>DataValueUnit</th>\n      <th>DataValueType</th>\n      <th>DataValue</th>\n      <th>DataValueFootnoteSymbol</th>\n      <th>...</th>\n      <th>HighConfidenceLimit</th>\n      <th>StratificationCategory1</th>\n      <th>Stratification1</th>\n      <th>GeoLocation</th>\n      <th>LocationID</th>\n      <th>TopicID</th>\n      <th>QuestionID</th>\n      <th>DataValueTypeID</th>\n      <th>StratificationCategoryID1</th>\n      <th>StratificationID1</th>\n    </tr>\n  </thead>\n  <tbody>\n    <tr>\n      <th>1122</th>\n      <td>2012</td>\n      <td>GU</td>\n      <td>Guam</td>\n      <td>HRSA, UDS</td>\n      <td>Oral Health</td>\n      <td>Oral health services at Federally Qualified He...</td>\n      <td>%</td>\n      <td>Crude Prevalence</td>\n      <td>0.0</td>\n      <td></td>\n      <td>...</td>\n      <td>NaN</td>\n      <td>Overall</td>\n      <td>Overall</td>\n      <td>POINT (144.793731 13.444304)</td>\n      <td>66</td>\n      <td>ORH</td>\n      <td>ORH3_0</td>\n      <td>CRDPREV</td>\n      <td>OVERALL</td>\n      <td>OVR</td>\n    </tr>\n    <tr>\n      <th>1134</th>\n      <td>2018</td>\n      <td>PR</td>\n      <td>Puerto Rico</td>\n      <td>PRAMS</td>\n      <td>Alcohol</td>\n      <td>Alcohol use before pregnancy</td>\n      <td>%</td>\n      <td>Crude Prevalence</td>\n      <td>43.3</td>\n      <td></td>\n      <td>...</td>\n      <td>47.3</td>\n      <td>Race/Ethnicity</td>\n      <td>Hispanic</td>\n      <td>POINT (-66.590149 18.220833)</td>\n      <td>72</td>\n      <td>ALC</td>\n      <td>ALC1_2</td>\n      <td>CRDPREV</td>\n      <td>RACE</td>\n      <td>HIS</td>\n    </tr>\n    <tr>\n      <th>1604</th>\n      <td>2011</td>\n      <td>GU</td>\n      <td>Guam</td>\n      <td>BRFSS</td>\n      <td>Alcohol</td>\n      <td>Heavy drinking among adults aged &gt;= 18 years</td>\n      <td>%</td>\n      <td>Crude Prevalence</td>\n      <td>4.4</td>\n      <td></td>\n      <td>...</td>\n      <td>6.5</td>\n      <td>Gender</td>\n      <td>Female</td>\n      <td>POINT (144.793731 13.444304)</td>\n      <td>66</td>\n      <td>ALC</td>\n      <td>ALC5_1</td>\n      <td>CRDPREV</td>\n      <td>GENDER</td>\n      <td>GENF</td>\n    </tr>\n    <tr>\n      <th>1605</th>\n      <td>2013</td>\n      <td>GU</td>\n      <td>Guam</td>\n      <td>BRFSS</td>\n      <td>Arthritis</td>\n      <td>Arthritis among adults aged &gt;= 18 years</td>\n      <td>%</td>\n      <td>Crude Prevalence</td>\n      <td>15.8</td>\n      <td></td>\n      <td>...</td>\n      <td>19.4</td>\n      <td>Gender</td>\n      <td>Male</td>\n      <td>POINT (144.793731 13.444304)</td>\n      <td>66</td>\n      <td>ART</td>\n      <td>ART1_1</td>\n      <td>CRDPREV</td>\n      <td>GENDER</td>\n      <td>GENM</td>\n    </tr>\n    <tr>\n      <th>1610</th>\n      <td>2014</td>\n      <td>GU</td>\n      <td>Guam</td>\n      <td>BRFSS</td>\n      <td>Asthma</td>\n      <td>Current asthma prevalence among adults aged &gt;=...</td>\n      <td>%</td>\n      <td>Crude Prevalence</td>\n      <td>2.9</td>\n      <td></td>\n      <td>...</td>\n      <td>4.7</td>\n      <td>Gender</td>\n      <td>Male</td>\n      <td>POINT (144.793731 13.444304)</td>\n      <td>66</td>\n      <td>AST</td>\n      <td>AST1_1</td>\n      <td>CRDPREV</td>\n      <td>GENDER</td>\n      <td>GENM</td>\n    </tr>\n    <tr>\n      <th>...</th>\n      <td>...</td>\n      <td>...</td>\n      <td>...</td>\n      <td>...</td>\n      <td>...</td>\n      <td>...</td>\n      <td>...</td>\n      <td>...</td>\n      <td>...</td>\n      <td>...</td>\n      <td>...</td>\n      <td>...</td>\n      <td>...</td>\n      <td>...</td>\n      <td>...</td>\n      <td>...</td>\n      <td>...</td>\n      <td>...</td>\n      <td>...</td>\n      <td>...</td>\n      <td>...</td>\n    </tr>\n    <tr>\n      <th>1076845</th>\n      <td>2020</td>\n      <td>PR</td>\n      <td>Puerto Rico</td>\n      <td>BRFSS</td>\n      <td>Nutrition, Physical Activity, and Weight Status</td>\n      <td>No leisure-time physical activity among adults...</td>\n      <td>%</td>\n      <td>Age-adjusted Prevalence</td>\n      <td>44.7</td>\n      <td></td>\n      <td>...</td>\n      <td>46.8</td>\n      <td>Race/Ethnicity</td>\n      <td>Hispanic</td>\n      <td>POINT (-66.590149 18.220833)</td>\n      <td>72</td>\n      <td>NPAW</td>\n      <td>NPAW10_0</td>\n      <td>AGEADJPREV</td>\n      <td>RACE</td>\n      <td>HIS</td>\n    </tr>\n    <tr>\n      <th>1076903</th>\n      <td>2020</td>\n      <td>PR</td>\n      <td>Puerto Rico</td>\n      <td>BRFSS</td>\n      <td>Asthma</td>\n      <td>Influenza vaccination among noninstitutionaliz...</td>\n      <td>%</td>\n      <td>Age-adjusted Prevalence</td>\n      <td>46.6</td>\n      <td></td>\n      <td>...</td>\n      <td>61.4</td>\n      <td>Race/Ethnicity</td>\n      <td>Hispanic</td>\n      <td>POINT (-66.590149 18.220833)</td>\n      <td>72</td>\n      <td>AST</td>\n      <td>AST5_2</td>\n      <td>AGEADJPREV</td>\n      <td>RACE</td>\n      <td>HIS</td>\n    </tr>\n    <tr>\n      <th>1076967</th>\n      <td>2020</td>\n      <td>PR</td>\n      <td>Puerto Rico</td>\n      <td>BRFSS</td>\n      <td>Diabetes</td>\n      <td>Foot examination among adults aged &gt;= 18 years...</td>\n      <td>%</td>\n      <td>Crude Prevalence</td>\n      <td>38.5</td>\n      <td></td>\n      <td>...</td>\n      <td>50.0</td>\n      <td>Gender</td>\n      <td>Female</td>\n      <td>POINT (-66.590149 18.220833)</td>\n      <td>72</td>\n      <td>DIA</td>\n      <td>DIA5_0</td>\n      <td>CRDPREV</td>\n      <td>GENDER</td>\n      <td>GENF</td>\n    </tr>\n    <tr>\n      <th>1076971</th>\n      <td>2020</td>\n      <td>PR</td>\n      <td>Puerto Rico</td>\n      <td>BRFSS</td>\n      <td>Cancer</td>\n      <td>Fecal occult blood test, sigmoidoscopy, or col...</td>\n      <td>%</td>\n      <td>Crude Prevalence</td>\n      <td>68.7</td>\n      <td></td>\n      <td>...</td>\n      <td>74.0</td>\n      <td>Gender</td>\n      <td>Male</td>\n      <td>POINT (-66.590149 18.220833)</td>\n      <td>72</td>\n      <td>CAN</td>\n      <td>CAN3_0</td>\n      <td>CRDPREV</td>\n      <td>GENDER</td>\n      <td>GENM</td>\n    </tr>\n    <tr>\n      <th>1076980</th>\n      <td>2020</td>\n      <td>PR</td>\n      <td>Puerto Rico</td>\n      <td>BRFSS</td>\n      <td>Tobacco</td>\n      <td>Current smokeless tobacco use among adults age...</td>\n      <td>%</td>\n      <td>Crude Prevalence</td>\n      <td>0.6</td>\n      <td></td>\n      <td>...</td>\n      <td>1.1</td>\n      <td>Gender</td>\n      <td>Female</td>\n      <td>POINT (-66.590149 18.220833)</td>\n      <td>72</td>\n      <td>TOB</td>\n      <td>TOB2_2</td>\n      <td>CRDPREV</td>\n      <td>GENDER</td>\n      <td>GENF</td>\n    </tr>\n  </tbody>\n</table>\n<p>11336 rows × 22 columns</p>\n</div>"
     },
     "execution_count": 107,
     "metadata": {},
     "output_type": "execute_result"
    }
   ],
   "source": [
    "#Verifying the data which was deleted\n",
    "df_year_unincorporated"
   ],
   "metadata": {
    "collapsed": false
   }
  },
  {
   "cell_type": "markdown",
   "source": [
    "Analysis 50 states - MAINLAND US"
   ],
   "metadata": {
    "collapsed": false
   }
  },
  {
   "cell_type": "code",
   "execution_count": 108,
   "outputs": [],
   "source": [
    "df_year_mainland = df_per_year[df_per_year['Location'].str.contains('Guam|Puerto Rico|Virgin Islands') == False]"
   ],
   "metadata": {
    "collapsed": false
   }
  },
  {
   "cell_type": "code",
   "execution_count": 109,
   "outputs": [
    {
     "data": {
      "text/plain": "(902296, 22)"
     },
     "execution_count": 109,
     "metadata": {},
     "output_type": "execute_result"
    }
   ],
   "source": [
    "df_year_mainland.shape"
   ],
   "metadata": {
    "collapsed": false
   }
  },
  {
   "cell_type": "code",
   "execution_count": 110,
   "outputs": [],
   "source": [
    "#Dict of the U.S. States to verify the database has values to all of them\n",
    "us_states = {\n",
    "    'AK': 'Alaska',\n",
    "    'AL': 'Alabama',\n",
    "    'AR': 'Arkansas',\n",
    "    'AZ': 'Arizona',\n",
    "    'CA': 'California',\n",
    "    'CO': 'Colorado',\n",
    "    'CT': 'Connecticut',\n",
    "    'DC': 'District of Columbia',\n",
    "    'DE': 'Delaware',\n",
    "    'FL': 'Florida',\n",
    "    'GA': 'Georgia',\n",
    "    'HI': 'Hawaii',\n",
    "    'IA': 'Iowa',\n",
    "    'ID': 'Idaho',\n",
    "    'IL': 'Illinois',\n",
    "    'IN': 'Indiana',\n",
    "    'KS': 'Kansas',\n",
    "    'KY': 'Kentucky',\n",
    "    'LA': 'Louisiana',\n",
    "    'MA': 'Massachusetts',\n",
    "    'MD': 'Maryland',\n",
    "    'ME': 'Maine',\n",
    "    'MI': 'Michigan',\n",
    "    'MN': 'Minnesota',\n",
    "    'MO': 'Missouri',\n",
    "    'MS': 'Mississippi',\n",
    "    'MT': 'Montana',\n",
    "    'NC': 'North Carolina',\n",
    "    'ND': 'North Dakota',\n",
    "    'NE': 'Nebraska',\n",
    "    'NH': 'New Hampshire',\n",
    "    'NJ': 'New Jersey',\n",
    "    'NM': 'New Mexico',\n",
    "    'NV': 'Nevada',\n",
    "    'NY': 'New York',\n",
    "    'OH': 'Ohio',\n",
    "    'OK': 'Oklahoma',\n",
    "    'OR': 'Oregon',\n",
    "    'PA': 'Pennsylvania',\n",
    "    'RI': 'Rhode Island',\n",
    "    'SC': 'South Carolina',\n",
    "    'SD': 'South Dakota',\n",
    "    'TN': 'Tennessee',\n",
    "    'TX': 'Texas',\n",
    "    'UT': 'Utah',\n",
    "    'VA': 'Virginia',\n",
    "    'VT': 'Vermont',\n",
    "    'WA': 'Washington',\n",
    "    'WI': 'Wisconsin',\n",
    "    'WV': 'West Virginia',\n",
    "    'WY': 'Wyoming',\n",
    "    'US': 'United States'\n",
    "}"
   ],
   "metadata": {
    "collapsed": false
   }
  },
  {
   "cell_type": "code",
   "execution_count": 111,
   "outputs": [],
   "source": [
    "dfstates = pd.DataFrame(list(us_states.items()),columns = ['Abrr','States'])"
   ],
   "metadata": {
    "collapsed": false
   }
  },
  {
   "cell_type": "code",
   "execution_count": 112,
   "outputs": [
    {
     "data": {
      "text/plain": "New York                17898\nWisconsin               17898\nNew Jersey              17892\nNebraska                17860\nIowa                    17852\nVermont                 17832\nNew Mexico              17799\nWashington              17799\nMichigan                17764\nHawaii                  17762\nColorado                17759\nWest Virginia           17749\nArkansas                17726\nNorth Carolina          17723\nKentucky                17717\nOregon                  17694\nUtah                    17694\nMassachusetts           17691\nMaryland                17688\nFlorida                 17653\nRhode Island            17650\nNevada                  17618\nArizona                 17613\nSouth Carolina          17612\nSouth Dakota            17606\nMissouri                17505\nPennsylvania            17499\nIllinois                17499\nAlaska                  17499\nDelaware                17493\nMaine                   17484\nWyoming                 17482\nOklahoma                17470\nNew Hampshire           17446\nMississippi             17442\nConnecticut             17424\nCalifornia              17414\nVirginia                17400\nAlabama                 17400\nLouisiana               17395\nTennessee               17394\nMinnesota               17365\nKansas                  17330\nOhio                    17330\nGeorgia                 17322\nMontana                 17315\nNorth Dakota            17312\nTexas                   17295\nDistrict of Columbia    17278\nIndiana                 17249\nIdaho                   17219\nUnited States            6486\nName: Location, dtype: int64"
     },
     "execution_count": 112,
     "metadata": {},
     "output_type": "execute_result"
    }
   ],
   "source": [
    "# #The database includes the 50 states, District of Columbia and the United States Value - National\n",
    "df_year_mainland[\"Location\"].value_counts()"
   ],
   "metadata": {
    "collapsed": false
   }
  },
  {
   "cell_type": "code",
   "execution_count": 113,
   "outputs": [
    {
     "data": {
      "text/plain": "Crude Prevalence                                                    320833\nAge-adjusted Prevalence                                             242678\nNumber                                                               96761\nCrude Rate                                                           94162\nAge-adjusted Rate                                                    94162\nMean                                                                 20758\nAge-adjusted Mean                                                    20550\nMedian                                                                5982\nPercent                                                               2501\nYes/No                                                                1689\nAdjusted by age, sex, race and ethnicity                               832\nUS Dollars                                                             765\nPer capita alcohol consumption                                         260\nLocal control of the regulation of alcohol outlet density              156\nCommercial host (dram shop) liability status for alcohol service       155\nPrevalence                                                              52\nName: DataValueType, dtype: int64"
     },
     "execution_count": 113,
     "metadata": {},
     "output_type": "execute_result"
    }
   ],
   "source": [
    "# Check the data available, Crude Prevalence and Age-Adjusted Prevalence are the most available data.\n",
    "df_year_mainland[\"DataValueType\"].value_counts()"
   ],
   "metadata": {
    "collapsed": false
   }
  },
  {
   "cell_type": "code",
   "execution_count": 114,
   "outputs": [
    {
     "data": {
      "text/plain": "289621"
     },
     "execution_count": 114,
     "metadata": {},
     "output_type": "execute_result"
    }
   ],
   "source": [
    "#Counting the missing values.\n",
    "df_year_mainland['DataValue'].isna().sum()"
   ],
   "metadata": {
    "collapsed": false
   }
  },
  {
   "cell_type": "code",
   "execution_count": 115,
   "outputs": [],
   "source": [
    "#Due to the heterogeneity of the sources, years of the data, we are going to drop the missing values.\n",
    "#Deleting the missing values\n",
    "df_year_mainland=df_year_mainland[~df_year_mainland['DataValue'].isna()]"
   ],
   "metadata": {
    "collapsed": false
   }
  },
  {
   "cell_type": "code",
   "execution_count": 116,
   "outputs": [
    {
     "data": {
      "text/plain": "(612675, 22)"
     },
     "execution_count": 116,
     "metadata": {},
     "output_type": "execute_result"
    }
   ],
   "source": [
    "df_year_mainland.shape"
   ],
   "metadata": {
    "collapsed": false
   }
  },
  {
   "cell_type": "code",
   "execution_count": 117,
   "outputs": [
    {
     "data": {
      "text/plain": "Year                                      2001  2007  2009  2010   2011  \\\nDataValueType                                                             \nAdjusted by age, sex, race and ethnicity     0     0     0     0    104   \nAge-adjusted Mean                            0     0     0     0   1240   \nAge-adjusted Prevalence                      0     0     0     0  16045   \nAge-adjusted Rate                            0     0     0  6701   5142   \nCrude Prevalence                             0     0     0  1425  18960   \nCrude Rate                                   0     0     0  6701   5142   \nMean                                         0     0     0     0   1278   \nMedian                                       0     0     0     0    788   \nNumber                                     104     0   312  6753   5298   \nPer capita alcohol consumption               0     0     0    52      0   \nPercent                                      0    51     0     0     52   \nPrevalence                                   0     0     0    52      0   \nUS Dollars                                   0     0     0     0      0   \n\nYear                                       2012   2013   2014   2015   2016  \\\nDataValueType                                                                 \nAdjusted by age, sex, race and ethnicity    104    104    104    104    104   \nAge-adjusted Mean                          1704   1684   1675   1659   1685   \nAge-adjusted Prevalence                   16310  17941  16097  17629  15919   \nAge-adjusted Rate                          5160   6456   6842   6777   6809   \nCrude Prevalence                          20341  24330  20388  23547  19987   \nCrude Rate                                 5160   6456   6842   6777   6809   \nMean                                       1445   1705   1641   1685   1662   \nMedian                                        0    853      0    850      0   \nNumber                                     5368   6663   7049   6933   7016   \nPer capita alcohol consumption                0      0     52      0     52   \nPercent                                     414    156    452    104    349   \nPrevalence                                    0      0      0      0      0   \nUS Dollars                                  123      0      0    123      0   \n\nYear                                       2017   2018   2019   2020  \nDataValueType                                                         \nAdjusted by age, sex, race and ethnicity    104    104      0      0  \nAge-adjusted Mean                          1709   1707   1684   1681  \nAge-adjusted Prevalence                   16864  15824  16465  15408  \nAge-adjusted Rate                          6896   7258   5390      0  \nCrude Prevalence                          23946  19971  23355  17297  \nCrude Rate                                 6896   7258   5390      0  \nMean                                       1686   1741   1667   1670  \nMedian                                     1261      0   1215      0  \nNumber                                     7155   7828   5544      0  \nPer capita alcohol consumption                0     52     52      0  \nPercent                                     104    421    200    104  \nPrevalence                                    0      0      0      0  \nUS Dollars                                  123      0    123    123  ",
      "text/html": "<div>\n<style scoped>\n    .dataframe tbody tr th:only-of-type {\n        vertical-align: middle;\n    }\n\n    .dataframe tbody tr th {\n        vertical-align: top;\n    }\n\n    .dataframe thead th {\n        text-align: right;\n    }\n</style>\n<table border=\"1\" class=\"dataframe\">\n  <thead>\n    <tr style=\"text-align: right;\">\n      <th>Year</th>\n      <th>2001</th>\n      <th>2007</th>\n      <th>2009</th>\n      <th>2010</th>\n      <th>2011</th>\n      <th>2012</th>\n      <th>2013</th>\n      <th>2014</th>\n      <th>2015</th>\n      <th>2016</th>\n      <th>2017</th>\n      <th>2018</th>\n      <th>2019</th>\n      <th>2020</th>\n    </tr>\n    <tr>\n      <th>DataValueType</th>\n      <th></th>\n      <th></th>\n      <th></th>\n      <th></th>\n      <th></th>\n      <th></th>\n      <th></th>\n      <th></th>\n      <th></th>\n      <th></th>\n      <th></th>\n      <th></th>\n      <th></th>\n      <th></th>\n    </tr>\n  </thead>\n  <tbody>\n    <tr>\n      <th>Adjusted by age, sex, race and ethnicity</th>\n      <td>0</td>\n      <td>0</td>\n      <td>0</td>\n      <td>0</td>\n      <td>104</td>\n      <td>104</td>\n      <td>104</td>\n      <td>104</td>\n      <td>104</td>\n      <td>104</td>\n      <td>104</td>\n      <td>104</td>\n      <td>0</td>\n      <td>0</td>\n    </tr>\n    <tr>\n      <th>Age-adjusted Mean</th>\n      <td>0</td>\n      <td>0</td>\n      <td>0</td>\n      <td>0</td>\n      <td>1240</td>\n      <td>1704</td>\n      <td>1684</td>\n      <td>1675</td>\n      <td>1659</td>\n      <td>1685</td>\n      <td>1709</td>\n      <td>1707</td>\n      <td>1684</td>\n      <td>1681</td>\n    </tr>\n    <tr>\n      <th>Age-adjusted Prevalence</th>\n      <td>0</td>\n      <td>0</td>\n      <td>0</td>\n      <td>0</td>\n      <td>16045</td>\n      <td>16310</td>\n      <td>17941</td>\n      <td>16097</td>\n      <td>17629</td>\n      <td>15919</td>\n      <td>16864</td>\n      <td>15824</td>\n      <td>16465</td>\n      <td>15408</td>\n    </tr>\n    <tr>\n      <th>Age-adjusted Rate</th>\n      <td>0</td>\n      <td>0</td>\n      <td>0</td>\n      <td>6701</td>\n      <td>5142</td>\n      <td>5160</td>\n      <td>6456</td>\n      <td>6842</td>\n      <td>6777</td>\n      <td>6809</td>\n      <td>6896</td>\n      <td>7258</td>\n      <td>5390</td>\n      <td>0</td>\n    </tr>\n    <tr>\n      <th>Crude Prevalence</th>\n      <td>0</td>\n      <td>0</td>\n      <td>0</td>\n      <td>1425</td>\n      <td>18960</td>\n      <td>20341</td>\n      <td>24330</td>\n      <td>20388</td>\n      <td>23547</td>\n      <td>19987</td>\n      <td>23946</td>\n      <td>19971</td>\n      <td>23355</td>\n      <td>17297</td>\n    </tr>\n    <tr>\n      <th>Crude Rate</th>\n      <td>0</td>\n      <td>0</td>\n      <td>0</td>\n      <td>6701</td>\n      <td>5142</td>\n      <td>5160</td>\n      <td>6456</td>\n      <td>6842</td>\n      <td>6777</td>\n      <td>6809</td>\n      <td>6896</td>\n      <td>7258</td>\n      <td>5390</td>\n      <td>0</td>\n    </tr>\n    <tr>\n      <th>Mean</th>\n      <td>0</td>\n      <td>0</td>\n      <td>0</td>\n      <td>0</td>\n      <td>1278</td>\n      <td>1445</td>\n      <td>1705</td>\n      <td>1641</td>\n      <td>1685</td>\n      <td>1662</td>\n      <td>1686</td>\n      <td>1741</td>\n      <td>1667</td>\n      <td>1670</td>\n    </tr>\n    <tr>\n      <th>Median</th>\n      <td>0</td>\n      <td>0</td>\n      <td>0</td>\n      <td>0</td>\n      <td>788</td>\n      <td>0</td>\n      <td>853</td>\n      <td>0</td>\n      <td>850</td>\n      <td>0</td>\n      <td>1261</td>\n      <td>0</td>\n      <td>1215</td>\n      <td>0</td>\n    </tr>\n    <tr>\n      <th>Number</th>\n      <td>104</td>\n      <td>0</td>\n      <td>312</td>\n      <td>6753</td>\n      <td>5298</td>\n      <td>5368</td>\n      <td>6663</td>\n      <td>7049</td>\n      <td>6933</td>\n      <td>7016</td>\n      <td>7155</td>\n      <td>7828</td>\n      <td>5544</td>\n      <td>0</td>\n    </tr>\n    <tr>\n      <th>Per capita alcohol consumption</th>\n      <td>0</td>\n      <td>0</td>\n      <td>0</td>\n      <td>52</td>\n      <td>0</td>\n      <td>0</td>\n      <td>0</td>\n      <td>52</td>\n      <td>0</td>\n      <td>52</td>\n      <td>0</td>\n      <td>52</td>\n      <td>52</td>\n      <td>0</td>\n    </tr>\n    <tr>\n      <th>Percent</th>\n      <td>0</td>\n      <td>51</td>\n      <td>0</td>\n      <td>0</td>\n      <td>52</td>\n      <td>414</td>\n      <td>156</td>\n      <td>452</td>\n      <td>104</td>\n      <td>349</td>\n      <td>104</td>\n      <td>421</td>\n      <td>200</td>\n      <td>104</td>\n    </tr>\n    <tr>\n      <th>Prevalence</th>\n      <td>0</td>\n      <td>0</td>\n      <td>0</td>\n      <td>52</td>\n      <td>0</td>\n      <td>0</td>\n      <td>0</td>\n      <td>0</td>\n      <td>0</td>\n      <td>0</td>\n      <td>0</td>\n      <td>0</td>\n      <td>0</td>\n      <td>0</td>\n    </tr>\n    <tr>\n      <th>US Dollars</th>\n      <td>0</td>\n      <td>0</td>\n      <td>0</td>\n      <td>0</td>\n      <td>0</td>\n      <td>123</td>\n      <td>0</td>\n      <td>0</td>\n      <td>123</td>\n      <td>0</td>\n      <td>123</td>\n      <td>0</td>\n      <td>123</td>\n      <td>123</td>\n    </tr>\n  </tbody>\n</table>\n</div>"
     },
     "execution_count": 117,
     "metadata": {},
     "output_type": "execute_result"
    }
   ],
   "source": [
    "#Analyzing the DataValueTye available per year\n",
    "pd.crosstab(df_year_mainland.DataValueType,df_year_mainland.Year)"
   ],
   "metadata": {
    "collapsed": false
   }
  },
  {
   "cell_type": "code",
   "execution_count": 118,
   "outputs": [
    {
     "data": {
      "text/plain": "Topic                                     Alcohol  Arthritis  Asthma  Cancer  \\\nDataValueType                                                                  \nAdjusted by age, sex, race and ethnicity        0          0       0       0   \nAge-adjusted Mean                            5357          0       0       0   \nAge-adjusted Prevalence                      6335      23094   12214    3929   \nAge-adjusted Rate                            2736          0    3445       0   \nCrude Prevalence                            11958      22806   13570    4878   \nCrude Rate                                   2736          0    3445       0   \nMean                                         5342          0       0       0   \nMedian                                          0          0       0       0   \nNumber                                       2736          0    3445       0   \nPer capita alcohol consumption                260          0       0       0   \nPercent                                         0          0       0       0   \nPrevalence                                      0          0       0       0   \nUS Dollars                                    615          0       0       0   \n\nTopic                                     Cardiovascular Disease  \\\nDataValueType                                                      \nAdjusted by age, sex, race and ethnicity                       0   \nAge-adjusted Mean                                              0   \nAge-adjusted Prevalence                                    16090   \nAge-adjusted Rate                                          22745   \nCrude Prevalence                                           16920   \nCrude Rate                                                 22745   \nMean                                                           0   \nMedian                                                         0   \nNumber                                                     22745   \nPer capita alcohol consumption                                 0   \nPercent                                                        0   \nPrevalence                                                     0   \nUS Dollars                                                     0   \n\nTopic                                     Chronic Kidney Disease  \\\nDataValueType                                                      \nAdjusted by age, sex, race and ethnicity                     832   \nAge-adjusted Mean                                              0   \nAge-adjusted Prevalence                                     2627   \nAge-adjusted Rate                                           3313   \nCrude Prevalence                                            2587   \nCrude Rate                                                  3313   \nMean                                                           0   \nMedian                                                         0   \nNumber                                                      4145   \nPer capita alcohol consumption                                 0   \nPercent                                                        0   \nPrevalence                                                     0   \nUS Dollars                                                     0   \n\nTopic                                     Chronic Obstructive Pulmonary Disease  \\\nDataValueType                                                                     \nAdjusted by age, sex, race and ethnicity                                      0   \nAge-adjusted Mean                                                             0   \nAge-adjusted Prevalence                                                   18026   \nAge-adjusted Rate                                                         17043   \nCrude Prevalence                                                          17736   \nCrude Rate                                                                17043   \nMean                                                                          0   \nMedian                                                                        0   \nNumber                                                                    17043   \nPer capita alcohol consumption                                                0   \nPercent                                                                       0   \nPrevalence                                                                    0   \nUS Dollars                                                                    0   \n\nTopic                                     Diabetes  Disability  Immunization  \\\nDataValueType                                                                  \nAdjusted by age, sex, race and ethnicity         0           0             0   \nAge-adjusted Mean                                0           0             0   \nAge-adjusted Prevalence                      25901           0          3954   \nAge-adjusted Rate                             7508           0             0   \nCrude Prevalence                             27114        3189          3939   \nCrude Rate                                    7508           0             0   \nMean                                             0           0             0   \nMedian                                           0           0             0   \nNumber                                        7508           0             0   \nPer capita alcohol consumption                   0           0             0   \nPercent                                          0           0             0   \nPrevalence                                      52           0             0   \nUS Dollars                                       0           0             0   \n\nTopic                                     Mental Health  \\\nDataValueType                                             \nAdjusted by age, sex, race and ethnicity              0   \nAge-adjusted Mean                                  3899   \nAge-adjusted Prevalence                               0   \nAge-adjusted Rate                                     0   \nCrude Prevalence                                   1852   \nCrude Rate                                            0   \nMean                                               3613   \nMedian                                                0   \nNumber                                                0   \nPer capita alcohol consumption                        0   \nPercent                                               0   \nPrevalence                                            0   \nUS Dollars                                            0   \n\nTopic                                     Nutrition, Physical Activity, and Weight Status  \\\nDataValueType                                                                               \nAdjusted by age, sex, race and ethnicity                                                0   \nAge-adjusted Mean                                                                       0   \nAge-adjusted Prevalence                                                             20381   \nAge-adjusted Rate                                                                       0   \nCrude Prevalence                                                                    29797   \nCrude Rate                                                                              0   \nMean                                                                                  206   \nMedian                                                                               4967   \nNumber                                                                                206   \nPer capita alcohol consumption                                                          0   \nPercent                                                                              1706   \nPrevalence                                                                              0   \nUS Dollars                                                                              0   \n\nTopic                                     Older Adults  Oral Health  \\\nDataValueType                                                         \nAdjusted by age, sex, race and ethnicity             0            0   \nAge-adjusted Mean                                    0            0   \nAge-adjusted Prevalence                           2798         6314   \nAge-adjusted Rate                                 2960            0   \nCrude Prevalence                                  6365         8417   \nCrude Rate                                        2960            0   \nMean                                                 0            0   \nMedian                                               0            0   \nNumber                                            2960            0   \nPer capita alcohol consumption                       0            0   \nPercent                                              0          208   \nPrevalence                                           0            0   \nUS Dollars                                           0            0   \n\nTopic                                     Overarching Conditions  \\\nDataValueType                                                      \nAdjusted by age, sex, race and ethnicity                       0   \nAge-adjusted Mean                                           7172   \nAge-adjusted Prevalence                                     9012   \nAge-adjusted Rate                                           3681   \nCrude Prevalence                                           19242   \nCrude Rate                                                  3681   \nMean                                                        7019   \nMedian                                                         0   \nNumber                                                      4929   \nPer capita alcohol consumption                                 0   \nPercent                                                        0   \nPrevalence                                                     0   \nUS Dollars                                                     0   \n\nTopic                                     Reproductive Health  Tobacco  \nDataValueType                                                           \nAdjusted by age, sex, race and ethnicity                    0        0  \nAge-adjusted Mean                                           0        0  \nAge-adjusted Prevalence                                     0    13827  \nAge-adjusted Rate                                           0        0  \nCrude Prevalence                                         4807    18370  \nCrude Rate                                                  0        0  \nMean                                                        0        0  \nMedian                                                      0        0  \nNumber                                                      0      306  \nPer capita alcohol consumption                              0        0  \nPercent                                                     0      493  \nPrevalence                                                  0        0  \nUS Dollars                                                  0        0  ",
      "text/html": "<div>\n<style scoped>\n    .dataframe tbody tr th:only-of-type {\n        vertical-align: middle;\n    }\n\n    .dataframe tbody tr th {\n        vertical-align: top;\n    }\n\n    .dataframe thead th {\n        text-align: right;\n    }\n</style>\n<table border=\"1\" class=\"dataframe\">\n  <thead>\n    <tr style=\"text-align: right;\">\n      <th>Topic</th>\n      <th>Alcohol</th>\n      <th>Arthritis</th>\n      <th>Asthma</th>\n      <th>Cancer</th>\n      <th>Cardiovascular Disease</th>\n      <th>Chronic Kidney Disease</th>\n      <th>Chronic Obstructive Pulmonary Disease</th>\n      <th>Diabetes</th>\n      <th>Disability</th>\n      <th>Immunization</th>\n      <th>Mental Health</th>\n      <th>Nutrition, Physical Activity, and Weight Status</th>\n      <th>Older Adults</th>\n      <th>Oral Health</th>\n      <th>Overarching Conditions</th>\n      <th>Reproductive Health</th>\n      <th>Tobacco</th>\n    </tr>\n    <tr>\n      <th>DataValueType</th>\n      <th></th>\n      <th></th>\n      <th></th>\n      <th></th>\n      <th></th>\n      <th></th>\n      <th></th>\n      <th></th>\n      <th></th>\n      <th></th>\n      <th></th>\n      <th></th>\n      <th></th>\n      <th></th>\n      <th></th>\n      <th></th>\n      <th></th>\n    </tr>\n  </thead>\n  <tbody>\n    <tr>\n      <th>Adjusted by age, sex, race and ethnicity</th>\n      <td>0</td>\n      <td>0</td>\n      <td>0</td>\n      <td>0</td>\n      <td>0</td>\n      <td>832</td>\n      <td>0</td>\n      <td>0</td>\n      <td>0</td>\n      <td>0</td>\n      <td>0</td>\n      <td>0</td>\n      <td>0</td>\n      <td>0</td>\n      <td>0</td>\n      <td>0</td>\n      <td>0</td>\n    </tr>\n    <tr>\n      <th>Age-adjusted Mean</th>\n      <td>5357</td>\n      <td>0</td>\n      <td>0</td>\n      <td>0</td>\n      <td>0</td>\n      <td>0</td>\n      <td>0</td>\n      <td>0</td>\n      <td>0</td>\n      <td>0</td>\n      <td>3899</td>\n      <td>0</td>\n      <td>0</td>\n      <td>0</td>\n      <td>7172</td>\n      <td>0</td>\n      <td>0</td>\n    </tr>\n    <tr>\n      <th>Age-adjusted Prevalence</th>\n      <td>6335</td>\n      <td>23094</td>\n      <td>12214</td>\n      <td>3929</td>\n      <td>16090</td>\n      <td>2627</td>\n      <td>18026</td>\n      <td>25901</td>\n      <td>0</td>\n      <td>3954</td>\n      <td>0</td>\n      <td>20381</td>\n      <td>2798</td>\n      <td>6314</td>\n      <td>9012</td>\n      <td>0</td>\n      <td>13827</td>\n    </tr>\n    <tr>\n      <th>Age-adjusted Rate</th>\n      <td>2736</td>\n      <td>0</td>\n      <td>3445</td>\n      <td>0</td>\n      <td>22745</td>\n      <td>3313</td>\n      <td>17043</td>\n      <td>7508</td>\n      <td>0</td>\n      <td>0</td>\n      <td>0</td>\n      <td>0</td>\n      <td>2960</td>\n      <td>0</td>\n      <td>3681</td>\n      <td>0</td>\n      <td>0</td>\n    </tr>\n    <tr>\n      <th>Crude Prevalence</th>\n      <td>11958</td>\n      <td>22806</td>\n      <td>13570</td>\n      <td>4878</td>\n      <td>16920</td>\n      <td>2587</td>\n      <td>17736</td>\n      <td>27114</td>\n      <td>3189</td>\n      <td>3939</td>\n      <td>1852</td>\n      <td>29797</td>\n      <td>6365</td>\n      <td>8417</td>\n      <td>19242</td>\n      <td>4807</td>\n      <td>18370</td>\n    </tr>\n    <tr>\n      <th>Crude Rate</th>\n      <td>2736</td>\n      <td>0</td>\n      <td>3445</td>\n      <td>0</td>\n      <td>22745</td>\n      <td>3313</td>\n      <td>17043</td>\n      <td>7508</td>\n      <td>0</td>\n      <td>0</td>\n      <td>0</td>\n      <td>0</td>\n      <td>2960</td>\n      <td>0</td>\n      <td>3681</td>\n      <td>0</td>\n      <td>0</td>\n    </tr>\n    <tr>\n      <th>Mean</th>\n      <td>5342</td>\n      <td>0</td>\n      <td>0</td>\n      <td>0</td>\n      <td>0</td>\n      <td>0</td>\n      <td>0</td>\n      <td>0</td>\n      <td>0</td>\n      <td>0</td>\n      <td>3613</td>\n      <td>206</td>\n      <td>0</td>\n      <td>0</td>\n      <td>7019</td>\n      <td>0</td>\n      <td>0</td>\n    </tr>\n    <tr>\n      <th>Median</th>\n      <td>0</td>\n      <td>0</td>\n      <td>0</td>\n      <td>0</td>\n      <td>0</td>\n      <td>0</td>\n      <td>0</td>\n      <td>0</td>\n      <td>0</td>\n      <td>0</td>\n      <td>0</td>\n      <td>4967</td>\n      <td>0</td>\n      <td>0</td>\n      <td>0</td>\n      <td>0</td>\n      <td>0</td>\n    </tr>\n    <tr>\n      <th>Number</th>\n      <td>2736</td>\n      <td>0</td>\n      <td>3445</td>\n      <td>0</td>\n      <td>22745</td>\n      <td>4145</td>\n      <td>17043</td>\n      <td>7508</td>\n      <td>0</td>\n      <td>0</td>\n      <td>0</td>\n      <td>206</td>\n      <td>2960</td>\n      <td>0</td>\n      <td>4929</td>\n      <td>0</td>\n      <td>306</td>\n    </tr>\n    <tr>\n      <th>Per capita alcohol consumption</th>\n      <td>260</td>\n      <td>0</td>\n      <td>0</td>\n      <td>0</td>\n      <td>0</td>\n      <td>0</td>\n      <td>0</td>\n      <td>0</td>\n      <td>0</td>\n      <td>0</td>\n      <td>0</td>\n      <td>0</td>\n      <td>0</td>\n      <td>0</td>\n      <td>0</td>\n      <td>0</td>\n      <td>0</td>\n    </tr>\n    <tr>\n      <th>Percent</th>\n      <td>0</td>\n      <td>0</td>\n      <td>0</td>\n      <td>0</td>\n      <td>0</td>\n      <td>0</td>\n      <td>0</td>\n      <td>0</td>\n      <td>0</td>\n      <td>0</td>\n      <td>0</td>\n      <td>1706</td>\n      <td>0</td>\n      <td>208</td>\n      <td>0</td>\n      <td>0</td>\n      <td>493</td>\n    </tr>\n    <tr>\n      <th>Prevalence</th>\n      <td>0</td>\n      <td>0</td>\n      <td>0</td>\n      <td>0</td>\n      <td>0</td>\n      <td>0</td>\n      <td>0</td>\n      <td>52</td>\n      <td>0</td>\n      <td>0</td>\n      <td>0</td>\n      <td>0</td>\n      <td>0</td>\n      <td>0</td>\n      <td>0</td>\n      <td>0</td>\n      <td>0</td>\n    </tr>\n    <tr>\n      <th>US Dollars</th>\n      <td>615</td>\n      <td>0</td>\n      <td>0</td>\n      <td>0</td>\n      <td>0</td>\n      <td>0</td>\n      <td>0</td>\n      <td>0</td>\n      <td>0</td>\n      <td>0</td>\n      <td>0</td>\n      <td>0</td>\n      <td>0</td>\n      <td>0</td>\n      <td>0</td>\n      <td>0</td>\n      <td>0</td>\n    </tr>\n  </tbody>\n</table>\n</div>"
     },
     "execution_count": 118,
     "metadata": {},
     "output_type": "execute_result"
    }
   ],
   "source": [
    "#Analyzing the DataValueType available per Topic\n",
    "pd.crosstab(df_year_mainland.DataValueType,df_year_mainland.Topic)"
   ],
   "metadata": {
    "collapsed": false
   }
  },
  {
   "cell_type": "code",
   "execution_count": 119,
   "outputs": [
    {
     "data": {
      "text/plain": "StratificationCategory1                   Gender  Overall  Race/Ethnicity\nDataValueType                                                            \nAdjusted by age, sex, race and ethnicity       0      832               0\nAge-adjusted Mean                           5190     2595            8643\nAge-adjusted Prevalence                    56731    29350           78421\nAge-adjusted Rate                          19733    10169           33529\nCrude Prevalence                           64115    42434          106998\nCrude Rate                                 19733    10169           33529\nMean                                        5190     2801            8189\nMedian                                      1326      808            2833\nNumber                                     20149    12345           33529\nPer capita alcohol consumption                 0      260               0\nPercent                                        0     2407               0\nPrevalence                                     0       52               0\nUS Dollars                                     0      615               0",
      "text/html": "<div>\n<style scoped>\n    .dataframe tbody tr th:only-of-type {\n        vertical-align: middle;\n    }\n\n    .dataframe tbody tr th {\n        vertical-align: top;\n    }\n\n    .dataframe thead th {\n        text-align: right;\n    }\n</style>\n<table border=\"1\" class=\"dataframe\">\n  <thead>\n    <tr style=\"text-align: right;\">\n      <th>StratificationCategory1</th>\n      <th>Gender</th>\n      <th>Overall</th>\n      <th>Race/Ethnicity</th>\n    </tr>\n    <tr>\n      <th>DataValueType</th>\n      <th></th>\n      <th></th>\n      <th></th>\n    </tr>\n  </thead>\n  <tbody>\n    <tr>\n      <th>Adjusted by age, sex, race and ethnicity</th>\n      <td>0</td>\n      <td>832</td>\n      <td>0</td>\n    </tr>\n    <tr>\n      <th>Age-adjusted Mean</th>\n      <td>5190</td>\n      <td>2595</td>\n      <td>8643</td>\n    </tr>\n    <tr>\n      <th>Age-adjusted Prevalence</th>\n      <td>56731</td>\n      <td>29350</td>\n      <td>78421</td>\n    </tr>\n    <tr>\n      <th>Age-adjusted Rate</th>\n      <td>19733</td>\n      <td>10169</td>\n      <td>33529</td>\n    </tr>\n    <tr>\n      <th>Crude Prevalence</th>\n      <td>64115</td>\n      <td>42434</td>\n      <td>106998</td>\n    </tr>\n    <tr>\n      <th>Crude Rate</th>\n      <td>19733</td>\n      <td>10169</td>\n      <td>33529</td>\n    </tr>\n    <tr>\n      <th>Mean</th>\n      <td>5190</td>\n      <td>2801</td>\n      <td>8189</td>\n    </tr>\n    <tr>\n      <th>Median</th>\n      <td>1326</td>\n      <td>808</td>\n      <td>2833</td>\n    </tr>\n    <tr>\n      <th>Number</th>\n      <td>20149</td>\n      <td>12345</td>\n      <td>33529</td>\n    </tr>\n    <tr>\n      <th>Per capita alcohol consumption</th>\n      <td>0</td>\n      <td>260</td>\n      <td>0</td>\n    </tr>\n    <tr>\n      <th>Percent</th>\n      <td>0</td>\n      <td>2407</td>\n      <td>0</td>\n    </tr>\n    <tr>\n      <th>Prevalence</th>\n      <td>0</td>\n      <td>52</td>\n      <td>0</td>\n    </tr>\n    <tr>\n      <th>US Dollars</th>\n      <td>0</td>\n      <td>615</td>\n      <td>0</td>\n    </tr>\n  </tbody>\n</table>\n</div>"
     },
     "execution_count": 119,
     "metadata": {},
     "output_type": "execute_result"
    }
   ],
   "source": [
    "#Analyzing the DataValueType available per Gender and Race\n",
    "pd.crosstab(df_year_mainland.DataValueType,df_year_mainland.StratificationCategory1)"
   ],
   "metadata": {
    "collapsed": false
   }
  },
  {
   "cell_type": "code",
   "execution_count": 120,
   "outputs": [
    {
     "data": {
      "text/plain": "Year                     2001  2007  2009   2010   2011   2012   2013   2014  \\\nStratificationCategory1                                                        \nGender                      0     0   208   6776  18160  17639  20711  19125   \nOverall                   104    51   104   3851  10380  10919  12293  11708   \nRace/Ethnicity              0     0     0  11057  25509  27571  33344  30309   \n\nYear                      2015   2016   2017   2018   2019   2020  \nStratificationCategory1                                            \nGender                   20798  18601  20611  18963  18976  11599  \nOverall                  12264  11343  12094  11649  11146   6931  \nRace/Ethnicity           33126  30448  34039  31552  30963  17753  ",
      "text/html": "<div>\n<style scoped>\n    .dataframe tbody tr th:only-of-type {\n        vertical-align: middle;\n    }\n\n    .dataframe tbody tr th {\n        vertical-align: top;\n    }\n\n    .dataframe thead th {\n        text-align: right;\n    }\n</style>\n<table border=\"1\" class=\"dataframe\">\n  <thead>\n    <tr style=\"text-align: right;\">\n      <th>Year</th>\n      <th>2001</th>\n      <th>2007</th>\n      <th>2009</th>\n      <th>2010</th>\n      <th>2011</th>\n      <th>2012</th>\n      <th>2013</th>\n      <th>2014</th>\n      <th>2015</th>\n      <th>2016</th>\n      <th>2017</th>\n      <th>2018</th>\n      <th>2019</th>\n      <th>2020</th>\n    </tr>\n    <tr>\n      <th>StratificationCategory1</th>\n      <th></th>\n      <th></th>\n      <th></th>\n      <th></th>\n      <th></th>\n      <th></th>\n      <th></th>\n      <th></th>\n      <th></th>\n      <th></th>\n      <th></th>\n      <th></th>\n      <th></th>\n      <th></th>\n    </tr>\n  </thead>\n  <tbody>\n    <tr>\n      <th>Gender</th>\n      <td>0</td>\n      <td>0</td>\n      <td>208</td>\n      <td>6776</td>\n      <td>18160</td>\n      <td>17639</td>\n      <td>20711</td>\n      <td>19125</td>\n      <td>20798</td>\n      <td>18601</td>\n      <td>20611</td>\n      <td>18963</td>\n      <td>18976</td>\n      <td>11599</td>\n    </tr>\n    <tr>\n      <th>Overall</th>\n      <td>104</td>\n      <td>51</td>\n      <td>104</td>\n      <td>3851</td>\n      <td>10380</td>\n      <td>10919</td>\n      <td>12293</td>\n      <td>11708</td>\n      <td>12264</td>\n      <td>11343</td>\n      <td>12094</td>\n      <td>11649</td>\n      <td>11146</td>\n      <td>6931</td>\n    </tr>\n    <tr>\n      <th>Race/Ethnicity</th>\n      <td>0</td>\n      <td>0</td>\n      <td>0</td>\n      <td>11057</td>\n      <td>25509</td>\n      <td>27571</td>\n      <td>33344</td>\n      <td>30309</td>\n      <td>33126</td>\n      <td>30448</td>\n      <td>34039</td>\n      <td>31552</td>\n      <td>30963</td>\n      <td>17753</td>\n    </tr>\n  </tbody>\n</table>\n</div>"
     },
     "execution_count": 120,
     "metadata": {},
     "output_type": "execute_result"
    }
   ],
   "source": [
    "#Analyzing the Gender/Race data available per year\n",
    "pd.crosstab(df_year_mainland.StratificationCategory1,df_year_mainland.Year)"
   ],
   "metadata": {
    "collapsed": false
   }
  },
  {
   "cell_type": "code",
   "execution_count": 121,
   "outputs": [
    {
     "data": {
      "text/plain": "Year                                                       2001      2007  \\\nTopic                                    Overarching Conditions   Tobacco   \nStratificationCategory1                                 Overall   Overall   \nDataValueType                                                               \nTotal                                                  0.016975  0.008324   \nCrude Prevalence                                       0.000000  0.000000   \nAge-adjusted Prevalence                                0.000000  0.000000   \nNumber                                                 0.016975  0.000000   \nAge-adjusted Rate                                      0.000000  0.000000   \nCrude Rate                                             0.000000  0.000000   \nAge-adjusted Mean                                      0.000000  0.000000   \nMean                                                   0.000000  0.000000   \nMedian                                                 0.000000  0.000000   \nPercent                                                0.000000  0.008324   \nAdjusted by age, sex, race and ethnicity               0.000000  0.000000   \nUS Dollars                                             0.000000  0.000000   \nPer capita alcohol consumption                         0.000000  0.000000   \nPrevalence                                             0.000000  0.000000   \n\nYear                                                       2009            \\\nTopic                                    Overarching Conditions             \nStratificationCategory1                                  Gender   Overall   \nDataValueType                                                               \nTotal                                                  0.033949  0.016975   \nCrude Prevalence                                       0.000000  0.000000   \nAge-adjusted Prevalence                                0.000000  0.000000   \nNumber                                                 0.033949  0.016975   \nAge-adjusted Rate                                      0.000000  0.000000   \nCrude Rate                                             0.000000  0.000000   \nAge-adjusted Mean                                      0.000000  0.000000   \nMean                                                   0.000000  0.000000   \nMedian                                                 0.000000  0.000000   \nPercent                                                0.000000  0.000000   \nAdjusted by age, sex, race and ethnicity               0.000000  0.000000   \nUS Dollars                                             0.000000  0.000000   \nPer capita alcohol consumption                         0.000000  0.000000   \nPrevalence                                             0.000000  0.000000   \n\nYear                                          2010                           \\\nTopic                                      Alcohol                            \nStratificationCategory1                     Gender   Overall Race/Ethnicity   \nDataValueType                                                                 \nTotal                                     0.049455  0.033949       0.054352   \nCrude Prevalence                          0.000000  0.000000       0.000000   \nAge-adjusted Prevalence                   0.000000  0.000000       0.000000   \nNumber                                    0.016485  0.008487       0.018117   \nAge-adjusted Rate                         0.016485  0.008487       0.018117   \nCrude Rate                                0.016485  0.008487       0.018117   \nAge-adjusted Mean                         0.000000  0.000000       0.000000   \nMean                                      0.000000  0.000000       0.000000   \nMedian                                    0.000000  0.000000       0.000000   \nPercent                                   0.000000  0.000000       0.000000   \nAdjusted by age, sex, race and ethnicity  0.000000  0.000000       0.000000   \nUS Dollars                                0.000000  0.000000       0.000000   \nPer capita alcohol consumption            0.000000  0.008487       0.000000   \nPrevalence                                0.000000  0.000000       0.000000   \n\nYear                                                                         \\\nTopic                                       Asthma                            \nStratificationCategory1                     Gender   Overall Race/Ethnicity   \nDataValueType                                                                 \nTotal                                     0.070021  0.040641       0.079814   \nCrude Prevalence                          0.000000  0.000000       0.000000   \nAge-adjusted Prevalence                   0.000000  0.000000       0.000000   \nNumber                                    0.023340  0.013547       0.026605   \nAge-adjusted Rate                         0.023340  0.013547       0.026605   \nCrude Rate                                0.023340  0.013547       0.026605   \nAge-adjusted Mean                         0.000000  0.000000       0.000000   \nMean                                      0.000000  0.000000       0.000000   \nMedian                                    0.000000  0.000000       0.000000   \nPercent                                   0.000000  0.000000       0.000000   \nAdjusted by age, sex, race and ethnicity  0.000000  0.000000       0.000000   \nUS Dollars                                0.000000  0.000000       0.000000   \nPer capita alcohol consumption            0.000000  0.000000       0.000000   \nPrevalence                                0.000000  0.000000       0.000000   \n\nYear                                      ...           2020  \\\nTopic                                     ...    Oral Health   \nStratificationCategory1                   ... Race/Ethnicity   \nDataValueType                             ...                  \nTotal                                     ...       0.228180   \nCrude Prevalence                          ...       0.113437   \nAge-adjusted Prevalence                   ...       0.114743   \nNumber                                    ...       0.000000   \nAge-adjusted Rate                         ...       0.000000   \nCrude Rate                                ...       0.000000   \nAge-adjusted Mean                         ...       0.000000   \nMean                                      ...       0.000000   \nMedian                                    ...       0.000000   \nPercent                                   ...       0.000000   \nAdjusted by age, sex, race and ethnicity  ...       0.000000   \nUS Dollars                                ...       0.000000   \nPer capita alcohol consumption            ...       0.000000   \nPrevalence                                ...       0.000000   \n\nYear                                                                       \\\nTopic                                    Overarching Conditions             \nStratificationCategory1                                  Gender   Overall   \nDataValueType                                                               \nTotal                                                  0.169747  0.101848   \nCrude Prevalence                                       0.050924  0.042437   \nAge-adjusted Prevalence                                0.050924  0.025462   \nNumber                                                 0.000000  0.000000   \nAge-adjusted Rate                                      0.000000  0.000000   \nCrude Rate                                             0.000000  0.000000   \nAge-adjusted Mean                                      0.033949  0.016975   \nMean                                                   0.033949  0.016975   \nMedian                                                 0.000000  0.000000   \nPercent                                                0.000000  0.000000   \nAdjusted by age, sex, race and ethnicity               0.000000  0.000000   \nUS Dollars                                             0.000000  0.000000   \nPer capita alcohol consumption                         0.000000  0.000000   \nPrevalence                                             0.000000  0.000000   \n\nYear                                                                         \\\nTopic                                                   Reproductive Health   \nStratificationCategory1                  Race/Ethnicity             Overall   \nDataValueType                                                                 \nTotal                                          0.422410            0.008487   \nCrude Prevalence                               0.171543            0.008487   \nAge-adjusted Prevalence                        0.108540            0.000000   \nNumber                                         0.000000            0.000000   \nAge-adjusted Rate                              0.000000            0.000000   \nCrude Rate                                     0.000000            0.000000   \nAge-adjusted Mean                              0.072306            0.000000   \nMean                                           0.070021            0.000000   \nMedian                                         0.000000            0.000000   \nPercent                                        0.000000            0.000000   \nAdjusted by age, sex, race and ethnicity       0.000000            0.000000   \nUS Dollars                                     0.000000            0.000000   \nPer capita alcohol consumption                 0.000000            0.000000   \nPrevalence                                     0.000000            0.000000   \n\nYear                                                                         \\\nTopic                                                     Tobacco             \nStratificationCategory1                  Race/Ethnicity    Gender   Overall   \nDataValueType                                                                 \nTotal                                          0.024646  0.162239  0.101848   \nCrude Prevalence                               0.024646  0.081773  0.050924   \nAge-adjusted Prevalence                        0.000000  0.080467  0.042437   \nNumber                                         0.000000  0.000000  0.000000   \nAge-adjusted Rate                              0.000000  0.000000  0.000000   \nCrude Rate                                     0.000000  0.000000  0.000000   \nAge-adjusted Mean                              0.000000  0.000000  0.000000   \nMean                                           0.000000  0.000000  0.000000   \nMedian                                         0.000000  0.000000  0.000000   \nPercent                                        0.000000  0.000000  0.008487   \nAdjusted by age, sex, race and ethnicity       0.000000  0.000000  0.000000   \nUS Dollars                                     0.000000  0.000000  0.000000   \nPer capita alcohol consumption                 0.000000  0.000000  0.000000   \nPrevalence                                     0.000000  0.000000  0.000000   \n\nYear                                                          Total  \nTopic                                                                \nStratificationCategory1                  Race/Ethnicity              \nDataValueType                                                        \nTotal                                          0.207451  100.000000  \nCrude Prevalence                               0.110662   34.854858  \nAge-adjusted Prevalence                        0.096789   26.849798  \nNumber                                         0.000000   10.776186  \nAge-adjusted Rate                              0.000000   10.353124  \nCrude Rate                                     0.000000   10.353124  \nAge-adjusted Mean                              0.000000    2.681356  \nMean                                           0.000000    2.640878  \nMedian                                         0.000000    0.810707  \nPercent                                        0.000000    0.392867  \nAdjusted by age, sex, race and ethnicity       0.000000    0.135798  \nUS Dollars                                     0.000000    0.100379  \nPer capita alcohol consumption                 0.000000    0.042437  \nPrevalence                                     0.000000    0.008487  \n\n[14 rows x 513 columns]",
      "text/html": "<div>\n<style scoped>\n    .dataframe tbody tr th:only-of-type {\n        vertical-align: middle;\n    }\n\n    .dataframe tbody tr th {\n        vertical-align: top;\n    }\n\n    .dataframe thead tr th {\n        text-align: left;\n    }\n\n    .dataframe thead tr:last-of-type th {\n        text-align: right;\n    }\n</style>\n<table border=\"1\" class=\"dataframe\">\n  <thead>\n    <tr>\n      <th>Year</th>\n      <th>2001</th>\n      <th>2007</th>\n      <th colspan=\"2\" halign=\"left\">2009</th>\n      <th colspan=\"6\" halign=\"left\">2010</th>\n      <th>...</th>\n      <th colspan=\"9\" halign=\"left\">2020</th>\n      <th>Total</th>\n    </tr>\n    <tr>\n      <th>Topic</th>\n      <th>Overarching Conditions</th>\n      <th>Tobacco</th>\n      <th colspan=\"2\" halign=\"left\">Overarching Conditions</th>\n      <th colspan=\"3\" halign=\"left\">Alcohol</th>\n      <th colspan=\"3\" halign=\"left\">Asthma</th>\n      <th>...</th>\n      <th>Oral Health</th>\n      <th colspan=\"3\" halign=\"left\">Overarching Conditions</th>\n      <th colspan=\"2\" halign=\"left\">Reproductive Health</th>\n      <th colspan=\"3\" halign=\"left\">Tobacco</th>\n      <th></th>\n    </tr>\n    <tr>\n      <th>StratificationCategory1</th>\n      <th>Overall</th>\n      <th>Overall</th>\n      <th>Gender</th>\n      <th>Overall</th>\n      <th>Gender</th>\n      <th>Overall</th>\n      <th>Race/Ethnicity</th>\n      <th>Gender</th>\n      <th>Overall</th>\n      <th>Race/Ethnicity</th>\n      <th>...</th>\n      <th>Race/Ethnicity</th>\n      <th>Gender</th>\n      <th>Overall</th>\n      <th>Race/Ethnicity</th>\n      <th>Overall</th>\n      <th>Race/Ethnicity</th>\n      <th>Gender</th>\n      <th>Overall</th>\n      <th>Race/Ethnicity</th>\n      <th></th>\n    </tr>\n    <tr>\n      <th>DataValueType</th>\n      <th></th>\n      <th></th>\n      <th></th>\n      <th></th>\n      <th></th>\n      <th></th>\n      <th></th>\n      <th></th>\n      <th></th>\n      <th></th>\n      <th></th>\n      <th></th>\n      <th></th>\n      <th></th>\n      <th></th>\n      <th></th>\n      <th></th>\n      <th></th>\n      <th></th>\n      <th></th>\n      <th></th>\n    </tr>\n  </thead>\n  <tbody>\n    <tr>\n      <th>Total</th>\n      <td>0.016975</td>\n      <td>0.008324</td>\n      <td>0.033949</td>\n      <td>0.016975</td>\n      <td>0.049455</td>\n      <td>0.033949</td>\n      <td>0.054352</td>\n      <td>0.070021</td>\n      <td>0.040641</td>\n      <td>0.079814</td>\n      <td>...</td>\n      <td>0.228180</td>\n      <td>0.169747</td>\n      <td>0.101848</td>\n      <td>0.422410</td>\n      <td>0.008487</td>\n      <td>0.024646</td>\n      <td>0.162239</td>\n      <td>0.101848</td>\n      <td>0.207451</td>\n      <td>100.000000</td>\n    </tr>\n    <tr>\n      <th>Crude Prevalence</th>\n      <td>0.000000</td>\n      <td>0.000000</td>\n      <td>0.000000</td>\n      <td>0.000000</td>\n      <td>0.000000</td>\n      <td>0.000000</td>\n      <td>0.000000</td>\n      <td>0.000000</td>\n      <td>0.000000</td>\n      <td>0.000000</td>\n      <td>...</td>\n      <td>0.113437</td>\n      <td>0.050924</td>\n      <td>0.042437</td>\n      <td>0.171543</td>\n      <td>0.008487</td>\n      <td>0.024646</td>\n      <td>0.081773</td>\n      <td>0.050924</td>\n      <td>0.110662</td>\n      <td>34.854858</td>\n    </tr>\n    <tr>\n      <th>Age-adjusted Prevalence</th>\n      <td>0.000000</td>\n      <td>0.000000</td>\n      <td>0.000000</td>\n      <td>0.000000</td>\n      <td>0.000000</td>\n      <td>0.000000</td>\n      <td>0.000000</td>\n      <td>0.000000</td>\n      <td>0.000000</td>\n      <td>0.000000</td>\n      <td>...</td>\n      <td>0.114743</td>\n      <td>0.050924</td>\n      <td>0.025462</td>\n      <td>0.108540</td>\n      <td>0.000000</td>\n      <td>0.000000</td>\n      <td>0.080467</td>\n      <td>0.042437</td>\n      <td>0.096789</td>\n      <td>26.849798</td>\n    </tr>\n    <tr>\n      <th>Number</th>\n      <td>0.016975</td>\n      <td>0.000000</td>\n      <td>0.033949</td>\n      <td>0.016975</td>\n      <td>0.016485</td>\n      <td>0.008487</td>\n      <td>0.018117</td>\n      <td>0.023340</td>\n      <td>0.013547</td>\n      <td>0.026605</td>\n      <td>...</td>\n      <td>0.000000</td>\n      <td>0.000000</td>\n      <td>0.000000</td>\n      <td>0.000000</td>\n      <td>0.000000</td>\n      <td>0.000000</td>\n      <td>0.000000</td>\n      <td>0.000000</td>\n      <td>0.000000</td>\n      <td>10.776186</td>\n    </tr>\n    <tr>\n      <th>Age-adjusted Rate</th>\n      <td>0.000000</td>\n      <td>0.000000</td>\n      <td>0.000000</td>\n      <td>0.000000</td>\n      <td>0.016485</td>\n      <td>0.008487</td>\n      <td>0.018117</td>\n      <td>0.023340</td>\n      <td>0.013547</td>\n      <td>0.026605</td>\n      <td>...</td>\n      <td>0.000000</td>\n      <td>0.000000</td>\n      <td>0.000000</td>\n      <td>0.000000</td>\n      <td>0.000000</td>\n      <td>0.000000</td>\n      <td>0.000000</td>\n      <td>0.000000</td>\n      <td>0.000000</td>\n      <td>10.353124</td>\n    </tr>\n    <tr>\n      <th>Crude Rate</th>\n      <td>0.000000</td>\n      <td>0.000000</td>\n      <td>0.000000</td>\n      <td>0.000000</td>\n      <td>0.016485</td>\n      <td>0.008487</td>\n      <td>0.018117</td>\n      <td>0.023340</td>\n      <td>0.013547</td>\n      <td>0.026605</td>\n      <td>...</td>\n      <td>0.000000</td>\n      <td>0.000000</td>\n      <td>0.000000</td>\n      <td>0.000000</td>\n      <td>0.000000</td>\n      <td>0.000000</td>\n      <td>0.000000</td>\n      <td>0.000000</td>\n      <td>0.000000</td>\n      <td>10.353124</td>\n    </tr>\n    <tr>\n      <th>Age-adjusted Mean</th>\n      <td>0.000000</td>\n      <td>0.000000</td>\n      <td>0.000000</td>\n      <td>0.000000</td>\n      <td>0.000000</td>\n      <td>0.000000</td>\n      <td>0.000000</td>\n      <td>0.000000</td>\n      <td>0.000000</td>\n      <td>0.000000</td>\n      <td>...</td>\n      <td>0.000000</td>\n      <td>0.033949</td>\n      <td>0.016975</td>\n      <td>0.072306</td>\n      <td>0.000000</td>\n      <td>0.000000</td>\n      <td>0.000000</td>\n      <td>0.000000</td>\n      <td>0.000000</td>\n      <td>2.681356</td>\n    </tr>\n    <tr>\n      <th>Mean</th>\n      <td>0.000000</td>\n      <td>0.000000</td>\n      <td>0.000000</td>\n      <td>0.000000</td>\n      <td>0.000000</td>\n      <td>0.000000</td>\n      <td>0.000000</td>\n      <td>0.000000</td>\n      <td>0.000000</td>\n      <td>0.000000</td>\n      <td>...</td>\n      <td>0.000000</td>\n      <td>0.033949</td>\n      <td>0.016975</td>\n      <td>0.070021</td>\n      <td>0.000000</td>\n      <td>0.000000</td>\n      <td>0.000000</td>\n      <td>0.000000</td>\n      <td>0.000000</td>\n      <td>2.640878</td>\n    </tr>\n    <tr>\n      <th>Median</th>\n      <td>0.000000</td>\n      <td>0.000000</td>\n      <td>0.000000</td>\n      <td>0.000000</td>\n      <td>0.000000</td>\n      <td>0.000000</td>\n      <td>0.000000</td>\n      <td>0.000000</td>\n      <td>0.000000</td>\n      <td>0.000000</td>\n      <td>...</td>\n      <td>0.000000</td>\n      <td>0.000000</td>\n      <td>0.000000</td>\n      <td>0.000000</td>\n      <td>0.000000</td>\n      <td>0.000000</td>\n      <td>0.000000</td>\n      <td>0.000000</td>\n      <td>0.000000</td>\n      <td>0.810707</td>\n    </tr>\n    <tr>\n      <th>Percent</th>\n      <td>0.000000</td>\n      <td>0.008324</td>\n      <td>0.000000</td>\n      <td>0.000000</td>\n      <td>0.000000</td>\n      <td>0.000000</td>\n      <td>0.000000</td>\n      <td>0.000000</td>\n      <td>0.000000</td>\n      <td>0.000000</td>\n      <td>...</td>\n      <td>0.000000</td>\n      <td>0.000000</td>\n      <td>0.000000</td>\n      <td>0.000000</td>\n      <td>0.000000</td>\n      <td>0.000000</td>\n      <td>0.000000</td>\n      <td>0.008487</td>\n      <td>0.000000</td>\n      <td>0.392867</td>\n    </tr>\n    <tr>\n      <th>Adjusted by age, sex, race and ethnicity</th>\n      <td>0.000000</td>\n      <td>0.000000</td>\n      <td>0.000000</td>\n      <td>0.000000</td>\n      <td>0.000000</td>\n      <td>0.000000</td>\n      <td>0.000000</td>\n      <td>0.000000</td>\n      <td>0.000000</td>\n      <td>0.000000</td>\n      <td>...</td>\n      <td>0.000000</td>\n      <td>0.000000</td>\n      <td>0.000000</td>\n      <td>0.000000</td>\n      <td>0.000000</td>\n      <td>0.000000</td>\n      <td>0.000000</td>\n      <td>0.000000</td>\n      <td>0.000000</td>\n      <td>0.135798</td>\n    </tr>\n    <tr>\n      <th>US Dollars</th>\n      <td>0.000000</td>\n      <td>0.000000</td>\n      <td>0.000000</td>\n      <td>0.000000</td>\n      <td>0.000000</td>\n      <td>0.000000</td>\n      <td>0.000000</td>\n      <td>0.000000</td>\n      <td>0.000000</td>\n      <td>0.000000</td>\n      <td>...</td>\n      <td>0.000000</td>\n      <td>0.000000</td>\n      <td>0.000000</td>\n      <td>0.000000</td>\n      <td>0.000000</td>\n      <td>0.000000</td>\n      <td>0.000000</td>\n      <td>0.000000</td>\n      <td>0.000000</td>\n      <td>0.100379</td>\n    </tr>\n    <tr>\n      <th>Per capita alcohol consumption</th>\n      <td>0.000000</td>\n      <td>0.000000</td>\n      <td>0.000000</td>\n      <td>0.000000</td>\n      <td>0.000000</td>\n      <td>0.008487</td>\n      <td>0.000000</td>\n      <td>0.000000</td>\n      <td>0.000000</td>\n      <td>0.000000</td>\n      <td>...</td>\n      <td>0.000000</td>\n      <td>0.000000</td>\n      <td>0.000000</td>\n      <td>0.000000</td>\n      <td>0.000000</td>\n      <td>0.000000</td>\n      <td>0.000000</td>\n      <td>0.000000</td>\n      <td>0.000000</td>\n      <td>0.042437</td>\n    </tr>\n    <tr>\n      <th>Prevalence</th>\n      <td>0.000000</td>\n      <td>0.000000</td>\n      <td>0.000000</td>\n      <td>0.000000</td>\n      <td>0.000000</td>\n      <td>0.000000</td>\n      <td>0.000000</td>\n      <td>0.000000</td>\n      <td>0.000000</td>\n      <td>0.000000</td>\n      <td>...</td>\n      <td>0.000000</td>\n      <td>0.000000</td>\n      <td>0.000000</td>\n      <td>0.000000</td>\n      <td>0.000000</td>\n      <td>0.000000</td>\n      <td>0.000000</td>\n      <td>0.000000</td>\n      <td>0.000000</td>\n      <td>0.008487</td>\n    </tr>\n  </tbody>\n</table>\n<p>14 rows × 513 columns</p>\n</div>"
     },
     "execution_count": 121,
     "metadata": {},
     "output_type": "execute_result"
    }
   ],
   "source": [
    "#Analyzing the data per Type, Year and Topic. As we can see, Crude Prevalence is the most available Data Value Type with 34% of the Data Available\n",
    "\n",
    "crosstb1 = pd.crosstab(index = df_year_mainland['DataValueType'],\n",
    "                       columns = [df_year_mainland['Year'], df_year_mainland['Topic'], df_year_mainland['StratificationCategory1'] ] ,\n",
    "                       normalize=True, margins = True,\n",
    "                       margins_name= \"Total\") *100\n",
    "\n",
    "crosstb1.astype(str).applymap(lambda x:x + '%')\n",
    "crosstb1.sort_values('Total', ascending=False)"
   ],
   "metadata": {
    "collapsed": false
   }
  },
  {
   "cell_type": "code",
   "execution_count": 122,
   "outputs": [],
   "source": [
    "#Creating a new dataframe only with Crude Prevalence measures\n",
    "df_crude_prevalence = df_year_mainland[df_year_mainland['DataValueType'].str.contains('Crude Prevalence') == True]"
   ],
   "metadata": {
    "collapsed": false
   }
  },
  {
   "cell_type": "code",
   "execution_count": 123,
   "outputs": [
    {
     "data": {
      "text/plain": "(213547, 22)"
     },
     "execution_count": 123,
     "metadata": {},
     "output_type": "execute_result"
    }
   ],
   "source": [
    "#Check point\n",
    "df_crude_prevalence.shape"
   ],
   "metadata": {
    "collapsed": false
   }
  },
  {
   "cell_type": "code",
   "execution_count": 124,
   "outputs": [
    {
     "data": {
      "text/plain": "Year                            0\nLocationAbbr                    0\nLocation                        0\nDataSource                      0\nTopic                           0\nQuestion                        0\nDataValueUnit                   0\nDataValueType                   0\nDataValue                       0\nDataValueFootnoteSymbol         0\nDatavalueFootnote               0\nLowConfidenceLimit           6924\nHighConfidenceLimit          6924\nStratificationCategory1         0\nStratification1                 0\nGeoLocation                     0\nLocationID                      0\nTopicID                         0\nQuestionID                      0\nDataValueTypeID                 0\nStratificationCategoryID1       0\nStratificationID1               0\ndtype: int64"
     },
     "execution_count": 124,
     "metadata": {},
     "output_type": "execute_result"
    }
   ],
   "source": [
    "#Check point - Data quality\n",
    "df_crude_prevalence.isna().sum()"
   ],
   "metadata": {
    "collapsed": false
   }
  },
  {
   "cell_type": "code",
   "execution_count": 125,
   "outputs": [
    {
     "data": {
      "text/plain": "Location   Alabama                                                       \\\nTopic      Alcohol Arthritis    Asthma    Cancer Cardiovascular Disease   \nYear                                                                      \nTotal     0.095529  0.202766  0.120816  0.042145               0.166708   \n2013      0.009834  0.024351  0.011239  0.002341               0.023414   \n2017      0.008429  0.021073  0.012644  0.000000               0.024351   \n2015      0.012175  0.026224  0.012175  0.002810               0.024351   \n2019      0.015453  0.024351  0.011707  0.000000               0.023882   \n2014      0.008897  0.016858  0.013112  0.007961               0.009366   \n2012      0.007492  0.017326  0.012175  0.007492               0.009366   \n2016      0.008429  0.016858  0.012644  0.007024               0.009366   \n2018      0.009366  0.016390  0.012644  0.007492               0.008897   \n2011      0.007961  0.024351  0.011239  0.000000               0.025287   \n2020      0.007492  0.014985  0.011239  0.007024               0.008429   \n2010      0.000000  0.000000  0.000000  0.000000               0.000000   \n\nLocation                                                               \\\nTopic    Chronic Kidney Disease Chronic Obstructive Pulmonary Disease   \nYear                                                                    \nTotal                  0.023414                              0.177010   \n2013                   0.002341                              0.018731   \n2017                   0.002341                              0.015453   \n2015                   0.002341                              0.019668   \n2019                   0.002341                              0.014985   \n2014                   0.002341                              0.019668   \n2012                   0.002341                              0.019668   \n2016                   0.002341                              0.020136   \n2018                   0.002341                              0.014985   \n2011                   0.002341                              0.019668   \n2020                   0.002341                              0.014048   \n2010                   0.000000                              0.000000   \n\nLocation                                    ...    Wyoming               \\\nTopic     Diabetes Disability Immunization  ... Disability Immunization   \nYear                                        ...                           \nTotal     0.259428   0.028097     0.037462  ...   0.022477     0.031843   \n2013      0.029502   0.002810     0.003746  ...   0.002341     0.003278   \n2017      0.029502   0.003278     0.003746  ...   0.001873     0.003278   \n2015      0.020136   0.002810     0.003746  ...   0.002341     0.002810   \n2019      0.029970   0.002341     0.003746  ...   0.002341     0.003278   \n2014      0.018263   0.002810     0.003746  ...   0.002341     0.002810   \n2012      0.028097   0.002810     0.003746  ...   0.002341     0.003278   \n2016      0.028097   0.003278     0.003746  ...   0.002341     0.003278   \n2018      0.028097   0.002341     0.003746  ...   0.002341     0.003278   \n2011      0.029502   0.002810     0.003746  ...   0.001873     0.003278   \n2020      0.018263   0.000000     0.003746  ...   0.000000     0.003278   \n2010      0.000000   0.002810     0.000000  ...   0.002341     0.000000   \n\nLocation                                                                \\\nTopic    Mental Health Nutrition, Physical Activity, and Weight Status   \nYear                                                                     \nTotal         0.011239                                        0.206980   \n2013          0.000937                                        0.038867   \n2017          0.001405                                        0.024819   \n2015          0.000937                                        0.038399   \n2019          0.001405                                        0.022946   \n2014          0.000937                                        0.014048   \n2012          0.000937                                        0.013580   \n2016          0.000937                                        0.012644   \n2018          0.001405                                        0.012644   \n2011          0.000937                                        0.014517   \n2020          0.001405                                        0.013580   \n2010          0.000000                                        0.000937   \n\nLocation                                                                      \\\nTopic    Older Adults Oral Health Overarching Conditions Reproductive Health   \nYear                                                                           \nTotal        0.047765    0.069774               0.140484            0.042614   \n2013         0.003278    0.002341               0.015922            0.005151   \n2017         0.003278    0.002341               0.013112            0.004683   \n2015         0.003278    0.002341               0.013112            0.004683   \n2019         0.000000    0.002341               0.013580            0.004683   \n2014         0.007492    0.013580               0.015922            0.005151   \n2012         0.006556    0.012644               0.013580            0.005151   \n2016         0.007024    0.011707               0.015453            0.005151   \n2018         0.007024    0.012175               0.015453            0.005151   \n2011         0.002810    0.000000               0.008429            0.001873   \n2020         0.003746    0.010302               0.011239            0.000937   \n2010         0.003278    0.000000               0.004683            0.000000   \n\nLocation                 Total  \nTopic      Tobacco              \nYear                            \nTotal     0.141889  100.000000  \n2013      0.017326   11.393276  \n2017      0.013580   11.213457  \n2015      0.016858   11.026612  \n2019      0.013112   10.936702  \n2014      0.013580    9.547313  \n2012      0.013580    9.525304  \n2016      0.012644    9.359532  \n2018      0.014517    9.352040  \n2011      0.014517    8.878608  \n2020      0.012175    8.099856  \n2010      0.000000    0.667300  \n\n[12 rows x 885 columns]",
      "text/html": "<div>\n<style scoped>\n    .dataframe tbody tr th:only-of-type {\n        vertical-align: middle;\n    }\n\n    .dataframe tbody tr th {\n        vertical-align: top;\n    }\n\n    .dataframe thead tr th {\n        text-align: left;\n    }\n\n    .dataframe thead tr:last-of-type th {\n        text-align: right;\n    }\n</style>\n<table border=\"1\" class=\"dataframe\">\n  <thead>\n    <tr>\n      <th>Location</th>\n      <th colspan=\"10\" halign=\"left\">Alabama</th>\n      <th>...</th>\n      <th colspan=\"9\" halign=\"left\">Wyoming</th>\n      <th>Total</th>\n    </tr>\n    <tr>\n      <th>Topic</th>\n      <th>Alcohol</th>\n      <th>Arthritis</th>\n      <th>Asthma</th>\n      <th>Cancer</th>\n      <th>Cardiovascular Disease</th>\n      <th>Chronic Kidney Disease</th>\n      <th>Chronic Obstructive Pulmonary Disease</th>\n      <th>Diabetes</th>\n      <th>Disability</th>\n      <th>Immunization</th>\n      <th>...</th>\n      <th>Disability</th>\n      <th>Immunization</th>\n      <th>Mental Health</th>\n      <th>Nutrition, Physical Activity, and Weight Status</th>\n      <th>Older Adults</th>\n      <th>Oral Health</th>\n      <th>Overarching Conditions</th>\n      <th>Reproductive Health</th>\n      <th>Tobacco</th>\n      <th></th>\n    </tr>\n    <tr>\n      <th>Year</th>\n      <th></th>\n      <th></th>\n      <th></th>\n      <th></th>\n      <th></th>\n      <th></th>\n      <th></th>\n      <th></th>\n      <th></th>\n      <th></th>\n      <th></th>\n      <th></th>\n      <th></th>\n      <th></th>\n      <th></th>\n      <th></th>\n      <th></th>\n      <th></th>\n      <th></th>\n      <th></th>\n      <th></th>\n    </tr>\n  </thead>\n  <tbody>\n    <tr>\n      <th>Total</th>\n      <td>0.095529</td>\n      <td>0.202766</td>\n      <td>0.120816</td>\n      <td>0.042145</td>\n      <td>0.166708</td>\n      <td>0.023414</td>\n      <td>0.177010</td>\n      <td>0.259428</td>\n      <td>0.028097</td>\n      <td>0.037462</td>\n      <td>...</td>\n      <td>0.022477</td>\n      <td>0.031843</td>\n      <td>0.011239</td>\n      <td>0.206980</td>\n      <td>0.047765</td>\n      <td>0.069774</td>\n      <td>0.140484</td>\n      <td>0.042614</td>\n      <td>0.141889</td>\n      <td>100.000000</td>\n    </tr>\n    <tr>\n      <th>2013</th>\n      <td>0.009834</td>\n      <td>0.024351</td>\n      <td>0.011239</td>\n      <td>0.002341</td>\n      <td>0.023414</td>\n      <td>0.002341</td>\n      <td>0.018731</td>\n      <td>0.029502</td>\n      <td>0.002810</td>\n      <td>0.003746</td>\n      <td>...</td>\n      <td>0.002341</td>\n      <td>0.003278</td>\n      <td>0.000937</td>\n      <td>0.038867</td>\n      <td>0.003278</td>\n      <td>0.002341</td>\n      <td>0.015922</td>\n      <td>0.005151</td>\n      <td>0.017326</td>\n      <td>11.393276</td>\n    </tr>\n    <tr>\n      <th>2017</th>\n      <td>0.008429</td>\n      <td>0.021073</td>\n      <td>0.012644</td>\n      <td>0.000000</td>\n      <td>0.024351</td>\n      <td>0.002341</td>\n      <td>0.015453</td>\n      <td>0.029502</td>\n      <td>0.003278</td>\n      <td>0.003746</td>\n      <td>...</td>\n      <td>0.001873</td>\n      <td>0.003278</td>\n      <td>0.001405</td>\n      <td>0.024819</td>\n      <td>0.003278</td>\n      <td>0.002341</td>\n      <td>0.013112</td>\n      <td>0.004683</td>\n      <td>0.013580</td>\n      <td>11.213457</td>\n    </tr>\n    <tr>\n      <th>2015</th>\n      <td>0.012175</td>\n      <td>0.026224</td>\n      <td>0.012175</td>\n      <td>0.002810</td>\n      <td>0.024351</td>\n      <td>0.002341</td>\n      <td>0.019668</td>\n      <td>0.020136</td>\n      <td>0.002810</td>\n      <td>0.003746</td>\n      <td>...</td>\n      <td>0.002341</td>\n      <td>0.002810</td>\n      <td>0.000937</td>\n      <td>0.038399</td>\n      <td>0.003278</td>\n      <td>0.002341</td>\n      <td>0.013112</td>\n      <td>0.004683</td>\n      <td>0.016858</td>\n      <td>11.026612</td>\n    </tr>\n    <tr>\n      <th>2019</th>\n      <td>0.015453</td>\n      <td>0.024351</td>\n      <td>0.011707</td>\n      <td>0.000000</td>\n      <td>0.023882</td>\n      <td>0.002341</td>\n      <td>0.014985</td>\n      <td>0.029970</td>\n      <td>0.002341</td>\n      <td>0.003746</td>\n      <td>...</td>\n      <td>0.002341</td>\n      <td>0.003278</td>\n      <td>0.001405</td>\n      <td>0.022946</td>\n      <td>0.000000</td>\n      <td>0.002341</td>\n      <td>0.013580</td>\n      <td>0.004683</td>\n      <td>0.013112</td>\n      <td>10.936702</td>\n    </tr>\n    <tr>\n      <th>2014</th>\n      <td>0.008897</td>\n      <td>0.016858</td>\n      <td>0.013112</td>\n      <td>0.007961</td>\n      <td>0.009366</td>\n      <td>0.002341</td>\n      <td>0.019668</td>\n      <td>0.018263</td>\n      <td>0.002810</td>\n      <td>0.003746</td>\n      <td>...</td>\n      <td>0.002341</td>\n      <td>0.002810</td>\n      <td>0.000937</td>\n      <td>0.014048</td>\n      <td>0.007492</td>\n      <td>0.013580</td>\n      <td>0.015922</td>\n      <td>0.005151</td>\n      <td>0.013580</td>\n      <td>9.547313</td>\n    </tr>\n    <tr>\n      <th>2012</th>\n      <td>0.007492</td>\n      <td>0.017326</td>\n      <td>0.012175</td>\n      <td>0.007492</td>\n      <td>0.009366</td>\n      <td>0.002341</td>\n      <td>0.019668</td>\n      <td>0.028097</td>\n      <td>0.002810</td>\n      <td>0.003746</td>\n      <td>...</td>\n      <td>0.002341</td>\n      <td>0.003278</td>\n      <td>0.000937</td>\n      <td>0.013580</td>\n      <td>0.006556</td>\n      <td>0.012644</td>\n      <td>0.013580</td>\n      <td>0.005151</td>\n      <td>0.013580</td>\n      <td>9.525304</td>\n    </tr>\n    <tr>\n      <th>2016</th>\n      <td>0.008429</td>\n      <td>0.016858</td>\n      <td>0.012644</td>\n      <td>0.007024</td>\n      <td>0.009366</td>\n      <td>0.002341</td>\n      <td>0.020136</td>\n      <td>0.028097</td>\n      <td>0.003278</td>\n      <td>0.003746</td>\n      <td>...</td>\n      <td>0.002341</td>\n      <td>0.003278</td>\n      <td>0.000937</td>\n      <td>0.012644</td>\n      <td>0.007024</td>\n      <td>0.011707</td>\n      <td>0.015453</td>\n      <td>0.005151</td>\n      <td>0.012644</td>\n      <td>9.359532</td>\n    </tr>\n    <tr>\n      <th>2018</th>\n      <td>0.009366</td>\n      <td>0.016390</td>\n      <td>0.012644</td>\n      <td>0.007492</td>\n      <td>0.008897</td>\n      <td>0.002341</td>\n      <td>0.014985</td>\n      <td>0.028097</td>\n      <td>0.002341</td>\n      <td>0.003746</td>\n      <td>...</td>\n      <td>0.002341</td>\n      <td>0.003278</td>\n      <td>0.001405</td>\n      <td>0.012644</td>\n      <td>0.007024</td>\n      <td>0.012175</td>\n      <td>0.015453</td>\n      <td>0.005151</td>\n      <td>0.014517</td>\n      <td>9.352040</td>\n    </tr>\n    <tr>\n      <th>2011</th>\n      <td>0.007961</td>\n      <td>0.024351</td>\n      <td>0.011239</td>\n      <td>0.000000</td>\n      <td>0.025287</td>\n      <td>0.002341</td>\n      <td>0.019668</td>\n      <td>0.029502</td>\n      <td>0.002810</td>\n      <td>0.003746</td>\n      <td>...</td>\n      <td>0.001873</td>\n      <td>0.003278</td>\n      <td>0.000937</td>\n      <td>0.014517</td>\n      <td>0.002810</td>\n      <td>0.000000</td>\n      <td>0.008429</td>\n      <td>0.001873</td>\n      <td>0.014517</td>\n      <td>8.878608</td>\n    </tr>\n    <tr>\n      <th>2020</th>\n      <td>0.007492</td>\n      <td>0.014985</td>\n      <td>0.011239</td>\n      <td>0.007024</td>\n      <td>0.008429</td>\n      <td>0.002341</td>\n      <td>0.014048</td>\n      <td>0.018263</td>\n      <td>0.000000</td>\n      <td>0.003746</td>\n      <td>...</td>\n      <td>0.000000</td>\n      <td>0.003278</td>\n      <td>0.001405</td>\n      <td>0.013580</td>\n      <td>0.003746</td>\n      <td>0.010302</td>\n      <td>0.011239</td>\n      <td>0.000937</td>\n      <td>0.012175</td>\n      <td>8.099856</td>\n    </tr>\n    <tr>\n      <th>2010</th>\n      <td>0.000000</td>\n      <td>0.000000</td>\n      <td>0.000000</td>\n      <td>0.000000</td>\n      <td>0.000000</td>\n      <td>0.000000</td>\n      <td>0.000000</td>\n      <td>0.000000</td>\n      <td>0.002810</td>\n      <td>0.000000</td>\n      <td>...</td>\n      <td>0.002341</td>\n      <td>0.000000</td>\n      <td>0.000000</td>\n      <td>0.000937</td>\n      <td>0.003278</td>\n      <td>0.000000</td>\n      <td>0.004683</td>\n      <td>0.000000</td>\n      <td>0.000000</td>\n      <td>0.667300</td>\n    </tr>\n  </tbody>\n</table>\n<p>12 rows × 885 columns</p>\n</div>"
     },
     "execution_count": 125,
     "metadata": {},
     "output_type": "execute_result"
    }
   ],
   "source": [
    "#Calculating the % of availability of values per Year, Location and Topic\n",
    "crosstb2 = pd.crosstab(index = df_crude_prevalence['Year'],\n",
    "                       columns = [df_crude_prevalence['Location'], df_crude_prevalence['Topic']] ,\n",
    "                       normalize=True, margins = True,\n",
    "                       margins_name= \"Total\") *100\n",
    "\n",
    "crosstb2.astype(str).applymap(lambda x:x + '%')\n",
    "crosstb2.sort_values('Total', ascending=False)"
   ],
   "metadata": {
    "collapsed": false
   }
  },
  {
   "cell_type": "code",
   "execution_count": 126,
   "outputs": [
    {
     "data": {
      "text/plain": "Year                                                        2010  2011  2012  \\\nTopic   Question                                                               \nAlcohol Alcohol use among youth                                0     0     0   \n        Alcohol use before pregnancy                           0    23   154   \n        Binge drinking prevalence among adults aged >= ...     0   352   357   \n        Binge drinking prevalence among women aged 18-4...     0   165   164   \n        Binge drinking prevalence among youth                  0     0     0   \n...                                                          ...   ...   ...   \nTobacco Current smokeless tobacco use among youth              0     0     0   \n        Current smoking among adults aged >= 18 years          0   382   382   \n        Pneumococcal vaccination among noninstitutional...     0   270   266   \n        Pneumococcal vaccination among noninstitutional...     0   204   202   \n        Quit attempts in the past year among current sm...     0   302   313   \n\nYear                                                        2013  2014  2015  \\\nTopic   Question                                                               \nAlcohol Alcohol use among youth                              257     0   238   \n        Alcohol use before pregnancy                         155   140   169   \n        Binge drinking prevalence among adults aged >= ...   343   339   343   \n        Binge drinking prevalence among women aged 18-4...   156   151   151   \n        Binge drinking prevalence among youth                 44     0    37   \n...                                                          ...   ...   ...   \nTobacco Current smokeless tobacco use among youth             40     0    34   \n        Current smoking among adults aged >= 18 years        380   377   372   \n        Pneumococcal vaccination among noninstitutional...   267   260   258   \n        Pneumococcal vaccination among noninstitutional...   205   205   201   \n        Quit attempts in the past year among current sm...   311   298   281   \n\nYear                                                        2016  2017  2018  \\\nTopic   Question                                                               \nAlcohol Alcohol use among youth                                0   257     0   \n        Alcohol use before pregnancy                         156   173   209   \n        Binge drinking prevalence among adults aged >= ...   357   352   346   \n        Binge drinking prevalence among women aged 18-4...   165   163   156   \n        Binge drinking prevalence among youth                  0   236     0   \n...                                                          ...   ...   ...   \nTobacco Current smokeless tobacco use among youth              0   212     0   \n        Current smoking among adults aged >= 18 years        378   381   384   \n        Pneumococcal vaccination among noninstitutional...   264   263   254   \n        Pneumococcal vaccination among noninstitutional...   203   203   210   \n        Quit attempts in the past year among current sm...   291   287   287   \n\nYear                                                        2019  2020  \nTopic   Question                                                        \nAlcohol Alcohol use among youth                              290     0  \n        Alcohol use before pregnancy                         207     0  \n        Binge drinking prevalence among adults aged >= ...   353   352  \n        Binge drinking prevalence among women aged 18-4...   167   164  \n        Binge drinking prevalence among youth                278     0  \n...                                                          ...   ...  \nTobacco Current smokeless tobacco use among youth            245     0  \n        Current smoking among adults aged >= 18 years        374   379  \n        Pneumococcal vaccination among noninstitutional...   243   245  \n        Pneumococcal vaccination among noninstitutional...   200   201  \n        Quit attempts in the past year among current sm...   280   284  \n\n[111 rows x 11 columns]",
      "text/html": "<div>\n<style scoped>\n    .dataframe tbody tr th:only-of-type {\n        vertical-align: middle;\n    }\n\n    .dataframe tbody tr th {\n        vertical-align: top;\n    }\n\n    .dataframe thead th {\n        text-align: right;\n    }\n</style>\n<table border=\"1\" class=\"dataframe\">\n  <thead>\n    <tr style=\"text-align: right;\">\n      <th></th>\n      <th>Year</th>\n      <th>2010</th>\n      <th>2011</th>\n      <th>2012</th>\n      <th>2013</th>\n      <th>2014</th>\n      <th>2015</th>\n      <th>2016</th>\n      <th>2017</th>\n      <th>2018</th>\n      <th>2019</th>\n      <th>2020</th>\n    </tr>\n    <tr>\n      <th>Topic</th>\n      <th>Question</th>\n      <th></th>\n      <th></th>\n      <th></th>\n      <th></th>\n      <th></th>\n      <th></th>\n      <th></th>\n      <th></th>\n      <th></th>\n      <th></th>\n      <th></th>\n    </tr>\n  </thead>\n  <tbody>\n    <tr>\n      <th rowspan=\"5\" valign=\"top\">Alcohol</th>\n      <th>Alcohol use among youth</th>\n      <td>0</td>\n      <td>0</td>\n      <td>0</td>\n      <td>257</td>\n      <td>0</td>\n      <td>238</td>\n      <td>0</td>\n      <td>257</td>\n      <td>0</td>\n      <td>290</td>\n      <td>0</td>\n    </tr>\n    <tr>\n      <th>Alcohol use before pregnancy</th>\n      <td>0</td>\n      <td>23</td>\n      <td>154</td>\n      <td>155</td>\n      <td>140</td>\n      <td>169</td>\n      <td>156</td>\n      <td>173</td>\n      <td>209</td>\n      <td>207</td>\n      <td>0</td>\n    </tr>\n    <tr>\n      <th>Binge drinking prevalence among adults aged &gt;= 18 years</th>\n      <td>0</td>\n      <td>352</td>\n      <td>357</td>\n      <td>343</td>\n      <td>339</td>\n      <td>343</td>\n      <td>357</td>\n      <td>352</td>\n      <td>346</td>\n      <td>353</td>\n      <td>352</td>\n    </tr>\n    <tr>\n      <th>Binge drinking prevalence among women aged 18-44 years</th>\n      <td>0</td>\n      <td>165</td>\n      <td>164</td>\n      <td>156</td>\n      <td>151</td>\n      <td>151</td>\n      <td>165</td>\n      <td>163</td>\n      <td>156</td>\n      <td>167</td>\n      <td>164</td>\n    </tr>\n    <tr>\n      <th>Binge drinking prevalence among youth</th>\n      <td>0</td>\n      <td>0</td>\n      <td>0</td>\n      <td>44</td>\n      <td>0</td>\n      <td>37</td>\n      <td>0</td>\n      <td>236</td>\n      <td>0</td>\n      <td>278</td>\n      <td>0</td>\n    </tr>\n    <tr>\n      <th>...</th>\n      <th>...</th>\n      <td>...</td>\n      <td>...</td>\n      <td>...</td>\n      <td>...</td>\n      <td>...</td>\n      <td>...</td>\n      <td>...</td>\n      <td>...</td>\n      <td>...</td>\n      <td>...</td>\n      <td>...</td>\n    </tr>\n    <tr>\n      <th rowspan=\"5\" valign=\"top\">Tobacco</th>\n      <th>Current smokeless tobacco use among youth</th>\n      <td>0</td>\n      <td>0</td>\n      <td>0</td>\n      <td>40</td>\n      <td>0</td>\n      <td>34</td>\n      <td>0</td>\n      <td>212</td>\n      <td>0</td>\n      <td>245</td>\n      <td>0</td>\n    </tr>\n    <tr>\n      <th>Current smoking among adults aged &gt;= 18 years</th>\n      <td>0</td>\n      <td>382</td>\n      <td>382</td>\n      <td>380</td>\n      <td>377</td>\n      <td>372</td>\n      <td>378</td>\n      <td>381</td>\n      <td>384</td>\n      <td>374</td>\n      <td>379</td>\n    </tr>\n    <tr>\n      <th>Pneumococcal vaccination among noninstitutionalized adults aged 18-64 years who smoke</th>\n      <td>0</td>\n      <td>270</td>\n      <td>266</td>\n      <td>267</td>\n      <td>260</td>\n      <td>258</td>\n      <td>264</td>\n      <td>263</td>\n      <td>254</td>\n      <td>243</td>\n      <td>245</td>\n    </tr>\n    <tr>\n      <th>Pneumococcal vaccination among noninstitutionalized adults aged &gt;= 65 years who smoke</th>\n      <td>0</td>\n      <td>204</td>\n      <td>202</td>\n      <td>205</td>\n      <td>205</td>\n      <td>201</td>\n      <td>203</td>\n      <td>203</td>\n      <td>210</td>\n      <td>200</td>\n      <td>201</td>\n    </tr>\n    <tr>\n      <th>Quit attempts in the past year among current smokers</th>\n      <td>0</td>\n      <td>302</td>\n      <td>313</td>\n      <td>311</td>\n      <td>298</td>\n      <td>281</td>\n      <td>291</td>\n      <td>287</td>\n      <td>287</td>\n      <td>280</td>\n      <td>284</td>\n    </tr>\n  </tbody>\n</table>\n<p>111 rows × 11 columns</p>\n</div>"
     },
     "execution_count": 126,
     "metadata": {},
     "output_type": "execute_result"
    }
   ],
   "source": [
    "#Checking the availability of data per Topic, Question and Year\n",
    "df_processed_crosstab = pd.crosstab([df_crude_prevalence.Topic, df_crude_prevalence.Question], [df_crude_prevalence.Year])\n",
    "df_processed_crosstab"
   ],
   "metadata": {
    "collapsed": false
   }
  },
  {
   "cell_type": "code",
   "execution_count": 127,
   "outputs": [
    {
     "data": {
      "text/plain": "Year\n2010     1425\n2011    18960\n2012    20341\n2013    24330\n2014    20388\n2015    23547\n2016    19987\n2017    23946\n2018    19971\n2019    23355\n2020    17297\ndtype: int64"
     },
     "execution_count": 127,
     "metadata": {},
     "output_type": "execute_result"
    }
   ],
   "source": [
    "#Counting data available per year\n",
    "df_processed_crosstab.sum(axis=0)"
   ],
   "metadata": {
    "collapsed": false
   }
  },
  {
   "cell_type": "code",
   "execution_count": 128,
   "outputs": [],
   "source": [
    "#Due to the lack of information in 2010 is removing from the database\n",
    "df_crude_prevalence = df_crude_prevalence[df_crude_prevalence['Year'] != 2010]"
   ],
   "metadata": {
    "collapsed": false
   }
  },
  {
   "cell_type": "code",
   "execution_count": 129,
   "outputs": [
    {
     "data": {
      "text/plain": "(212122, 22)"
     },
     "execution_count": 129,
     "metadata": {},
     "output_type": "execute_result"
    }
   ],
   "source": [
    "#Check point\n",
    "df_crude_prevalence.shape"
   ],
   "metadata": {
    "collapsed": false
   }
  },
  {
   "cell_type": "code",
   "execution_count": 130,
   "outputs": [
    {
     "data": {
      "text/plain": "Year                                                        2011  2012  2013  \\\nTopic   Question                                                               \nAlcohol Alcohol use among youth                                0     0   257   \n        Alcohol use before pregnancy                          23   154   155   \n        Binge drinking prevalence among adults aged >= ...   352   357   343   \n        Binge drinking prevalence among women aged 18-4...   165   164   156   \n        Binge drinking prevalence among youth                  0     0    44   \n...                                                          ...   ...   ...   \nTobacco Current smokeless tobacco use among youth              0     0    40   \n        Current smoking among adults aged >= 18 years        382   382   380   \n        Pneumococcal vaccination among noninstitutional...   270   266   267   \n        Pneumococcal vaccination among noninstitutional...   204   202   205   \n        Quit attempts in the past year among current sm...   302   313   311   \n\nYear                                                        2014  2015  2016  \\\nTopic   Question                                                               \nAlcohol Alcohol use among youth                                0   238     0   \n        Alcohol use before pregnancy                         140   169   156   \n        Binge drinking prevalence among adults aged >= ...   339   343   357   \n        Binge drinking prevalence among women aged 18-4...   151   151   165   \n        Binge drinking prevalence among youth                  0    37     0   \n...                                                          ...   ...   ...   \nTobacco Current smokeless tobacco use among youth              0    34     0   \n        Current smoking among adults aged >= 18 years        377   372   378   \n        Pneumococcal vaccination among noninstitutional...   260   258   264   \n        Pneumococcal vaccination among noninstitutional...   205   201   203   \n        Quit attempts in the past year among current sm...   298   281   291   \n\nYear                                                        2017  2018  2019  \\\nTopic   Question                                                               \nAlcohol Alcohol use among youth                              257     0   290   \n        Alcohol use before pregnancy                         173   209   207   \n        Binge drinking prevalence among adults aged >= ...   352   346   353   \n        Binge drinking prevalence among women aged 18-4...   163   156   167   \n        Binge drinking prevalence among youth                236     0   278   \n...                                                          ...   ...   ...   \nTobacco Current smokeless tobacco use among youth            212     0   245   \n        Current smoking among adults aged >= 18 years        381   384   374   \n        Pneumococcal vaccination among noninstitutional...   263   254   243   \n        Pneumococcal vaccination among noninstitutional...   203   210   200   \n        Quit attempts in the past year among current sm...   287   287   280   \n\nYear                                                        2020  \nTopic   Question                                                  \nAlcohol Alcohol use among youth                                0  \n        Alcohol use before pregnancy                           0  \n        Binge drinking prevalence among adults aged >= ...   352  \n        Binge drinking prevalence among women aged 18-4...   164  \n        Binge drinking prevalence among youth                  0  \n...                                                          ...  \nTobacco Current smokeless tobacco use among youth              0  \n        Current smoking among adults aged >= 18 years        379  \n        Pneumococcal vaccination among noninstitutional...   245  \n        Pneumococcal vaccination among noninstitutional...   201  \n        Quit attempts in the past year among current sm...   284  \n\n[111 rows x 10 columns]",
      "text/html": "<div>\n<style scoped>\n    .dataframe tbody tr th:only-of-type {\n        vertical-align: middle;\n    }\n\n    .dataframe tbody tr th {\n        vertical-align: top;\n    }\n\n    .dataframe thead th {\n        text-align: right;\n    }\n</style>\n<table border=\"1\" class=\"dataframe\">\n  <thead>\n    <tr style=\"text-align: right;\">\n      <th></th>\n      <th>Year</th>\n      <th>2011</th>\n      <th>2012</th>\n      <th>2013</th>\n      <th>2014</th>\n      <th>2015</th>\n      <th>2016</th>\n      <th>2017</th>\n      <th>2018</th>\n      <th>2019</th>\n      <th>2020</th>\n    </tr>\n    <tr>\n      <th>Topic</th>\n      <th>Question</th>\n      <th></th>\n      <th></th>\n      <th></th>\n      <th></th>\n      <th></th>\n      <th></th>\n      <th></th>\n      <th></th>\n      <th></th>\n      <th></th>\n    </tr>\n  </thead>\n  <tbody>\n    <tr>\n      <th rowspan=\"5\" valign=\"top\">Alcohol</th>\n      <th>Alcohol use among youth</th>\n      <td>0</td>\n      <td>0</td>\n      <td>257</td>\n      <td>0</td>\n      <td>238</td>\n      <td>0</td>\n      <td>257</td>\n      <td>0</td>\n      <td>290</td>\n      <td>0</td>\n    </tr>\n    <tr>\n      <th>Alcohol use before pregnancy</th>\n      <td>23</td>\n      <td>154</td>\n      <td>155</td>\n      <td>140</td>\n      <td>169</td>\n      <td>156</td>\n      <td>173</td>\n      <td>209</td>\n      <td>207</td>\n      <td>0</td>\n    </tr>\n    <tr>\n      <th>Binge drinking prevalence among adults aged &gt;= 18 years</th>\n      <td>352</td>\n      <td>357</td>\n      <td>343</td>\n      <td>339</td>\n      <td>343</td>\n      <td>357</td>\n      <td>352</td>\n      <td>346</td>\n      <td>353</td>\n      <td>352</td>\n    </tr>\n    <tr>\n      <th>Binge drinking prevalence among women aged 18-44 years</th>\n      <td>165</td>\n      <td>164</td>\n      <td>156</td>\n      <td>151</td>\n      <td>151</td>\n      <td>165</td>\n      <td>163</td>\n      <td>156</td>\n      <td>167</td>\n      <td>164</td>\n    </tr>\n    <tr>\n      <th>Binge drinking prevalence among youth</th>\n      <td>0</td>\n      <td>0</td>\n      <td>44</td>\n      <td>0</td>\n      <td>37</td>\n      <td>0</td>\n      <td>236</td>\n      <td>0</td>\n      <td>278</td>\n      <td>0</td>\n    </tr>\n    <tr>\n      <th>...</th>\n      <th>...</th>\n      <td>...</td>\n      <td>...</td>\n      <td>...</td>\n      <td>...</td>\n      <td>...</td>\n      <td>...</td>\n      <td>...</td>\n      <td>...</td>\n      <td>...</td>\n      <td>...</td>\n    </tr>\n    <tr>\n      <th rowspan=\"5\" valign=\"top\">Tobacco</th>\n      <th>Current smokeless tobacco use among youth</th>\n      <td>0</td>\n      <td>0</td>\n      <td>40</td>\n      <td>0</td>\n      <td>34</td>\n      <td>0</td>\n      <td>212</td>\n      <td>0</td>\n      <td>245</td>\n      <td>0</td>\n    </tr>\n    <tr>\n      <th>Current smoking among adults aged &gt;= 18 years</th>\n      <td>382</td>\n      <td>382</td>\n      <td>380</td>\n      <td>377</td>\n      <td>372</td>\n      <td>378</td>\n      <td>381</td>\n      <td>384</td>\n      <td>374</td>\n      <td>379</td>\n    </tr>\n    <tr>\n      <th>Pneumococcal vaccination among noninstitutionalized adults aged 18-64 years who smoke</th>\n      <td>270</td>\n      <td>266</td>\n      <td>267</td>\n      <td>260</td>\n      <td>258</td>\n      <td>264</td>\n      <td>263</td>\n      <td>254</td>\n      <td>243</td>\n      <td>245</td>\n    </tr>\n    <tr>\n      <th>Pneumococcal vaccination among noninstitutionalized adults aged &gt;= 65 years who smoke</th>\n      <td>204</td>\n      <td>202</td>\n      <td>205</td>\n      <td>205</td>\n      <td>201</td>\n      <td>203</td>\n      <td>203</td>\n      <td>210</td>\n      <td>200</td>\n      <td>201</td>\n    </tr>\n    <tr>\n      <th>Quit attempts in the past year among current smokers</th>\n      <td>302</td>\n      <td>313</td>\n      <td>311</td>\n      <td>298</td>\n      <td>281</td>\n      <td>291</td>\n      <td>287</td>\n      <td>287</td>\n      <td>280</td>\n      <td>284</td>\n    </tr>\n  </tbody>\n</table>\n<p>111 rows × 10 columns</p>\n</div>"
     },
     "execution_count": 130,
     "metadata": {},
     "output_type": "execute_result"
    }
   ],
   "source": [
    "# Checking the availability of values per Topìc, Question and Year after removing 2010\n",
    "df_processed_crosstab2 = pd.crosstab([df_crude_prevalence.Topic, df_crude_prevalence.Question], [df_crude_prevalence.Year])\n",
    "df_processed_crosstab2"
   ],
   "metadata": {
    "collapsed": false
   }
  },
  {
   "cell_type": "code",
   "execution_count": 131,
   "outputs": [
    {
     "data": {
      "text/plain": "Topic                                            Question                                                                                 \nNutrition, Physical Activity, and Weight Status  Overweight or obesity among adults aged >= 18 years                                          3955\nImmunization                                     Influenza vaccination among noninstitutionalized adults aged >= 18 years                     3939\nNutrition, Physical Activity, and Weight Status  Healthy weight among adults aged >= 18 years                                                 3909\n                                                 Obesity among adults aged >= 18 years                                                        3889\nArthritis                                        Arthritis among adults aged >= 18 years                                                      3842\n                                                                                                                                              ... \nOverarching Conditions                           High school completion among women aged 18-44 years                                           468\nOral Health                                      Oral health services at Federally Qualified Health Centers                                    416\nNutrition, Physical Activity, and Weight Status  Infants breastfed at 6 months                                                                 208\n                                                 Receiving formula supplementation within the first 2 days of life among breastfed infants     208\nCardiovascular Disease                           Pre-pregnancy hypertension                                                                      9\nLength: 111, dtype: int64"
     },
     "execution_count": 131,
     "metadata": {},
     "output_type": "execute_result"
    }
   ],
   "source": [
    "df_processed_crosstab2.sum(axis=1).sort_values(ascending=False)"
   ],
   "metadata": {
    "collapsed": false
   }
  },
  {
   "cell_type": "code",
   "execution_count": 132,
   "outputs": [],
   "source": [
    "#After cleaning the database and exploring the availability of data is exported to csv to plot it in Tableu\n",
    "#df_crude_prevalence.to_csv('dataprevalence.csv')\n",
    "# The file was generated before. If you want to generate again, remove the #symbol"
   ],
   "metadata": {
    "collapsed": false
   }
  }
 ],
 "metadata": {
  "kernelspec": {
   "display_name": "Python 3 (ipykernel)",
   "language": "python",
   "name": "python3"
  },
  "language_info": {
   "codemirror_mode": {
    "name": "ipython",
    "version": 3
   },
   "file_extension": ".py",
   "mimetype": "text/x-python",
   "name": "python",
   "nbconvert_exporter": "python",
   "pygments_lexer": "ipython3",
   "version": "3.9.5"
  }
 },
 "nbformat": 4,
 "nbformat_minor": 5
}
